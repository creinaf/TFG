{
 "cells": [
  {
   "cell_type": "markdown",
   "metadata": {},
   "source": [
    "# TRABAJO FINAL DE GRADO - PEC 3\n",
    "###### Autor: Claudia Reina Fajardo\n",
    "###### Noviembre 2021"
   ]
  },
  {
   "cell_type": "markdown",
   "metadata": {},
   "source": [
    "## Modelo de Deep Learning - Pruebas con el Dataset"
   ]
  },
  {
   "cell_type": "markdown",
   "metadata": {},
   "source": [
    "Cuando hicimos los árboles de decisión vimos que existen algunas variables, para cada una de las clases que estamos buscando, que son más relevantes que otras a la hora de clasificar.\n",
    "\n",
    "Vamos a hacer pruebas para cada una de estas categorías con dichas variables y compararlas con los resultados obtenidos mediante el dataset entero."
   ]
  },
  {
   "cell_type": "code",
   "execution_count": 1,
   "metadata": {},
   "outputs": [],
   "source": [
    "# imports\n",
    "import numpy as np\n",
    "import pandas as pd\n",
    "import matplotlib.pyplot as plt\n",
    "import tensorflow as tf\n",
    "import tensorflow.keras as kr\n",
    "import seaborn as sns"
   ]
  },
  {
   "cell_type": "markdown",
   "metadata": {},
   "source": [
    "### Combinaciones de variables óptimas para cada variable de estudio"
   ]
  },
  {
   "cell_type": "markdown",
   "metadata": {},
   "source": [
    "Mediante una matriz de correlaciones elegiremos las 19 variables más directamente correlacionadas con aquél factor que queremos estudiar y veremos cómo afecta esto a los resultados de los entrenamientos"
   ]
  },
  {
   "cell_type": "code",
   "execution_count": 2,
   "metadata": {},
   "outputs": [],
   "source": [
    "def redNeuronal(variable, n):    \n",
    "    # plantamos semilla para que no varíe el resultado\n",
    "    tf.random.set_seed(1)\n",
    "\n",
    "    \n",
    "    # cargamos el dataset\n",
    "    df = pd.read_csv('data.csv')\n",
    "    \n",
    "    # Creamos una matriz de correlación\n",
    "    corr_matrix = df.corr(method='pearson')\n",
    "    corr_matrix = corr_matrix[variable]\n",
    "    corr_matrix = corr_matrix.sort_values()\n",
    "    names=corr_matrix.tail(n).index\n",
    "    \n",
    "    # Creamos el dataset\n",
    "    data1=df[names.tolist()]\n",
    "    \n",
    "    # eliminamos la clase del conjunto de datos y los elementos sin clasificar y la guardamos para comprobar precisión\n",
    "    data1=data1[data1[variable]<2]\n",
    "    Y=data1[variable]\n",
    "    X=data1.drop([variable], axis=1).values\n",
    "    \n",
    "    # Definimos el ratio de aprendizaje y la distribución de las neuronas\n",
    "    lr = 0.001\n",
    "    nn = [2, 16, 8, 1]\n",
    "\n",
    "\n",
    "    # Creamos el objeto que contendrá a nuestra red neuronal, como secuencia de capas.\n",
    "    model = kr.Sequential()\n",
    "\n",
    "    # Añadimos la capa 1\n",
    "    l1 = model.add(kr.layers.Dense(nn[1], activation='relu'))\n",
    "\n",
    "    # Añadimos la capa 2\n",
    "    l2 = model.add(kr.layers.Dense(nn[2], activation='relu'))\n",
    "\n",
    "    # Añadimos la capa 3, que corresponde a la salida de la red\n",
    "    l3 = model.add(kr.layers.Dense(nn[3], activation='sigmoid'))\n",
    "\n",
    "    # Compilamos el modelo, definiendo la función de coste y el optimizador.\n",
    "    model.compile(loss='mse', optimizer=tf.keras.optimizers.Adam(0.001), metrics=['acc'])\n",
    "\n",
    "    # Recogemos accuracy total\n",
    "    results=model.evaluate(X, Y)\n",
    "    \n",
    "    return results"
   ]
  },
  {
   "cell_type": "code",
   "execution_count": 3,
   "metadata": {},
   "outputs": [
    {
     "name": "stdout",
     "output_type": "stream",
     "text": [
      "157/157 [==============================] - 1s 1ms/step - loss: 0.2459 - acc: 0.7442\n",
      "157/157 [==============================] - 0s 1ms/step - loss: 0.2608 - acc: 0.5400\n",
      "157/157 [==============================] - 0s 1ms/step - loss: 0.2308 - acc: 0.7506\n",
      "157/157 [==============================] - 0s 1ms/step - loss: 0.2656 - acc: 0.2518\n",
      "157/157 [==============================] - 0s 1ms/step - loss: 0.2360 - acc: 0.7104\n",
      "157/157 [==============================] - 0s 974us/step - loss: 0.3050 - acc: 0.2442\n",
      "157/157 [==============================] - 0s 1ms/step - loss: 0.2638 - acc: 0.2928\n",
      "157/157 [==============================] - 0s 961us/step - loss: 0.2570 - acc: 0.4806\n",
      "157/157 [==============================] - 0s 1ms/step - loss: 0.2721 - acc: 0.2568\n",
      "157/157 [==============================] - 0s 993us/step - loss: 0.2330 - acc: 0.7312\n",
      "157/157 [==============================] - 0s 1ms/step - loss: 0.2896 - acc: 0.2410\n",
      "157/157 [==============================] - 0s 1ms/step - loss: 0.3317 - acc: 0.2432\n",
      "157/157 [==============================] - 0s 1ms/step - loss: 0.2560 - acc: 0.6661\n",
      "157/157 [==============================] - 1s 1ms/step - loss: 0.2595 - acc: 0.5898\n",
      "157/157 [==============================] - 0s 894us/step - loss: 0.2473 - acc: 0.7631\n",
      "157/157 [==============================] - 0s 963us/step - loss: 0.2537 - acc: 0.6257\n",
      "157/157 [==============================] - 0s 1ms/step - loss: 0.2076 - acc: 0.9166\n",
      "157/157 [==============================] - 0s 1ms/step - loss: 0.2472 - acc: 0.4238\n",
      "157/157 [==============================] - 0s 916us/step - loss: 0.2204 - acc: 0.8926\n",
      "157/157 [==============================] - 0s 891us/step - loss: 0.3661 - acc: 0.0374\n",
      "157/157 [==============================] - 0s 995us/step - loss: 0.2736 - acc: 0.1329\n",
      "157/157 [==============================] - 0s 1ms/step - loss: 0.2469 - acc: 0.6040\n",
      "157/157 [==============================] - 0s 1ms/step - loss: 0.2727 - acc: 0.2229\n",
      "157/157 [==============================] - 0s 1ms/step - loss: 0.1622 - acc: 0.9612\n",
      "157/157 [==============================] - 0s 1ms/step - loss: 0.2492 - acc: 0.6479\n",
      "157/157 [==============================] - 0s 916us/step - loss: 0.2408 - acc: 0.6387\n",
      "157/157 [==============================] - 0s 878us/step - loss: 0.2550 - acc: 0.3747\n",
      "157/157 [==============================] - 0s 935us/step - loss: 0.2431 - acc: 0.6075\n",
      "157/157 [==============================] - 0s 897us/step - loss: 0.2872 - acc: 0.3691\n",
      "157/157 [==============================] - 0s 884us/step - loss: 0.2467 - acc: 0.6189\n",
      "157/157 [==============================] - 0s 935us/step - loss: 0.2652 - acc: 0.3253\n",
      "157/157 [==============================] - 0s 1ms/step - loss: 0.2485 - acc: 0.5167\n",
      "157/157 [==============================] - 0s 897us/step - loss: 0.2667 - acc: 0.3865\n",
      "157/157 [==============================] - 0s 2ms/step - loss: 0.2422 - acc: 0.6559\n",
      "157/157 [==============================] - 0s 999us/step - loss: 0.2879 - acc: 0.3759\n",
      "157/157 [==============================] - 0s 1ms/step - loss: 0.2670 - acc: 0.3423\n",
      "157/157 [==============================] - 0s 1ms/step - loss: 0.2506 - acc: 0.7015\n",
      "157/157 [==============================] - 0s 1ms/step - loss: 0.2513 - acc: 0.6168\n",
      "157/157 [==============================] - 0s 1ms/step - loss: 0.2481 - acc: 0.7085\n",
      "157/157 [==============================] - 0s 1ms/step - loss: 0.2242 - acc: 0.7681\n",
      "157/157 [==============================] - 1s 2ms/step - loss: 0.2722 - acc: 0.2537\n",
      "157/157 [==============================] - 0s 1ms/step - loss: 0.2320 - acc: 0.7335\n",
      "157/157 [==============================] - 0s 1ms/step - loss: 0.3246 - acc: 0.1743\n",
      "157/157 [==============================] - 0s 2ms/step - loss: 0.2657 - acc: 0.2375\n",
      "157/157 [==============================] - 0s 1ms/step - loss: 0.2579 - acc: 0.4680\n",
      "157/157 [==============================] - 0s 1ms/step - loss: 0.2757 - acc: 0.2409\n",
      "157/157 [==============================] - 0s 1ms/step - loss: 0.2253 - acc: 0.7955\n",
      "157/157 [==============================] - 0s 1ms/step - loss: 0.2907 - acc: 0.2091\n",
      "157/157 [==============================] - 0s 1ms/step - loss: 0.2500 - acc: 0.7517\n",
      "157/157 [==============================] - 0s 1ms/step - loss: 0.2550 - acc: 0.6674\n",
      "157/157 [==============================] - 0s 2ms/step - loss: 0.2467 - acc: 0.7094\n",
      "157/157 [==============================] - 0s 2ms/step - loss: 0.2549 - acc: 0.5739\n",
      "157/157 [==============================] - 0s 1ms/step - loss: 0.2136 - acc: 0.8633\n",
      "157/157 [==============================] - 1s 2ms/step - loss: 0.2765 - acc: 0.2005\n",
      "157/157 [==============================] - 0s 1ms/step - loss: 0.2256 - acc: 0.8197\n",
      "157/157 [==============================] - 1s 2ms/step - loss: 0.3347 - acc: 0.0947\n",
      "157/157 [==============================] - 0s 1ms/step - loss: 0.2724 - acc: 0.2061\n",
      "157/157 [==============================] - 0s 1ms/step - loss: 0.2992 - acc: 0.1631\n",
      "157/157 [==============================] - 0s 1ms/step - loss: 0.2566 - acc: 0.3398\n",
      "157/157 [==============================] - 0s 1ms/step - loss: 0.2250 - acc: 0.8185\n"
     ]
    }
   ],
   "source": [
    "variables = ['depressed', 'dead', 'sleep', 'yourself', 'profMental']\n",
    "numbers = list(range(8, 20))\n",
    "data= pd.DataFrame(columns=variables, index=numbers)\n",
    "for variable in variables:\n",
    "    for number in numbers:\n",
    "        results=redNeuronal(variable, number)\n",
    "        data.loc[number,variable]=np.round((100*results[1]),2)"
   ]
  },
  {
   "cell_type": "code",
   "execution_count": 4,
   "metadata": {},
   "outputs": [
    {
     "data": {
      "text/html": [
       "<div>\n",
       "<style scoped>\n",
       "    .dataframe tbody tr th:only-of-type {\n",
       "        vertical-align: middle;\n",
       "    }\n",
       "\n",
       "    .dataframe tbody tr th {\n",
       "        vertical-align: top;\n",
       "    }\n",
       "\n",
       "    .dataframe thead th {\n",
       "        text-align: right;\n",
       "    }\n",
       "</style>\n",
       "<table border=\"1\" class=\"dataframe\">\n",
       "  <thead>\n",
       "    <tr style=\"text-align: right;\">\n",
       "      <th></th>\n",
       "      <th>depressed</th>\n",
       "      <th>dead</th>\n",
       "      <th>sleep</th>\n",
       "      <th>yourself</th>\n",
       "      <th>profMental</th>\n",
       "    </tr>\n",
       "  </thead>\n",
       "  <tbody>\n",
       "    <tr>\n",
       "      <th>8</th>\n",
       "      <td>74.42</td>\n",
       "      <td>66.61</td>\n",
       "      <td>64.79</td>\n",
       "      <td>70.15</td>\n",
       "      <td>75.17</td>\n",
       "    </tr>\n",
       "    <tr>\n",
       "      <th>9</th>\n",
       "      <td>54</td>\n",
       "      <td>58.98</td>\n",
       "      <td>63.87</td>\n",
       "      <td>61.68</td>\n",
       "      <td>66.74</td>\n",
       "    </tr>\n",
       "    <tr>\n",
       "      <th>10</th>\n",
       "      <td>75.06</td>\n",
       "      <td>76.31</td>\n",
       "      <td>37.47</td>\n",
       "      <td>70.85</td>\n",
       "      <td>70.94</td>\n",
       "    </tr>\n",
       "    <tr>\n",
       "      <th>11</th>\n",
       "      <td>25.18</td>\n",
       "      <td>62.57</td>\n",
       "      <td>60.75</td>\n",
       "      <td>76.81</td>\n",
       "      <td>57.39</td>\n",
       "    </tr>\n",
       "    <tr>\n",
       "      <th>12</th>\n",
       "      <td>71.04</td>\n",
       "      <td>91.66</td>\n",
       "      <td>36.91</td>\n",
       "      <td>25.37</td>\n",
       "      <td>86.33</td>\n",
       "    </tr>\n",
       "    <tr>\n",
       "      <th>13</th>\n",
       "      <td>24.42</td>\n",
       "      <td>42.38</td>\n",
       "      <td>61.89</td>\n",
       "      <td>73.35</td>\n",
       "      <td>20.05</td>\n",
       "    </tr>\n",
       "    <tr>\n",
       "      <th>14</th>\n",
       "      <td>29.28</td>\n",
       "      <td>89.26</td>\n",
       "      <td>32.53</td>\n",
       "      <td>17.43</td>\n",
       "      <td>81.97</td>\n",
       "    </tr>\n",
       "    <tr>\n",
       "      <th>15</th>\n",
       "      <td>48.06</td>\n",
       "      <td>3.74</td>\n",
       "      <td>51.67</td>\n",
       "      <td>23.75</td>\n",
       "      <td>9.47</td>\n",
       "    </tr>\n",
       "    <tr>\n",
       "      <th>16</th>\n",
       "      <td>25.68</td>\n",
       "      <td>13.29</td>\n",
       "      <td>38.65</td>\n",
       "      <td>46.8</td>\n",
       "      <td>20.61</td>\n",
       "    </tr>\n",
       "    <tr>\n",
       "      <th>17</th>\n",
       "      <td>73.12</td>\n",
       "      <td>60.4</td>\n",
       "      <td>65.59</td>\n",
       "      <td>24.09</td>\n",
       "      <td>16.31</td>\n",
       "    </tr>\n",
       "    <tr>\n",
       "      <th>18</th>\n",
       "      <td>24.1</td>\n",
       "      <td>22.29</td>\n",
       "      <td>37.59</td>\n",
       "      <td>79.55</td>\n",
       "      <td>33.98</td>\n",
       "    </tr>\n",
       "    <tr>\n",
       "      <th>19</th>\n",
       "      <td>24.32</td>\n",
       "      <td>96.12</td>\n",
       "      <td>34.23</td>\n",
       "      <td>20.91</td>\n",
       "      <td>81.85</td>\n",
       "    </tr>\n",
       "  </tbody>\n",
       "</table>\n",
       "</div>"
      ],
      "text/plain": [
       "   depressed   dead  sleep yourself profMental\n",
       "8      74.42  66.61  64.79    70.15      75.17\n",
       "9         54  58.98  63.87    61.68      66.74\n",
       "10     75.06  76.31  37.47    70.85      70.94\n",
       "11     25.18  62.57  60.75    76.81      57.39\n",
       "12     71.04  91.66  36.91    25.37      86.33\n",
       "13     24.42  42.38  61.89    73.35      20.05\n",
       "14     29.28  89.26  32.53    17.43      81.97\n",
       "15     48.06   3.74  51.67    23.75       9.47\n",
       "16     25.68  13.29  38.65     46.8      20.61\n",
       "17     73.12   60.4  65.59    24.09      16.31\n",
       "18      24.1  22.29  37.59    79.55      33.98\n",
       "19     24.32  96.12  34.23    20.91      81.85"
      ]
     },
     "execution_count": 4,
     "metadata": {},
     "output_type": "execute_result"
    }
   ],
   "source": [
    "data"
   ]
  },
  {
   "cell_type": "markdown",
   "metadata": {},
   "source": [
    "Ya tenemos, pada cada variable, la lista de precisiones usando entre 8 y 19 variables más correlacionadas.\n",
    "\n",
    "Creamos el algoritmo de entrenamiento, al que pasaremos la variable y el número de variables correlacionadas con las que queremos trabajar."
   ]
  },
  {
   "cell_type": "code",
   "execution_count": 5,
   "metadata": {},
   "outputs": [],
   "source": [
    "def trainRN(variable, n):    \n",
    "    # plantamos semilla para que no varíe el resultado\n",
    "    tf.random.set_seed(2)\n",
    "    \n",
    "    # cargamos el dataset\n",
    "    df = pd.read_csv('data.csv')\n",
    "    \n",
    "    # Creamos una matriz de correlación\n",
    "    corr_matrix = df.corr(method='pearson')\n",
    "    corr_matrix = corr_matrix[variable]\n",
    "    corr_matrix = corr_matrix.sort_values()\n",
    "    names=corr_matrix.tail(n).index\n",
    "    \n",
    "    # Creamos el dataset\n",
    "    data1=df[names.tolist()]\n",
    "    \n",
    "    # eliminamos la clase del conjunto de datos y los elementos sin clasificar y la guardamos para comprobar precisión\n",
    "    data2=data1[data1[variable]<2]\n",
    "    Y=data2[variable]\n",
    "    X=data2.drop([variable], axis=1).values\n",
    "    \n",
    "    # Definimos el ratio de aprendizaje y la distribución de las neuronas\n",
    "    lr = 0.001\n",
    "    nn = [2, 16, 8, 1]\n",
    "\n",
    "\n",
    "    # Creamos el objeto que contendrá a nuestra red neuronal, como secuencia de capas.\n",
    "    model = kr.Sequential()\n",
    "\n",
    "    # Añadimos la capa 1\n",
    "    l1 = model.add(kr.layers.Dense(nn[1], activation='relu'))\n",
    "\n",
    "    # Añadimos la capa 2\n",
    "    l2 = model.add(kr.layers.Dense(nn[2], activation='relu'))\n",
    "\n",
    "    # Añadimos la capa 3, que corresponde a la salida de la red\n",
    "    l3 = model.add(kr.layers.Dense(nn[3], activation='sigmoid'))\n",
    "\n",
    "    # Compilamos el modelo, definiendo la función de coste y el optimizador.\n",
    "    model.compile(loss='mse', optimizer=tf.keras.optimizers.Adam(0.001), metrics=['acc'])\n",
    "\n",
    "    # Y entrenamos al modelo, añadiendo cortes de entrenamiento y la cantidad de entrenamientos que se hará. \n",
    "    training=model.fit(X, Y, validation_split = 0.33, epochs=30)\n",
    "    \n",
    "    return names, data1, training, model\n"
   ]
  },
  {
   "cell_type": "markdown",
   "metadata": {},
   "source": [
    "Ya estamos listos para iniciar los análisis de cada red neuronal con el mínimo posible de variables dentro de una precisión predefinida."
   ]
  },
  {
   "cell_type": "markdown",
   "metadata": {},
   "source": [
    "### Red neuronal sobre depresión"
   ]
  },
  {
   "cell_type": "code",
   "execution_count": 6,
   "metadata": {},
   "outputs": [
    {
     "data": {
      "text/plain": [
       "75.06"
      ]
     },
     "execution_count": 6,
     "metadata": {},
     "output_type": "execute_result"
    }
   ],
   "source": [
    "# vemos la precisón máxima que han conseguido los datos\n",
    "data.depressed.max()"
   ]
  },
  {
   "cell_type": "markdown",
   "metadata": {},
   "source": [
    "Dada que la preción máxima obtenida es de un 75% partiremos de un valor de 74% para no bajar mucho la precisión del modelo."
   ]
  },
  {
   "cell_type": "code",
   "execution_count": 7,
   "metadata": {},
   "outputs": [
    {
     "data": {
      "text/plain": [
       "array([ 8, 10], dtype=int64)"
      ]
     },
     "execution_count": 7,
     "metadata": {},
     "output_type": "execute_result"
    }
   ],
   "source": [
    "#elección de variables a partir de valor 74\n",
    "num=data[data['depressed']>74].index.values\n",
    "num"
   ]
  },
  {
   "cell_type": "markdown",
   "metadata": {},
   "source": [
    "Vemos que podemos obtener esta precisión tanto con 8 como con 10 variables. Nos quedaremos con el mínimo y veremos cómo responde."
   ]
  },
  {
   "cell_type": "code",
   "execution_count": 8,
   "metadata": {},
   "outputs": [
    {
     "name": "stdout",
     "output_type": "stream",
     "text": [
      "Epoch 1/30\n",
      "105/105 [==============================] - 1s 4ms/step - loss: 0.2090 - acc: 0.7574 - val_loss: 0.1754 - val_acc: 0.7514\n",
      "Epoch 2/30\n",
      "105/105 [==============================] - 0s 2ms/step - loss: 0.1522 - acc: 0.7622 - val_loss: 0.1415 - val_acc: 0.7865\n",
      "Epoch 3/30\n",
      "105/105 [==============================] - 0s 2ms/step - loss: 0.1274 - acc: 0.8276 - val_loss: 0.1231 - val_acc: 0.8490\n",
      "Epoch 4/30\n",
      "105/105 [==============================] - 0s 2ms/step - loss: 0.1151 - acc: 0.8416 - val_loss: 0.1159 - val_acc: 0.8520\n",
      "Epoch 5/30\n",
      "105/105 [==============================] - 0s 2ms/step - loss: 0.1116 - acc: 0.8443 - val_loss: 0.1138 - val_acc: 0.8545\n",
      "Epoch 6/30\n",
      "105/105 [==============================] - 0s 2ms/step - loss: 0.1102 - acc: 0.8509 - val_loss: 0.1143 - val_acc: 0.8502\n",
      "Epoch 7/30\n",
      "105/105 [==============================] - 0s 2ms/step - loss: 0.1098 - acc: 0.8482 - val_loss: 0.1119 - val_acc: 0.8563\n",
      "Epoch 8/30\n",
      "105/105 [==============================] - 0s 2ms/step - loss: 0.1090 - acc: 0.8512 - val_loss: 0.1126 - val_acc: 0.8496\n",
      "Epoch 9/30\n",
      "105/105 [==============================] - 0s 2ms/step - loss: 0.1089 - acc: 0.8482 - val_loss: 0.1111 - val_acc: 0.8563\n",
      "Epoch 10/30\n",
      "105/105 [==============================] - 0s 2ms/step - loss: 0.1087 - acc: 0.8497 - val_loss: 0.1110 - val_acc: 0.8563\n",
      "Epoch 11/30\n",
      "105/105 [==============================] - 0s 2ms/step - loss: 0.1081 - acc: 0.8515 - val_loss: 0.1110 - val_acc: 0.8563\n",
      "Epoch 12/30\n",
      "105/105 [==============================] - 0s 3ms/step - loss: 0.1079 - acc: 0.8515 - val_loss: 0.1107 - val_acc: 0.8557\n",
      "Epoch 13/30\n",
      "105/105 [==============================] - 0s 3ms/step - loss: 0.1078 - acc: 0.8494 - val_loss: 0.1110 - val_acc: 0.8551\n",
      "Epoch 14/30\n",
      "105/105 [==============================] - 0s 2ms/step - loss: 0.1078 - acc: 0.8530 - val_loss: 0.1104 - val_acc: 0.8557\n",
      "Epoch 15/30\n",
      "105/105 [==============================] - 0s 2ms/step - loss: 0.1075 - acc: 0.8530 - val_loss: 0.1106 - val_acc: 0.8551\n",
      "Epoch 16/30\n",
      "105/105 [==============================] - 0s 2ms/step - loss: 0.1072 - acc: 0.8527 - val_loss: 0.1100 - val_acc: 0.8557\n",
      "Epoch 17/30\n",
      "105/105 [==============================] - 0s 2ms/step - loss: 0.1073 - acc: 0.8530 - val_loss: 0.1101 - val_acc: 0.8551\n",
      "Epoch 18/30\n",
      "105/105 [==============================] - 0s 2ms/step - loss: 0.1072 - acc: 0.8533 - val_loss: 0.1100 - val_acc: 0.8563\n",
      "Epoch 19/30\n",
      "105/105 [==============================] - 0s 2ms/step - loss: 0.1072 - acc: 0.8527 - val_loss: 0.1100 - val_acc: 0.8551\n",
      "Epoch 20/30\n",
      "105/105 [==============================] - 0s 2ms/step - loss: 0.1072 - acc: 0.8542 - val_loss: 0.1098 - val_acc: 0.8563\n",
      "Epoch 21/30\n",
      "105/105 [==============================] - 0s 2ms/step - loss: 0.1070 - acc: 0.8524 - val_loss: 0.1100 - val_acc: 0.8545\n",
      "Epoch 22/30\n",
      "105/105 [==============================] - 0s 3ms/step - loss: 0.1068 - acc: 0.8554 - val_loss: 0.1098 - val_acc: 0.8551\n",
      "Epoch 23/30\n",
      "105/105 [==============================] - 0s 3ms/step - loss: 0.1066 - acc: 0.8551 - val_loss: 0.1098 - val_acc: 0.8551\n",
      "Epoch 24/30\n",
      "105/105 [==============================] - 0s 3ms/step - loss: 0.1067 - acc: 0.8527 - val_loss: 0.1099 - val_acc: 0.8551\n",
      "Epoch 25/30\n",
      "105/105 [==============================] - 0s 2ms/step - loss: 0.1067 - acc: 0.8548 - val_loss: 0.1099 - val_acc: 0.8545\n",
      "Epoch 26/30\n",
      "105/105 [==============================] - 0s 2ms/step - loss: 0.1069 - acc: 0.8545 - val_loss: 0.1096 - val_acc: 0.8551\n",
      "Epoch 27/30\n",
      "105/105 [==============================] - 0s 2ms/step - loss: 0.1067 - acc: 0.8554 - val_loss: 0.1102 - val_acc: 0.8545\n",
      "Epoch 28/30\n",
      "105/105 [==============================] - 0s 2ms/step - loss: 0.1065 - acc: 0.8545 - val_loss: 0.1098 - val_acc: 0.8551\n",
      "Epoch 29/30\n",
      "105/105 [==============================] - 0s 2ms/step - loss: 0.1064 - acc: 0.8551 - val_loss: 0.1095 - val_acc: 0.8569\n",
      "Epoch 30/30\n",
      "105/105 [==============================] - 0s 3ms/step - loss: 0.1064 - acc: 0.8551 - val_loss: 0.1097 - val_acc: 0.8551\n"
     ]
    }
   ],
   "source": [
    "# entrenamiento del modelo\n",
    "names1, data1, training1, model1=trainRN('depressed',num[0])"
   ]
  },
  {
   "cell_type": "markdown",
   "metadata": {},
   "source": [
    "Estas son las variables con las que estamos trabajando:"
   ]
  },
  {
   "cell_type": "code",
   "execution_count": 9,
   "metadata": {},
   "outputs": [
    {
     "name": "stdout",
     "output_type": "stream",
     "text": [
      " VARIABLES: ['sleep' 'slowlyFast' 'tired' 'appetite' 'concentrateThings'\n",
      " 'uninterested' 'yourself' 'depressed']\n"
     ]
    }
   ],
   "source": [
    "# variables sobre las que se trabajará\n",
    "print (' VARIABLES: '+str(names1.values))"
   ]
  },
  {
   "cell_type": "code",
   "execution_count": 10,
   "metadata": {},
   "outputs": [
    {
     "name": "stdout",
     "output_type": "stream",
     "text": [
      "===================================\n",
      "| PROCESO DE APRENDIZAJE DEL MODELO |\n",
      "===================================\n"
     ]
    },
    {
     "data": {
      "image/png": "[encoded data removed]",
      "text/plain": [
       "<Figure size 432x288 with 1 Axes>"
      ]
     },
     "metadata": {
      "needs_background": "light"
     },
     "output_type": "display_data"
    },
    {
     "data": {
      "image/png": "[encoded data removed]",
      "text/plain": [
       "<Figure size 432x288 with 1 Axes>"
      ]
     },
     "metadata": {
      "needs_background": "light"
     },
     "output_type": "display_data"
    }
   ],
   "source": [
    "print('===================================')\n",
    "print('| PROCESO DE APRENDIZAJE DEL MODELO |')\n",
    "print('===================================')\n",
    "plt.ylim([0,0.3])\n",
    "plt.plot(training1.history[\"loss\"])\n",
    "plt.plot(training1.history[\"val_loss\"])\n",
    "plt.title('model loss')\n",
    "plt.ylabel('loss')\n",
    "plt.xlabel('epoch')\n",
    "plt.legend(['train', 'validation'], loc='upper left')\n",
    "plt.show()\n",
    "\n",
    "plt.ylim([0.7,1])\n",
    "plt.plot(training1.history[\"acc\"])\n",
    "plt.plot(training1.history[\"val_acc\"])\n",
    "plt.title('model accuracy')\n",
    "plt.ylabel('accuracy')\n",
    "plt.xlabel('epoch')\n",
    "plt.legend(['train', 'validation'], loc='upper left')\n",
    "plt.show()"
   ]
  },
  {
   "cell_type": "markdown",
   "metadata": {},
   "source": [
    "Vemos que con 30 entrenamientos y una estructura de red neuronal de 16-8-1 obtenemos una preción final de una media cerca de 85% y una pérdida que gira alrededor del 12%.\n",
    "\n",
    "El modelo se muestra muy estable, sin overfitting."
   ]
  },
  {
   "cell_type": "markdown",
   "metadata": {},
   "source": [
    "### Red neuronal sobre pensamientos de muerte"
   ]
  },
  {
   "cell_type": "code",
   "execution_count": 11,
   "metadata": {},
   "outputs": [
    {
     "data": {
      "text/plain": [
       "96.12"
      ]
     },
     "execution_count": 11,
     "metadata": {},
     "output_type": "execute_result"
    }
   ],
   "source": [
    "# vemos la precisón máxima que han conseguido los datos\n",
    "data.dead.max()"
   ]
  },
  {
   "cell_type": "markdown",
   "metadata": {},
   "source": [
    "Este máximo es muy alto, con riesgo a sobreentrenamiento, por lo que bajaremos la precisión necesaria a 85%, que ya es muy alta."
   ]
  },
  {
   "cell_type": "code",
   "execution_count": 12,
   "metadata": {},
   "outputs": [
    {
     "data": {
      "text/plain": [
       "array([12, 14, 19], dtype=int64)"
      ]
     },
     "execution_count": 12,
     "metadata": {},
     "output_type": "execute_result"
    }
   ],
   "source": [
    "# elección de variables a partir del 85%\n",
    "num=data[data['dead']>85].index.values\n",
    "num"
   ]
  },
  {
   "cell_type": "markdown",
   "metadata": {},
   "source": [
    "Tenemos tres cantidades de variables que cumplen con estos objetivos, y nos quedaremos con la mínima de las tres: 12."
   ]
  },
  {
   "cell_type": "code",
   "execution_count": 13,
   "metadata": {},
   "outputs": [
    {
     "name": "stdout",
     "output_type": "stream",
     "text": [
      "Epoch 1/30\n",
      "105/105 [==============================] - 1s 5ms/step - loss: 0.0479 - acc: 0.9680 - val_loss: 0.0409 - val_acc: 0.9624\n",
      "Epoch 2/30\n",
      "105/105 [==============================] - 0s 3ms/step - loss: 0.0339 - acc: 0.9680 - val_loss: 0.0378 - val_acc: 0.9624\n",
      "Epoch 3/30\n",
      "105/105 [==============================] - 0s 2ms/step - loss: 0.0318 - acc: 0.9680 - val_loss: 0.0369 - val_acc: 0.9624\n",
      "Epoch 4/30\n",
      "105/105 [==============================] - 0s 3ms/step - loss: 0.0312 - acc: 0.9680 - val_loss: 0.0359 - val_acc: 0.9624\n",
      "Epoch 5/30\n",
      "105/105 [==============================] - 0s 3ms/step - loss: 0.0305 - acc: 0.9680 - val_loss: 0.0341 - val_acc: 0.9624\n",
      "Epoch 6/30\n",
      "105/105 [==============================] - 0s 3ms/step - loss: 0.0292 - acc: 0.9680 - val_loss: 0.0316 - val_acc: 0.9624\n",
      "Epoch 7/30\n",
      "105/105 [==============================] - 0s 3ms/step - loss: 0.0277 - acc: 0.9680 - val_loss: 0.0303 - val_acc: 0.9624\n",
      "Epoch 8/30\n",
      "105/105 [==============================] - 0s 3ms/step - loss: 0.0272 - acc: 0.9680 - val_loss: 0.0304 - val_acc: 0.9624\n",
      "Epoch 9/30\n",
      "105/105 [==============================] - 0s 2ms/step - loss: 0.0265 - acc: 0.9680 - val_loss: 0.0300 - val_acc: 0.9624\n",
      "Epoch 10/30\n",
      "105/105 [==============================] - 0s 2ms/step - loss: 0.0262 - acc: 0.9680 - val_loss: 0.0297 - val_acc: 0.9624\n",
      "Epoch 11/30\n",
      "105/105 [==============================] - 0s 2ms/step - loss: 0.0258 - acc: 0.9680 - val_loss: 0.0301 - val_acc: 0.9624\n",
      "Epoch 12/30\n",
      "105/105 [==============================] - 0s 2ms/step - loss: 0.0258 - acc: 0.9680 - val_loss: 0.0295 - val_acc: 0.9624\n",
      "Epoch 13/30\n",
      "105/105 [==============================] - 0s 2ms/step - loss: 0.0255 - acc: 0.9680 - val_loss: 0.0296 - val_acc: 0.9624\n",
      "Epoch 14/30\n",
      "105/105 [==============================] - 0s 2ms/step - loss: 0.0254 - acc: 0.9680 - val_loss: 0.0294 - val_acc: 0.9624\n",
      "Epoch 15/30\n",
      "105/105 [==============================] - 0s 2ms/step - loss: 0.0253 - acc: 0.9680 - val_loss: 0.0294 - val_acc: 0.9624\n",
      "Epoch 16/30\n",
      "105/105 [==============================] - 0s 3ms/step - loss: 0.0252 - acc: 0.9680 - val_loss: 0.0294 - val_acc: 0.9624\n",
      "Epoch 17/30\n",
      "105/105 [==============================] - 0s 2ms/step - loss: 0.0251 - acc: 0.9680 - val_loss: 0.0294 - val_acc: 0.9624\n",
      "Epoch 18/30\n",
      "105/105 [==============================] - 0s 2ms/step - loss: 0.0250 - acc: 0.9680 - val_loss: 0.0294 - val_acc: 0.9624\n",
      "Epoch 19/30\n",
      "105/105 [==============================] - 0s 2ms/step - loss: 0.0249 - acc: 0.9680 - val_loss: 0.0296 - val_acc: 0.9624\n",
      "Epoch 20/30\n",
      "105/105 [==============================] - 0s 2ms/step - loss: 0.0249 - acc: 0.9680 - val_loss: 0.0297 - val_acc: 0.9624\n",
      "Epoch 21/30\n",
      "105/105 [==============================] - 0s 2ms/step - loss: 0.0248 - acc: 0.9680 - val_loss: 0.0294 - val_acc: 0.9624\n",
      "Epoch 22/30\n",
      "105/105 [==============================] - 0s 2ms/step - loss: 0.0247 - acc: 0.9680 - val_loss: 0.0293 - val_acc: 0.9624\n",
      "Epoch 23/30\n",
      "105/105 [==============================] - 0s 2ms/step - loss: 0.0247 - acc: 0.9680 - val_loss: 0.0293 - val_acc: 0.9624\n",
      "Epoch 24/30\n",
      "105/105 [==============================] - 0s 2ms/step - loss: 0.0245 - acc: 0.9680 - val_loss: 0.0297 - val_acc: 0.9624\n",
      "Epoch 25/30\n",
      "105/105 [==============================] - 0s 3ms/step - loss: 0.0245 - acc: 0.9680 - val_loss: 0.0295 - val_acc: 0.9624\n",
      "Epoch 26/30\n",
      "105/105 [==============================] - 0s 2ms/step - loss: 0.0246 - acc: 0.9680 - val_loss: 0.0293 - val_acc: 0.9624\n",
      "Epoch 27/30\n",
      "105/105 [==============================] - 0s 3ms/step - loss: 0.0244 - acc: 0.9680 - val_loss: 0.0293 - val_acc: 0.9624\n",
      "Epoch 28/30\n",
      "105/105 [==============================] - 0s 2ms/step - loss: 0.0246 - acc: 0.9680 - val_loss: 0.0295 - val_acc: 0.9624\n",
      "Epoch 29/30\n",
      "105/105 [==============================] - 0s 2ms/step - loss: 0.0244 - acc: 0.9680 - val_loss: 0.0292 - val_acc: 0.9624\n",
      "Epoch 30/30\n",
      "105/105 [==============================] - 0s 2ms/step - loss: 0.0243 - acc: 0.9680 - val_loss: 0.0293 - val_acc: 0.9624\n"
     ]
    }
   ],
   "source": [
    "# entrenamiento del modelo\n",
    "names2, data2, training2, model2=trainRN('dead',num[0])"
   ]
  },
  {
   "cell_type": "markdown",
   "metadata": {},
   "source": [
    "Estas son las variables con las que estamos trabajando:"
   ]
  },
  {
   "cell_type": "code",
   "execution_count": 14,
   "metadata": {},
   "outputs": [
    {
     "name": "stdout",
     "output_type": "stream",
     "text": [
      " VARIABLES: ['healthState' 'tired' 'sleep' 'bathing' 'concentrateThings'\n",
      " 'concentrating' 'uninterested' 'appetite' 'slowlyFast' 'depressed'\n",
      " 'yourself' 'dead']\n"
     ]
    }
   ],
   "source": [
    "# variables sobre las que se trabajará\n",
    "print (' VARIABLES: '+str(names2.values))"
   ]
  },
  {
   "cell_type": "code",
   "execution_count": 15,
   "metadata": {},
   "outputs": [
    {
     "name": "stdout",
     "output_type": "stream",
     "text": [
      "===================================\n",
      "| PROCESO DE APRENDIZAJE DEL MODELO |\n",
      "===================================\n"
     ]
    },
    {
     "data": {
      "image/png": "[encoded data removed]",
      "text/plain": [
       "<Figure size 432x288 with 1 Axes>"
      ]
     },
     "metadata": {
      "needs_background": "light"
     },
     "output_type": "display_data"
    },
    {
     "data": {
      "image/png": "[encoded data removed]",
      "text/plain": [
       "<Figure size 432x288 with 1 Axes>"
      ]
     },
     "metadata": {
      "needs_background": "light"
     },
     "output_type": "display_data"
    }
   ],
   "source": [
    "print('===================================')\n",
    "print('| PROCESO DE APRENDIZAJE DEL MODELO |')\n",
    "print('===================================')\n",
    "plt.ylim([0,0.3])\n",
    "plt.plot(training2.history[\"loss\"])\n",
    "plt.plot(training2.history[\"val_loss\"])\n",
    "plt.title('model loss')\n",
    "plt.ylabel('loss')\n",
    "plt.xlabel('epoch')\n",
    "plt.legend(['train', 'validation'], loc='upper left')\n",
    "plt.show()\n",
    "\n",
    "plt.ylim([0.7,1])\n",
    "plt.plot(training2.history[\"acc\"])\n",
    "plt.plot(training2.history[\"val_acc\"])\n",
    "plt.title('model accuracy')\n",
    "plt.ylabel('accuracy')\n",
    "plt.xlabel('epoch')\n",
    "plt.legend(['train', 'validation'], loc='upper left')\n",
    "plt.show()"
   ]
  },
  {
   "cell_type": "markdown",
   "metadata": {},
   "source": [
    "Con 30 entrenamientos y estructura de red 16-8-1 obtenemos una precisión mayor al 95% y una pérdida inferior al 5%.\n",
    "\n",
    "El modelo es muy estable y no se puede considerar que haya overfitting, ya que las lineas de entrenamiento y validación van paralelas."
   ]
  },
  {
   "cell_type": "markdown",
   "metadata": {},
   "source": [
    "### Red neuronal sobre insomnio"
   ]
  },
  {
   "cell_type": "code",
   "execution_count": 16,
   "metadata": {},
   "outputs": [
    {
     "data": {
      "text/plain": [
       "65.59"
      ]
     },
     "execution_count": 16,
     "metadata": {},
     "output_type": "execute_result"
    }
   ],
   "source": [
    "# vemos la precisón máxima que han conseguido los datos\n",
    "data.sleep.max()"
   ]
  },
  {
   "cell_type": "markdown",
   "metadata": {},
   "source": [
    "Con este dataset tenemos una precisión máxima muy baja. Pondremos un mínimo de 60% aunque ya rozaría los resultados obtenidos puramente por azar, y nos quedamos con el mínimo de variables que cumplan estos objetivos."
   ]
  },
  {
   "cell_type": "code",
   "execution_count": 17,
   "metadata": {},
   "outputs": [
    {
     "data": {
      "text/plain": [
       "array([ 8,  9, 11, 13, 17], dtype=int64)"
      ]
     },
     "execution_count": 17,
     "metadata": {},
     "output_type": "execute_result"
    }
   ],
   "source": [
    "# elección de variables\n",
    "num=data[data['sleep']>60].index.values\n",
    "num"
   ]
  },
  {
   "cell_type": "code",
   "execution_count": 18,
   "metadata": {},
   "outputs": [
    {
     "name": "stdout",
     "output_type": "stream",
     "text": [
      "Epoch 1/30\n",
      "105/105 [==============================] - 1s 4ms/step - loss: 0.2419 - acc: 0.6133 - val_loss: 0.2184 - val_acc: 0.6836\n",
      "Epoch 2/30\n",
      "105/105 [==============================] - 0s 2ms/step - loss: 0.2024 - acc: 0.6978 - val_loss: 0.1861 - val_acc: 0.7230\n",
      "Epoch 3/30\n",
      "105/105 [==============================] - 0s 3ms/step - loss: 0.1832 - acc: 0.7247 - val_loss: 0.1773 - val_acc: 0.7352\n",
      "Epoch 4/30\n",
      "105/105 [==============================] - 0s 3ms/step - loss: 0.1792 - acc: 0.7229 - val_loss: 0.1755 - val_acc: 0.7364\n",
      "Epoch 5/30\n",
      "105/105 [==============================] - 0s 3ms/step - loss: 0.1779 - acc: 0.7208 - val_loss: 0.1750 - val_acc: 0.7400\n",
      "Epoch 6/30\n",
      "105/105 [==============================] - 0s 3ms/step - loss: 0.1775 - acc: 0.7235 - val_loss: 0.1747 - val_acc: 0.7364\n",
      "Epoch 7/30\n",
      "105/105 [==============================] - 0s 3ms/step - loss: 0.1770 - acc: 0.7235 - val_loss: 0.1746 - val_acc: 0.7424\n",
      "Epoch 8/30\n",
      "105/105 [==============================] - 0s 2ms/step - loss: 0.1770 - acc: 0.7244 - val_loss: 0.1746 - val_acc: 0.7358\n",
      "Epoch 9/30\n",
      "105/105 [==============================] - 0s 3ms/step - loss: 0.1766 - acc: 0.7247 - val_loss: 0.1746 - val_acc: 0.7412\n",
      "Epoch 10/30\n",
      "105/105 [==============================] - 0s 3ms/step - loss: 0.1765 - acc: 0.7271 - val_loss: 0.1747 - val_acc: 0.7315\n",
      "Epoch 11/30\n",
      "105/105 [==============================] - 0s 2ms/step - loss: 0.1765 - acc: 0.7277 - val_loss: 0.1747 - val_acc: 0.7376\n",
      "Epoch 12/30\n",
      "105/105 [==============================] - 0s 2ms/step - loss: 0.1763 - acc: 0.7268 - val_loss: 0.1745 - val_acc: 0.7303\n",
      "Epoch 13/30\n",
      "105/105 [==============================] - 0s 3ms/step - loss: 0.1760 - acc: 0.7286 - val_loss: 0.1748 - val_acc: 0.7400\n",
      "Epoch 14/30\n",
      "105/105 [==============================] - 0s 3ms/step - loss: 0.1759 - acc: 0.7298 - val_loss: 0.1749 - val_acc: 0.7352\n",
      "Epoch 15/30\n",
      "105/105 [==============================] - 0s 2ms/step - loss: 0.1761 - acc: 0.7265 - val_loss: 0.1747 - val_acc: 0.7394\n",
      "Epoch 16/30\n",
      "105/105 [==============================] - 0s 3ms/step - loss: 0.1760 - acc: 0.7289 - val_loss: 0.1749 - val_acc: 0.7352\n",
      "Epoch 17/30\n",
      "105/105 [==============================] - 0s 3ms/step - loss: 0.1757 - acc: 0.7325 - val_loss: 0.1745 - val_acc: 0.7412\n",
      "Epoch 18/30\n",
      "105/105 [==============================] - 0s 2ms/step - loss: 0.1756 - acc: 0.7277 - val_loss: 0.1746 - val_acc: 0.7352\n",
      "Epoch 19/30\n",
      "105/105 [==============================] - 0s 2ms/step - loss: 0.1756 - acc: 0.7328 - val_loss: 0.1745 - val_acc: 0.7461\n",
      "Epoch 20/30\n",
      "105/105 [==============================] - 0s 3ms/step - loss: 0.1755 - acc: 0.7316 - val_loss: 0.1745 - val_acc: 0.7461\n",
      "Epoch 21/30\n",
      "105/105 [==============================] - 0s 2ms/step - loss: 0.1753 - acc: 0.7304 - val_loss: 0.1743 - val_acc: 0.7442\n",
      "Epoch 22/30\n",
      "105/105 [==============================] - 0s 3ms/step - loss: 0.1752 - acc: 0.7331 - val_loss: 0.1743 - val_acc: 0.7442\n",
      "Epoch 23/30\n",
      "105/105 [==============================] - 0s 3ms/step - loss: 0.1753 - acc: 0.7357 - val_loss: 0.1745 - val_acc: 0.7442\n",
      "Epoch 24/30\n",
      "105/105 [==============================] - 0s 2ms/step - loss: 0.1750 - acc: 0.7310 - val_loss: 0.1745 - val_acc: 0.7430\n",
      "Epoch 25/30\n",
      "105/105 [==============================] - 0s 3ms/step - loss: 0.1753 - acc: 0.7325 - val_loss: 0.1745 - val_acc: 0.7424\n",
      "Epoch 26/30\n",
      "105/105 [==============================] - 0s 2ms/step - loss: 0.1749 - acc: 0.7322 - val_loss: 0.1746 - val_acc: 0.7442\n",
      "Epoch 27/30\n",
      "105/105 [==============================] - 0s 2ms/step - loss: 0.1750 - acc: 0.7301 - val_loss: 0.1746 - val_acc: 0.7352\n",
      "Epoch 28/30\n",
      "105/105 [==============================] - 0s 3ms/step - loss: 0.1748 - acc: 0.7366 - val_loss: 0.1745 - val_acc: 0.7406\n",
      "Epoch 29/30\n",
      "105/105 [==============================] - 0s 3ms/step - loss: 0.1748 - acc: 0.7369 - val_loss: 0.1745 - val_acc: 0.7376\n",
      "Epoch 30/30\n",
      "105/105 [==============================] - 0s 3ms/step - loss: 0.1749 - acc: 0.7337 - val_loss: 0.1745 - val_acc: 0.7406\n"
     ]
    }
   ],
   "source": [
    "# entrenamiento del modelo\n",
    "names3, data3, training3, model3=trainRN('sleep',num[0])"
   ]
  },
  {
   "cell_type": "markdown",
   "metadata": {},
   "source": [
    "Estas son las variables con las que estamos trabajando:"
   ]
  },
  {
   "cell_type": "code",
   "execution_count": 19,
   "metadata": {},
   "outputs": [
    {
     "name": "stdout",
     "output_type": "stream",
     "text": [
      " VARIABLES: ['yourself' 'slowlyFast' 'concentrateThings' 'depressed' 'uninterested'\n",
      " 'appetite' 'tired' 'sleep']\n"
     ]
    }
   ],
   "source": [
    "# variables sobre las que se trabajará\n",
    "print (' VARIABLES: '+str(names3.values))"
   ]
  },
  {
   "cell_type": "code",
   "execution_count": 20,
   "metadata": {},
   "outputs": [
    {
     "name": "stdout",
     "output_type": "stream",
     "text": [
      "===================================\n",
      "| PROCESO DE APRENDIZAJE DEL MODELO |\n",
      "===================================\n"
     ]
    },
    {
     "data": {
      "image/png": "[encoded data removed]",
      "text/plain": [
       "<Figure size 432x288 with 1 Axes>"
      ]
     },
     "metadata": {
      "needs_background": "light"
     },
     "output_type": "display_data"
    },
    {
     "data": {
      "image/png": "[encoded data removed]",
      "text/plain": [
       "<Figure size 432x288 with 1 Axes>"
      ]
     },
     "metadata": {
      "needs_background": "light"
     },
     "output_type": "display_data"
    }
   ],
   "source": [
    "print('===================================')\n",
    "print('| PROCESO DE APRENDIZAJE DEL MODELO |')\n",
    "print('===================================')\n",
    "plt.ylim([0,0.3])\n",
    "plt.plot(training3.history[\"loss\"])\n",
    "plt.plot(training3.history[\"val_loss\"])\n",
    "plt.title('model loss')\n",
    "plt.ylabel('loss')\n",
    "plt.xlabel('epoch')\n",
    "plt.legend(['train', 'validation'], loc='upper left')\n",
    "plt.show()\n",
    "\n",
    "plt.ylim([0.7,1])\n",
    "plt.plot(training3.history[\"acc\"])\n",
    "plt.plot(training3.history[\"val_acc\"])\n",
    "plt.title('model accuracy')\n",
    "plt.ylabel('accuracy')\n",
    "plt.xlabel('epoch')\n",
    "plt.legend(['train', 'validation'], loc='upper left')\n",
    "plt.show()"
   ]
  },
  {
   "cell_type": "markdown",
   "metadata": {},
   "source": [
    "Con 30 entrenamientos y una estructura 16-8-1 obtenemos, finalmente, una precisión superior al 70% (lo cual es más aceptable que los resultados iniciales) y una pérdida que no llega al 20%.\n",
    "\n",
    "Aunque la pérdida se muestra muy estable la precisión muestra algunas alteraciones, pero las dos lineas se mueven bastante paralelas e incluso la validación muestra más precisión que el entrenamiento, esto puede suceder cuando las muestras de validación son \"demasiado sencillas\" para el modelo. De todos modos hablamos de algo muy residual y se puede considerar que es un modelo estable."
   ]
  },
  {
   "cell_type": "markdown",
   "metadata": {},
   "source": [
    "### Red neuronal sobre autoestima"
   ]
  },
  {
   "cell_type": "code",
   "execution_count": 21,
   "metadata": {},
   "outputs": [
    {
     "data": {
      "text/plain": [
       "79.55"
      ]
     },
     "execution_count": 21,
     "metadata": {},
     "output_type": "execute_result"
    }
   ],
   "source": [
    "# vemos la precisón máxima que han conseguido los datos\n",
    "data.yourself.max()"
   ]
  },
  {
   "cell_type": "markdown",
   "metadata": {},
   "source": [
    "Partiremos de una preción del 75% y nos quedaremos con el menor número de variables."
   ]
  },
  {
   "cell_type": "code",
   "execution_count": 22,
   "metadata": {},
   "outputs": [
    {
     "data": {
      "text/plain": [
       "array([11, 18], dtype=int64)"
      ]
     },
     "execution_count": 22,
     "metadata": {},
     "output_type": "execute_result"
    }
   ],
   "source": [
    "# elección de variables\n",
    "num=data[data['yourself']>75].index.values\n",
    "num"
   ]
  },
  {
   "cell_type": "code",
   "execution_count": 23,
   "metadata": {},
   "outputs": [
    {
     "name": "stdout",
     "output_type": "stream",
     "text": [
      "Epoch 1/30\n",
      "105/105 [==============================] - 1s 3ms/step - loss: 0.1460 - acc: 0.8289 - val_loss: 0.1328 - val_acc: 0.8206\n",
      "Epoch 2/30\n",
      "105/105 [==============================] - 0s 2ms/step - loss: 0.1181 - acc: 0.8289 - val_loss: 0.1094 - val_acc: 0.8206\n",
      "Epoch 3/30\n",
      "105/105 [==============================] - 0s 3ms/step - loss: 0.1040 - acc: 0.8289 - val_loss: 0.1044 - val_acc: 0.8206\n",
      "Epoch 4/30\n",
      "105/105 [==============================] - 0s 3ms/step - loss: 0.1010 - acc: 0.8289 - val_loss: 0.1026 - val_acc: 0.8206\n",
      "Epoch 5/30\n",
      "105/105 [==============================] - 0s 2ms/step - loss: 0.0997 - acc: 0.8626 - val_loss: 0.1018 - val_acc: 0.8661\n",
      "Epoch 6/30\n",
      "105/105 [==============================] - 0s 2ms/step - loss: 0.0988 - acc: 0.8719 - val_loss: 0.1011 - val_acc: 0.8703\n",
      "Epoch 7/30\n",
      "105/105 [==============================] - 0s 3ms/step - loss: 0.0978 - acc: 0.8716 - val_loss: 0.1007 - val_acc: 0.8758\n",
      "Epoch 8/30\n",
      "105/105 [==============================] - 0s 3ms/step - loss: 0.0969 - acc: 0.8749 - val_loss: 0.1002 - val_acc: 0.8715\n",
      "Epoch 9/30\n",
      "105/105 [==============================] - 0s 3ms/step - loss: 0.0964 - acc: 0.8751 - val_loss: 0.0994 - val_acc: 0.8752\n",
      "Epoch 10/30\n",
      "105/105 [==============================] - 0s 3ms/step - loss: 0.0957 - acc: 0.8749 - val_loss: 0.1007 - val_acc: 0.8764\n",
      "Epoch 11/30\n",
      "105/105 [==============================] - 0s 3ms/step - loss: 0.0954 - acc: 0.8737 - val_loss: 0.0991 - val_acc: 0.8758\n",
      "Epoch 12/30\n",
      "105/105 [==============================] - 0s 2ms/step - loss: 0.0949 - acc: 0.8757 - val_loss: 0.0986 - val_acc: 0.8727\n",
      "Epoch 13/30\n",
      "105/105 [==============================] - 0s 2ms/step - loss: 0.0944 - acc: 0.8751 - val_loss: 0.0985 - val_acc: 0.8770\n",
      "Epoch 14/30\n",
      "105/105 [==============================] - 0s 3ms/step - loss: 0.0941 - acc: 0.8746 - val_loss: 0.0980 - val_acc: 0.8758\n",
      "Epoch 15/30\n",
      "105/105 [==============================] - 0s 3ms/step - loss: 0.0934 - acc: 0.8769 - val_loss: 0.0983 - val_acc: 0.8739\n",
      "Epoch 16/30\n",
      "105/105 [==============================] - 0s 2ms/step - loss: 0.0932 - acc: 0.8778 - val_loss: 0.0979 - val_acc: 0.8764\n",
      "Epoch 17/30\n",
      "105/105 [==============================] - 0s 3ms/step - loss: 0.0928 - acc: 0.8787 - val_loss: 0.0977 - val_acc: 0.8764\n",
      "Epoch 18/30\n",
      "105/105 [==============================] - 0s 2ms/step - loss: 0.0925 - acc: 0.8778 - val_loss: 0.0975 - val_acc: 0.8770\n",
      "Epoch 19/30\n",
      "105/105 [==============================] - 0s 3ms/step - loss: 0.0923 - acc: 0.8772 - val_loss: 0.0974 - val_acc: 0.8776\n",
      "Epoch 20/30\n",
      "105/105 [==============================] - 0s 3ms/step - loss: 0.0919 - acc: 0.8784 - val_loss: 0.0973 - val_acc: 0.8721\n",
      "Epoch 21/30\n",
      "105/105 [==============================] - 0s 4ms/step - loss: 0.0919 - acc: 0.8769 - val_loss: 0.0972 - val_acc: 0.8776\n",
      "Epoch 22/30\n",
      "105/105 [==============================] - 0s 3ms/step - loss: 0.0916 - acc: 0.8769 - val_loss: 0.0975 - val_acc: 0.8752\n",
      "Epoch 23/30\n",
      "105/105 [==============================] - 0s 2ms/step - loss: 0.0914 - acc: 0.8802 - val_loss: 0.0974 - val_acc: 0.8752\n",
      "Epoch 24/30\n",
      "105/105 [==============================] - 0s 3ms/step - loss: 0.0913 - acc: 0.8790 - val_loss: 0.0972 - val_acc: 0.8758\n",
      "Epoch 25/30\n",
      "105/105 [==============================] - 0s 2ms/step - loss: 0.0910 - acc: 0.8787 - val_loss: 0.0975 - val_acc: 0.8752\n",
      "Epoch 26/30\n",
      "105/105 [==============================] - 0s 2ms/step - loss: 0.0908 - acc: 0.8796 - val_loss: 0.0975 - val_acc: 0.8752\n",
      "Epoch 27/30\n",
      "105/105 [==============================] - 0s 3ms/step - loss: 0.0909 - acc: 0.8781 - val_loss: 0.0970 - val_acc: 0.8764\n",
      "Epoch 28/30\n",
      "105/105 [==============================] - 0s 2ms/step - loss: 0.0906 - acc: 0.8769 - val_loss: 0.0978 - val_acc: 0.8745\n",
      "Epoch 29/30\n",
      "105/105 [==============================] - 0s 2ms/step - loss: 0.0905 - acc: 0.8793 - val_loss: 0.0970 - val_acc: 0.8752\n",
      "Epoch 30/30\n",
      "105/105 [==============================] - 0s 3ms/step - loss: 0.0901 - acc: 0.8790 - val_loss: 0.0969 - val_acc: 0.8770\n"
     ]
    }
   ],
   "source": [
    "# entrenamiento del modelo\n",
    "names4, data4, training4, model4=trainRN('yourself',num[0])"
   ]
  },
  {
   "cell_type": "markdown",
   "metadata": {},
   "source": [
    "Estas son las variables con las que estamos trabajando:"
   ]
  },
  {
   "cell_type": "code",
   "execution_count": 24,
   "metadata": {},
   "outputs": [
    {
     "name": "stdout",
     "output_type": "stream",
     "text": [
      " VARIABLES: ['healthState' 'concentrating' 'sleep' 'tired' 'dead' 'slowlyFast'\n",
      " 'appetite' 'concentrateThings' 'uninterested' 'depressed' 'yourself']\n"
     ]
    }
   ],
   "source": [
    "# variables sobre las que se trabajará\n",
    "print (' VARIABLES: '+str(names4.values))"
   ]
  },
  {
   "cell_type": "code",
   "execution_count": 25,
   "metadata": {},
   "outputs": [
    {
     "name": "stdout",
     "output_type": "stream",
     "text": [
      "===================================\n",
      "| PROCESO DE APRENDIZAJE DEL MODELO |\n",
      "===================================\n"
     ]
    },
    {
     "data": {
      "image/png": "[encoded data removed]",
      "text/plain": [
       "<Figure size 432x288 with 1 Axes>"
      ]
     },
     "metadata": {
      "needs_background": "light"
     },
     "output_type": "display_data"
    },
    {
     "data": {
      "image/png": "[encoded data removed]",
      "text/plain": [
       "<Figure size 432x288 with 1 Axes>"
      ]
     },
     "metadata": {
      "needs_background": "light"
     },
     "output_type": "display_data"
    }
   ],
   "source": [
    "print('===================================')\n",
    "print('| PROCESO DE APRENDIZAJE DEL MODELO |')\n",
    "print('===================================')\n",
    "plt.ylim([0,0.3])\n",
    "plt.plot(training4.history[\"loss\"])\n",
    "plt.plot(training4.history[\"val_loss\"])\n",
    "plt.title('model loss')\n",
    "plt.ylabel('loss')\n",
    "plt.xlabel('epoch')\n",
    "plt.legend(['train', 'validation'], loc='upper left')\n",
    "plt.show()\n",
    "\n",
    "plt.ylim([0.7,1])\n",
    "plt.plot(training4.history[\"acc\"])\n",
    "plt.plot(training4.history[\"val_acc\"])\n",
    "plt.title('model accuracy')\n",
    "plt.ylabel('accuracy')\n",
    "plt.xlabel('epoch')\n",
    "plt.legend(['train', 'validation'], loc='upper left')\n",
    "plt.show()"
   ]
  },
  {
   "cell_type": "markdown",
   "metadata": {},
   "source": [
    "Con 30 entrenamientos y una estructura de 16-8-1 obtenemos una precisión alrededor del 87% y una pérdida sobre el 10%.\n",
    "\n",
    "El modelo se muestra muy estable, sin overfitting."
   ]
  },
  {
   "cell_type": "markdown",
   "metadata": {},
   "source": [
    "### Red neuronal sobre visita en salud mental"
   ]
  },
  {
   "cell_type": "code",
   "execution_count": 26,
   "metadata": {},
   "outputs": [
    {
     "data": {
      "text/plain": [
       "86.33"
      ]
     },
     "execution_count": 26,
     "metadata": {},
     "output_type": "execute_result"
    }
   ],
   "source": [
    "# vemos la precisón máxima que han conseguido los datos\n",
    "data.profMental.max()"
   ]
  },
  {
   "cell_type": "markdown",
   "metadata": {},
   "source": [
    "Partimos de una precisión del 80% y nos quedamos con el menor número de variables."
   ]
  },
  {
   "cell_type": "code",
   "execution_count": 27,
   "metadata": {},
   "outputs": [
    {
     "data": {
      "text/plain": [
       "array([12, 14, 19], dtype=int64)"
      ]
     },
     "execution_count": 27,
     "metadata": {},
     "output_type": "execute_result"
    }
   ],
   "source": [
    "# elección de variables\n",
    "num=data[data['profMental']>80].index.values\n",
    "num"
   ]
  },
  {
   "cell_type": "code",
   "execution_count": 28,
   "metadata": {},
   "outputs": [
    {
     "name": "stdout",
     "output_type": "stream",
     "text": [
      "Epoch 1/30\n",
      "105/105 [==============================] - 1s 5ms/step - loss: 0.0916 - acc: 0.9151 - val_loss: 0.0817 - val_acc: 0.9176\n",
      "Epoch 2/30\n",
      "105/105 [==============================] - 0s 2ms/step - loss: 0.0829 - acc: 0.9151 - val_loss: 0.0788 - val_acc: 0.9176\n",
      "Epoch 3/30\n",
      "105/105 [==============================] - 0s 3ms/step - loss: 0.0795 - acc: 0.9151 - val_loss: 0.0750 - val_acc: 0.9176\n",
      "Epoch 4/30\n",
      "105/105 [==============================] - 0s 2ms/step - loss: 0.0754 - acc: 0.9151 - val_loss: 0.0715 - val_acc: 0.9176\n",
      "Epoch 5/30\n",
      "105/105 [==============================] - 0s 3ms/step - loss: 0.0729 - acc: 0.9151 - val_loss: 0.0705 - val_acc: 0.9176\n",
      "Epoch 6/30\n",
      "105/105 [==============================] - 0s 2ms/step - loss: 0.0718 - acc: 0.9151 - val_loss: 0.0698 - val_acc: 0.9176\n",
      "Epoch 7/30\n",
      "105/105 [==============================] - 0s 2ms/step - loss: 0.0711 - acc: 0.9151 - val_loss: 0.0695 - val_acc: 0.9176\n",
      "Epoch 8/30\n",
      "105/105 [==============================] - 0s 3ms/step - loss: 0.0708 - acc: 0.9151 - val_loss: 0.0698 - val_acc: 0.9176\n",
      "Epoch 9/30\n",
      "105/105 [==============================] - 0s 2ms/step - loss: 0.0704 - acc: 0.9151 - val_loss: 0.0692 - val_acc: 0.9176\n",
      "Epoch 10/30\n",
      "105/105 [==============================] - 0s 2ms/step - loss: 0.0700 - acc: 0.9151 - val_loss: 0.0692 - val_acc: 0.9176\n",
      "Epoch 11/30\n",
      "105/105 [==============================] - 0s 3ms/step - loss: 0.0698 - acc: 0.9151 - val_loss: 0.0692 - val_acc: 0.9176\n",
      "Epoch 12/30\n",
      "105/105 [==============================] - 0s 3ms/step - loss: 0.0697 - acc: 0.9151 - val_loss: 0.0691 - val_acc: 0.9176\n",
      "Epoch 13/30\n",
      "105/105 [==============================] - 0s 3ms/step - loss: 0.0695 - acc: 0.9151 - val_loss: 0.0690 - val_acc: 0.9176\n",
      "Epoch 14/30\n",
      "105/105 [==============================] - 0s 3ms/step - loss: 0.0694 - acc: 0.9151 - val_loss: 0.0690 - val_acc: 0.9176\n",
      "Epoch 15/30\n",
      "105/105 [==============================] - 0s 3ms/step - loss: 0.0692 - acc: 0.9151 - val_loss: 0.0689 - val_acc: 0.9176\n",
      "Epoch 16/30\n",
      "105/105 [==============================] - 0s 3ms/step - loss: 0.0691 - acc: 0.9151 - val_loss: 0.0688 - val_acc: 0.9176\n",
      "Epoch 17/30\n",
      "105/105 [==============================] - 0s 3ms/step - loss: 0.0690 - acc: 0.9151 - val_loss: 0.0688 - val_acc: 0.9176\n",
      "Epoch 18/30\n",
      "105/105 [==============================] - 0s 3ms/step - loss: 0.0691 - acc: 0.9151 - val_loss: 0.0690 - val_acc: 0.9176\n",
      "Epoch 19/30\n",
      "105/105 [==============================] - 0s 2ms/step - loss: 0.0690 - acc: 0.9151 - val_loss: 0.0689 - val_acc: 0.9176\n",
      "Epoch 20/30\n",
      "105/105 [==============================] - 0s 3ms/step - loss: 0.0688 - acc: 0.9151 - val_loss: 0.0689 - val_acc: 0.9176\n",
      "Epoch 21/30\n",
      "105/105 [==============================] - 0s 3ms/step - loss: 0.0686 - acc: 0.9151 - val_loss: 0.0689 - val_acc: 0.9176\n",
      "Epoch 22/30\n",
      "105/105 [==============================] - 0s 3ms/step - loss: 0.0686 - acc: 0.9151 - val_loss: 0.0690 - val_acc: 0.9176\n",
      "Epoch 23/30\n",
      "105/105 [==============================] - 0s 3ms/step - loss: 0.0685 - acc: 0.9151 - val_loss: 0.0689 - val_acc: 0.9176\n",
      "Epoch 24/30\n",
      "105/105 [==============================] - 0s 3ms/step - loss: 0.0687 - acc: 0.9151 - val_loss: 0.0689 - val_acc: 0.9176\n",
      "Epoch 25/30\n",
      "105/105 [==============================] - 0s 3ms/step - loss: 0.0686 - acc: 0.9151 - val_loss: 0.0691 - val_acc: 0.9176\n",
      "Epoch 26/30\n",
      "105/105 [==============================] - 0s 3ms/step - loss: 0.0683 - acc: 0.9151 - val_loss: 0.0692 - val_acc: 0.9176\n",
      "Epoch 27/30\n",
      "105/105 [==============================] - 0s 3ms/step - loss: 0.0682 - acc: 0.9151 - val_loss: 0.0691 - val_acc: 0.9176\n",
      "Epoch 28/30\n",
      "105/105 [==============================] - 0s 3ms/step - loss: 0.0683 - acc: 0.9151 - val_loss: 0.0691 - val_acc: 0.9176\n",
      "Epoch 29/30\n",
      "105/105 [==============================] - 0s 3ms/step - loss: 0.0682 - acc: 0.9151 - val_loss: 0.0692 - val_acc: 0.9176\n",
      "Epoch 30/30\n",
      "105/105 [==============================] - 0s 2ms/step - loss: 0.0682 - acc: 0.9151 - val_loss: 0.0691 - val_acc: 0.9176\n"
     ]
    }
   ],
   "source": [
    "# entrenamiento del modelo\n",
    "names5, data5, training5, model5=trainRN('profMental',num[0])"
   ]
  },
  {
   "cell_type": "markdown",
   "metadata": {},
   "source": [
    "Estas son las variables con las que estamos trabajando:"
   ]
  },
  {
   "cell_type": "code",
   "execution_count": 29,
   "metadata": {},
   "outputs": [
    {
     "name": "stdout",
     "output_type": "stream",
     "text": [
      " VARIABLES: ['healthState' 'slowlyFast' 'tired' 'sleep' 'appetite' 'walking'\n",
      " 'depressed' 'yourself' 'concentrateThings' 'errands' 'concentrating'\n",
      " 'profMental']\n"
     ]
    }
   ],
   "source": [
    "# variables sobre las que se trabajará\n",
    "print (' VARIABLES: '+str(names5.values))"
   ]
  },
  {
   "cell_type": "code",
   "execution_count": 30,
   "metadata": {},
   "outputs": [
    {
     "name": "stdout",
     "output_type": "stream",
     "text": [
      "===================================\n",
      "| PROCESO DE APRENDIZAJE DEL MODELO |\n",
      "===================================\n"
     ]
    },
    {
     "data": {
      "image/png": "[encoded data removed]",
      "text/plain": [
       "<Figure size 432x288 with 1 Axes>"
      ]
     },
     "metadata": {
      "needs_background": "light"
     },
     "output_type": "display_data"
    },
    {
     "data": {
      "image/png": "[encoded data removed]",
      "text/plain": [
       "<Figure size 432x288 with 1 Axes>"
      ]
     },
     "metadata": {
      "needs_background": "light"
     },
     "output_type": "display_data"
    }
   ],
   "source": [
    "print('===================================')\n",
    "print('| PROCESO DE APRENDIZAJE DEL MODELO |')\n",
    "print('===================================')\n",
    "plt.ylim([0,0.3])\n",
    "plt.plot(training5.history[\"loss\"])\n",
    "plt.plot(training5.history[\"val_loss\"])\n",
    "plt.title('model loss')\n",
    "plt.ylabel('loss')\n",
    "plt.xlabel('epoch')\n",
    "plt.legend(['train', 'validation'], loc='upper left')\n",
    "plt.show()\n",
    "\n",
    "plt.ylim([0.7,1])\n",
    "plt.plot(training5.history[\"acc\"])\n",
    "plt.plot(training5.history[\"val_acc\"])\n",
    "plt.title('model accuracy')\n",
    "plt.ylabel('accuracy')\n",
    "plt.xlabel('epoch')\n",
    "plt.legend(['train', 'validation'], loc='upper left')\n",
    "plt.show()\n"
   ]
  },
  {
   "cell_type": "markdown",
   "metadata": {},
   "source": [
    "Con 30 entrenamientos y estructura 16-8-1 tenemos una precisión superior al 90% y una pérdida sobre el 7%.\n",
    "\n",
    "El modelo es altamente estable, sin desviaciones en sus lineas de entrenamiento y validación y sin overfitting."
   ]
  },
  {
   "cell_type": "markdown",
   "metadata": {},
   "source": [
    "## Pruebas de predicción del modelo de Deep Learning optimizado"
   ]
  },
  {
   "cell_type": "markdown",
   "metadata": {},
   "source": [
    "### Depresión"
   ]
  },
  {
   "cell_type": "code",
   "execution_count": 31,
   "metadata": {},
   "outputs": [
    {
     "name": "stdout",
     "output_type": "stream",
     "text": [
      "==============================\n",
      "| RESULTADO DE LA PREDICCIÓN |\n",
      "==============================\n",
      " - Datos sin clasificar        : [0. 0. 0. 0. 0. 0. 1.]\n",
      " - Clasificación        : [0.]\n",
      "\n",
      " - Datos sin clasificar        : [0. 0. 0. 0. 0. 1. 0.]\n",
      " - Clasificación        : [0.]\n",
      "\n",
      " - Datos sin clasificar        : [0. 0. 1. 0. 0. 0. 9.]\n",
      " - Clasificación        : [1.]\n",
      "\n",
      " - Datos sin clasificar        : [1. 0. 0. 0. 9. 9. 0.]\n",
      " - Clasificación        : [1.]\n",
      "\n"
     ]
    }
   ],
   "source": [
    "# probamos con aquellos valores que no se habían clasificado\n",
    "prob=data1[data1.depressed>1]\n",
    "prob=prob.drop(['depressed'], axis=1).values\n",
    "\n",
    "new=model1.predict(prob)\n",
    "print('==============================')\n",
    "print('| RESULTADO DE LA PREDICCIÓN |')\n",
    "print('==============================')\n",
    "for i in range(prob.shape[0]):\n",
    "    print(' - Datos sin clasificar        : '+str(prob[i,:]))\n",
    "    print(' - Clasificación        : '+str(np.round((new[i]),0)))\n",
    "    print('')"
   ]
  },
  {
   "cell_type": "markdown",
   "metadata": {},
   "source": [
    "Partiendo de las variables que sabemos que tenemos, vamos a introducir respuestas a ver cómo se comporta la predicción.\n",
    "\n",
    "Probaremos con las siguientes combinaciones:\n",
    "\n",
    "|     \t| Insomnio \t| Lentitud \t| Cansancio \t| Apetito \t| Concentración(tareas) \t| Desinterés \t| Autoestima \t|\n",
    "|:---:\t|:--------:\t|:--------:\t|:---------:\t|:-------:\t|:-------------:\t|:----------:\t|:----------:\t|\n",
    "| EJ1 \t|    Sí    \t|    No    \t|     Sí    \t|    Sí   \t|       No      \t|     Sí     \t|     Sí     \t|\n",
    "| EJ2 \t|    Sí    \t|    Sí    \t|     Sí    \t|    Sí   \t|       Sí      \t|     Sí     \t|     Sí     \t|\n",
    "| EJ3 \t|    No    \t|    Sí    \t|     Sí    \t|    No   \t|       No      \t|     No     \t|     No     \t|\n",
    "| EJ4 \t|    No    \t|    No    \t|     No    \t|    Sí   \t|       Sí      \t|     Sí     \t|     Sí     \t|"
   ]
  },
  {
   "cell_type": "code",
   "execution_count": 32,
   "metadata": {},
   "outputs": [
    {
     "name": "stdout",
     "output_type": "stream",
     "text": [
      "==============================\n",
      "| RESULTADO DE LA PREDICCIÓN |\n",
      "==============================\n",
      " - Clasificación EJ1        : [1.]\n",
      "\n",
      " - Clasificación EJ2        : [1.]\n",
      "\n",
      " - Clasificación EJ3        : [0.]\n",
      "\n",
      " - Clasificación EJ4        : [1.]\n"
     ]
    }
   ],
   "source": [
    "a=[1.,0.,1.,1.,0.,1.,1.]\n",
    "b=[1.,1.,1.,1.,1.,1.,1.]\n",
    "c=[0.,1.,1.,0.,0.,0.,0.]\n",
    "d=[0.,0.,0.,1.,1.,1.,1.]\n",
    "test=pd.DataFrame((a, b, c, d), index=[\"ej1\",\"ej2\",\"ej3\",\"ej4\"])\n",
    "new=model1.predict(test.values)\n",
    "\n",
    "print('==============================')\n",
    "print('| RESULTADO DE LA PREDICCIÓN |')\n",
    "print('==============================')\n",
    "print(' - Clasificación EJ1        : '+str(np.round(new[0],0)))\n",
    "print('')\n",
    "print(' - Clasificación EJ2        : '+str(np.round(new[1],0)))\n",
    "print('')\n",
    "print(' - Clasificación EJ3        : '+str(np.round(new[2],0)))\n",
    "print('')\n",
    "print(' - Clasificación EJ4        : '+str(np.round(new[3],0)))"
   ]
  },
  {
   "cell_type": "markdown",
   "metadata": {},
   "source": [
    "### Pensamientos de muerte"
   ]
  },
  {
   "cell_type": "code",
   "execution_count": 33,
   "metadata": {},
   "outputs": [
    {
     "name": "stdout",
     "output_type": "stream",
     "text": [
      "==============================\n",
      "| RESULTADO DE LA PREDICCIÓN |\n",
      "==============================\n",
      " - Datos sin clasificar        : [5. 1. 1. 1. 0. 1. 1. 1. 0. 1. 0.]\n",
      " - Clasificación        : [0.]\n",
      "\n",
      " - Datos sin clasificar        : [4. 1. 1. 0. 0. 0. 1. 0. 1. 1. 1.]\n",
      " - Clasificación        : [0.]\n",
      "\n"
     ]
    }
   ],
   "source": [
    "# probamos con aquellos valores que no se habían clasificado\n",
    "prob=data2[data2.dead>1]\n",
    "prob=prob.drop(['dead'], axis=1).values\n",
    "\n",
    "new=model2.predict(prob)\n",
    "print('==============================')\n",
    "print('| RESULTADO DE LA PREDICCIÓN |')\n",
    "print('==============================')\n",
    "for i in range(prob.shape[0]):\n",
    "    print(' - Datos sin clasificar        : '+str(prob[i,:]))\n",
    "    print(' - Clasificación        : '+str(np.round((new[i]),0)))\n",
    "    print('')"
   ]
  },
  {
   "cell_type": "markdown",
   "metadata": {},
   "source": [
    "Partiendo de las variables que sabemos que tenemos, vamos a introducir respuestas a ver cómo se comporta la predicción.\n",
    "\n",
    "Probaremos con las siguientes combinaciones:\n",
    "\n",
    "|     \t| Salud \t| Cansancio \t| Insomnio \t| Dif.Aseo \t| Concentración(tareas) \t| Concentración(gral) \t| Desinterés \t| Apetito \t| Lentitud \t| Depresión \t| Autoestima \t|\n",
    "|:---:\t|:-----:\t|:---------:\t|:--------:\t|:--------:\t|:--------------:\t|:--------------:\t|:----------:\t|:-------:\t|:--------:\t|:---------:\t|:----------:\t|\n",
    "| EJ1 \t| Buena \t|     No    \t|    Sí    \t|    Sí    \t|       No       \t|       Sí       \t|     Sí     \t|    No   \t|    No    \t|     No    \t|     Sí     \t|\n",
    "| EJ2 \t| Pobre \t|     Sí    \t|    Sí    \t|    Sí    \t|       Sí       \t|       Sí       \t|     Sí     \t|    Sí   \t|    Sí    \t|     Sí    \t|     Sí     \t|\n",
    "| EJ3 \t| Buena \t|     Sí    \t|    Sí    \t|    No    \t|       No       \t|       No       \t|     No     \t|    No   \t|    Sí    \t|     No    \t|     No     \t|\n",
    "| EJ4 \t| Pobre \t|     No    \t|    No    \t|    No    \t|       Sí       \t|       No       \t|     No     \t|    Sí   \t|    No    \t|     Sí    \t|     No     \t|"
   ]
  },
  {
   "cell_type": "code",
   "execution_count": 34,
   "metadata": {},
   "outputs": [
    {
     "name": "stdout",
     "output_type": "stream",
     "text": [
      "==============================\n",
      "| RESULTADO DE LA PREDICCIÓN |\n",
      "==============================\n",
      " - Clasificación EJ1        : [0.]\n",
      "\n",
      " - Clasificación EJ2        : [0.]\n",
      "\n",
      " - Clasificación EJ3        : [0.]\n",
      "\n",
      " - Clasificación EJ4        : [0.]\n"
     ]
    }
   ],
   "source": [
    "a=[3.,0.,1.,1.,0.,1.,1.,0.,0.,0.,1.]\n",
    "b=[5.,1.,1.,1.,1.,1.,1.,1.,1.,1.,1.]\n",
    "c=[3.,1.,1.,0.,0.,0.,0.,0.,1.,0.,0.]\n",
    "d=[5.,0.,0.,0.,1.,0.,0.,1.,0.,1.,0.]\n",
    "test=pd.DataFrame((a, b, c, d), index=[\"ej1\",\"ej2\",\"ej3\",\"ej4\"])\n",
    "new=model2.predict(test.values)\n",
    "\n",
    "print('==============================')\n",
    "print('| RESULTADO DE LA PREDICCIÓN |')\n",
    "print('==============================')\n",
    "print(' - Clasificación EJ1        : '+str(np.round(new[0],0)))\n",
    "print('')\n",
    "print(' - Clasificación EJ2        : '+str(np.round(new[1],0)))\n",
    "print('')\n",
    "print(' - Clasificación EJ3        : '+str(np.round(new[2],0)))\n",
    "print('')\n",
    "print(' - Clasificación EJ4        : '+str(np.round(new[3],0)))"
   ]
  },
  {
   "cell_type": "markdown",
   "metadata": {},
   "source": [
    "### Insomnio"
   ]
  },
  {
   "cell_type": "code",
   "execution_count": 35,
   "metadata": {},
   "outputs": [
    {
     "name": "stdout",
     "output_type": "stream",
     "text": [
      "==============================\n",
      "| RESULTADO DE LA PREDICCIÓN |\n",
      "==============================\n",
      " - Datos sin clasificar        : [0. 0. 0. 0. 0. 0. 0.]\n",
      " - Clasificación        : [0.]\n",
      "\n"
     ]
    }
   ],
   "source": [
    "# probamos con aquellos valores que no se habían clasificado\n",
    "prob=data3[data3.sleep>1]\n",
    "prob=prob.drop(['sleep'], axis=1).values\n",
    "\n",
    "new=model3.predict(prob)\n",
    "print('==============================')\n",
    "print('| RESULTADO DE LA PREDICCIÓN |')\n",
    "print('==============================')\n",
    "for i in range(prob.shape[0]):\n",
    "    print(' - Datos sin clasificar        : '+str(prob[i,:]))\n",
    "    print(' - Clasificación        : '+str(np.round((new[i]),0)))\n",
    "    print('')"
   ]
  },
  {
   "cell_type": "markdown",
   "metadata": {},
   "source": [
    "Partiendo de las variables que sabemos que tenemos, vamos a introducir respuestas a ver cómo se comporta la predicción.\n",
    "\n",
    "Probaremos con las siguientes combinaciones:\n",
    "\n",
    "|     \t| Autoestima \t| Lentitud \t| Concentración(tareas) \t| Depresión \t| Desinterés \t| Apetito \t| Cansancio \t|\n",
    "|:---:\t|:----------:\t|:--------:\t|:-------------:\t|:---------:\t|:----------:\t|:-------:\t|:---------:\t|\n",
    "| EJ1 \t|     No     \t|    No    \t|       Sí      \t|     No    \t|     No     \t|    Sí   \t|     Sí    \t|\n",
    "| EJ2 \t|     Sí     \t|    Sí    \t|       Sí      \t|     Sí    \t|     Sí     \t|    Sí   \t|     Sí    \t|\n",
    "| EJ3 \t|     Sí     \t|    No    \t|       Sí      \t|     No    \t|     Sí     \t|    No   \t|     No    \t|\n",
    "| EJ4 \t|     No     \t|    Sí    \t|       Sí      \t|     No    \t|     Sí     \t|    No   \t|     Sí    \t|"
   ]
  },
  {
   "cell_type": "code",
   "execution_count": 36,
   "metadata": {},
   "outputs": [
    {
     "name": "stdout",
     "output_type": "stream",
     "text": [
      "==============================\n",
      "| RESULTADO DE LA PREDICCIÓN |\n",
      "==============================\n",
      " - Clasificación EJ1        : [1.]\n",
      "\n",
      " - Clasificación EJ2        : [1.]\n",
      "\n",
      " - Clasificación EJ3        : [1.]\n",
      "\n",
      " - Clasificación EJ4        : [1.]\n"
     ]
    }
   ],
   "source": [
    "a=[0.,0.,1.,0.,0.,1.,1.]\n",
    "b=[1.,1.,1.,1.,1.,1.,1.]\n",
    "c=[1.,0.,1.,0.,1.,0.,0.]\n",
    "d=[0.,1.,1.,0.,1.,0.,1.]\n",
    "test=pd.DataFrame((a, b, c, d), index=[\"ej1\",\"ej2\",\"ej3\",\"ej4\"])\n",
    "new=model3.predict(test.values)\n",
    "\n",
    "print('==============================')\n",
    "print('| RESULTADO DE LA PREDICCIÓN |')\n",
    "print('==============================')\n",
    "print(' - Clasificación EJ1        : '+str(np.round(new[0],0)))\n",
    "print('')\n",
    "print(' - Clasificación EJ2        : '+str(np.round(new[1],0)))\n",
    "print('')\n",
    "print(' - Clasificación EJ3        : '+str(np.round(new[2],0)))\n",
    "print('')\n",
    "print(' - Clasificación EJ4        : '+str(np.round(new[3],0)))"
   ]
  },
  {
   "cell_type": "markdown",
   "metadata": {},
   "source": [
    "### Autoestima"
   ]
  },
  {
   "cell_type": "code",
   "execution_count": 37,
   "metadata": {},
   "outputs": [
    {
     "name": "stdout",
     "output_type": "stream",
     "text": [
      "==============================\n",
      "| RESULTADO DE LA PREDICCIÓN |\n",
      "==============================\n",
      " - Datos sin clasificar        : [4. 0. 0. 0. 0. 0. 0. 0. 0. 0.]\n",
      " - Clasificación        : [0.]\n",
      "\n",
      " - Datos sin clasificar        : [2. 1. 0. 1. 1. 0. 0. 0. 0. 9.]\n",
      " - Clasificación        : [1.]\n",
      "\n"
     ]
    }
   ],
   "source": [
    "# probamos con aquellos valores que no se habían clasificado\n",
    "prob=data4[data4.yourself>1]\n",
    "prob=prob.drop(['yourself'], axis=1).values\n",
    "\n",
    "new=model4.predict(prob)\n",
    "print('==============================')\n",
    "print('| RESULTADO DE LA PREDICCIÓN |')\n",
    "print('==============================')\n",
    "for i in range(prob.shape[0]):\n",
    "    print(' - Datos sin clasificar        : '+str(prob[i,:]))\n",
    "    print(' - Clasificación        : '+str(np.round((new[i]),0)))\n",
    "    print('')"
   ]
  },
  {
   "cell_type": "markdown",
   "metadata": {},
   "source": [
    "Partiendo de las variables que sabemos que tenemos, vamos a introducir respuestas a ver cómo se comporta la predicción.\n",
    "\n",
    "Probaremos con las siguientes combinaciones:\n",
    "\n",
    "|     \t|  Salud \t| Concentración(gral) \t| Insomnio \t| Cansancio \t| P.Muerte \t| Lentitud \t| Apetito \t| Concentración(tareas) \t| Desinterés \t| Depresión \t|\n",
    "|:---:\t|:------:\t|:--------------:\t|:--------:\t|:---------:\t|:--------:\t|:--------:\t|:-------:\t|:--------------:\t|:----------:\t|:---------:\t|\n",
    "| EJ1 \t|  Buena \t|       No       \t|    Sí    \t|     No    \t|    No    \t|    Sí    \t|    Sí   \t|       Sí       \t|     No     \t|     No    \t|\n",
    "| EJ2 \t| Normal \t|       Sí       \t|    Sí    \t|     Sí    \t|    Sí    \t|    Sí    \t|    Sí   \t|       Sí       \t|     Sí     \t|     Sí    \t|\n",
    "| EJ3 \t|  Pobre \t|       No       \t|    No    \t|     No    \t|    Sí    \t|    No    \t|    No   \t|       No       \t|     Sí     \t|     Sí    \t|\n",
    "| EJ4 \t| Normal \t|       Sí       \t|    Sí    \t|     Sí    \t|    No    \t|    No    \t|    No   \t|       Sí       \t|     No     \t|     No    \t|"
   ]
  },
  {
   "cell_type": "code",
   "execution_count": 38,
   "metadata": {},
   "outputs": [
    {
     "name": "stdout",
     "output_type": "stream",
     "text": [
      "==============================\n",
      "| RESULTADO DE LA PREDICCIÓN |\n",
      "==============================\n",
      " - Clasificación EJ1        : [0.]\n",
      "\n",
      " - Clasificación EJ2        : [1.]\n",
      "\n",
      " - Clasificación EJ3        : [1.]\n",
      "\n",
      " - Clasificación EJ4        : [0.]\n"
     ]
    }
   ],
   "source": [
    "a=[3.,0.,1.,0.,0.,1.,1.,1.,0.,0.]\n",
    "b=[4.,1.,1.,1.,1.,1.,1.,1.,1.,1.]\n",
    "c=[5.,0.,0.,0.,1.,0.,0.,0.,1.,1.]\n",
    "d=[4.,1.,1.,1.,0.,0.,0.,1.,0.,0.]\n",
    "test=pd.DataFrame((a, b, c, d), index=[\"ej1\",\"ej2\",\"ej3\",\"ej4\"])\n",
    "new=model4.predict(test.values)\n",
    "\n",
    "print('==============================')\n",
    "print('| RESULTADO DE LA PREDICCIÓN |')\n",
    "print('==============================')\n",
    "print(' - Clasificación EJ1        : '+str(np.round(new[0],0)))\n",
    "print('')\n",
    "print(' - Clasificación EJ2        : '+str(np.round(new[1],0)))\n",
    "print('')\n",
    "print(' - Clasificación EJ3        : '+str(np.round(new[2],0)))\n",
    "print('')\n",
    "print(' - Clasificación EJ4        : '+str(np.round(new[3],0)))"
   ]
  },
  {
   "cell_type": "markdown",
   "metadata": {},
   "source": [
    "### Visita a salud mental"
   ]
  },
  {
   "cell_type": "code",
   "execution_count": 39,
   "metadata": {},
   "outputs": [
    {
     "name": "stdout",
     "output_type": "stream",
     "text": [
      "WARNING:tensorflow:5 out of the last 9 calls to <function Model.make_predict_function.<locals>.predict_function at 0x00000270991ED0D0> triggered tf.function retracing. Tracing is expensive and the excessive number of tracings could be due to (1) creating @tf.function repeatedly in a loop, (2) passing tensors with different shapes, (3) passing Python objects instead of tensors. For (1), please define your @tf.function outside of the loop. For (2), @tf.function has experimental_relax_shapes=True option that relaxes argument shapes that can avoid unnecessary retracing. For (3), please refer to https://www.tensorflow.org/guide/function#controlling_retracing and https://www.tensorflow.org/api_docs/python/tf/function for  more details.\n",
      "==============================\n",
      "| RESULTADO DE LA PREDICCIÓN |\n",
      "==============================\n",
      " - Datos sin clasificar        : [5. 0. 1. 1. 0. 1. 0. 0. 0. 1. 0.]\n",
      " - Clasificación        : [0.]\n",
      "\n",
      " - Datos sin clasificar        : [3. 0. 1. 0. 1. 0. 0. 1. 0. 0. 0.]\n",
      " - Clasificación        : [0.]\n",
      "\n",
      " - Datos sin clasificar        : [2. 0. 0. 0. 0. 0. 0. 0. 0. 0. 0.]\n",
      " - Clasificación        : [0.]\n",
      "\n"
     ]
    }
   ],
   "source": [
    "# probamos con aquellos valores que no se habían clasificado\n",
    "prob=data5[data5.profMental>1]\n",
    "prob=prob.drop(['profMental'], axis=1).values\n",
    "\n",
    "new=model5.predict(prob)\n",
    "print('==============================')\n",
    "print('| RESULTADO DE LA PREDICCIÓN |')\n",
    "print('==============================')\n",
    "for i in range(prob.shape[0]):\n",
    "    print(' - Datos sin clasificar        : '+str(prob[i,:]))\n",
    "    print(' - Clasificación        : '+str(np.round((new[i]),0)))\n",
    "    print('')"
   ]
  },
  {
   "cell_type": "markdown",
   "metadata": {},
   "source": [
    "Partiendo de las variables que sabemos que tenemos, vamos a introducir respuestas a ver cómo se comporta la predicción.\n",
    "\n",
    "Probaremos con las siguientes combinaciones:\n",
    "    \n",
    "|     \t|  Salud \t| Lentitud \t| Cansancio \t| Insomnio \t| Apetito \t| Dif.Andar \t| Depresión \t| Autoestima \t| Concentración(tareas) \t| Dif.Recados \t| Concentración(gral) \t|\n",
    "|:---:\t|:------:\t|:--------:\t|:---------:\t|:--------:\t|:-------:\t|:---------:\t|:---------:\t|:----------:\t|:---------------------:\t|:-----------:\t|:-------------------:\t|\n",
    "| EJ1 \t|  Buena \t|    No    \t|     Sí    \t|    No    \t|    No   \t|     Sí    \t|     Sí    \t|     Sí     \t|           No          \t|      No     \t|          Sí         \t|\n",
    "| EJ2 \t| Normal \t|    Sí    \t|     Sí    \t|    Sí    \t|    Sí   \t|     Sí    \t|     Sí    \t|     Sí     \t|           Sí          \t|      Sí     \t|          Sí         \t|\n",
    "| EJ3 \t|  Pobre \t|    No    \t|     No    \t|    No    \t|    Sí   \t|     No    \t|     No    \t|     No     \t|           Sí          \t|      Sí     \t|          No         \t|\n",
    "| EJ4 \t| Normal \t|    Sí    \t|     No    \t|    Sí    \t|    No   \t|     No    \t|     No    \t|     No     \t|           No          \t|      No     \t|          No         \t|"
   ]
  },
  {
   "cell_type": "code",
   "execution_count": 40,
   "metadata": {},
   "outputs": [
    {
     "name": "stdout",
     "output_type": "stream",
     "text": [
      "==============================\n",
      "| RESULTADO DE LA PREDICCIÓN |\n",
      "==============================\n",
      " - Clasificación EJ1        : [0.]\n",
      "\n",
      " - Clasificación EJ2        : [0.]\n",
      "\n",
      " - Clasificación EJ3        : [0.]\n",
      "\n",
      " - Clasificación EJ4        : [0.]\n"
     ]
    }
   ],
   "source": [
    "a=[3.,0.,1.,0.,0.,1.,1.,1.,0.,0.,1.]\n",
    "b=[4.,1.,1.,1.,1.,1.,1.,1.,1.,1.,1.]\n",
    "c=[5.,0.,0.,0.,1.,0.,0.,0.,1.,1.,0.]\n",
    "d=[4.,1.,0.,1.,0.,0.,0.,0.,0.,0.,0.]\n",
    "test=pd.DataFrame((a, b, c, d), index=[\"ej1\",\"ej2\",\"ej3\",\"ej4\"])\n",
    "new=model5.predict(test.values)\n",
    "\n",
    "print('==============================')\n",
    "print('| RESULTADO DE LA PREDICCIÓN |')\n",
    "print('==============================')\n",
    "print(' - Clasificación EJ1        : '+str(np.round(new[0],0)))\n",
    "print('')\n",
    "print(' - Clasificación EJ2        : '+str(np.round(new[1],0)))\n",
    "print('')\n",
    "print(' - Clasificación EJ3        : '+str(np.round(new[2],0)))\n",
    "print('')\n",
    "print(' - Clasificación EJ4        : '+str(np.round(new[3],0)))"
   ]
  }
 ],
 "metadata": {
  "kernelspec": {
   "display_name": "Python 3",
   "language": "python",
   "name": "python3"
  },
  "language_info": {
   "codemirror_mode": {
    "name": "ipython",
    "version": 3
   },
   "file_extension": ".py",
   "mimetype": "text/x-python",
   "name": "python",
   "nbconvert_exporter": "python",
   "pygments_lexer": "ipython3",
   "version": "3.8.5"
  }
 },
 "nbformat": 4,
 "nbformat_minor": 4
}
