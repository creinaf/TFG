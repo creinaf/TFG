{
 "cells": [
  {
   "cell_type": "markdown",
   "metadata": {},
   "source": [
    "# TRABAJO FINAL DE GRADO - PEC 3\n",
    "###### Autor: Claudia Reina Fajardo\n",
    "###### Noviembre 2021"
   ]
  },
  {
   "cell_type": "markdown",
   "metadata": {},
   "source": [
    "## Modelo de Deep Learning"
   ]
  },
  {
   "cell_type": "code",
   "execution_count": 1,
   "metadata": {},
   "outputs": [],
   "source": [
    "# imports\n",
    "import numpy as np\n",
    "import pandas as pd\n",
    "import matplotlib.pyplot as plt\n",
    "import tensorflow as tf\n",
    "import tensorflow.keras as kr"
   ]
  },
  {
   "cell_type": "code",
   "execution_count": 2,
   "metadata": {},
   "outputs": [],
   "source": [
    "# cargamos el dataset\n",
    "df = pd.read_csv('data.csv')"
   ]
  },
  {
   "cell_type": "code",
   "execution_count": 3,
   "metadata": {},
   "outputs": [],
   "source": [
    "# algoritmo red neuronal\n",
    "def rn (nn, variable, e):\n",
    "    # eliminamos la clase del conjunto de datos y los elementos sin clasificar y la guardamos para comprobar precisión\n",
    "    data=df[df[variable]<2]\n",
    "    Y=data[variable]\n",
    "    X=data.drop([variable], axis=1).values\n",
    "    \n",
    "    # Definimos el ratio de aprendizaje, la distribución de las neuronas y la cantidad de entrenamientos\n",
    "    lr = 0.001\n",
    "    nn = nn\n",
    "    e = e\n",
    "\n",
    "    # Creamos el objeto que contendrá a nuestra red neuronal, como secuencia de capas.\n",
    "    model = kr.Sequential()\n",
    "\n",
    "    # Añadimos la capa 1\n",
    "    l1 = model.add(kr.layers.Dense(nn[1], activation='relu'))\n",
    "\n",
    "    # Añadimos la capa 2\n",
    "    l2 = model.add(kr.layers.Dense(nn[2], activation='relu'))\n",
    "\n",
    "    # Añadimos la capa 3, que corresponde a la salida de la red\n",
    "    l3 = model.add(kr.layers.Dense(nn[3], activation='sigmoid'))\n",
    "\n",
    "    # Compilamos el modelo, definiendo la función de coste y el optimizador.\n",
    "    model.compile(loss='mse', optimizer=tf.keras.optimizers.Adam(lr), metrics=['acc'])\n",
    "\n",
    "    # Y entrenamos al modelo, añadiendo cortes de entrenamiento y la cantidad de entrenamientos que se hará. \n",
    "    training=model.fit(X, Y, validation_split = 0.33, epochs=e)\n",
    "\n",
    "    # Recogemos accuracy total\n",
    "    results=model.evaluate(X, Y)\n",
    "    \n",
    "    return model, training, results"
   ]
  },
  {
   "cell_type": "markdown",
   "metadata": {},
   "source": [
    "### Red neuronal sobre depresión"
   ]
  },
  {
   "cell_type": "markdown",
   "metadata": {},
   "source": [
    "#### Estructura 16-8-1"
   ]
  },
  {
   "cell_type": "code",
   "execution_count": 4,
   "metadata": {},
   "outputs": [
    {
     "name": "stdout",
     "output_type": "stream",
     "text": [
      "Epoch 1/70\n",
      "105/105 [==============================] - 1s 4ms/step - loss: 0.2650 - acc: 0.6890 - val_loss: 0.1905 - val_acc: 0.7514\n",
      "Epoch 2/70\n",
      "105/105 [==============================] - 0s 2ms/step - loss: 0.1689 - acc: 0.7690 - val_loss: 0.1511 - val_acc: 0.7944\n",
      "Epoch 3/70\n",
      "105/105 [==============================] - 0s 2ms/step - loss: 0.1412 - acc: 0.8094 - val_loss: 0.1317 - val_acc: 0.8290\n",
      "Epoch 4/70\n",
      "105/105 [==============================] - 0s 2ms/step - loss: 0.1295 - acc: 0.8252 - val_loss: 0.1288 - val_acc: 0.8260\n",
      "Epoch 5/70\n",
      "105/105 [==============================] - 0s 2ms/step - loss: 0.1220 - acc: 0.8333 - val_loss: 0.1192 - val_acc: 0.8411\n",
      "Epoch 6/70\n",
      "105/105 [==============================] - 0s 2ms/step - loss: 0.1173 - acc: 0.8402 - val_loss: 0.1149 - val_acc: 0.8502\n",
      "Epoch 7/70\n",
      "105/105 [==============================] - 0s 2ms/step - loss: 0.1140 - acc: 0.8476 - val_loss: 0.1125 - val_acc: 0.8551\n",
      "Epoch 8/70\n",
      "105/105 [==============================] - 0s 2ms/step - loss: 0.1119 - acc: 0.8494 - val_loss: 0.1113 - val_acc: 0.8532\n",
      "Epoch 9/70\n",
      "105/105 [==============================] - 0s 2ms/step - loss: 0.1108 - acc: 0.8488 - val_loss: 0.1116 - val_acc: 0.8526\n",
      "Epoch 10/70\n",
      "105/105 [==============================] - 0s 2ms/step - loss: 0.1097 - acc: 0.8470 - val_loss: 0.1231 - val_acc: 0.8387\n",
      "Epoch 11/70\n",
      "105/105 [==============================] - 0s 2ms/step - loss: 0.1086 - acc: 0.8491 - val_loss: 0.1090 - val_acc: 0.8557\n",
      "Epoch 12/70\n",
      "105/105 [==============================] - 0s 3ms/step - loss: 0.1080 - acc: 0.8521 - val_loss: 0.1099 - val_acc: 0.8593\n",
      "Epoch 13/70\n",
      "105/105 [==============================] - 0s 2ms/step - loss: 0.1073 - acc: 0.8569 - val_loss: 0.1085 - val_acc: 0.8587\n",
      "Epoch 14/70\n",
      "105/105 [==============================] - 0s 2ms/step - loss: 0.1064 - acc: 0.8566 - val_loss: 0.1107 - val_acc: 0.8551\n",
      "Epoch 15/70\n",
      "105/105 [==============================] - 0s 2ms/step - loss: 0.1073 - acc: 0.8539 - val_loss: 0.1079 - val_acc: 0.8593\n",
      "Epoch 16/70\n",
      "105/105 [==============================] - 0s 3ms/step - loss: 0.1054 - acc: 0.8560 - val_loss: 0.1109 - val_acc: 0.8508\n",
      "Epoch 17/70\n",
      "105/105 [==============================] - 0s 3ms/step - loss: 0.1060 - acc: 0.8590 - val_loss: 0.1092 - val_acc: 0.8569\n",
      "Epoch 18/70\n",
      "105/105 [==============================] - 0s 2ms/step - loss: 0.1049 - acc: 0.8545 - val_loss: 0.1087 - val_acc: 0.8593\n",
      "Epoch 19/70\n",
      "105/105 [==============================] - 0s 2ms/step - loss: 0.1050 - acc: 0.8584 - val_loss: 0.1084 - val_acc: 0.8623\n",
      "Epoch 20/70\n",
      "105/105 [==============================] - 0s 3ms/step - loss: 0.1034 - acc: 0.8611 - val_loss: 0.1070 - val_acc: 0.8623\n",
      "Epoch 21/70\n",
      "105/105 [==============================] - 0s 2ms/step - loss: 0.1039 - acc: 0.8611 - val_loss: 0.1094 - val_acc: 0.8551\n",
      "Epoch 22/70\n",
      "105/105 [==============================] - 0s 2ms/step - loss: 0.1050 - acc: 0.8551 - val_loss: 0.1128 - val_acc: 0.8478\n",
      "Epoch 23/70\n",
      "105/105 [==============================] - 0s 3ms/step - loss: 0.1030 - acc: 0.8608 - val_loss: 0.1111 - val_acc: 0.8551\n",
      "Epoch 24/70\n",
      "105/105 [==============================] - 0s 2ms/step - loss: 0.1030 - acc: 0.8614 - val_loss: 0.1089 - val_acc: 0.8605\n",
      "Epoch 25/70\n",
      "105/105 [==============================] - 0s 3ms/step - loss: 0.1016 - acc: 0.8644 - val_loss: 0.1080 - val_acc: 0.8587\n",
      "Epoch 26/70\n",
      "105/105 [==============================] - 0s 2ms/step - loss: 0.1027 - acc: 0.8647 - val_loss: 0.1113 - val_acc: 0.8520\n",
      "Epoch 27/70\n",
      "105/105 [==============================] - 0s 3ms/step - loss: 0.1017 - acc: 0.8647 - val_loss: 0.1148 - val_acc: 0.8466\n",
      "Epoch 28/70\n",
      "105/105 [==============================] - 0s 3ms/step - loss: 0.1025 - acc: 0.8650 - val_loss: 0.1101 - val_acc: 0.8569\n",
      "Epoch 29/70\n",
      "105/105 [==============================] - 0s 2ms/step - loss: 0.1019 - acc: 0.8688 - val_loss: 0.1102 - val_acc: 0.8599\n",
      "Epoch 30/70\n",
      "105/105 [==============================] - 0s 3ms/step - loss: 0.1016 - acc: 0.8608 - val_loss: 0.1115 - val_acc: 0.8575\n",
      "Epoch 31/70\n",
      "105/105 [==============================] - 0s 3ms/step - loss: 0.1024 - acc: 0.8632 - val_loss: 0.1120 - val_acc: 0.8539\n",
      "Epoch 32/70\n",
      "105/105 [==============================] - 0s 3ms/step - loss: 0.1024 - acc: 0.8635 - val_loss: 0.1078 - val_acc: 0.8599\n",
      "Epoch 33/70\n",
      "105/105 [==============================] - 0s 2ms/step - loss: 0.1023 - acc: 0.8650 - val_loss: 0.1085 - val_acc: 0.8636\n",
      "Epoch 34/70\n",
      "105/105 [==============================] - 0s 3ms/step - loss: 0.0992 - acc: 0.8667 - val_loss: 0.1091 - val_acc: 0.8611\n",
      "Epoch 35/70\n",
      "105/105 [==============================] - 0s 3ms/step - loss: 0.0999 - acc: 0.8641 - val_loss: 0.1084 - val_acc: 0.8623\n",
      "Epoch 36/70\n",
      "105/105 [==============================] - 0s 3ms/step - loss: 0.1000 - acc: 0.8647 - val_loss: 0.1098 - val_acc: 0.8581\n",
      "Epoch 37/70\n",
      "105/105 [==============================] - 0s 3ms/step - loss: 0.0992 - acc: 0.8670 - val_loss: 0.1097 - val_acc: 0.8611\n",
      "Epoch 38/70\n",
      "105/105 [==============================] - 0s 3ms/step - loss: 0.0989 - acc: 0.8736 - val_loss: 0.1077 - val_acc: 0.8581\n",
      "Epoch 39/70\n",
      "105/105 [==============================] - 0s 3ms/step - loss: 0.0980 - acc: 0.8724 - val_loss: 0.1080 - val_acc: 0.8599\n",
      "Epoch 40/70\n",
      "105/105 [==============================] - 0s 3ms/step - loss: 0.0980 - acc: 0.8691 - val_loss: 0.1143 - val_acc: 0.8502\n",
      "Epoch 41/70\n",
      "105/105 [==============================] - 0s 3ms/step - loss: 0.0990 - acc: 0.8697 - val_loss: 0.1112 - val_acc: 0.8563\n",
      "Epoch 42/70\n",
      "105/105 [==============================] - 0s 3ms/step - loss: 0.0994 - acc: 0.8697 - val_loss: 0.1094 - val_acc: 0.8611\n",
      "Epoch 43/70\n",
      "105/105 [==============================] - 0s 3ms/step - loss: 0.0987 - acc: 0.8688 - val_loss: 0.1106 - val_acc: 0.8587\n",
      "Epoch 44/70\n",
      "105/105 [==============================] - 0s 3ms/step - loss: 0.0978 - acc: 0.8715 - val_loss: 0.1118 - val_acc: 0.8484\n",
      "Epoch 45/70\n",
      "105/105 [==============================] - 0s 3ms/step - loss: 0.1011 - acc: 0.8682 - val_loss: 0.1126 - val_acc: 0.8563\n",
      "Epoch 46/70\n",
      "105/105 [==============================] - 0s 3ms/step - loss: 0.0984 - acc: 0.8685 - val_loss: 0.1184 - val_acc: 0.8502\n",
      "Epoch 47/70\n",
      "105/105 [==============================] - 0s 3ms/step - loss: 0.0986 - acc: 0.8691 - val_loss: 0.1104 - val_acc: 0.8508\n",
      "Epoch 48/70\n",
      "105/105 [==============================] - 0s 3ms/step - loss: 0.0970 - acc: 0.8727 - val_loss: 0.1191 - val_acc: 0.8381\n",
      "Epoch 49/70\n",
      "105/105 [==============================] - 0s 3ms/step - loss: 0.0968 - acc: 0.8730 - val_loss: 0.1132 - val_acc: 0.8460\n",
      "Epoch 50/70\n",
      "105/105 [==============================] - 0s 3ms/step - loss: 0.0969 - acc: 0.8727 - val_loss: 0.1172 - val_acc: 0.8526\n",
      "Epoch 51/70\n",
      "105/105 [==============================] - 0s 3ms/step - loss: 0.0965 - acc: 0.8736 - val_loss: 0.1140 - val_acc: 0.8448\n",
      "Epoch 52/70\n",
      "105/105 [==============================] - 0s 3ms/step - loss: 0.0972 - acc: 0.8727 - val_loss: 0.1208 - val_acc: 0.8393\n",
      "Epoch 53/70\n",
      "105/105 [==============================] - 0s 3ms/step - loss: 0.0964 - acc: 0.8751 - val_loss: 0.1086 - val_acc: 0.8593\n",
      "Epoch 54/70\n",
      "105/105 [==============================] - 0s 3ms/step - loss: 0.0955 - acc: 0.8751 - val_loss: 0.1093 - val_acc: 0.8569\n",
      "Epoch 55/70\n",
      "105/105 [==============================] - 0s 3ms/step - loss: 0.0953 - acc: 0.8745 - val_loss: 0.1121 - val_acc: 0.8520\n",
      "Epoch 56/70\n",
      "105/105 [==============================] - 0s 3ms/step - loss: 0.0953 - acc: 0.8760 - val_loss: 0.1089 - val_acc: 0.8617\n",
      "Epoch 57/70\n",
      "105/105 [==============================] - 0s 3ms/step - loss: 0.0953 - acc: 0.8727 - val_loss: 0.1128 - val_acc: 0.8563\n",
      "Epoch 58/70\n",
      "105/105 [==============================] - 0s 3ms/step - loss: 0.0948 - acc: 0.8754 - val_loss: 0.1104 - val_acc: 0.8581\n",
      "Epoch 59/70\n",
      "105/105 [==============================] - 0s 3ms/step - loss: 0.0958 - acc: 0.8763 - val_loss: 0.1103 - val_acc: 0.8557\n",
      "Epoch 60/70\n",
      "105/105 [==============================] - 0s 3ms/step - loss: 0.0944 - acc: 0.8733 - val_loss: 0.1102 - val_acc: 0.8587\n",
      "Epoch 61/70\n",
      "105/105 [==============================] - 0s 3ms/step - loss: 0.0954 - acc: 0.8751 - val_loss: 0.1186 - val_acc: 0.8387\n",
      "Epoch 62/70\n"
     ]
    },
    {
     "name": "stdout",
     "output_type": "stream",
     "text": [
      "105/105 [==============================] - 0s 3ms/step - loss: 0.0943 - acc: 0.8766 - val_loss: 0.1112 - val_acc: 0.8569\n",
      "Epoch 63/70\n",
      "105/105 [==============================] - 0s 3ms/step - loss: 0.0944 - acc: 0.8775 - val_loss: 0.1117 - val_acc: 0.8526\n",
      "Epoch 64/70\n",
      "105/105 [==============================] - 0s 3ms/step - loss: 0.0932 - acc: 0.8799 - val_loss: 0.1146 - val_acc: 0.8472\n",
      "Epoch 65/70\n",
      "105/105 [==============================] - 0s 3ms/step - loss: 0.0943 - acc: 0.8763 - val_loss: 0.1116 - val_acc: 0.8611\n",
      "Epoch 66/70\n",
      "105/105 [==============================] - 0s 3ms/step - loss: 0.0937 - acc: 0.8775 - val_loss: 0.1101 - val_acc: 0.8581\n",
      "Epoch 67/70\n",
      "105/105 [==============================] - 0s 3ms/step - loss: 0.0936 - acc: 0.8742 - val_loss: 0.1122 - val_acc: 0.8532\n",
      "Epoch 68/70\n",
      "105/105 [==============================] - 0s 3ms/step - loss: 0.0941 - acc: 0.8793 - val_loss: 0.1167 - val_acc: 0.8484\n",
      "Epoch 69/70\n",
      "105/105 [==============================] - 0s 3ms/step - loss: 0.0941 - acc: 0.8787 - val_loss: 0.1115 - val_acc: 0.8642\n",
      "Epoch 70/70\n",
      "105/105 [==============================] - 0s 3ms/step - loss: 0.0924 - acc: 0.8808 - val_loss: 0.1136 - val_acc: 0.8454\n",
      "157/157 [==============================] - 0s 1ms/step - loss: 0.0981 - acc: 0.8723\n"
     ]
    }
   ],
   "source": [
    "model1, training1, results1 = rn([2, 16, 8, 1], 'depressed', 70)"
   ]
  },
  {
   "cell_type": "code",
   "execution_count": 5,
   "metadata": {},
   "outputs": [
    {
     "name": "stdout",
     "output_type": "stream",
     "text": [
      "======================\n",
      "| CALIDAD DEL MODELO |\n",
      "======================\n",
      " - Precisión               : 87.23%\n",
      " - Pérdida                 : 9.81%\n",
      "\n",
      "===================================\n",
      "| PROCESO DE APRENDIZAJE DEL MODELO |\n",
      "===================================\n"
     ]
    },
    {
     "data": {
      "image/png": "[encoded data removed]",
      "text/plain": [
       "<Figure size 432x288 with 1 Axes>"
      ]
     },
     "metadata": {
      "needs_background": "light"
     },
     "output_type": "display_data"
    },
    {
     "data": {
      "image/png": "[encoded data removed]",
      "text/plain": [
       "<Figure size 432x288 with 1 Axes>"
      ]
     },
     "metadata": {
      "needs_background": "light"
     },
     "output_type": "display_data"
    }
   ],
   "source": [
    "print('======================')\n",
    "print('| CALIDAD DEL MODELO |')\n",
    "print('======================')\n",
    "print(' - Precisión               : '+str(np.round((100*results1[1]),2))+'%')\n",
    "print(' - Pérdida                 : '+str(np.round((100*results1[0]),2))+'%')\n",
    "print('')\n",
    "\n",
    "print('===================================')\n",
    "print('| PROCESO DE APRENDIZAJE DEL MODELO |')\n",
    "print('===================================')\n",
    "plt.ylim([0,0.3])\n",
    "plt.plot(training1.history[\"loss\"])\n",
    "plt.plot(training1.history[\"val_loss\"])\n",
    "plt.title('model loss')\n",
    "plt.ylabel('loss')\n",
    "plt.xlabel('epoch')\n",
    "plt.legend(['train', 'validation'], loc='upper left')\n",
    "plt.show()\n",
    "\n",
    "plt.ylim([0.7,1])\n",
    "plt.plot(training1.history[\"acc\"])\n",
    "plt.plot(training1.history[\"val_acc\"])\n",
    "plt.title('model accuracy')\n",
    "plt.ylabel('accuracy')\n",
    "plt.xlabel('epoch')\n",
    "plt.legend(['train', 'validation'], loc='upper left')\n",
    "plt.show()\n",
    "\n"
   ]
  },
  {
   "cell_type": "markdown",
   "metadata": {},
   "source": [
    "Observamos un poco de overfitting. Haremos el modelo más pequeño."
   ]
  },
  {
   "cell_type": "markdown",
   "metadata": {},
   "source": [
    "#### Estructura 10-2-1"
   ]
  },
  {
   "cell_type": "code",
   "execution_count": 6,
   "metadata": {},
   "outputs": [
    {
     "name": "stdout",
     "output_type": "stream",
     "text": [
      "Epoch 1/70\n",
      "105/105 [==============================] - 1s 5ms/step - loss: 0.2440 - acc: 0.7523 - val_loss: 0.2381 - val_acc: 0.7520\n",
      "Epoch 2/70\n",
      "105/105 [==============================] - 0s 3ms/step - loss: 0.2327 - acc: 0.7589 - val_loss: 0.2282 - val_acc: 0.7520\n",
      "Epoch 3/70\n",
      "105/105 [==============================] - 0s 3ms/step - loss: 0.2232 - acc: 0.7589 - val_loss: 0.2197 - val_acc: 0.7520\n",
      "Epoch 4/70\n",
      "105/105 [==============================] - 0s 3ms/step - loss: 0.2091 - acc: 0.7589 - val_loss: 0.1920 - val_acc: 0.7520\n",
      "Epoch 5/70\n",
      "105/105 [==============================] - 0s 3ms/step - loss: 0.1682 - acc: 0.7589 - val_loss: 0.1539 - val_acc: 0.7520\n",
      "Epoch 6/70\n",
      "105/105 [==============================] - 0s 3ms/step - loss: 0.1460 - acc: 0.7589 - val_loss: 0.1436 - val_acc: 0.7520\n",
      "Epoch 7/70\n",
      "105/105 [==============================] - 0s 3ms/step - loss: 0.1395 - acc: 0.7589 - val_loss: 0.1442 - val_acc: 0.7520\n",
      "Epoch 8/70\n",
      "105/105 [==============================] - 0s 3ms/step - loss: 0.1358 - acc: 0.7589 - val_loss: 0.1388 - val_acc: 0.7520\n",
      "Epoch 9/70\n",
      "105/105 [==============================] - 0s 3ms/step - loss: 0.1342 - acc: 0.7589 - val_loss: 0.1351 - val_acc: 0.7520\n",
      "Epoch 10/70\n",
      "105/105 [==============================] - 0s 3ms/step - loss: 0.1311 - acc: 0.7589 - val_loss: 0.1351 - val_acc: 0.7520\n",
      "Epoch 11/70\n",
      "105/105 [==============================] - 0s 3ms/step - loss: 0.1301 - acc: 0.7589 - val_loss: 0.1335 - val_acc: 0.7520\n",
      "Epoch 12/70\n",
      "105/105 [==============================] - 0s 3ms/step - loss: 0.1281 - acc: 0.7589 - val_loss: 0.1322 - val_acc: 0.7520\n",
      "Epoch 13/70\n",
      "105/105 [==============================] - 0s 3ms/step - loss: 0.1263 - acc: 0.7589 - val_loss: 0.1298 - val_acc: 0.7520\n",
      "Epoch 14/70\n",
      "105/105 [==============================] - 0s 3ms/step - loss: 0.1248 - acc: 0.7589 - val_loss: 0.1291 - val_acc: 0.7520\n",
      "Epoch 15/70\n",
      "105/105 [==============================] - 0s 3ms/step - loss: 0.1232 - acc: 0.8130 - val_loss: 0.1264 - val_acc: 0.8557\n",
      "Epoch 16/70\n",
      "105/105 [==============================] - 0s 3ms/step - loss: 0.1224 - acc: 0.8473 - val_loss: 0.1259 - val_acc: 0.8581\n",
      "Epoch 17/70\n",
      "105/105 [==============================] - 0s 3ms/step - loss: 0.1199 - acc: 0.8479 - val_loss: 0.1294 - val_acc: 0.8472\n",
      "Epoch 18/70\n",
      "105/105 [==============================] - 0s 3ms/step - loss: 0.1210 - acc: 0.8470 - val_loss: 0.1228 - val_acc: 0.8599\n",
      "Epoch 19/70\n",
      "105/105 [==============================] - 0s 3ms/step - loss: 0.1181 - acc: 0.8497 - val_loss: 0.1229 - val_acc: 0.8575\n",
      "Epoch 20/70\n",
      "105/105 [==============================] - 0s 3ms/step - loss: 0.1168 - acc: 0.8503 - val_loss: 0.1220 - val_acc: 0.8623\n",
      "Epoch 21/70\n",
      "105/105 [==============================] - 0s 3ms/step - loss: 0.1164 - acc: 0.8518 - val_loss: 0.1210 - val_acc: 0.8581\n",
      "Epoch 22/70\n",
      "105/105 [==============================] - 0s 3ms/step - loss: 0.1152 - acc: 0.8524 - val_loss: 0.1198 - val_acc: 0.8611\n",
      "Epoch 23/70\n",
      "105/105 [==============================] - 0s 3ms/step - loss: 0.1151 - acc: 0.8497 - val_loss: 0.1198 - val_acc: 0.8587\n",
      "Epoch 24/70\n",
      "105/105 [==============================] - 0s 3ms/step - loss: 0.1146 - acc: 0.8512 - val_loss: 0.1181 - val_acc: 0.8617\n",
      "Epoch 25/70\n",
      "105/105 [==============================] - 0s 3ms/step - loss: 0.1136 - acc: 0.8536 - val_loss: 0.1188 - val_acc: 0.8599\n",
      "Epoch 26/70\n",
      "105/105 [==============================] - 0s 3ms/step - loss: 0.1125 - acc: 0.8545 - val_loss: 0.1201 - val_acc: 0.8563\n",
      "Epoch 27/70\n",
      "105/105 [==============================] - 0s 3ms/step - loss: 0.1112 - acc: 0.8572 - val_loss: 0.1183 - val_acc: 0.8617\n",
      "Epoch 28/70\n",
      "105/105 [==============================] - 0s 3ms/step - loss: 0.1127 - acc: 0.8548 - val_loss: 0.1264 - val_acc: 0.8344\n",
      "Epoch 29/70\n",
      "105/105 [==============================] - 0s 3ms/step - loss: 0.1119 - acc: 0.8521 - val_loss: 0.1184 - val_acc: 0.8569\n",
      "Epoch 30/70\n",
      "105/105 [==============================] - 0s 3ms/step - loss: 0.1104 - acc: 0.8566 - val_loss: 0.1156 - val_acc: 0.8611\n",
      "Epoch 31/70\n",
      "105/105 [==============================] - 0s 3ms/step - loss: 0.1103 - acc: 0.8542 - val_loss: 0.1174 - val_acc: 0.8581\n",
      "Epoch 32/70\n",
      "105/105 [==============================] - 0s 3ms/step - loss: 0.1103 - acc: 0.8551 - val_loss: 0.1174 - val_acc: 0.8581\n",
      "Epoch 33/70\n",
      "105/105 [==============================] - 0s 3ms/step - loss: 0.1088 - acc: 0.8584 - val_loss: 0.1273 - val_acc: 0.8308\n",
      "Epoch 34/70\n",
      "105/105 [==============================] - 0s 3ms/step - loss: 0.1100 - acc: 0.8554 - val_loss: 0.1159 - val_acc: 0.8593\n",
      "Epoch 35/70\n",
      "105/105 [==============================] - 0s 3ms/step - loss: 0.1085 - acc: 0.8566 - val_loss: 0.1158 - val_acc: 0.8557\n",
      "Epoch 36/70\n",
      "105/105 [==============================] - 0s 3ms/step - loss: 0.1089 - acc: 0.8575 - val_loss: 0.1155 - val_acc: 0.8593\n",
      "Epoch 37/70\n",
      "105/105 [==============================] - 0s 3ms/step - loss: 0.1078 - acc: 0.8563 - val_loss: 0.1233 - val_acc: 0.8417\n",
      "Epoch 38/70\n",
      "105/105 [==============================] - 0s 3ms/step - loss: 0.1081 - acc: 0.8569 - val_loss: 0.1152 - val_acc: 0.8539\n",
      "Epoch 39/70\n",
      "105/105 [==============================] - 0s 3ms/step - loss: 0.1068 - acc: 0.8605 - val_loss: 0.1160 - val_acc: 0.8575\n",
      "Epoch 40/70\n",
      "105/105 [==============================] - 0s 3ms/step - loss: 0.1070 - acc: 0.8599 - val_loss: 0.1161 - val_acc: 0.8569\n",
      "Epoch 41/70\n",
      "105/105 [==============================] - 0s 3ms/step - loss: 0.1072 - acc: 0.8599 - val_loss: 0.1149 - val_acc: 0.8551\n",
      "Epoch 42/70\n",
      "105/105 [==============================] - 0s 3ms/step - loss: 0.1059 - acc: 0.8626 - val_loss: 0.1147 - val_acc: 0.8587\n",
      "Epoch 43/70\n",
      "105/105 [==============================] - 0s 3ms/step - loss: 0.1053 - acc: 0.8599 - val_loss: 0.1139 - val_acc: 0.8599\n",
      "Epoch 44/70\n",
      "105/105 [==============================] - 0s 4ms/step - loss: 0.1055 - acc: 0.8623 - val_loss: 0.1146 - val_acc: 0.8587\n",
      "Epoch 45/70\n",
      "105/105 [==============================] - 0s 3ms/step - loss: 0.1062 - acc: 0.8584 - val_loss: 0.1162 - val_acc: 0.8551\n",
      "Epoch 46/70\n",
      "105/105 [==============================] - 0s 3ms/step - loss: 0.1055 - acc: 0.8611 - val_loss: 0.1140 - val_acc: 0.8575\n",
      "Epoch 47/70\n",
      "105/105 [==============================] - 0s 5ms/step - loss: 0.1054 - acc: 0.8596 - val_loss: 0.1140 - val_acc: 0.8551\n",
      "Epoch 48/70\n",
      "105/105 [==============================] - 0s 3ms/step - loss: 0.1050 - acc: 0.8605 - val_loss: 0.1150 - val_acc: 0.8545\n",
      "Epoch 49/70\n",
      "105/105 [==============================] - 0s 4ms/step - loss: 0.1052 - acc: 0.8602 - val_loss: 0.1147 - val_acc: 0.8539\n",
      "Epoch 50/70\n",
      "105/105 [==============================] - 1s 5ms/step - loss: 0.1046 - acc: 0.8620 - val_loss: 0.1186 - val_acc: 0.8441\n",
      "Epoch 51/70\n",
      "105/105 [==============================] - 0s 4ms/step - loss: 0.1054 - acc: 0.8599 - val_loss: 0.1134 - val_acc: 0.8581\n",
      "Epoch 52/70\n",
      "105/105 [==============================] - 0s 4ms/step - loss: 0.1048 - acc: 0.8635 - val_loss: 0.1190 - val_acc: 0.8466\n",
      "Epoch 53/70\n",
      "105/105 [==============================] - 0s 4ms/step - loss: 0.1048 - acc: 0.8611 - val_loss: 0.1136 - val_acc: 0.8587\n",
      "Epoch 54/70\n",
      "105/105 [==============================] - 0s 3ms/step - loss: 0.1049 - acc: 0.8644 - val_loss: 0.1137 - val_acc: 0.8551\n",
      "Epoch 55/70\n",
      "105/105 [==============================] - 0s 4ms/step - loss: 0.1048 - acc: 0.8614 - val_loss: 0.1139 - val_acc: 0.8569\n",
      "Epoch 56/70\n",
      "105/105 [==============================] - ETA: 0s - loss: 0.1043 - acc: 0.862 - 0s 4ms/step - loss: 0.1043 - acc: 0.8620 - val_loss: 0.1144 - val_acc: 0.8551\n",
      "Epoch 57/70\n",
      "105/105 [==============================] - 0s 4ms/step - loss: 0.1050 - acc: 0.8617 - val_loss: 0.1127 - val_acc: 0.8575\n",
      "Epoch 58/70\n",
      "105/105 [==============================] - 0s 4ms/step - loss: 0.1044 - acc: 0.8590 - val_loss: 0.1140 - val_acc: 0.8532\n",
      "Epoch 59/70\n",
      "105/105 [==============================] - 0s 4ms/step - loss: 0.1038 - acc: 0.8641 - val_loss: 0.1122 - val_acc: 0.8593\n",
      "Epoch 60/70\n",
      "105/105 [==============================] - 0s 4ms/step - loss: 0.1046 - acc: 0.8623 - val_loss: 0.1132 - val_acc: 0.8520\n",
      "Epoch 61/70\n",
      "105/105 [==============================] - 0s 4ms/step - loss: 0.1036 - acc: 0.8611 - val_loss: 0.1123 - val_acc: 0.8569\n",
      "Epoch 62/70\n"
     ]
    },
    {
     "name": "stdout",
     "output_type": "stream",
     "text": [
      "105/105 [==============================] - 0s 4ms/step - loss: 0.1030 - acc: 0.8620 - val_loss: 0.1130 - val_acc: 0.8557\n",
      "Epoch 63/70\n",
      "105/105 [==============================] - 0s 3ms/step - loss: 0.1038 - acc: 0.8605 - val_loss: 0.1134 - val_acc: 0.8593\n",
      "Epoch 64/70\n",
      "105/105 [==============================] - 0s 3ms/step - loss: 0.1039 - acc: 0.8641 - val_loss: 0.1123 - val_acc: 0.8587\n",
      "Epoch 65/70\n",
      "105/105 [==============================] - 0s 4ms/step - loss: 0.1030 - acc: 0.8647 - val_loss: 0.1126 - val_acc: 0.8532\n",
      "Epoch 66/70\n",
      "105/105 [==============================] - 0s 3ms/step - loss: 0.1028 - acc: 0.8620 - val_loss: 0.1129 - val_acc: 0.8520\n",
      "Epoch 67/70\n",
      "105/105 [==============================] - 0s 3ms/step - loss: 0.1022 - acc: 0.8638 - val_loss: 0.1234 - val_acc: 0.8326\n",
      "Epoch 68/70\n",
      "105/105 [==============================] - 0s 3ms/step - loss: 0.1026 - acc: 0.8623 - val_loss: 0.1126 - val_acc: 0.8569\n",
      "Epoch 69/70\n",
      "105/105 [==============================] - 0s 3ms/step - loss: 0.1030 - acc: 0.8605 - val_loss: 0.1140 - val_acc: 0.8496\n",
      "Epoch 70/70\n",
      "105/105 [==============================] - 0s 3ms/step - loss: 0.1020 - acc: 0.8623 - val_loss: 0.1118 - val_acc: 0.8575\n",
      "157/157 [==============================] - 0s 1ms/step - loss: 0.1042 - acc: 0.8649\n"
     ]
    }
   ],
   "source": [
    "model1_1, training1_1, results1_1 = rn([2, 10, 2, 1], 'depressed', 70)"
   ]
  },
  {
   "cell_type": "code",
   "execution_count": 7,
   "metadata": {},
   "outputs": [
    {
     "name": "stdout",
     "output_type": "stream",
     "text": [
      "======================\n",
      "| CALIDAD DEL MODELO |\n",
      "======================\n",
      " - Precisión               : 86.49%\n",
      " - Pérdida                 : 10.42%\n",
      "\n",
      "===================================\n",
      "| PROCESO DE APRENDIZAJE DEL MODELO |\n",
      "===================================\n"
     ]
    },
    {
     "data": {
      "image/png": "[encoded data removed]",
      "text/plain": [
       "<Figure size 432x288 with 1 Axes>"
      ]
     },
     "metadata": {
      "needs_background": "light"
     },
     "output_type": "display_data"
    },
    {
     "data": {
      "image/png": "[encoded data removed]",
      "text/plain": [
       "<Figure size 432x288 with 1 Axes>"
      ]
     },
     "metadata": {
      "needs_background": "light"
     },
     "output_type": "display_data"
    }
   ],
   "source": [
    "print('======================')\n",
    "print('| CALIDAD DEL MODELO |')\n",
    "print('======================')\n",
    "print(' - Precisión               : '+str(np.round((100*results1_1[1]),2))+'%')\n",
    "print(' - Pérdida                 : '+str(np.round((100*results1_1[0]),2))+'%')\n",
    "print('')\n",
    "\n",
    "print('===================================')\n",
    "print('| PROCESO DE APRENDIZAJE DEL MODELO |')\n",
    "print('===================================')\n",
    "plt.ylim([0,0.3])\n",
    "plt.plot(training1_1.history[\"loss\"])\n",
    "plt.plot(training1_1.history[\"val_loss\"])\n",
    "plt.title('model loss')\n",
    "plt.ylabel('loss')\n",
    "plt.xlabel('epoch')\n",
    "plt.legend(['train', 'validation'], loc='upper left')\n",
    "plt.show()\n",
    "\n",
    "plt.ylim([0.7,1])\n",
    "plt.plot(training1_1.history[\"acc\"])\n",
    "plt.plot(training1_1.history[\"val_acc\"])\n",
    "plt.title('model accuracy')\n",
    "plt.ylabel('accuracy')\n",
    "plt.xlabel('epoch')\n",
    "plt.legend(['train', 'validation'], loc='upper left')\n",
    "plt.show()\n",
    "\n"
   ]
  },
  {
   "cell_type": "markdown",
   "metadata": {},
   "source": [
    "Como vemos, aunque presenta algún pequeño pico, el modelo es mucho más estable y sin sacrificar demasiada precisión.\n",
    "\n",
    "Podemos probar a reducir la cantidad de entrenamientos:"
   ]
  },
  {
   "cell_type": "code",
   "execution_count": 8,
   "metadata": {},
   "outputs": [
    {
     "name": "stdout",
     "output_type": "stream",
     "text": [
      "Epoch 1/30\n",
      "105/105 [==============================] - 1s 6ms/step - loss: 0.1929 - acc: 0.7404 - val_loss: 0.1839 - val_acc: 0.7520\n",
      "Epoch 2/30\n",
      "105/105 [==============================] - 0s 3ms/step - loss: 0.1668 - acc: 0.7586 - val_loss: 0.1606 - val_acc: 0.7520\n",
      "Epoch 3/30\n",
      "105/105 [==============================] - 0s 3ms/step - loss: 0.1516 - acc: 0.7634 - val_loss: 0.1509 - val_acc: 0.8138\n",
      "Epoch 4/30\n",
      "105/105 [==============================] - 0s 3ms/step - loss: 0.1437 - acc: 0.8130 - val_loss: 0.1416 - val_acc: 0.8150\n",
      "Epoch 5/30\n",
      "105/105 [==============================] - 0s 3ms/step - loss: 0.1351 - acc: 0.8264 - val_loss: 0.1317 - val_acc: 0.8435\n",
      "Epoch 6/30\n",
      "105/105 [==============================] - 0s 3ms/step - loss: 0.1286 - acc: 0.8366 - val_loss: 0.1300 - val_acc: 0.8344\n",
      "Epoch 7/30\n",
      "105/105 [==============================] - 0s 3ms/step - loss: 0.1247 - acc: 0.8381 - val_loss: 0.1222 - val_acc: 0.8520\n",
      "Epoch 8/30\n",
      "105/105 [==============================] - 0s 3ms/step - loss: 0.1218 - acc: 0.8434 - val_loss: 0.1254 - val_acc: 0.8441\n",
      "Epoch 9/30\n",
      "105/105 [==============================] - 0s 4ms/step - loss: 0.1205 - acc: 0.8378 - val_loss: 0.1195 - val_acc: 0.8520\n",
      "Epoch 10/30\n",
      "105/105 [==============================] - 0s 3ms/step - loss: 0.1182 - acc: 0.8449 - val_loss: 0.1172 - val_acc: 0.8569\n",
      "Epoch 11/30\n",
      "105/105 [==============================] - 0s 4ms/step - loss: 0.1173 - acc: 0.8434 - val_loss: 0.1180 - val_acc: 0.8551\n",
      "Epoch 12/30\n",
      "105/105 [==============================] - 0s 3ms/step - loss: 0.1166 - acc: 0.8458 - val_loss: 0.1165 - val_acc: 0.8581\n",
      "Epoch 13/30\n",
      "105/105 [==============================] - 0s 4ms/step - loss: 0.1154 - acc: 0.8497 - val_loss: 0.1163 - val_acc: 0.8563\n",
      "Epoch 14/30\n",
      "105/105 [==============================] - 0s 3ms/step - loss: 0.1146 - acc: 0.8449 - val_loss: 0.1160 - val_acc: 0.8575\n",
      "Epoch 15/30\n",
      "105/105 [==============================] - 0s 3ms/step - loss: 0.1152 - acc: 0.8464 - val_loss: 0.1144 - val_acc: 0.8629\n",
      "Epoch 16/30\n",
      "105/105 [==============================] - 0s 3ms/step - loss: 0.1135 - acc: 0.8470 - val_loss: 0.1162 - val_acc: 0.8545\n",
      "Epoch 17/30\n",
      "105/105 [==============================] - 0s 5ms/step - loss: 0.1144 - acc: 0.8488 - val_loss: 0.1178 - val_acc: 0.8520\n",
      "Epoch 18/30\n",
      "105/105 [==============================] - 0s 3ms/step - loss: 0.1124 - acc: 0.8512 - val_loss: 0.1138 - val_acc: 0.8629\n",
      "Epoch 19/30\n",
      "105/105 [==============================] - 0s 4ms/step - loss: 0.1127 - acc: 0.8491 - val_loss: 0.1159 - val_acc: 0.8545\n",
      "Epoch 20/30\n",
      "105/105 [==============================] - 0s 3ms/step - loss: 0.1120 - acc: 0.8494 - val_loss: 0.1138 - val_acc: 0.8617\n",
      "Epoch 21/30\n",
      "105/105 [==============================] - 0s 3ms/step - loss: 0.1113 - acc: 0.8500 - val_loss: 0.1134 - val_acc: 0.8623\n",
      "Epoch 22/30\n",
      "105/105 [==============================] - 0s 3ms/step - loss: 0.1115 - acc: 0.8512 - val_loss: 0.1128 - val_acc: 0.8593\n",
      "Epoch 23/30\n",
      "105/105 [==============================] - 0s 3ms/step - loss: 0.1116 - acc: 0.8509 - val_loss: 0.1130 - val_acc: 0.8593\n",
      "Epoch 24/30\n",
      "105/105 [==============================] - 0s 3ms/step - loss: 0.1119 - acc: 0.8497 - val_loss: 0.1145 - val_acc: 0.8581\n",
      "Epoch 25/30\n",
      "105/105 [==============================] - 0s 3ms/step - loss: 0.1108 - acc: 0.8524 - val_loss: 0.1149 - val_acc: 0.8575\n",
      "Epoch 26/30\n",
      "105/105 [==============================] - 0s 3ms/step - loss: 0.1110 - acc: 0.8536 - val_loss: 0.1122 - val_acc: 0.8623\n",
      "Epoch 27/30\n",
      "105/105 [==============================] - 0s 3ms/step - loss: 0.1098 - acc: 0.8527 - val_loss: 0.1123 - val_acc: 0.8605\n",
      "Epoch 28/30\n",
      "105/105 [==============================] - 0s 3ms/step - loss: 0.1101 - acc: 0.8533 - val_loss: 0.1114 - val_acc: 0.8629\n",
      "Epoch 29/30\n",
      "105/105 [==============================] - 0s 3ms/step - loss: 0.1101 - acc: 0.8536 - val_loss: 0.1116 - val_acc: 0.8636\n",
      "Epoch 30/30\n",
      "105/105 [==============================] - 0s 3ms/step - loss: 0.1096 - acc: 0.8527 - val_loss: 0.1122 - val_acc: 0.8593\n",
      "157/157 [==============================] - 0s 2ms/step - loss: 0.1097 - acc: 0.8571\n"
     ]
    }
   ],
   "source": [
    "model1_2, training1_2, results1_2 = rn([2, 10, 2, 1], 'depressed', 30)"
   ]
  },
  {
   "cell_type": "code",
   "execution_count": 9,
   "metadata": {},
   "outputs": [
    {
     "name": "stdout",
     "output_type": "stream",
     "text": [
      "======================\n",
      "| CALIDAD DEL MODELO |\n",
      "======================\n",
      " - Precisión               : 85.71%\n",
      " - Pérdida                 : 10.97%\n",
      "\n",
      "===================================\n",
      "| PROCESO DE APRENDIZAJE DEL MODELO |\n",
      "===================================\n"
     ]
    },
    {
     "data": {
      "image/png": "[encoded data removed]",
      "text/plain": [
       "<Figure size 432x288 with 1 Axes>"
      ]
     },
     "metadata": {
      "needs_background": "light"
     },
     "output_type": "display_data"
    },
    {
     "data": {
      "image/png": "[encoded data removed]",
      "text/plain": [
       "<Figure size 432x288 with 1 Axes>"
      ]
     },
     "metadata": {
      "needs_background": "light"
     },
     "output_type": "display_data"
    }
   ],
   "source": [
    "print('======================')\n",
    "print('| CALIDAD DEL MODELO |')\n",
    "print('======================')\n",
    "print(' - Precisión               : '+str(np.round((100*results1_2[1]),2))+'%')\n",
    "print(' - Pérdida                 : '+str(np.round((100*results1_2[0]),2))+'%')\n",
    "print('')\n",
    "\n",
    "print('===================================')\n",
    "print('| PROCESO DE APRENDIZAJE DEL MODELO |')\n",
    "print('===================================')\n",
    "plt.ylim([0,0.3])\n",
    "plt.plot(training1_2.history[\"loss\"])\n",
    "plt.plot(training1_2.history[\"val_loss\"])\n",
    "plt.title('model loss')\n",
    "plt.ylabel('loss')\n",
    "plt.xlabel('epoch')\n",
    "plt.legend(['train', 'validation'], loc='upper left')\n",
    "plt.show()\n",
    "\n",
    "plt.ylim([0.7,1])\n",
    "plt.plot(training1_2.history[\"acc\"])\n",
    "plt.plot(training1_2.history[\"val_acc\"])\n",
    "plt.title('model accuracy')\n",
    "plt.ylabel('accuracy')\n",
    "plt.xlabel('epoch')\n",
    "plt.legend(['train', 'validation'], loc='upper left')\n",
    "plt.show()\n",
    "\n"
   ]
  },
  {
   "cell_type": "markdown",
   "metadata": {},
   "source": [
    "### Red neuronal sobre pensamientos de muerte"
   ]
  },
  {
   "cell_type": "markdown",
   "metadata": {},
   "source": [
    "#### Estructura 16-8-1"
   ]
  },
  {
   "cell_type": "code",
   "execution_count": 10,
   "metadata": {},
   "outputs": [
    {
     "name": "stdout",
     "output_type": "stream",
     "text": [
      "Epoch 1/70\n",
      "105/105 [==============================] - 1s 4ms/step - loss: 0.1464 - acc: 0.8244 - val_loss: 0.0374 - val_acc: 0.9624\n",
      "Epoch 2/70\n",
      "105/105 [==============================] - 0s 3ms/step - loss: 0.0317 - acc: 0.9680 - val_loss: 0.0373 - val_acc: 0.9624\n",
      "Epoch 3/70\n",
      "105/105 [==============================] - 0s 3ms/step - loss: 0.0316 - acc: 0.9680 - val_loss: 0.0373 - val_acc: 0.9624\n",
      "Epoch 4/70\n",
      "105/105 [==============================] - 0s 3ms/step - loss: 0.0315 - acc: 0.9680 - val_loss: 0.0372 - val_acc: 0.9624\n",
      "Epoch 5/70\n",
      "105/105 [==============================] - 0s 3ms/step - loss: 0.0313 - acc: 0.9680 - val_loss: 0.0371 - val_acc: 0.9624\n",
      "Epoch 6/70\n",
      "105/105 [==============================] - 0s 3ms/step - loss: 0.0310 - acc: 0.9680 - val_loss: 0.0368 - val_acc: 0.9624\n",
      "Epoch 7/70\n",
      "105/105 [==============================] - 0s 3ms/step - loss: 0.0307 - acc: 0.9680 - val_loss: 0.0364 - val_acc: 0.9624\n",
      "Epoch 8/70\n",
      "105/105 [==============================] - 0s 3ms/step - loss: 0.0303 - acc: 0.9677 - val_loss: 0.0355 - val_acc: 0.9630\n",
      "Epoch 9/70\n",
      "105/105 [==============================] - 0s 3ms/step - loss: 0.0293 - acc: 0.9677 - val_loss: 0.0347 - val_acc: 0.9630\n",
      "Epoch 10/70\n",
      "105/105 [==============================] - 0s 3ms/step - loss: 0.0285 - acc: 0.9677 - val_loss: 0.0338 - val_acc: 0.9630\n",
      "Epoch 11/70\n",
      "105/105 [==============================] - 0s 3ms/step - loss: 0.0275 - acc: 0.9692 - val_loss: 0.0332 - val_acc: 0.9624\n",
      "Epoch 12/70\n",
      "105/105 [==============================] - 0s 3ms/step - loss: 0.0275 - acc: 0.9680 - val_loss: 0.0334 - val_acc: 0.9618\n",
      "Epoch 13/70\n",
      "105/105 [==============================] - 0s 3ms/step - loss: 0.0272 - acc: 0.9683 - val_loss: 0.0333 - val_acc: 0.9624\n",
      "Epoch 14/70\n",
      "105/105 [==============================] - 0s 3ms/step - loss: 0.0262 - acc: 0.9692 - val_loss: 0.0328 - val_acc: 0.9618\n",
      "Epoch 15/70\n",
      "105/105 [==============================] - 0s 3ms/step - loss: 0.0257 - acc: 0.9692 - val_loss: 0.0330 - val_acc: 0.9606\n",
      "Epoch 16/70\n",
      "105/105 [==============================] - 0s 3ms/step - loss: 0.0257 - acc: 0.9695 - val_loss: 0.0341 - val_acc: 0.9606\n",
      "Epoch 17/70\n",
      "105/105 [==============================] - 0s 3ms/step - loss: 0.0251 - acc: 0.9695 - val_loss: 0.0335 - val_acc: 0.9612\n",
      "Epoch 18/70\n",
      "105/105 [==============================] - 0s 4ms/step - loss: 0.0255 - acc: 0.9698 - val_loss: 0.0335 - val_acc: 0.9612\n",
      "Epoch 19/70\n",
      "105/105 [==============================] - 0s 4ms/step - loss: 0.0245 - acc: 0.9713 - val_loss: 0.0338 - val_acc: 0.9606\n",
      "Epoch 20/70\n",
      "105/105 [==============================] - 0s 3ms/step - loss: 0.0242 - acc: 0.9731 - val_loss: 0.0337 - val_acc: 0.9624\n",
      "Epoch 21/70\n",
      "105/105 [==============================] - 0s 3ms/step - loss: 0.0240 - acc: 0.9719 - val_loss: 0.0341 - val_acc: 0.9606\n",
      "Epoch 22/70\n",
      "105/105 [==============================] - 0s 3ms/step - loss: 0.0238 - acc: 0.9722 - val_loss: 0.0334 - val_acc: 0.9624\n",
      "Epoch 23/70\n",
      "105/105 [==============================] - 0s 3ms/step - loss: 0.0246 - acc: 0.9704 - val_loss: 0.0333 - val_acc: 0.9600\n",
      "Epoch 24/70\n",
      "105/105 [==============================] - 0s 3ms/step - loss: 0.0239 - acc: 0.9725 - val_loss: 0.0334 - val_acc: 0.9618\n",
      "Epoch 25/70\n",
      "105/105 [==============================] - 0s 3ms/step - loss: 0.0236 - acc: 0.9704 - val_loss: 0.0331 - val_acc: 0.9618\n",
      "Epoch 26/70\n",
      "105/105 [==============================] - 0s 3ms/step - loss: 0.0236 - acc: 0.9713 - val_loss: 0.0329 - val_acc: 0.9594\n",
      "Epoch 27/70\n",
      "105/105 [==============================] - 0s 3ms/step - loss: 0.0236 - acc: 0.9713 - val_loss: 0.0327 - val_acc: 0.9618\n",
      "Epoch 28/70\n",
      "105/105 [==============================] - 0s 3ms/step - loss: 0.0233 - acc: 0.9734 - val_loss: 0.0335 - val_acc: 0.9612\n",
      "Epoch 29/70\n",
      "105/105 [==============================] - 0s 3ms/step - loss: 0.0226 - acc: 0.9719 - val_loss: 0.0327 - val_acc: 0.9612\n",
      "Epoch 30/70\n",
      "105/105 [==============================] - 0s 3ms/step - loss: 0.0223 - acc: 0.9752 - val_loss: 0.0328 - val_acc: 0.9606\n",
      "Epoch 31/70\n",
      "105/105 [==============================] - 0s 3ms/step - loss: 0.0219 - acc: 0.9749 - val_loss: 0.0343 - val_acc: 0.9600\n",
      "Epoch 32/70\n",
      "105/105 [==============================] - 0s 3ms/step - loss: 0.0215 - acc: 0.9749 - val_loss: 0.0335 - val_acc: 0.9588\n",
      "Epoch 33/70\n",
      "105/105 [==============================] - 0s 3ms/step - loss: 0.0216 - acc: 0.9755 - val_loss: 0.0330 - val_acc: 0.9582\n",
      "Epoch 34/70\n",
      "105/105 [==============================] - 0s 3ms/step - loss: 0.0229 - acc: 0.9734 - val_loss: 0.0335 - val_acc: 0.9594\n",
      "Epoch 35/70\n",
      "105/105 [==============================] - 0s 3ms/step - loss: 0.0214 - acc: 0.9755 - val_loss: 0.0336 - val_acc: 0.9612\n",
      "Epoch 36/70\n",
      "105/105 [==============================] - 0s 3ms/step - loss: 0.0215 - acc: 0.9746 - val_loss: 0.0328 - val_acc: 0.9618\n",
      "Epoch 37/70\n",
      "105/105 [==============================] - 0s 3ms/step - loss: 0.0211 - acc: 0.9752 - val_loss: 0.0346 - val_acc: 0.9582\n",
      "Epoch 38/70\n",
      "105/105 [==============================] - 0s 4ms/step - loss: 0.0208 - acc: 0.9764 - val_loss: 0.0326 - val_acc: 0.9618\n",
      "Epoch 39/70\n",
      "105/105 [==============================] - 0s 3ms/step - loss: 0.0211 - acc: 0.9749 - val_loss: 0.0335 - val_acc: 0.9570\n",
      "Epoch 40/70\n",
      "105/105 [==============================] - 0s 3ms/step - loss: 0.0202 - acc: 0.9776 - val_loss: 0.0334 - val_acc: 0.9618\n",
      "Epoch 41/70\n",
      "105/105 [==============================] - 0s 4ms/step - loss: 0.0204 - acc: 0.9755 - val_loss: 0.0326 - val_acc: 0.9606\n",
      "Epoch 42/70\n",
      "105/105 [==============================] - 0s 3ms/step - loss: 0.0204 - acc: 0.9764 - val_loss: 0.0335 - val_acc: 0.9612\n",
      "Epoch 43/70\n",
      "105/105 [==============================] - 0s 4ms/step - loss: 0.0198 - acc: 0.9788 - val_loss: 0.0334 - val_acc: 0.9618\n",
      "Epoch 44/70\n",
      "105/105 [==============================] - 0s 3ms/step - loss: 0.0207 - acc: 0.9767 - val_loss: 0.0334 - val_acc: 0.9582\n",
      "Epoch 45/70\n",
      "105/105 [==============================] - 0s 3ms/step - loss: 0.0190 - acc: 0.9791 - val_loss: 0.0336 - val_acc: 0.9630\n",
      "Epoch 46/70\n",
      "105/105 [==============================] - 0s 3ms/step - loss: 0.0190 - acc: 0.9794 - val_loss: 0.0333 - val_acc: 0.9606\n",
      "Epoch 47/70\n",
      "105/105 [==============================] - 0s 3ms/step - loss: 0.0202 - acc: 0.9776 - val_loss: 0.0349 - val_acc: 0.9594\n",
      "Epoch 48/70\n",
      "105/105 [==============================] - 0s 3ms/step - loss: 0.0192 - acc: 0.9791 - val_loss: 0.0337 - val_acc: 0.9588\n",
      "Epoch 49/70\n",
      "105/105 [==============================] - 0s 3ms/step - loss: 0.0198 - acc: 0.9788 - val_loss: 0.0348 - val_acc: 0.9594\n",
      "Epoch 50/70\n",
      "105/105 [==============================] - 0s 3ms/step - loss: 0.0190 - acc: 0.9779 - val_loss: 0.0374 - val_acc: 0.9473\n",
      "Epoch 51/70\n",
      "105/105 [==============================] - 0s 3ms/step - loss: 0.0185 - acc: 0.9785 - val_loss: 0.0347 - val_acc: 0.9564\n",
      "Epoch 52/70\n",
      "105/105 [==============================] - 0s 3ms/step - loss: 0.0195 - acc: 0.9779 - val_loss: 0.0347 - val_acc: 0.9618\n",
      "Epoch 53/70\n",
      "105/105 [==============================] - 0s 3ms/step - loss: 0.0184 - acc: 0.9791 - val_loss: 0.0339 - val_acc: 0.9582\n",
      "Epoch 54/70\n",
      "105/105 [==============================] - 0s 3ms/step - loss: 0.0177 - acc: 0.9809 - val_loss: 0.0341 - val_acc: 0.9600\n",
      "Epoch 55/70\n",
      "105/105 [==============================] - 0s 3ms/step - loss: 0.0183 - acc: 0.9788 - val_loss: 0.0344 - val_acc: 0.9612\n",
      "Epoch 56/70\n",
      "105/105 [==============================] - 0s 3ms/step - loss: 0.0178 - acc: 0.9797 - val_loss: 0.0346 - val_acc: 0.9606\n",
      "Epoch 57/70\n",
      "105/105 [==============================] - 0s 3ms/step - loss: 0.0180 - acc: 0.9794 - val_loss: 0.0367 - val_acc: 0.9527\n",
      "Epoch 58/70\n",
      "105/105 [==============================] - 0s 3ms/step - loss: 0.0175 - acc: 0.9800 - val_loss: 0.0344 - val_acc: 0.9606\n",
      "Epoch 59/70\n",
      "105/105 [==============================] - 0s 3ms/step - loss: 0.0178 - acc: 0.9794 - val_loss: 0.0362 - val_acc: 0.9564\n",
      "Epoch 60/70\n",
      "105/105 [==============================] - 0s 3ms/step - loss: 0.0182 - acc: 0.9791 - val_loss: 0.0352 - val_acc: 0.9570\n",
      "Epoch 61/70\n",
      "105/105 [==============================] - 0s 3ms/step - loss: 0.0172 - acc: 0.9800 - val_loss: 0.0341 - val_acc: 0.9618\n",
      "Epoch 62/70\n"
     ]
    },
    {
     "name": "stdout",
     "output_type": "stream",
     "text": [
      "105/105 [==============================] - 0s 3ms/step - loss: 0.0177 - acc: 0.9797 - val_loss: 0.0358 - val_acc: 0.9576\n",
      "Epoch 63/70\n",
      "105/105 [==============================] - 0s 3ms/step - loss: 0.0172 - acc: 0.9803 - val_loss: 0.0360 - val_acc: 0.9558\n",
      "Epoch 64/70\n",
      "105/105 [==============================] - 0s 3ms/step - loss: 0.0166 - acc: 0.9821 - val_loss: 0.0348 - val_acc: 0.9582\n",
      "Epoch 65/70\n",
      "105/105 [==============================] - 0s 3ms/step - loss: 0.0169 - acc: 0.9797 - val_loss: 0.0388 - val_acc: 0.9491\n",
      "Epoch 66/70\n",
      "105/105 [==============================] - 0s 3ms/step - loss: 0.0177 - acc: 0.9797 - val_loss: 0.0346 - val_acc: 0.9606\n",
      "Epoch 67/70\n",
      "105/105 [==============================] - 0s 3ms/step - loss: 0.0171 - acc: 0.9797 - val_loss: 0.0357 - val_acc: 0.9588\n",
      "Epoch 68/70\n",
      "105/105 [==============================] - 0s 3ms/step - loss: 0.0172 - acc: 0.9806 - val_loss: 0.0358 - val_acc: 0.9539\n",
      "Epoch 69/70\n",
      "105/105 [==============================] - 0s 3ms/step - loss: 0.0163 - acc: 0.9827 - val_loss: 0.0358 - val_acc: 0.9582\n",
      "Epoch 70/70\n",
      "105/105 [==============================] - 0s 3ms/step - loss: 0.0164 - acc: 0.9824 - val_loss: 0.0381 - val_acc: 0.9533\n",
      "157/157 [==============================] - 0s 2ms/step - loss: 0.0230 - acc: 0.9730\n"
     ]
    }
   ],
   "source": [
    "model2, training2, results2 = rn([2, 16, 8, 1], 'dead', 70)"
   ]
  },
  {
   "cell_type": "code",
   "execution_count": 11,
   "metadata": {},
   "outputs": [
    {
     "name": "stdout",
     "output_type": "stream",
     "text": [
      "======================\n",
      "| CALIDAD DEL MODELO |\n",
      "======================\n",
      " - Precisión               : 97.3%\n",
      " - Pérdida                 : 2.3%\n",
      "\n",
      "===================================\n",
      "| PROCESO DE APRENDIZAJE DEL MODELO |\n",
      "===================================\n"
     ]
    },
    {
     "data": {
      "image/png": "[encoded data removed]",
      "text/plain": [
       "<Figure size 432x288 with 1 Axes>"
      ]
     },
     "metadata": {
      "needs_background": "light"
     },
     "output_type": "display_data"
    },
    {
     "data": {
      "image/png": "[encoded data removed]",
      "text/plain": [
       "<Figure size 432x288 with 1 Axes>"
      ]
     },
     "metadata": {
      "needs_background": "light"
     },
     "output_type": "display_data"
    }
   ],
   "source": [
    "print('======================')\n",
    "print('| CALIDAD DEL MODELO |')\n",
    "print('======================')\n",
    "print(' - Precisión               : '+str(np.round((100*results2[1]),2))+'%')\n",
    "print(' - Pérdida                 : '+str(np.round((100*results2[0]),2))+'%')\n",
    "print('')\n",
    "\n",
    "print('===================================')\n",
    "print('| PROCESO DE APRENDIZAJE DEL MODELO |')\n",
    "print('===================================')\n",
    "plt.ylim([0,0.3])\n",
    "plt.plot(training2.history[\"loss\"])\n",
    "plt.plot(training2.history[\"val_loss\"])\n",
    "plt.title('model loss')\n",
    "plt.ylabel('loss')\n",
    "plt.xlabel('epoch')\n",
    "plt.legend(['train', 'validation'], loc='upper left')\n",
    "plt.show()\n",
    "\n",
    "plt.ylim([0.7,1])\n",
    "plt.plot(training2.history[\"acc\"])\n",
    "plt.plot(training2.history[\"val_acc\"])\n",
    "plt.title('model accuracy')\n",
    "plt.ylabel('accuracy')\n",
    "plt.xlabel('epoch')\n",
    "plt.legend(['train', 'validation'], loc='upper left')\n",
    "plt.show()\n"
   ]
  },
  {
   "cell_type": "markdown",
   "metadata": {},
   "source": [
    "Volvemos a observar overfitting. Probaremos con un modelo más pequeño."
   ]
  },
  {
   "cell_type": "markdown",
   "metadata": {},
   "source": [
    "#### Estructura 8-2-1"
   ]
  },
  {
   "cell_type": "code",
   "execution_count": 12,
   "metadata": {},
   "outputs": [
    {
     "name": "stdout",
     "output_type": "stream",
     "text": [
      "Epoch 1/30\n",
      "105/105 [==============================] - 1s 5ms/step - loss: 0.0319 - acc: 0.9680 - val_loss: 0.0369 - val_acc: 0.9618\n",
      "Epoch 2/30\n",
      "105/105 [==============================] - 0s 3ms/step - loss: 0.0310 - acc: 0.9680 - val_loss: 0.0365 - val_acc: 0.9618\n",
      "Epoch 3/30\n",
      "105/105 [==============================] - 0s 3ms/step - loss: 0.0295 - acc: 0.9680 - val_loss: 0.0342 - val_acc: 0.9612\n",
      "Epoch 4/30\n",
      "105/105 [==============================] - 0s 3ms/step - loss: 0.0283 - acc: 0.9677 - val_loss: 0.0338 - val_acc: 0.9618\n",
      "Epoch 5/30\n",
      "105/105 [==============================] - 0s 3ms/step - loss: 0.0283 - acc: 0.9677 - val_loss: 0.0324 - val_acc: 0.9618\n",
      "Epoch 6/30\n",
      "105/105 [==============================] - 0s 3ms/step - loss: 0.0277 - acc: 0.9677 - val_loss: 0.0324 - val_acc: 0.9618\n",
      "Epoch 7/30\n",
      "105/105 [==============================] - 0s 3ms/step - loss: 0.0266 - acc: 0.9677 - val_loss: 0.0320 - val_acc: 0.9630\n",
      "Epoch 8/30\n",
      "105/105 [==============================] - 0s 3ms/step - loss: 0.0264 - acc: 0.9680 - val_loss: 0.0320 - val_acc: 0.9624\n",
      "Epoch 9/30\n",
      "105/105 [==============================] - 0s 3ms/step - loss: 0.0258 - acc: 0.9683 - val_loss: 0.0319 - val_acc: 0.9624\n",
      "Epoch 10/30\n",
      "105/105 [==============================] - 0s 3ms/step - loss: 0.0254 - acc: 0.9680 - val_loss: 0.0320 - val_acc: 0.9624\n",
      "Epoch 11/30\n",
      "105/105 [==============================] - 0s 3ms/step - loss: 0.0257 - acc: 0.9674 - val_loss: 0.0318 - val_acc: 0.9630\n",
      "Epoch 12/30\n",
      "105/105 [==============================] - 0s 3ms/step - loss: 0.0252 - acc: 0.9689 - val_loss: 0.0322 - val_acc: 0.9624\n",
      "Epoch 13/30\n",
      "105/105 [==============================] - 0s 3ms/step - loss: 0.0247 - acc: 0.9698 - val_loss: 0.0333 - val_acc: 0.9630\n",
      "Epoch 14/30\n",
      "105/105 [==============================] - 0s 3ms/step - loss: 0.0249 - acc: 0.9689 - val_loss: 0.0318 - val_acc: 0.9630\n",
      "Epoch 15/30\n",
      "105/105 [==============================] - 0s 4ms/step - loss: 0.0245 - acc: 0.9686 - val_loss: 0.0318 - val_acc: 0.9630\n",
      "Epoch 16/30\n",
      "105/105 [==============================] - 0s 4ms/step - loss: 0.0240 - acc: 0.9689 - val_loss: 0.0319 - val_acc: 0.9636\n",
      "Epoch 17/30\n",
      "105/105 [==============================] - 0s 4ms/step - loss: 0.0242 - acc: 0.9695 - val_loss: 0.0317 - val_acc: 0.9624\n",
      "Epoch 18/30\n",
      "105/105 [==============================] - 0s 4ms/step - loss: 0.0239 - acc: 0.9701 - val_loss: 0.0317 - val_acc: 0.9624\n",
      "Epoch 19/30\n",
      "105/105 [==============================] - 0s 4ms/step - loss: 0.0236 - acc: 0.9698 - val_loss: 0.0318 - val_acc: 0.9624\n",
      "Epoch 20/30\n",
      "105/105 [==============================] - 0s 3ms/step - loss: 0.0233 - acc: 0.9698 - val_loss: 0.0317 - val_acc: 0.9624\n",
      "Epoch 21/30\n",
      "105/105 [==============================] - 0s 3ms/step - loss: 0.0232 - acc: 0.9701 - val_loss: 0.0319 - val_acc: 0.9624\n",
      "Epoch 22/30\n",
      "105/105 [==============================] - 0s 3ms/step - loss: 0.0231 - acc: 0.9716 - val_loss: 0.0320 - val_acc: 0.9624\n",
      "Epoch 23/30\n",
      "105/105 [==============================] - 0s 3ms/step - loss: 0.0231 - acc: 0.9719 - val_loss: 0.0317 - val_acc: 0.9636\n",
      "Epoch 24/30\n",
      "105/105 [==============================] - 0s 3ms/step - loss: 0.0229 - acc: 0.9713 - val_loss: 0.0320 - val_acc: 0.9624\n",
      "Epoch 25/30\n",
      "105/105 [==============================] - 0s 3ms/step - loss: 0.0226 - acc: 0.9719 - val_loss: 0.0319 - val_acc: 0.9630\n",
      "Epoch 26/30\n",
      "105/105 [==============================] - 0s 3ms/step - loss: 0.0222 - acc: 0.9713 - val_loss: 0.0323 - val_acc: 0.9606\n",
      "Epoch 27/30\n",
      "105/105 [==============================] - 1s 5ms/step - loss: 0.0219 - acc: 0.9728 - val_loss: 0.0319 - val_acc: 0.9630\n",
      "Epoch 28/30\n",
      "105/105 [==============================] - 0s 3ms/step - loss: 0.0220 - acc: 0.9710 - val_loss: 0.0318 - val_acc: 0.9624\n",
      "Epoch 29/30\n",
      "105/105 [==============================] - 0s 3ms/step - loss: 0.0214 - acc: 0.9731 - val_loss: 0.0326 - val_acc: 0.9564\n",
      "Epoch 30/30\n",
      "105/105 [==============================] - 0s 3ms/step - loss: 0.0213 - acc: 0.9752 - val_loss: 0.0327 - val_acc: 0.9612\n",
      "157/157 [==============================] - 0s 2ms/step - loss: 0.0250 - acc: 0.9732\n"
     ]
    }
   ],
   "source": [
    "model2_1, training2_1, results2_1 = rn([2, 8, 2, 1], 'dead', 30)"
   ]
  },
  {
   "cell_type": "code",
   "execution_count": 13,
   "metadata": {},
   "outputs": [
    {
     "name": "stdout",
     "output_type": "stream",
     "text": [
      "======================\n",
      "| CALIDAD DEL MODELO |\n",
      "======================\n",
      " - Precisión               : 97.32%\n",
      " - Pérdida                 : 2.5%\n",
      "\n",
      "===================================\n",
      "| PROCESO DE APRENDIZAJE DEL MODELO |\n",
      "===================================\n"
     ]
    },
    {
     "data": {
      "image/png": "[encoded data removed]",
      "text/plain": [
       "<Figure size 432x288 with 1 Axes>"
      ]
     },
     "metadata": {
      "needs_background": "light"
     },
     "output_type": "display_data"
    },
    {
     "data": {
      "image/png": "[encoded data removed]",
      "text/plain": [
       "<Figure size 432x288 with 1 Axes>"
      ]
     },
     "metadata": {
      "needs_background": "light"
     },
     "output_type": "display_data"
    }
   ],
   "source": [
    "print('======================')\n",
    "print('| CALIDAD DEL MODELO |')\n",
    "print('======================')\n",
    "print(' - Precisión               : '+str(np.round((100*results2_1[1]),2))+'%')\n",
    "print(' - Pérdida                 : '+str(np.round((100*results2_1[0]),2))+'%')\n",
    "print('')\n",
    "\n",
    "print('===================================')\n",
    "print('| PROCESO DE APRENDIZAJE DEL MODELO |')\n",
    "print('===================================')\n",
    "plt.ylim([0,0.3])\n",
    "plt.plot(training2_1.history[\"loss\"])\n",
    "plt.plot(training2_1.history[\"val_loss\"])\n",
    "plt.title('model loss')\n",
    "plt.ylabel('loss')\n",
    "plt.xlabel('epoch')\n",
    "plt.legend(['train', 'validation'], loc='upper left')\n",
    "plt.show()\n",
    "\n",
    "plt.ylim([0.7,1])\n",
    "plt.plot(training2_1.history[\"acc\"])\n",
    "plt.plot(training2_1.history[\"val_acc\"])\n",
    "plt.title('model accuracy')\n",
    "plt.ylabel('accuracy')\n",
    "plt.xlabel('epoch')\n",
    "plt.legend(['train', 'validation'], loc='upper left')\n",
    "plt.show()"
   ]
  },
  {
   "cell_type": "markdown",
   "metadata": {},
   "source": [
    "Aunque continúa habiendo una cierta discrepancia entre los resultados de entrenamiento y los da validación, vemos que las curvas son prácticamente paralelas y este modelo nos da menos pérdida que otros modelos que ofrecen mejores resultados."
   ]
  },
  {
   "cell_type": "markdown",
   "metadata": {},
   "source": [
    "### Red neuronal sobre insomnio"
   ]
  },
  {
   "cell_type": "markdown",
   "metadata": {},
   "source": [
    "#### Estructura 16-8-1"
   ]
  },
  {
   "cell_type": "code",
   "execution_count": 14,
   "metadata": {},
   "outputs": [
    {
     "name": "stdout",
     "output_type": "stream",
     "text": [
      "Epoch 1/70\n",
      "105/105 [==============================] - 1s 8ms/step - loss: 0.2530 - acc: 0.6133 - val_loss: 0.2487 - val_acc: 0.6333\n",
      "Epoch 2/70\n",
      "105/105 [==============================] - 0s 3ms/step - loss: 0.2423 - acc: 0.6321 - val_loss: 0.2428 - val_acc: 0.6339\n",
      "Epoch 3/70\n",
      "105/105 [==============================] - 0s 4ms/step - loss: 0.2394 - acc: 0.6318 - val_loss: 0.2400 - val_acc: 0.6345\n",
      "Epoch 4/70\n",
      "105/105 [==============================] - 0s 3ms/step - loss: 0.2371 - acc: 0.6309 - val_loss: 0.2375 - val_acc: 0.6364\n",
      "Epoch 5/70\n",
      "105/105 [==============================] - 0s 3ms/step - loss: 0.2250 - acc: 0.6441 - val_loss: 0.2197 - val_acc: 0.6503\n",
      "Epoch 6/70\n",
      "105/105 [==============================] - 0s 4ms/step - loss: 0.2054 - acc: 0.6841 - val_loss: 0.1946 - val_acc: 0.7176\n",
      "Epoch 7/70\n",
      "105/105 [==============================] - 0s 4ms/step - loss: 0.1914 - acc: 0.7095 - val_loss: 0.1901 - val_acc: 0.7212\n",
      "Epoch 8/70\n",
      "105/105 [==============================] - 0s 3ms/step - loss: 0.1869 - acc: 0.7217 - val_loss: 0.1850 - val_acc: 0.7164\n",
      "Epoch 9/70\n",
      "105/105 [==============================] - 0s 4ms/step - loss: 0.1825 - acc: 0.7289 - val_loss: 0.1821 - val_acc: 0.7261\n",
      "Epoch 10/70\n",
      "105/105 [==============================] - 0s 3ms/step - loss: 0.1808 - acc: 0.7307 - val_loss: 0.1806 - val_acc: 0.7339\n",
      "Epoch 11/70\n",
      "105/105 [==============================] - 0s 4ms/step - loss: 0.1782 - acc: 0.7360 - val_loss: 0.1787 - val_acc: 0.7345\n",
      "Epoch 12/70\n",
      "105/105 [==============================] - 0s 3ms/step - loss: 0.1767 - acc: 0.7357 - val_loss: 0.1814 - val_acc: 0.7321\n",
      "Epoch 13/70\n",
      "105/105 [==============================] - 0s 4ms/step - loss: 0.1763 - acc: 0.7366 - val_loss: 0.1846 - val_acc: 0.7194\n",
      "Epoch 14/70\n",
      "105/105 [==============================] - 0s 4ms/step - loss: 0.1761 - acc: 0.7414 - val_loss: 0.1791 - val_acc: 0.7364\n",
      "Epoch 15/70\n",
      "105/105 [==============================] - 0s 3ms/step - loss: 0.1750 - acc: 0.7348 - val_loss: 0.1794 - val_acc: 0.7400\n",
      "Epoch 16/70\n",
      "105/105 [==============================] - 0s 4ms/step - loss: 0.1742 - acc: 0.7384 - val_loss: 0.1768 - val_acc: 0.7424\n",
      "Epoch 17/70\n",
      "105/105 [==============================] - 0s 3ms/step - loss: 0.1748 - acc: 0.7366 - val_loss: 0.1777 - val_acc: 0.7370\n",
      "Epoch 18/70\n",
      "105/105 [==============================] - 0s 3ms/step - loss: 0.1747 - acc: 0.7384 - val_loss: 0.1784 - val_acc: 0.7364\n",
      "Epoch 19/70\n",
      "105/105 [==============================] - 0s 3ms/step - loss: 0.1737 - acc: 0.7417 - val_loss: 0.1808 - val_acc: 0.7370\n",
      "Epoch 20/70\n",
      "105/105 [==============================] - 0s 3ms/step - loss: 0.1725 - acc: 0.7441 - val_loss: 0.1780 - val_acc: 0.7442\n",
      "Epoch 21/70\n",
      "105/105 [==============================] - 0s 3ms/step - loss: 0.1709 - acc: 0.7465 - val_loss: 0.1773 - val_acc: 0.7473\n",
      "Epoch 22/70\n",
      "105/105 [==============================] - 0s 3ms/step - loss: 0.1713 - acc: 0.7429 - val_loss: 0.1766 - val_acc: 0.7370\n",
      "Epoch 23/70\n",
      "105/105 [==============================] - 0s 3ms/step - loss: 0.1703 - acc: 0.7489 - val_loss: 0.1766 - val_acc: 0.7376\n",
      "Epoch 24/70\n",
      "105/105 [==============================] - 0s 3ms/step - loss: 0.1714 - acc: 0.7420 - val_loss: 0.1764 - val_acc: 0.7400\n",
      "Epoch 25/70\n",
      "105/105 [==============================] - 0s 3ms/step - loss: 0.1701 - acc: 0.7459 - val_loss: 0.1808 - val_acc: 0.7418\n",
      "Epoch 26/70\n",
      "105/105 [==============================] - 0s 3ms/step - loss: 0.1697 - acc: 0.7510 - val_loss: 0.1763 - val_acc: 0.7376\n",
      "Epoch 27/70\n",
      "105/105 [==============================] - 0s 3ms/step - loss: 0.1698 - acc: 0.7486 - val_loss: 0.1763 - val_acc: 0.7394\n",
      "Epoch 28/70\n",
      "105/105 [==============================] - 0s 3ms/step - loss: 0.1687 - acc: 0.7537 - val_loss: 0.1775 - val_acc: 0.7406\n",
      "Epoch 29/70\n",
      "105/105 [==============================] - 0s 3ms/step - loss: 0.1680 - acc: 0.7525 - val_loss: 0.1797 - val_acc: 0.7309\n",
      "Epoch 30/70\n",
      "105/105 [==============================] - 0s 5ms/step - loss: 0.1677 - acc: 0.7543 - val_loss: 0.1777 - val_acc: 0.7448\n",
      "Epoch 31/70\n",
      "105/105 [==============================] - 0s 3ms/step - loss: 0.1677 - acc: 0.7546 - val_loss: 0.1779 - val_acc: 0.7418\n",
      "Epoch 32/70\n",
      "105/105 [==============================] - 0s 4ms/step - loss: 0.1671 - acc: 0.7519 - val_loss: 0.1769 - val_acc: 0.7406\n",
      "Epoch 33/70\n",
      "105/105 [==============================] - 0s 4ms/step - loss: 0.1682 - acc: 0.7540 - val_loss: 0.1803 - val_acc: 0.7291\n",
      "Epoch 34/70\n",
      "105/105 [==============================] - 0s 4ms/step - loss: 0.1662 - acc: 0.7599 - val_loss: 0.1780 - val_acc: 0.7376\n",
      "Epoch 35/70\n",
      "105/105 [==============================] - 0s 4ms/step - loss: 0.1676 - acc: 0.7563 - val_loss: 0.1779 - val_acc: 0.7412\n",
      "Epoch 36/70\n",
      "105/105 [==============================] - 0s 3ms/step - loss: 0.1660 - acc: 0.7537 - val_loss: 0.1794 - val_acc: 0.7376\n",
      "Epoch 37/70\n",
      "105/105 [==============================] - 0s 4ms/step - loss: 0.1675 - acc: 0.7569 - val_loss: 0.1781 - val_acc: 0.7370\n",
      "Epoch 38/70\n",
      "105/105 [==============================] - 0s 3ms/step - loss: 0.1666 - acc: 0.7557 - val_loss: 0.1821 - val_acc: 0.7255\n",
      "Epoch 39/70\n",
      "105/105 [==============================] - 0s 3ms/step - loss: 0.1660 - acc: 0.7581 - val_loss: 0.1781 - val_acc: 0.7358\n",
      "Epoch 40/70\n",
      "105/105 [==============================] - 0s 3ms/step - loss: 0.1654 - acc: 0.7623 - val_loss: 0.1817 - val_acc: 0.7236\n",
      "Epoch 41/70\n",
      "105/105 [==============================] - 0s 4ms/step - loss: 0.1659 - acc: 0.7563 - val_loss: 0.1790 - val_acc: 0.7327\n",
      "Epoch 42/70\n",
      "105/105 [==============================] - 0s 4ms/step - loss: 0.1663 - acc: 0.7578 - val_loss: 0.1811 - val_acc: 0.7370\n",
      "Epoch 43/70\n",
      "105/105 [==============================] - 0s 4ms/step - loss: 0.1657 - acc: 0.7578 - val_loss: 0.1793 - val_acc: 0.7339\n",
      "Epoch 44/70\n",
      "105/105 [==============================] - 0s 4ms/step - loss: 0.1649 - acc: 0.7611 - val_loss: 0.1792 - val_acc: 0.7376\n",
      "Epoch 45/70\n",
      "105/105 [==============================] - 0s 4ms/step - loss: 0.1643 - acc: 0.7599 - val_loss: 0.1780 - val_acc: 0.7406\n",
      "Epoch 46/70\n",
      "105/105 [==============================] - 0s 3ms/step - loss: 0.1633 - acc: 0.7590 - val_loss: 0.1789 - val_acc: 0.7376\n",
      "Epoch 47/70\n",
      "105/105 [==============================] - 0s 3ms/step - loss: 0.1648 - acc: 0.7590 - val_loss: 0.1804 - val_acc: 0.7352\n",
      "Epoch 48/70\n",
      "105/105 [==============================] - 0s 4ms/step - loss: 0.1638 - acc: 0.7587 - val_loss: 0.1828 - val_acc: 0.7206\n",
      "Epoch 49/70\n",
      "105/105 [==============================] - 0s 4ms/step - loss: 0.1631 - acc: 0.7629 - val_loss: 0.1806 - val_acc: 0.7321\n",
      "Epoch 50/70\n",
      "105/105 [==============================] - 0s 4ms/step - loss: 0.1620 - acc: 0.7620 - val_loss: 0.1808 - val_acc: 0.7382\n",
      "Epoch 51/70\n",
      "105/105 [==============================] - 0s 4ms/step - loss: 0.1624 - acc: 0.7662 - val_loss: 0.1794 - val_acc: 0.7364\n",
      "Epoch 52/70\n",
      "105/105 [==============================] - 0s 5ms/step - loss: 0.1619 - acc: 0.7647 - val_loss: 0.1802 - val_acc: 0.7309\n",
      "Epoch 53/70\n",
      "105/105 [==============================] - 1s 5ms/step - loss: 0.1621 - acc: 0.7653 - val_loss: 0.1815 - val_acc: 0.7364\n",
      "Epoch 54/70\n",
      "105/105 [==============================] - 0s 3ms/step - loss: 0.1630 - acc: 0.7656 - val_loss: 0.1800 - val_acc: 0.7297\n",
      "Epoch 55/70\n",
      "105/105 [==============================] - 0s 3ms/step - loss: 0.1632 - acc: 0.7626 - val_loss: 0.1805 - val_acc: 0.7358\n",
      "Epoch 56/70\n",
      "105/105 [==============================] - 0s 3ms/step - loss: 0.1617 - acc: 0.7671 - val_loss: 0.1803 - val_acc: 0.7400\n",
      "Epoch 57/70\n",
      "105/105 [==============================] - 0s 3ms/step - loss: 0.1616 - acc: 0.7650 - val_loss: 0.1824 - val_acc: 0.7297\n",
      "Epoch 58/70\n",
      "105/105 [==============================] - 0s 3ms/step - loss: 0.1624 - acc: 0.7659 - val_loss: 0.1796 - val_acc: 0.7358\n",
      "Epoch 59/70\n",
      "105/105 [==============================] - 1s 5ms/step - loss: 0.1598 - acc: 0.7701 - val_loss: 0.1811 - val_acc: 0.7382\n",
      "Epoch 60/70\n",
      "105/105 [==============================] - 0s 3ms/step - loss: 0.1605 - acc: 0.7731 - val_loss: 0.1813 - val_acc: 0.7339\n",
      "Epoch 61/70\n",
      "105/105 [==============================] - 0s 4ms/step - loss: 0.1619 - acc: 0.7608 - val_loss: 0.1808 - val_acc: 0.7345\n",
      "Epoch 62/70\n"
     ]
    },
    {
     "name": "stdout",
     "output_type": "stream",
     "text": [
      "105/105 [==============================] - 0s 4ms/step - loss: 0.1599 - acc: 0.7710 - val_loss: 0.1812 - val_acc: 0.7309\n",
      "Epoch 63/70\n",
      "105/105 [==============================] - 0s 3ms/step - loss: 0.1604 - acc: 0.7674 - val_loss: 0.1829 - val_acc: 0.7303\n",
      "Epoch 64/70\n",
      "105/105 [==============================] - 0s 4ms/step - loss: 0.1595 - acc: 0.7728 - val_loss: 0.1811 - val_acc: 0.7297\n",
      "Epoch 65/70\n",
      "105/105 [==============================] - 0s 4ms/step - loss: 0.1599 - acc: 0.7653 - val_loss: 0.1837 - val_acc: 0.7248\n",
      "Epoch 66/70\n",
      "105/105 [==============================] - 0s 3ms/step - loss: 0.1583 - acc: 0.7749 - val_loss: 0.1808 - val_acc: 0.7255\n",
      "Epoch 67/70\n",
      "105/105 [==============================] - 0s 3ms/step - loss: 0.1594 - acc: 0.7677 - val_loss: 0.1848 - val_acc: 0.7236\n",
      "Epoch 68/70\n",
      "105/105 [==============================] - 0s 3ms/step - loss: 0.1580 - acc: 0.7734 - val_loss: 0.1834 - val_acc: 0.7285\n",
      "Epoch 69/70\n",
      "105/105 [==============================] - 1s 5ms/step - loss: 0.1578 - acc: 0.7769 - val_loss: 0.1814 - val_acc: 0.7376\n",
      "Epoch 70/70\n",
      "105/105 [==============================] - 0s 3ms/step - loss: 0.1601 - acc: 0.7734 - val_loss: 0.1826 - val_acc: 0.7285\n",
      "157/157 [==============================] - 0s 2ms/step - loss: 0.1654 - acc: 0.7622\n"
     ]
    }
   ],
   "source": [
    "model3, training3, results3 = rn([2, 16, 8, 1], 'sleep', 70)"
   ]
  },
  {
   "cell_type": "code",
   "execution_count": 15,
   "metadata": {},
   "outputs": [
    {
     "name": "stdout",
     "output_type": "stream",
     "text": [
      "======================\n",
      "| CALIDAD DEL MODELO |\n",
      "======================\n",
      " - Precisión               : 76.22%\n",
      " - Pérdida                 : 16.54%\n",
      "\n",
      "===================================\n",
      "| PROCESO DE APRENDIZAJE DEL MODELO |\n",
      "===================================\n"
     ]
    },
    {
     "data": {
      "image/png": "[encoded data removed]",
      "text/plain": [
       "<Figure size 432x288 with 1 Axes>"
      ]
     },
     "metadata": {
      "needs_background": "light"
     },
     "output_type": "display_data"
    },
    {
     "data": {
      "image/png": "[encoded data removed]",
      "text/plain": [
       "<Figure size 432x288 with 1 Axes>"
      ]
     },
     "metadata": {
      "needs_background": "light"
     },
     "output_type": "display_data"
    }
   ],
   "source": [
    "print('======================')\n",
    "print('| CALIDAD DEL MODELO |')\n",
    "print('======================')\n",
    "print(' - Precisión               : '+str(np.round((100*results3[1]),2))+'%')\n",
    "print(' - Pérdida                 : '+str(np.round((100*results3[0]),2))+'%')\n",
    "print('')\n",
    "\n",
    "print('===================================')\n",
    "print('| PROCESO DE APRENDIZAJE DEL MODELO |')\n",
    "print('===================================')\n",
    "plt.ylim([0.0,0.3])\n",
    "plt.plot(training3.history[\"loss\"])\n",
    "plt.plot(training3.history[\"val_loss\"])\n",
    "plt.title('model loss')\n",
    "plt.ylabel('loss')\n",
    "plt.xlabel('epoch')\n",
    "plt.legend(['train', 'validation'], loc='upper left')\n",
    "plt.show()\n",
    "\n",
    "plt.ylim([0.7,1])\n",
    "plt.plot(training3.history[\"acc\"])\n",
    "plt.plot(training3.history[\"val_acc\"])\n",
    "plt.title('model accuracy')\n",
    "plt.ylabel('accuracy')\n",
    "plt.xlabel('epoch')\n",
    "plt.legend(['train', 'validation'], loc='upper left')\n",
    "plt.show()\n"
   ]
  },
  {
   "cell_type": "markdown",
   "metadata": {},
   "source": [
    "De nuevo overfitting. Probemos con un modelo más pequeño."
   ]
  },
  {
   "cell_type": "markdown",
   "metadata": {},
   "source": [
    "#### Estructura 8-4-1"
   ]
  },
  {
   "cell_type": "code",
   "execution_count": 16,
   "metadata": {},
   "outputs": [
    {
     "name": "stdout",
     "output_type": "stream",
     "text": [
      "Epoch 1/30\n",
      "105/105 [==============================] - 1s 4ms/step - loss: 0.2277 - acc: 0.6312 - val_loss: 0.2246 - val_acc: 0.6479\n",
      "Epoch 2/30\n",
      "105/105 [==============================] - 1s 6ms/step - loss: 0.2178 - acc: 0.6566 - val_loss: 0.2166 - val_acc: 0.6624\n",
      "Epoch 3/30\n",
      "105/105 [==============================] - 0s 3ms/step - loss: 0.2085 - acc: 0.6763 - val_loss: 0.2090 - val_acc: 0.6782\n",
      "Epoch 4/30\n",
      "105/105 [==============================] - 0s 3ms/step - loss: 0.1986 - acc: 0.6984 - val_loss: 0.1975 - val_acc: 0.7133\n",
      "Epoch 5/30\n",
      "105/105 [==============================] - 0s 4ms/step - loss: 0.1925 - acc: 0.7107 - val_loss: 0.1929 - val_acc: 0.7194\n",
      "Epoch 6/30\n",
      "105/105 [==============================] - 0s 4ms/step - loss: 0.1884 - acc: 0.7148 - val_loss: 0.1927 - val_acc: 0.7085\n",
      "Epoch 7/30\n",
      "105/105 [==============================] - 0s 3ms/step - loss: 0.1853 - acc: 0.7271 - val_loss: 0.1891 - val_acc: 0.7206\n",
      "Epoch 8/30\n",
      "105/105 [==============================] - 0s 3ms/step - loss: 0.1836 - acc: 0.7262 - val_loss: 0.1880 - val_acc: 0.7248\n",
      "Epoch 9/30\n",
      "105/105 [==============================] - 0s 3ms/step - loss: 0.1821 - acc: 0.7292 - val_loss: 0.1835 - val_acc: 0.7352\n",
      "Epoch 10/30\n",
      "105/105 [==============================] - 0s 3ms/step - loss: 0.1811 - acc: 0.7322 - val_loss: 0.1827 - val_acc: 0.7339\n",
      "Epoch 11/30\n",
      "105/105 [==============================] - 0s 3ms/step - loss: 0.1793 - acc: 0.7357 - val_loss: 0.1813 - val_acc: 0.7370\n",
      "Epoch 12/30\n",
      "105/105 [==============================] - 0s 4ms/step - loss: 0.1788 - acc: 0.7345 - val_loss: 0.1795 - val_acc: 0.7436\n",
      "Epoch 13/30\n",
      "105/105 [==============================] - 0s 5ms/step - loss: 0.1772 - acc: 0.7363 - val_loss: 0.1798 - val_acc: 0.7345\n",
      "Epoch 14/30\n",
      "105/105 [==============================] - 0s 3ms/step - loss: 0.1765 - acc: 0.7325 - val_loss: 0.1800 - val_acc: 0.7358\n",
      "Epoch 15/30\n",
      "105/105 [==============================] - 0s 3ms/step - loss: 0.1759 - acc: 0.7342 - val_loss: 0.1800 - val_acc: 0.7424\n",
      "Epoch 16/30\n",
      "105/105 [==============================] - 0s 3ms/step - loss: 0.1762 - acc: 0.7375 - val_loss: 0.1794 - val_acc: 0.7424\n",
      "Epoch 17/30\n",
      "105/105 [==============================] - 0s 3ms/step - loss: 0.1749 - acc: 0.7345 - val_loss: 0.1829 - val_acc: 0.7321\n",
      "Epoch 18/30\n",
      "105/105 [==============================] - 0s 3ms/step - loss: 0.1764 - acc: 0.7375 - val_loss: 0.1795 - val_acc: 0.7376\n",
      "Epoch 19/30\n",
      "105/105 [==============================] - 0s 3ms/step - loss: 0.1747 - acc: 0.7366 - val_loss: 0.1787 - val_acc: 0.7400\n",
      "Epoch 20/30\n",
      "105/105 [==============================] - 0s 4ms/step - loss: 0.1751 - acc: 0.7360 - val_loss: 0.1816 - val_acc: 0.7352\n",
      "Epoch 21/30\n",
      "105/105 [==============================] - 0s 3ms/step - loss: 0.1750 - acc: 0.7381 - val_loss: 0.1777 - val_acc: 0.7400\n",
      "Epoch 22/30\n",
      "105/105 [==============================] - 0s 3ms/step - loss: 0.1739 - acc: 0.7369 - val_loss: 0.1781 - val_acc: 0.7388\n",
      "Epoch 23/30\n",
      "105/105 [==============================] - 0s 5ms/step - loss: 0.1742 - acc: 0.7429 - val_loss: 0.1783 - val_acc: 0.7436\n",
      "Epoch 24/30\n",
      "105/105 [==============================] - 0s 4ms/step - loss: 0.1734 - acc: 0.7435 - val_loss: 0.1789 - val_acc: 0.7412\n",
      "Epoch 25/30\n",
      "105/105 [==============================] - 0s 3ms/step - loss: 0.1740 - acc: 0.7435 - val_loss: 0.1830 - val_acc: 0.7315\n",
      "Epoch 26/30\n",
      "105/105 [==============================] - 0s 3ms/step - loss: 0.1728 - acc: 0.7378 - val_loss: 0.1784 - val_acc: 0.7412\n",
      "Epoch 27/30\n",
      "105/105 [==============================] - 0s 3ms/step - loss: 0.1729 - acc: 0.7408 - val_loss: 0.1783 - val_acc: 0.7376\n",
      "Epoch 28/30\n",
      "105/105 [==============================] - 0s 3ms/step - loss: 0.1721 - acc: 0.7435 - val_loss: 0.1785 - val_acc: 0.7400\n",
      "Epoch 29/30\n",
      "105/105 [==============================] - 0s 4ms/step - loss: 0.1721 - acc: 0.7414 - val_loss: 0.1790 - val_acc: 0.7364\n",
      "Epoch 30/30\n",
      "105/105 [==============================] - 0s 4ms/step - loss: 0.1722 - acc: 0.7420 - val_loss: 0.1779 - val_acc: 0.7412\n",
      "157/157 [==============================] - 0s 2ms/step - loss: 0.1725 - acc: 0.7429\n"
     ]
    }
   ],
   "source": [
    "model3_1, training3_1, results3_1 = rn([2, 8, 4, 1], 'sleep', 30)"
   ]
  },
  {
   "cell_type": "code",
   "execution_count": 17,
   "metadata": {},
   "outputs": [
    {
     "name": "stdout",
     "output_type": "stream",
     "text": [
      "======================\n",
      "| CALIDAD DEL MODELO |\n",
      "======================\n",
      " - Precisión               : 74.29%\n",
      " - Pérdida                 : 17.25%\n",
      "\n",
      "===================================\n",
      "| PROCESO DE APRENDIZAJE DEL MODELO |\n",
      "===================================\n"
     ]
    },
    {
     "data": {
      "image/png": "[encoded data removed]",
      "text/plain": [
       "<Figure size 432x288 with 1 Axes>"
      ]
     },
     "metadata": {
      "needs_background": "light"
     },
     "output_type": "display_data"
    },
    {
     "data": {
      "image/png": "[encoded data removed]",
      "text/plain": [
       "<Figure size 432x288 with 1 Axes>"
      ]
     },
     "metadata": {
      "needs_background": "light"
     },
     "output_type": "display_data"
    }
   ],
   "source": [
    "print('======================')\n",
    "print('| CALIDAD DEL MODELO |')\n",
    "print('======================')\n",
    "print(' - Precisión               : '+str(np.round((100*results3_1[1]),2))+'%')\n",
    "print(' - Pérdida                 : '+str(np.round((100*results3_1[0]),2))+'%')\n",
    "print('')\n",
    "\n",
    "print('===================================')\n",
    "print('| PROCESO DE APRENDIZAJE DEL MODELO |')\n",
    "print('===================================')\n",
    "plt.ylim([0.0,0.3])\n",
    "plt.plot(training3_1.history[\"loss\"])\n",
    "plt.plot(training3_1.history[\"val_loss\"])\n",
    "plt.title('model loss')\n",
    "plt.ylabel('loss')\n",
    "plt.xlabel('epoch')\n",
    "plt.legend(['train', 'validation'], loc='upper left')\n",
    "plt.show()\n",
    "\n",
    "plt.ylim([0.7,1])\n",
    "plt.plot(training3_1.history[\"acc\"])\n",
    "plt.plot(training3_1.history[\"val_acc\"])\n",
    "plt.title('model accuracy')\n",
    "plt.ylabel('accuracy')\n",
    "plt.xlabel('epoch')\n",
    "plt.legend(['train', 'validation'], loc='upper left')\n",
    "plt.show()"
   ]
  },
  {
   "cell_type": "markdown",
   "metadata": {},
   "source": [
    "Observamos que el modelo presenta más estabilidad."
   ]
  },
  {
   "cell_type": "markdown",
   "metadata": {},
   "source": [
    "### Red neuronal sobre autoestima"
   ]
  },
  {
   "cell_type": "markdown",
   "metadata": {},
   "source": [
    "#### Estructura 16-8-1"
   ]
  },
  {
   "cell_type": "code",
   "execution_count": 18,
   "metadata": {},
   "outputs": [
    {
     "name": "stdout",
     "output_type": "stream",
     "text": [
      "Epoch 1/70\n",
      "105/105 [==============================] - 1s 5ms/step - loss: 0.2287 - acc: 0.6915 - val_loss: 0.1496 - val_acc: 0.8206\n",
      "Epoch 2/70\n",
      "105/105 [==============================] - 0s 3ms/step - loss: 0.1388 - acc: 0.8289 - val_loss: 0.1363 - val_acc: 0.8206\n",
      "Epoch 3/70\n",
      "105/105 [==============================] - 0s 3ms/step - loss: 0.1262 - acc: 0.8289 - val_loss: 0.1239 - val_acc: 0.8206\n",
      "Epoch 4/70\n",
      "105/105 [==============================] - 0s 3ms/step - loss: 0.1155 - acc: 0.8292 - val_loss: 0.1159 - val_acc: 0.8212\n",
      "Epoch 5/70\n",
      "105/105 [==============================] - 0s 4ms/step - loss: 0.1092 - acc: 0.8297 - val_loss: 0.1084 - val_acc: 0.8206\n",
      "Epoch 6/70\n",
      "105/105 [==============================] - 0s 3ms/step - loss: 0.1045 - acc: 0.8289 - val_loss: 0.1063 - val_acc: 0.8212\n",
      "Epoch 7/70\n",
      "105/105 [==============================] - 0s 3ms/step - loss: 0.1034 - acc: 0.8635 - val_loss: 0.1076 - val_acc: 0.8679\n",
      "Epoch 8/70\n",
      "105/105 [==============================] - 0s 3ms/step - loss: 0.1027 - acc: 0.8656 - val_loss: 0.1042 - val_acc: 0.8661\n",
      "Epoch 9/70\n",
      "105/105 [==============================] - 0s 3ms/step - loss: 0.1007 - acc: 0.8716 - val_loss: 0.1080 - val_acc: 0.8473\n",
      "Epoch 10/70\n",
      "105/105 [==============================] - 0s 4ms/step - loss: 0.1006 - acc: 0.8713 - val_loss: 0.1029 - val_acc: 0.8612\n",
      "Epoch 11/70\n",
      "105/105 [==============================] - 0s 3ms/step - loss: 0.0989 - acc: 0.8722 - val_loss: 0.1006 - val_acc: 0.8685\n",
      "Epoch 12/70\n",
      "105/105 [==============================] - 0s 3ms/step - loss: 0.0978 - acc: 0.8760 - val_loss: 0.1026 - val_acc: 0.8545\n",
      "Epoch 13/70\n",
      "105/105 [==============================] - 0s 3ms/step - loss: 0.0968 - acc: 0.8737 - val_loss: 0.0998 - val_acc: 0.8667\n",
      "Epoch 14/70\n",
      "105/105 [==============================] - 0s 3ms/step - loss: 0.0959 - acc: 0.8751 - val_loss: 0.1008 - val_acc: 0.8715\n",
      "Epoch 15/70\n",
      "105/105 [==============================] - 0s 3ms/step - loss: 0.0958 - acc: 0.8754 - val_loss: 0.0997 - val_acc: 0.8697\n",
      "Epoch 16/70\n",
      "105/105 [==============================] - 0s 3ms/step - loss: 0.0963 - acc: 0.8731 - val_loss: 0.0995 - val_acc: 0.8739\n",
      "Epoch 17/70\n",
      "105/105 [==============================] - 0s 3ms/step - loss: 0.0957 - acc: 0.8740 - val_loss: 0.0987 - val_acc: 0.8709\n",
      "Epoch 18/70\n",
      "105/105 [==============================] - 0s 3ms/step - loss: 0.0937 - acc: 0.8817 - val_loss: 0.1040 - val_acc: 0.8600\n",
      "Epoch 19/70\n",
      "105/105 [==============================] - 0s 3ms/step - loss: 0.0931 - acc: 0.8763 - val_loss: 0.0982 - val_acc: 0.8697\n",
      "Epoch 20/70\n",
      "105/105 [==============================] - 0s 5ms/step - loss: 0.0931 - acc: 0.8769 - val_loss: 0.0988 - val_acc: 0.8679\n",
      "Epoch 21/70\n",
      "105/105 [==============================] - 0s 3ms/step - loss: 0.0929 - acc: 0.8769 - val_loss: 0.0999 - val_acc: 0.8679\n",
      "Epoch 22/70\n",
      "105/105 [==============================] - 0s 3ms/step - loss: 0.0926 - acc: 0.8796 - val_loss: 0.0997 - val_acc: 0.8673\n",
      "Epoch 23/70\n",
      "105/105 [==============================] - 0s 3ms/step - loss: 0.0927 - acc: 0.8772 - val_loss: 0.1008 - val_acc: 0.8691\n",
      "Epoch 24/70\n",
      "105/105 [==============================] - 0s 3ms/step - loss: 0.0917 - acc: 0.8802 - val_loss: 0.0973 - val_acc: 0.8709\n",
      "Epoch 25/70\n",
      "105/105 [==============================] - 0s 3ms/step - loss: 0.0905 - acc: 0.8808 - val_loss: 0.1008 - val_acc: 0.8661\n",
      "Epoch 26/70\n",
      "105/105 [==============================] - 0s 3ms/step - loss: 0.0903 - acc: 0.8823 - val_loss: 0.0996 - val_acc: 0.8679\n",
      "Epoch 27/70\n",
      "105/105 [==============================] - 0s 3ms/step - loss: 0.0909 - acc: 0.8766 - val_loss: 0.0973 - val_acc: 0.8709\n",
      "Epoch 28/70\n",
      "105/105 [==============================] - 0s 4ms/step - loss: 0.0914 - acc: 0.8784 - val_loss: 0.0982 - val_acc: 0.8721\n",
      "Epoch 29/70\n",
      "105/105 [==============================] - 0s 5ms/step - loss: 0.0921 - acc: 0.8808 - val_loss: 0.0980 - val_acc: 0.8691\n",
      "Epoch 30/70\n",
      "105/105 [==============================] - 0s 4ms/step - loss: 0.0897 - acc: 0.8823 - val_loss: 0.1017 - val_acc: 0.8624\n",
      "Epoch 31/70\n",
      "105/105 [==============================] - 0s 4ms/step - loss: 0.0897 - acc: 0.8829 - val_loss: 0.0977 - val_acc: 0.8697\n",
      "Epoch 32/70\n",
      "105/105 [==============================] - 0s 4ms/step - loss: 0.0886 - acc: 0.8862 - val_loss: 0.0971 - val_acc: 0.8727\n",
      "Epoch 33/70\n",
      "105/105 [==============================] - 0s 4ms/step - loss: 0.0881 - acc: 0.8832 - val_loss: 0.0995 - val_acc: 0.8685\n",
      "Epoch 34/70\n",
      "105/105 [==============================] - 0s 5ms/step - loss: 0.0900 - acc: 0.8778 - val_loss: 0.0977 - val_acc: 0.8691\n",
      "Epoch 35/70\n",
      "105/105 [==============================] - 0s 4ms/step - loss: 0.0875 - acc: 0.8850 - val_loss: 0.0982 - val_acc: 0.8721\n",
      "Epoch 36/70\n",
      "105/105 [==============================] - 0s 4ms/step - loss: 0.0881 - acc: 0.8847 - val_loss: 0.0981 - val_acc: 0.8721\n",
      "Epoch 37/70\n",
      "105/105 [==============================] - 0s 4ms/step - loss: 0.0889 - acc: 0.8796 - val_loss: 0.1001 - val_acc: 0.8636\n",
      "Epoch 38/70\n",
      "105/105 [==============================] - 0s 4ms/step - loss: 0.0875 - acc: 0.8865 - val_loss: 0.0992 - val_acc: 0.8679\n",
      "Epoch 39/70\n",
      "105/105 [==============================] - 0s 4ms/step - loss: 0.0880 - acc: 0.8841 - val_loss: 0.0980 - val_acc: 0.8697\n",
      "Epoch 40/70\n",
      "105/105 [==============================] - 1s 5ms/step - loss: 0.0864 - acc: 0.8874 - val_loss: 0.0982 - val_acc: 0.8655\n",
      "Epoch 41/70\n",
      "105/105 [==============================] - 0s 4ms/step - loss: 0.0861 - acc: 0.8889 - val_loss: 0.0982 - val_acc: 0.8661\n",
      "Epoch 42/70\n",
      "105/105 [==============================] - 0s 4ms/step - loss: 0.0857 - acc: 0.8883 - val_loss: 0.0981 - val_acc: 0.8703\n",
      "Epoch 43/70\n",
      "105/105 [==============================] - 0s 3ms/step - loss: 0.0859 - acc: 0.8907 - val_loss: 0.0991 - val_acc: 0.8648\n",
      "Epoch 44/70\n",
      "105/105 [==============================] - 0s 3ms/step - loss: 0.0851 - acc: 0.8907 - val_loss: 0.0977 - val_acc: 0.8703\n",
      "Epoch 45/70\n",
      "105/105 [==============================] - 0s 3ms/step - loss: 0.0868 - acc: 0.8886 - val_loss: 0.0985 - val_acc: 0.8661\n",
      "Epoch 46/70\n",
      "105/105 [==============================] - 0s 3ms/step - loss: 0.0851 - acc: 0.8922 - val_loss: 0.0990 - val_acc: 0.8673\n",
      "Epoch 47/70\n",
      "105/105 [==============================] - 0s 3ms/step - loss: 0.0844 - acc: 0.8922 - val_loss: 0.0989 - val_acc: 0.8673\n",
      "Epoch 48/70\n",
      "105/105 [==============================] - 0s 3ms/step - loss: 0.0850 - acc: 0.8907 - val_loss: 0.0993 - val_acc: 0.8709\n",
      "Epoch 49/70\n",
      "105/105 [==============================] - 0s 4ms/step - loss: 0.0838 - acc: 0.8901 - val_loss: 0.0985 - val_acc: 0.8697\n",
      "Epoch 50/70\n",
      "105/105 [==============================] - 1s 5ms/step - loss: 0.0848 - acc: 0.8901 - val_loss: 0.0987 - val_acc: 0.8673\n",
      "Epoch 51/70\n",
      "105/105 [==============================] - 0s 4ms/step - loss: 0.0834 - acc: 0.8970 - val_loss: 0.1003 - val_acc: 0.8745\n",
      "Epoch 52/70\n",
      "105/105 [==============================] - 0s 4ms/step - loss: 0.0838 - acc: 0.8889 - val_loss: 0.0989 - val_acc: 0.8727\n",
      "Epoch 53/70\n",
      "105/105 [==============================] - 0s 4ms/step - loss: 0.0831 - acc: 0.8904 - val_loss: 0.0986 - val_acc: 0.8727\n",
      "Epoch 54/70\n",
      "105/105 [==============================] - 0s 4ms/step - loss: 0.0826 - acc: 0.8946 - val_loss: 0.0984 - val_acc: 0.8721\n",
      "Epoch 55/70\n",
      "105/105 [==============================] - 0s 3ms/step - loss: 0.0839 - acc: 0.8904 - val_loss: 0.0987 - val_acc: 0.8691\n",
      "Epoch 56/70\n",
      "105/105 [==============================] - 0s 4ms/step - loss: 0.0825 - acc: 0.8940 - val_loss: 0.1007 - val_acc: 0.8606\n",
      "Epoch 57/70\n",
      "105/105 [==============================] - 0s 4ms/step - loss: 0.0817 - acc: 0.8955 - val_loss: 0.0992 - val_acc: 0.8703\n",
      "Epoch 58/70\n",
      "105/105 [==============================] - 0s 3ms/step - loss: 0.0819 - acc: 0.8934 - val_loss: 0.1023 - val_acc: 0.8612\n",
      "Epoch 59/70\n",
      "105/105 [==============================] - 0s 5ms/step - loss: 0.0815 - acc: 0.8952 - val_loss: 0.1005 - val_acc: 0.8600\n",
      "Epoch 60/70\n",
      "105/105 [==============================] - 1s 5ms/step - loss: 0.0810 - acc: 0.8967 - val_loss: 0.1008 - val_acc: 0.8673\n",
      "Epoch 61/70\n",
      "105/105 [==============================] - 0s 4ms/step - loss: 0.0812 - acc: 0.8973 - val_loss: 0.1026 - val_acc: 0.8594\n",
      "Epoch 62/70\n"
     ]
    },
    {
     "name": "stdout",
     "output_type": "stream",
     "text": [
      "105/105 [==============================] - 0s 4ms/step - loss: 0.0818 - acc: 0.8949 - val_loss: 0.1006 - val_acc: 0.8648\n",
      "Epoch 63/70\n",
      "105/105 [==============================] - 0s 3ms/step - loss: 0.0804 - acc: 0.8978 - val_loss: 0.1011 - val_acc: 0.8655\n",
      "Epoch 64/70\n",
      "105/105 [==============================] - 0s 3ms/step - loss: 0.0796 - acc: 0.8970 - val_loss: 0.1016 - val_acc: 0.8618\n",
      "Epoch 65/70\n",
      "105/105 [==============================] - 0s 4ms/step - loss: 0.0798 - acc: 0.8993 - val_loss: 0.1005 - val_acc: 0.8655\n",
      "Epoch 66/70\n",
      "105/105 [==============================] - 0s 4ms/step - loss: 0.0803 - acc: 0.8978 - val_loss: 0.0993 - val_acc: 0.8703\n",
      "Epoch 67/70\n",
      "105/105 [==============================] - 0s 3ms/step - loss: 0.0807 - acc: 0.8961 - val_loss: 0.1026 - val_acc: 0.8624\n",
      "Epoch 68/70\n",
      "105/105 [==============================] - 0s 4ms/step - loss: 0.0783 - acc: 0.8973 - val_loss: 0.1008 - val_acc: 0.8618\n",
      "Epoch 69/70\n",
      "105/105 [==============================] - 1s 5ms/step - loss: 0.0787 - acc: 0.9023 - val_loss: 0.1012 - val_acc: 0.8630\n",
      "Epoch 70/70\n",
      "105/105 [==============================] - 0s 4ms/step - loss: 0.0788 - acc: 0.9014 - val_loss: 0.1020 - val_acc: 0.8630\n",
      "157/157 [==============================] - 0s 2ms/step - loss: 0.0846 - acc: 0.8904\n"
     ]
    }
   ],
   "source": [
    "model4, training4, results4 = rn([2, 16, 8, 1], 'yourself', 70)"
   ]
  },
  {
   "cell_type": "code",
   "execution_count": 19,
   "metadata": {},
   "outputs": [
    {
     "name": "stdout",
     "output_type": "stream",
     "text": [
      "======================\n",
      "| CALIDAD DEL MODELO |\n",
      "======================\n",
      " - Precisión               : 89.04%\n",
      " - Pérdida                 : 8.46%\n",
      "\n",
      "===================================\n",
      "| PROCESO DE APRENDIZAJE DEL MODELO |\n",
      "===================================\n"
     ]
    },
    {
     "data": {
      "image/png": "[encoded data removed]",
      "text/plain": [
       "<Figure size 432x288 with 1 Axes>"
      ]
     },
     "metadata": {
      "needs_background": "light"
     },
     "output_type": "display_data"
    },
    {
     "data": {
      "image/png": "[encoded data removed]",
      "text/plain": [
       "<Figure size 432x288 with 1 Axes>"
      ]
     },
     "metadata": {
      "needs_background": "light"
     },
     "output_type": "display_data"
    }
   ],
   "source": [
    "print('======================')\n",
    "print('| CALIDAD DEL MODELO |')\n",
    "print('======================')\n",
    "print(' - Precisión               : '+str(np.round((100*results4[1]),2))+'%')\n",
    "print(' - Pérdida                 : '+str(np.round((100*results4[0]),2))+'%')\n",
    "print('')\n",
    "\n",
    "print('===================================')\n",
    "print('| PROCESO DE APRENDIZAJE DEL MODELO |')\n",
    "print('===================================')\n",
    "plt.ylim([0,0.3])\n",
    "plt.plot(training4.history[\"loss\"])\n",
    "plt.plot(training4.history[\"val_loss\"])\n",
    "plt.title('model loss')\n",
    "plt.ylabel('loss')\n",
    "plt.xlabel('epoch')\n",
    "plt.legend(['train', 'validation'], loc='upper left')\n",
    "plt.show()\n",
    "\n",
    "plt.ylim([0.7,1])\n",
    "plt.plot(training4.history[\"acc\"])\n",
    "plt.plot(training4.history[\"val_acc\"])\n",
    "plt.title('model accuracy')\n",
    "plt.ylabel('accuracy')\n",
    "plt.xlabel('epoch')\n",
    "plt.legend(['train', 'validation'], loc='upper left')\n",
    "plt.show()\n"
   ]
  },
  {
   "cell_type": "markdown",
   "metadata": {},
   "source": [
    "De nuevo vemos el overfitting representado por la linea de validación alejándose de la de entrenamiento.\n",
    "\n",
    "Redimensionamos en modelo."
   ]
  },
  {
   "cell_type": "markdown",
   "metadata": {},
   "source": [
    "#### Estructura 8-4-1"
   ]
  },
  {
   "cell_type": "code",
   "execution_count": 20,
   "metadata": {},
   "outputs": [
    {
     "name": "stdout",
     "output_type": "stream",
     "text": [
      "Epoch 1/30\n",
      "105/105 [==============================] - 2s 7ms/step - loss: 0.1476 - acc: 0.8283 - val_loss: 0.1495 - val_acc: 0.8206\n",
      "Epoch 2/30\n",
      "105/105 [==============================] - 0s 4ms/step - loss: 0.1419 - acc: 0.8289 - val_loss: 0.1460 - val_acc: 0.8206\n",
      "Epoch 3/30\n",
      "105/105 [==============================] - 0s 5ms/step - loss: 0.1374 - acc: 0.8289 - val_loss: 0.1409 - val_acc: 0.8206\n",
      "Epoch 4/30\n",
      "105/105 [==============================] - 1s 5ms/step - loss: 0.1294 - acc: 0.8289 - val_loss: 0.1292 - val_acc: 0.8206\n",
      "Epoch 5/30\n",
      "105/105 [==============================] - 1s 5ms/step - loss: 0.1189 - acc: 0.8289 - val_loss: 0.1205 - val_acc: 0.8206\n",
      "Epoch 6/30\n",
      "105/105 [==============================] - 0s 4ms/step - loss: 0.1122 - acc: 0.8351 - val_loss: 0.1159 - val_acc: 0.8424\n",
      "Epoch 7/30\n",
      "105/105 [==============================] - 0s 5ms/step - loss: 0.1085 - acc: 0.8605 - val_loss: 0.1124 - val_acc: 0.8430\n",
      "Epoch 8/30\n",
      "105/105 [==============================] - 0s 4ms/step - loss: 0.1057 - acc: 0.8644 - val_loss: 0.1086 - val_acc: 0.8485\n",
      "Epoch 9/30\n",
      "105/105 [==============================] - 0s 4ms/step - loss: 0.1038 - acc: 0.8635 - val_loss: 0.1099 - val_acc: 0.8467\n",
      "Epoch 10/30\n",
      "105/105 [==============================] - 0s 4ms/step - loss: 0.1018 - acc: 0.8668 - val_loss: 0.1060 - val_acc: 0.8570\n",
      "Epoch 11/30\n",
      "105/105 [==============================] - 0s 4ms/step - loss: 0.0996 - acc: 0.8683 - val_loss: 0.1030 - val_acc: 0.8606\n",
      "Epoch 12/30\n",
      "105/105 [==============================] - 0s 4ms/step - loss: 0.0990 - acc: 0.8719 - val_loss: 0.1048 - val_acc: 0.8703\n",
      "Epoch 13/30\n",
      "105/105 [==============================] - 1s 5ms/step - loss: 0.0972 - acc: 0.8784 - val_loss: 0.1101 - val_acc: 0.8479\n",
      "Epoch 14/30\n",
      "105/105 [==============================] - 1s 5ms/step - loss: 0.0971 - acc: 0.8722 - val_loss: 0.1030 - val_acc: 0.8727\n",
      "Epoch 15/30\n",
      "105/105 [==============================] - 0s 4ms/step - loss: 0.0960 - acc: 0.8751 - val_loss: 0.1021 - val_acc: 0.8745\n",
      "Epoch 16/30\n",
      "105/105 [==============================] - 1s 5ms/step - loss: 0.0961 - acc: 0.8719 - val_loss: 0.1008 - val_acc: 0.8661\n",
      "Epoch 17/30\n",
      "105/105 [==============================] - 0s 4ms/step - loss: 0.0939 - acc: 0.8772 - val_loss: 0.1036 - val_acc: 0.8594\n",
      "Epoch 18/30\n",
      "105/105 [==============================] - 0s 5ms/step - loss: 0.0937 - acc: 0.8787 - val_loss: 0.0998 - val_acc: 0.8733\n",
      "Epoch 19/30\n",
      "105/105 [==============================] - 1s 5ms/step - loss: 0.0931 - acc: 0.8778 - val_loss: 0.1012 - val_acc: 0.8636\n",
      "Epoch 20/30\n",
      "105/105 [==============================] - 1s 5ms/step - loss: 0.0931 - acc: 0.8784 - val_loss: 0.0989 - val_acc: 0.8770\n",
      "Epoch 21/30\n",
      "105/105 [==============================] - 0s 4ms/step - loss: 0.0921 - acc: 0.8793 - val_loss: 0.1001 - val_acc: 0.8758\n",
      "Epoch 22/30\n",
      "105/105 [==============================] - 0s 4ms/step - loss: 0.0924 - acc: 0.8784 - val_loss: 0.1010 - val_acc: 0.8642\n",
      "Epoch 23/30\n",
      "105/105 [==============================] - 0s 4ms/step - loss: 0.0917 - acc: 0.8820 - val_loss: 0.1003 - val_acc: 0.8648\n",
      "Epoch 24/30\n",
      "105/105 [==============================] - 0s 4ms/step - loss: 0.0917 - acc: 0.8781 - val_loss: 0.0982 - val_acc: 0.8745\n",
      "Epoch 25/30\n",
      "105/105 [==============================] - 1s 5ms/step - loss: 0.0909 - acc: 0.8796 - val_loss: 0.0991 - val_acc: 0.8745\n",
      "Epoch 26/30\n",
      "105/105 [==============================] - 0s 4ms/step - loss: 0.0906 - acc: 0.8790 - val_loss: 0.0999 - val_acc: 0.8733\n",
      "Epoch 27/30\n",
      "105/105 [==============================] - 0s 4ms/step - loss: 0.0898 - acc: 0.8823 - val_loss: 0.1001 - val_acc: 0.8679\n",
      "Epoch 28/30\n",
      "105/105 [==============================] - 0s 4ms/step - loss: 0.0907 - acc: 0.8787 - val_loss: 0.1009 - val_acc: 0.8661\n",
      "Epoch 29/30\n",
      "105/105 [==============================] - 0s 4ms/step - loss: 0.0896 - acc: 0.8826 - val_loss: 0.0991 - val_acc: 0.8697\n",
      "Epoch 30/30\n",
      "105/105 [==============================] - 1s 5ms/step - loss: 0.0905 - acc: 0.8778 - val_loss: 0.1005 - val_acc: 0.8673\n",
      "157/157 [==============================] - 0s 3ms/step - loss: 0.0937 - acc: 0.8752\n"
     ]
    }
   ],
   "source": [
    "model4_1, training4_1, results4_1 = rn([2, 8, 4, 1], 'yourself', 30)"
   ]
  },
  {
   "cell_type": "code",
   "execution_count": 21,
   "metadata": {},
   "outputs": [
    {
     "name": "stdout",
     "output_type": "stream",
     "text": [
      "======================\n",
      "| CALIDAD DEL MODELO |\n",
      "======================\n",
      " - Precisión               : 87.52%\n",
      " - Pérdida                 : 9.37%\n",
      "\n",
      "===================================\n",
      "| PROCESO DE APRENDIZAJE DEL MODELO |\n",
      "===================================\n"
     ]
    },
    {
     "data": {
      "image/png": "[encoded data removed]",
      "text/plain": [
       "<Figure size 432x288 with 1 Axes>"
      ]
     },
     "metadata": {
      "needs_background": "light"
     },
     "output_type": "display_data"
    },
    {
     "data": {
      "image/png": "[encoded data removed]",
      "text/plain": [
       "<Figure size 432x288 with 1 Axes>"
      ]
     },
     "metadata": {
      "needs_background": "light"
     },
     "output_type": "display_data"
    }
   ],
   "source": [
    "print('======================')\n",
    "print('| CALIDAD DEL MODELO |')\n",
    "print('======================')\n",
    "print(' - Precisión               : '+str(np.round((100*results4_1[1]),2))+'%')\n",
    "print(' - Pérdida                 : '+str(np.round((100*results4_1[0]),2))+'%')\n",
    "print('')\n",
    "\n",
    "print('===================================')\n",
    "print('| PROCESO DE APRENDIZAJE DEL MODELO |')\n",
    "print('===================================')\n",
    "plt.ylim([0,0.3])\n",
    "plt.plot(training4_1.history[\"loss\"])\n",
    "plt.plot(training4_1.history[\"val_loss\"])\n",
    "plt.title('model loss')\n",
    "plt.ylabel('loss')\n",
    "plt.xlabel('epoch')\n",
    "plt.legend(['train', 'validation'], loc='upper left')\n",
    "plt.show()\n",
    "\n",
    "plt.ylim([0.7,1])\n",
    "plt.plot(training4_1.history[\"acc\"])\n",
    "plt.plot(training4_1.history[\"val_acc\"])\n",
    "plt.title('model accuracy')\n",
    "plt.ylabel('accuracy')\n",
    "plt.xlabel('epoch')\n",
    "plt.legend(['train', 'validation'], loc='upper left')\n",
    "plt.show()"
   ]
  },
  {
   "cell_type": "markdown",
   "metadata": {},
   "source": [
    "### Red neuronal sobre visita en salud mental"
   ]
  },
  {
   "cell_type": "markdown",
   "metadata": {},
   "source": [
    "#### Estructura 16-8-1"
   ]
  },
  {
   "cell_type": "code",
   "execution_count": 22,
   "metadata": {},
   "outputs": [
    {
     "name": "stdout",
     "output_type": "stream",
     "text": [
      "Epoch 1/70\n",
      "105/105 [==============================] - 2s 7ms/step - loss: 0.0818 - acc: 0.9151 - val_loss: 0.0756 - val_acc: 0.9176\n",
      "Epoch 2/70\n",
      "105/105 [==============================] - 0s 4ms/step - loss: 0.0764 - acc: 0.9151 - val_loss: 0.0731 - val_acc: 0.9170\n",
      "Epoch 3/70\n",
      "105/105 [==============================] - 0s 4ms/step - loss: 0.0730 - acc: 0.9151 - val_loss: 0.0721 - val_acc: 0.9152\n",
      "Epoch 4/70\n",
      "105/105 [==============================] - 0s 3ms/step - loss: 0.0713 - acc: 0.9157 - val_loss: 0.0719 - val_acc: 0.9164\n",
      "Epoch 5/70\n",
      "105/105 [==============================] - 0s 3ms/step - loss: 0.0704 - acc: 0.9166 - val_loss: 0.0709 - val_acc: 0.9170\n",
      "Epoch 6/70\n",
      "105/105 [==============================] - 0s 3ms/step - loss: 0.0699 - acc: 0.9172 - val_loss: 0.0695 - val_acc: 0.9158\n",
      "Epoch 7/70\n",
      "105/105 [==============================] - 0s 3ms/step - loss: 0.0682 - acc: 0.9172 - val_loss: 0.0690 - val_acc: 0.9158\n",
      "Epoch 8/70\n",
      "105/105 [==============================] - 0s 4ms/step - loss: 0.0677 - acc: 0.9199 - val_loss: 0.0687 - val_acc: 0.9164\n",
      "Epoch 9/70\n",
      "105/105 [==============================] - 0s 3ms/step - loss: 0.0668 - acc: 0.9202 - val_loss: 0.0703 - val_acc: 0.9115\n",
      "Epoch 10/70\n",
      "105/105 [==============================] - 0s 3ms/step - loss: 0.0680 - acc: 0.9199 - val_loss: 0.0694 - val_acc: 0.9164\n",
      "Epoch 11/70\n",
      "105/105 [==============================] - 0s 4ms/step - loss: 0.0660 - acc: 0.9214 - val_loss: 0.0688 - val_acc: 0.9158\n",
      "Epoch 12/70\n",
      "105/105 [==============================] - 0s 4ms/step - loss: 0.0652 - acc: 0.9199 - val_loss: 0.0719 - val_acc: 0.9103\n",
      "Epoch 13/70\n",
      "105/105 [==============================] - 0s 4ms/step - loss: 0.0655 - acc: 0.9226 - val_loss: 0.0688 - val_acc: 0.9139\n",
      "Epoch 14/70\n",
      "105/105 [==============================] - 0s 3ms/step - loss: 0.0646 - acc: 0.9238 - val_loss: 0.0687 - val_acc: 0.9152\n",
      "Epoch 15/70\n",
      "105/105 [==============================] - 0s 4ms/step - loss: 0.0648 - acc: 0.9238 - val_loss: 0.0728 - val_acc: 0.9170\n",
      "Epoch 16/70\n",
      "105/105 [==============================] - 0s 3ms/step - loss: 0.0652 - acc: 0.9226 - val_loss: 0.0696 - val_acc: 0.9115\n",
      "Epoch 17/70\n",
      "105/105 [==============================] - 0s 3ms/step - loss: 0.0648 - acc: 0.9217 - val_loss: 0.0690 - val_acc: 0.9158\n",
      "Epoch 18/70\n",
      "105/105 [==============================] - 0s 3ms/step - loss: 0.0642 - acc: 0.9232 - val_loss: 0.0697 - val_acc: 0.9164\n",
      "Epoch 19/70\n",
      "105/105 [==============================] - 0s 3ms/step - loss: 0.0637 - acc: 0.9262 - val_loss: 0.0703 - val_acc: 0.9103\n",
      "Epoch 20/70\n",
      "105/105 [==============================] - 0s 3ms/step - loss: 0.0641 - acc: 0.9238 - val_loss: 0.0694 - val_acc: 0.9158\n",
      "Epoch 21/70\n",
      "105/105 [==============================] - 0s 3ms/step - loss: 0.0641 - acc: 0.9250 - val_loss: 0.0715 - val_acc: 0.9164\n",
      "Epoch 22/70\n",
      "105/105 [==============================] - 0s 3ms/step - loss: 0.0631 - acc: 0.9259 - val_loss: 0.0702 - val_acc: 0.9103\n",
      "Epoch 23/70\n",
      "105/105 [==============================] - 0s 3ms/step - loss: 0.0625 - acc: 0.9271 - val_loss: 0.0714 - val_acc: 0.9188\n",
      "Epoch 24/70\n",
      "105/105 [==============================] - 0s 3ms/step - loss: 0.0640 - acc: 0.9241 - val_loss: 0.0694 - val_acc: 0.9164\n",
      "Epoch 25/70\n",
      "105/105 [==============================] - 0s 3ms/step - loss: 0.0631 - acc: 0.9283 - val_loss: 0.0703 - val_acc: 0.9176\n",
      "Epoch 26/70\n",
      "105/105 [==============================] - 0s 3ms/step - loss: 0.0631 - acc: 0.9265 - val_loss: 0.0698 - val_acc: 0.9133\n",
      "Epoch 27/70\n",
      "105/105 [==============================] - 0s 4ms/step - loss: 0.0628 - acc: 0.9265 - val_loss: 0.0707 - val_acc: 0.9109\n",
      "Epoch 28/70\n",
      "105/105 [==============================] - 0s 3ms/step - loss: 0.0622 - acc: 0.9259 - val_loss: 0.0702 - val_acc: 0.9115\n",
      "Epoch 29/70\n",
      "105/105 [==============================] - 0s 3ms/step - loss: 0.0633 - acc: 0.9253 - val_loss: 0.0751 - val_acc: 0.9176\n",
      "Epoch 30/70\n",
      "105/105 [==============================] - 0s 3ms/step - loss: 0.0638 - acc: 0.9265 - val_loss: 0.0715 - val_acc: 0.9170\n",
      "Epoch 31/70\n",
      "105/105 [==============================] - 0s 3ms/step - loss: 0.0616 - acc: 0.9259 - val_loss: 0.0701 - val_acc: 0.9127\n",
      "Epoch 32/70\n",
      "105/105 [==============================] - 0s 3ms/step - loss: 0.0616 - acc: 0.9271 - val_loss: 0.0714 - val_acc: 0.9103\n",
      "Epoch 33/70\n",
      "105/105 [==============================] - 0s 3ms/step - loss: 0.0616 - acc: 0.9280 - val_loss: 0.0700 - val_acc: 0.9145\n",
      "Epoch 34/70\n",
      "105/105 [==============================] - 0s 3ms/step - loss: 0.0613 - acc: 0.9286 - val_loss: 0.0730 - val_acc: 0.9109\n",
      "Epoch 35/70\n",
      "105/105 [==============================] - 0s 3ms/step - loss: 0.0612 - acc: 0.9283 - val_loss: 0.0700 - val_acc: 0.9145\n",
      "Epoch 36/70\n",
      "105/105 [==============================] - 0s 3ms/step - loss: 0.0613 - acc: 0.9271 - val_loss: 0.0705 - val_acc: 0.9145\n",
      "Epoch 37/70\n",
      "105/105 [==============================] - 0s 3ms/step - loss: 0.0607 - acc: 0.9298 - val_loss: 0.0712 - val_acc: 0.9109\n",
      "Epoch 38/70\n",
      "105/105 [==============================] - 0s 3ms/step - loss: 0.0604 - acc: 0.9313 - val_loss: 0.0706 - val_acc: 0.9109\n",
      "Epoch 39/70\n",
      "105/105 [==============================] - 0s 3ms/step - loss: 0.0605 - acc: 0.9292 - val_loss: 0.0704 - val_acc: 0.9139\n",
      "Epoch 40/70\n",
      "105/105 [==============================] - 0s 3ms/step - loss: 0.0604 - acc: 0.9316 - val_loss: 0.0720 - val_acc: 0.9109\n",
      "Epoch 41/70\n",
      "105/105 [==============================] - 0s 3ms/step - loss: 0.0602 - acc: 0.9295 - val_loss: 0.0722 - val_acc: 0.9091\n",
      "Epoch 42/70\n",
      "105/105 [==============================] - 0s 3ms/step - loss: 0.0601 - acc: 0.9280 - val_loss: 0.0719 - val_acc: 0.9103\n",
      "Epoch 43/70\n",
      "105/105 [==============================] - 0s 4ms/step - loss: 0.0595 - acc: 0.9295 - val_loss: 0.0735 - val_acc: 0.9115\n",
      "Epoch 44/70\n",
      "105/105 [==============================] - 0s 4ms/step - loss: 0.0596 - acc: 0.9304 - val_loss: 0.0720 - val_acc: 0.9121\n",
      "Epoch 45/70\n",
      "105/105 [==============================] - 0s 4ms/step - loss: 0.0592 - acc: 0.9313 - val_loss: 0.0712 - val_acc: 0.9133\n",
      "Epoch 46/70\n",
      "105/105 [==============================] - 0s 3ms/step - loss: 0.0592 - acc: 0.9307 - val_loss: 0.0724 - val_acc: 0.9109\n",
      "Epoch 47/70\n",
      "105/105 [==============================] - 0s 4ms/step - loss: 0.0593 - acc: 0.9298 - val_loss: 0.0730 - val_acc: 0.9103\n",
      "Epoch 48/70\n",
      "105/105 [==============================] - 0s 4ms/step - loss: 0.0592 - acc: 0.9319 - val_loss: 0.0760 - val_acc: 0.9091\n",
      "Epoch 49/70\n",
      "105/105 [==============================] - 0s 3ms/step - loss: 0.0591 - acc: 0.9325 - val_loss: 0.0720 - val_acc: 0.9127\n",
      "Epoch 50/70\n",
      "105/105 [==============================] - 0s 3ms/step - loss: 0.0584 - acc: 0.9343 - val_loss: 0.0730 - val_acc: 0.9109\n",
      "Epoch 51/70\n",
      "105/105 [==============================] - 0s 3ms/step - loss: 0.0584 - acc: 0.9325 - val_loss: 0.0725 - val_acc: 0.9115\n",
      "Epoch 52/70\n",
      "105/105 [==============================] - 0s 4ms/step - loss: 0.0583 - acc: 0.9322 - val_loss: 0.0728 - val_acc: 0.9115\n",
      "Epoch 53/70\n",
      "105/105 [==============================] - 0s 3ms/step - loss: 0.0580 - acc: 0.9346 - val_loss: 0.0745 - val_acc: 0.9097\n",
      "Epoch 54/70\n",
      "105/105 [==============================] - 0s 3ms/step - loss: 0.0579 - acc: 0.9316 - val_loss: 0.0729 - val_acc: 0.9109\n",
      "Epoch 55/70\n",
      "105/105 [==============================] - 0s 3ms/step - loss: 0.0583 - acc: 0.9319 - val_loss: 0.0722 - val_acc: 0.9127\n",
      "Epoch 56/70\n",
      "105/105 [==============================] - 0s 3ms/step - loss: 0.0571 - acc: 0.9358 - val_loss: 0.0736 - val_acc: 0.9085\n",
      "Epoch 57/70\n",
      "105/105 [==============================] - 0s 3ms/step - loss: 0.0575 - acc: 0.9346 - val_loss: 0.0729 - val_acc: 0.9115\n",
      "Epoch 58/70\n",
      "105/105 [==============================] - 0s 3ms/step - loss: 0.0573 - acc: 0.9346 - val_loss: 0.0737 - val_acc: 0.9115\n",
      "Epoch 59/70\n",
      "105/105 [==============================] - 0s 4ms/step - loss: 0.0570 - acc: 0.9355 - val_loss: 0.0731 - val_acc: 0.9115\n",
      "Epoch 60/70\n",
      "105/105 [==============================] - 0s 4ms/step - loss: 0.0567 - acc: 0.9358 - val_loss: 0.0732 - val_acc: 0.9103\n",
      "Epoch 61/70\n",
      "105/105 [==============================] - 1s 7ms/step - loss: 0.0569 - acc: 0.9343 - val_loss: 0.0745 - val_acc: 0.9067\n",
      "Epoch 62/70\n"
     ]
    },
    {
     "name": "stdout",
     "output_type": "stream",
     "text": [
      "105/105 [==============================] - 1s 5ms/step - loss: 0.0571 - acc: 0.9343 - val_loss: 0.0736 - val_acc: 0.9103\n",
      "Epoch 63/70\n",
      "105/105 [==============================] - 0s 5ms/step - loss: 0.0564 - acc: 0.9346 - val_loss: 0.0733 - val_acc: 0.9115\n",
      "Epoch 64/70\n",
      "105/105 [==============================] - 1s 5ms/step - loss: 0.0559 - acc: 0.9355 - val_loss: 0.0738 - val_acc: 0.9109\n",
      "Epoch 65/70\n",
      "105/105 [==============================] - 1s 5ms/step - loss: 0.0559 - acc: 0.9376 - val_loss: 0.0748 - val_acc: 0.9109\n",
      "Epoch 66/70\n",
      "105/105 [==============================] - 1s 5ms/step - loss: 0.0553 - acc: 0.9388 - val_loss: 0.0738 - val_acc: 0.9121\n",
      "Epoch 67/70\n",
      "105/105 [==============================] - 0s 5ms/step - loss: 0.0559 - acc: 0.9364 - val_loss: 0.0742 - val_acc: 0.9115\n",
      "Epoch 68/70\n",
      "105/105 [==============================] - 0s 3ms/step - loss: 0.0557 - acc: 0.9367 - val_loss: 0.0749 - val_acc: 0.9109\n",
      "Epoch 69/70\n",
      "105/105 [==============================] - 0s 5ms/step - loss: 0.0549 - acc: 0.9370 - val_loss: 0.0760 - val_acc: 0.9085\n",
      "Epoch 70/70\n",
      "105/105 [==============================] - 0s 4ms/step - loss: 0.0549 - acc: 0.9388 - val_loss: 0.0738 - val_acc: 0.9115\n",
      "157/157 [==============================] - 0s 2ms/step - loss: 0.0608 - acc: 0.9288\n"
     ]
    }
   ],
   "source": [
    "model5, training5, results5 = rn([2, 16, 8, 1], 'profMental', 70)"
   ]
  },
  {
   "cell_type": "code",
   "execution_count": 23,
   "metadata": {},
   "outputs": [
    {
     "name": "stdout",
     "output_type": "stream",
     "text": [
      "======================\n",
      "| CALIDAD DEL MODELO |\n",
      "======================\n",
      " - Precisión               : 92.88%\n",
      " - Pérdida                 : 6.08%\n",
      "\n",
      "===================================\n",
      "| PROCESO DE APRENDIZAJE DEL MODELO |\n",
      "===================================\n"
     ]
    },
    {
     "data": {
      "image/png": "[encoded data removed]",
      "text/plain": [
       "<Figure size 432x288 with 1 Axes>"
      ]
     },
     "metadata": {
      "needs_background": "light"
     },
     "output_type": "display_data"
    },
    {
     "data": {
      "image/png": "[encoded data removed]",
      "text/plain": [
       "<Figure size 432x288 with 1 Axes>"
      ]
     },
     "metadata": {
      "needs_background": "light"
     },
     "output_type": "display_data"
    }
   ],
   "source": [
    "print('======================')\n",
    "print('| CALIDAD DEL MODELO |')\n",
    "print('======================')\n",
    "print(' - Precisión               : '+str(np.round((100*results5[1]),2))+'%')\n",
    "print(' - Pérdida                 : '+str(np.round((100*results5[0]),2))+'%')\n",
    "print('')\n",
    "\n",
    "print('===================================')\n",
    "print('| PROCESO DE APRENDIZAJE DEL MODELO |')\n",
    "print('===================================')\n",
    "plt.ylim([0,0.3])\n",
    "plt.plot(training5.history[\"loss\"])\n",
    "plt.plot(training5.history[\"val_loss\"])\n",
    "plt.title('model loss')\n",
    "plt.ylabel('loss')\n",
    "plt.xlabel('epoch')\n",
    "plt.legend(['train', 'validation'], loc='upper left')\n",
    "plt.show()\n",
    "\n",
    "plt.ylim([0.7,1])\n",
    "plt.plot(training5.history[\"acc\"])\n",
    "plt.plot(training5.history[\"val_acc\"])\n",
    "plt.title('model accuracy')\n",
    "plt.ylabel('accuracy')\n",
    "plt.xlabel('epoch')\n",
    "plt.legend(['train', 'validation'], loc='upper left')\n",
    "plt.show()\n"
   ]
  },
  {
   "cell_type": "markdown",
   "metadata": {},
   "source": [
    "Redimensionamos."
   ]
  },
  {
   "cell_type": "markdown",
   "metadata": {},
   "source": [
    "#### Estructura 8-4-1"
   ]
  },
  {
   "cell_type": "code",
   "execution_count": 24,
   "metadata": {},
   "outputs": [
    {
     "name": "stdout",
     "output_type": "stream",
     "text": [
      "Epoch 1/30\n",
      "105/105 [==============================] - 1s 6ms/step - loss: 0.1602 - acc: 0.8183 - val_loss: 0.0821 - val_acc: 0.9176\n",
      "Epoch 2/30\n",
      "105/105 [==============================] - 0s 3ms/step - loss: 0.0843 - acc: 0.9151 - val_loss: 0.0819 - val_acc: 0.9176\n",
      "Epoch 3/30\n",
      "105/105 [==============================] - 0s 4ms/step - loss: 0.0841 - acc: 0.9154 - val_loss: 0.0816 - val_acc: 0.9176\n",
      "Epoch 4/30\n",
      "105/105 [==============================] - 1s 6ms/step - loss: 0.0837 - acc: 0.9157 - val_loss: 0.0814 - val_acc: 0.9176\n",
      "Epoch 5/30\n",
      "105/105 [==============================] - 1s 6ms/step - loss: 0.0832 - acc: 0.9154 - val_loss: 0.0810 - val_acc: 0.9176\n",
      "Epoch 6/30\n",
      "105/105 [==============================] - 1s 5ms/step - loss: 0.0826 - acc: 0.9157 - val_loss: 0.0807 - val_acc: 0.9176\n",
      "Epoch 7/30\n",
      "105/105 [==============================] - 0s 4ms/step - loss: 0.0818 - acc: 0.9157 - val_loss: 0.0812 - val_acc: 0.9133\n",
      "Epoch 8/30\n",
      "105/105 [==============================] - 0s 3ms/step - loss: 0.0815 - acc: 0.9146 - val_loss: 0.0795 - val_acc: 0.9158\n",
      "Epoch 9/30\n",
      "105/105 [==============================] - 0s 3ms/step - loss: 0.0792 - acc: 0.9137 - val_loss: 0.0788 - val_acc: 0.9145\n",
      "Epoch 10/30\n",
      "105/105 [==============================] - 0s 3ms/step - loss: 0.0774 - acc: 0.9166 - val_loss: 0.0772 - val_acc: 0.9127\n",
      "Epoch 11/30\n",
      "105/105 [==============================] - 0s 3ms/step - loss: 0.0752 - acc: 0.9160 - val_loss: 0.0753 - val_acc: 0.9127\n",
      "Epoch 12/30\n",
      "105/105 [==============================] - 0s 5ms/step - loss: 0.0740 - acc: 0.9143 - val_loss: 0.0753 - val_acc: 0.9152\n",
      "Epoch 13/30\n",
      "105/105 [==============================] - 1s 8ms/step - loss: 0.0720 - acc: 0.9172 - val_loss: 0.0726 - val_acc: 0.9121\n",
      "Epoch 14/30\n",
      "105/105 [==============================] - 0s 4ms/step - loss: 0.0713 - acc: 0.9178 - val_loss: 0.0751 - val_acc: 0.9152\n",
      "Epoch 15/30\n",
      "105/105 [==============================] - 0s 3ms/step - loss: 0.0698 - acc: 0.9202 - val_loss: 0.0805 - val_acc: 0.8994\n",
      "Epoch 16/30\n",
      "105/105 [==============================] - 0s 3ms/step - loss: 0.0714 - acc: 0.9163 - val_loss: 0.0736 - val_acc: 0.9091\n",
      "Epoch 17/30\n",
      "105/105 [==============================] - 0s 4ms/step - loss: 0.0692 - acc: 0.9202 - val_loss: 0.0720 - val_acc: 0.9115\n",
      "Epoch 18/30\n",
      "105/105 [==============================] - 0s 3ms/step - loss: 0.0684 - acc: 0.9202 - val_loss: 0.0719 - val_acc: 0.9115\n",
      "Epoch 19/30\n",
      "105/105 [==============================] - 0s 4ms/step - loss: 0.0684 - acc: 0.9202 - val_loss: 0.0742 - val_acc: 0.9152\n",
      "Epoch 20/30\n",
      "105/105 [==============================] - 0s 3ms/step - loss: 0.0677 - acc: 0.9220 - val_loss: 0.0719 - val_acc: 0.9127\n",
      "Epoch 21/30\n",
      "105/105 [==============================] - 0s 3ms/step - loss: 0.0679 - acc: 0.9193 - val_loss: 0.0725 - val_acc: 0.9139\n",
      "Epoch 22/30\n",
      "105/105 [==============================] - 0s 4ms/step - loss: 0.0673 - acc: 0.9220 - val_loss: 0.0738 - val_acc: 0.9079\n",
      "Epoch 23/30\n",
      "105/105 [==============================] - 0s 4ms/step - loss: 0.0670 - acc: 0.9211 - val_loss: 0.0718 - val_acc: 0.9139\n",
      "Epoch 24/30\n",
      "105/105 [==============================] - 0s 3ms/step - loss: 0.0659 - acc: 0.9241 - val_loss: 0.0748 - val_acc: 0.9097\n",
      "Epoch 25/30\n",
      "105/105 [==============================] - 0s 4ms/step - loss: 0.0666 - acc: 0.9217 - val_loss: 0.0717 - val_acc: 0.9127\n",
      "Epoch 26/30\n",
      "105/105 [==============================] - 0s 3ms/step - loss: 0.0660 - acc: 0.9232 - val_loss: 0.0716 - val_acc: 0.9109\n",
      "Epoch 27/30\n",
      "105/105 [==============================] - 0s 4ms/step - loss: 0.0654 - acc: 0.9247 - val_loss: 0.0716 - val_acc: 0.9145\n",
      "Epoch 28/30\n",
      "105/105 [==============================] - 0s 4ms/step - loss: 0.0658 - acc: 0.9229 - val_loss: 0.0716 - val_acc: 0.9139\n",
      "Epoch 29/30\n",
      "105/105 [==============================] - ETA: 0s - loss: 0.0647 - acc: 0.925 - 0s 4ms/step - loss: 0.0654 - acc: 0.9247 - val_loss: 0.0716 - val_acc: 0.9091\n",
      "Epoch 30/30\n",
      "105/105 [==============================] - 0s 4ms/step - loss: 0.0659 - acc: 0.9259 - val_loss: 0.0716 - val_acc: 0.9115\n",
      "157/157 [==============================] - 0s 2ms/step - loss: 0.0666 - acc: 0.9218\n"
     ]
    }
   ],
   "source": [
    "model5_1, training5_1, results5_1 = rn([2, 8, 4, 1], 'profMental', 30)"
   ]
  },
  {
   "cell_type": "code",
   "execution_count": 25,
   "metadata": {},
   "outputs": [
    {
     "name": "stdout",
     "output_type": "stream",
     "text": [
      "======================\n",
      "| CALIDAD DEL MODELO |\n",
      "======================\n",
      " - Precisión               : 92.18%\n",
      " - Pérdida                 : 6.66%\n",
      "\n",
      "===================================\n",
      "| PROCESO DE APRENDIZAJE DEL MODELO |\n",
      "===================================\n"
     ]
    },
    {
     "data": {
      "image/png": "[encoded data removed]",
      "text/plain": [
       "<Figure size 432x288 with 1 Axes>"
      ]
     },
     "metadata": {
      "needs_background": "light"
     },
     "output_type": "display_data"
    },
    {
     "data": {
      "image/png": "[encoded data removed]",
      "text/plain": [
       "<Figure size 432x288 with 1 Axes>"
      ]
     },
     "metadata": {
      "needs_background": "light"
     },
     "output_type": "display_data"
    }
   ],
   "source": [
    "print('======================')\n",
    "print('| CALIDAD DEL MODELO |')\n",
    "print('======================')\n",
    "print(' - Precisión               : '+str(np.round((100*results5_1[1]),2))+'%')\n",
    "print(' - Pérdida                 : '+str(np.round((100*results5_1[0]),2))+'%')\n",
    "print('')\n",
    "\n",
    "print('===================================')\n",
    "print('| PROCESO DE APRENDIZAJE DEL MODELO |')\n",
    "print('===================================')\n",
    "plt.ylim([0,0.3])\n",
    "plt.plot(training5_1.history[\"loss\"])\n",
    "plt.plot(training5_1.history[\"val_loss\"])\n",
    "plt.title('model loss')\n",
    "plt.ylabel('loss')\n",
    "plt.xlabel('epoch')\n",
    "plt.legend(['train', 'validation'], loc='upper left')\n",
    "plt.show()\n",
    "\n",
    "plt.ylim([0.7,1])\n",
    "plt.plot(training5_1.history[\"acc\"])\n",
    "plt.plot(training5_1.history[\"val_acc\"])\n",
    "plt.title('model accuracy')\n",
    "plt.ylabel('accuracy')\n",
    "plt.xlabel('epoch')\n",
    "plt.legend(['train', 'validation'], loc='upper left')\n",
    "plt.show()"
   ]
  },
  {
   "cell_type": "markdown",
   "metadata": {},
   "source": [
    "## Pruebas de predicción del modelo de Deep Learning"
   ]
  },
  {
   "cell_type": "markdown",
   "metadata": {},
   "source": [
    "### Depresión"
   ]
  },
  {
   "cell_type": "code",
   "execution_count": 26,
   "metadata": {},
   "outputs": [
    {
     "name": "stdout",
     "output_type": "stream",
     "text": [
      "==============================\n",
      "| RESULTADO DE LA PREDICCIÓN |\n",
      "==============================\n",
      " - Datos sin clasificar        : [ 0.  49.   6.   0.   2.   1.   4.   2.   0.   0.   3.4  0.   1.   0.\n",
      "  2.   0.   0.   0.   0.   0.   0.   0.   0.   0.   0.   1.   0.   0.\n",
      "  0.   0.   0.   1.   1.   3.   0.   0.   0.   0.   0.   0.   0.   0.\n",
      "  0.   0.   0.   0.   0.   0.   0.   0.   0.   0.   0.   0.   0.   0.\n",
      "  1.   0.   1.   0.   0.   0.   3.   9.   9.   9.   9.   5. ]\n",
      " - Clasificación        : [0.]\n",
      "\n",
      " - Datos sin clasificar        : [ 1.   63.    6.    0.    2.    1.    4.    1.    0.    2.    2.73  1.\n",
      "  0.    0.    2.    0.    0.    1.    1.    0.    1.    1.    0.    0.\n",
      "  0.    0.    0.    0.    0.    0.    0.    0.    4.    2.    0.    0.\n",
      "  0.    0.    0.    0.    0.    0.    0.    0.    0.    0.    0.    0.\n",
      "  0.    0.    0.    0.    0.    0.    1.    1.    1.    0.    0.    0.\n",
      "  0.    0.    2.    9.    9.    9.    9.    1.  ]\n",
      " - Clasificación        : [0.]\n",
      "\n",
      " - Datos sin clasificar        : [ 1.   80.    1.    0.    2.    2.    4.    0.    1.    1.    2.76  0.\n",
      "  0.    0.    3.    0.    0.    1.    1.    1.    1.    0.    0.    1.\n",
      "  0.    9.    0.    0.    1.    0.    0.    1.    2.    3.    0.    0.\n",
      "  0.    0.    1.    0.    1.    0.    0.    0.    0.    0.    0.    0.\n",
      "  0.    0.    0.    0.    0.    0.    0.    0.    0.    4.    0.    0.\n",
      "  0.    0.    2.    9.    9.    9.    9.    2.  ]\n",
      " - Clasificación        : [1.]\n",
      "\n",
      " - Datos sin clasificar        : [ 0.   80.    2.    0.    2.    1.    3.    0.    1.    2.    1.54  0.\n",
      "  0.    0.    3.    1.    0.    1.    0.    0.    1.    9.    1.    0.\n",
      "  0.    0.    9.    0.    0.    0.    0.    1.    4.    1.    0.    0.\n",
      "  0.    0.    0.    0.    0.    0.    0.    0.    0.    0.    0.    0.\n",
      "  0.    0.    0.    0.    0.    0.    0.    1.    0.    0.    0.    1.\n",
      "  0.    1.    3.    9.    9.    9.    9.    2.  ]\n",
      " - Clasificación        : [1.]\n",
      "\n"
     ]
    }
   ],
   "source": [
    "# probamos con aquellos valores que no se habían clasificado\n",
    "prob=df[df.depressed>1]\n",
    "prob=prob.drop(['depressed'], axis=1).values\n",
    "\n",
    "# entrenamos el modelo con mejores resultados\n",
    "new=model1_2.predict(prob)\n",
    "print('==============================')\n",
    "print('| RESULTADO DE LA PREDICCIÓN |')\n",
    "print('==============================')\n",
    "for i in range(prob.shape[0]):\n",
    "    print(' - Datos sin clasificar        : '+str(prob[i,:]))\n",
    "    print(' - Clasificación        : '+str(np.round((new[i]),0)))\n",
    "    print('')"
   ]
  },
  {
   "cell_type": "markdown",
   "metadata": {},
   "source": [
    "### Pensamientos de muerte"
   ]
  },
  {
   "cell_type": "code",
   "execution_count": 27,
   "metadata": {},
   "outputs": [
    {
     "name": "stdout",
     "output_type": "stream",
     "text": [
      "==============================\n",
      "| RESULTADO DE LA PREDICCIÓN |\n",
      "==============================\n",
      " - Datos sin clasificar        : [ 1.   61.    3.    0.    1.    2.    4.    1.    1.    1.    1.23  1.\n",
      "  1.    1.    3.    1.    0.    1.    1.    1.    1.    1.    1.    1.\n",
      "  1.    1.    0.    0.    0.    0.    0.    1.    5.    2.    0.    0.\n",
      "  0.    0.    0.    0.    0.    0.    1.    0.    1.    0.    0.    1.\n",
      "  1.    0.    0.    1.    0.    1.    0.    0.    0.    5.    5.    0.\n",
      "  0.    1.    3.    9.    9.    9.    9.    2.  ]\n",
      " - Clasificación        : [0.]\n",
      "\n",
      " - Datos sin clasificar        : [ 0.   54.    1.    0.    1.    3.    3.    0.    0.    2.    0.77  1.\n",
      "  0.    0.    3.    0.    0.    0.    0.    0.    0.    1.    1.    1.\n",
      "  1.    0.    1.    0.    1.    0.    0.    0.    4.    3.    0.    0.\n",
      "  0.    0.    1.    0.    0.    0.    0.    0.    0.    0.    0.    0.\n",
      "  0.    0.    0.    0.    0.    0.    1.    1.    0.    3.    1.    0.\n",
      "  0.    1.    2.    1.    1.    9.    9.    3.  ]\n",
      " - Clasificación        : [0.]\n",
      "\n"
     ]
    }
   ],
   "source": [
    "# probamos con aquellos valores que no se habían clasificado\n",
    "prob=df[df.dead>1]\n",
    "prob=prob.drop(['dead'], axis=1).values\n",
    "\n",
    "# entrenamos el modelo con mejores resultados\n",
    "new=model2_1.predict(prob)\n",
    "print('==============================')\n",
    "print('| RESULTADO DE LA PREDICCIÓN |')\n",
    "print('==============================')\n",
    "for i in range(prob.shape[0]):\n",
    "    print(' - Datos sin clasificar        : '+str(prob[i,:]))\n",
    "    print(' - Clasificación        : '+str(np.round((new[i]),0)))\n",
    "    print('')"
   ]
  },
  {
   "cell_type": "markdown",
   "metadata": {},
   "source": [
    "### Insomnio"
   ]
  },
  {
   "cell_type": "code",
   "execution_count": 28,
   "metadata": {},
   "outputs": [
    {
     "name": "stdout",
     "output_type": "stream",
     "text": [
      "==============================\n",
      "| RESULTADO DE LA PREDICCIÓN |\n",
      "==============================\n",
      " - Datos sin clasificar        : [ 1.   74.    2.    0.    1.    1.    3.    0.    0.    2.    0.77  1.\n",
      "  0.    0.    3.    0.    1.    0.    0.    0.    0.    0.    0.    0.\n",
      "  0.    0.    0.    0.    0.    0.    0.    1.    3.    3.    0.    0.\n",
      "  0.    0.    0.    0.    1.    0.    0.    0.    0.    0.    0.    0.\n",
      "  1.    0.    0.    0.    0.    1.    1.    1.    0.    5.    0.    0.\n",
      "  0.    1.    2.    9.    9.    9.    9.    3.  ]\n",
      " - Clasificación        : [0.]\n",
      "\n"
     ]
    }
   ],
   "source": [
    "# probamos con aquellos valores que no se habían clasificado\n",
    "prob=df[df.sleep>1]\n",
    "prob=prob.drop(['sleep'], axis=1).values\n",
    "\n",
    "# entrenamos el modelo con mejores resultados\n",
    "new=model3_1.predict(prob)\n",
    "print('==============================')\n",
    "print('| RESULTADO DE LA PREDICCIÓN |')\n",
    "print('==============================')\n",
    "for i in range(prob.shape[0]):\n",
    "    print(' - Datos sin clasificar        : '+str(prob[i,:]))\n",
    "    print(' - Clasificación        : '+str(np.round((new[i]),0)))\n",
    "    print('')"
   ]
  },
  {
   "cell_type": "markdown",
   "metadata": {},
   "source": [
    "### Autoestima"
   ]
  },
  {
   "cell_type": "code",
   "execution_count": 29,
   "metadata": {},
   "outputs": [
    {
     "name": "stdout",
     "output_type": "stream",
     "text": [
      "==============================\n",
      "| RESULTADO DE LA PREDICCIÓN |\n",
      "==============================\n",
      " - Datos sin clasificar        : [ 1. 80.  3.  0.  1.  1.  2.  0.  0.  2.  5.  1.  1.  0.  3.  0.  0.  0.\n",
      "  1.  1.  0.  0.  0.  0.  0.  0.  0.  0.  0.  0.  0.  1.  4.  3.  0.  0.\n",
      "  0.  0.  0.  0.  0.  0.  0.  0.  0.  0.  0.  0.  0.  0.  0.  0.  0.  0.\n",
      "  0.  0.  0.  2.  1.  0.  0.  0.  3.  1.  9.  9.  9.  4.]\n",
      " - Clasificación        : [0.]\n",
      "\n",
      " - Datos sin clasificar        : [ 1.   80.    1.    0.    2.    2.    4.    0.    1.    1.    2.76  0.\n",
      "  0.    0.    3.    0.    0.    1.    1.    1.    1.    0.    9.    0.\n",
      "  1.    0.    0.    0.    1.    0.    0.    1.    2.    3.    0.    0.\n",
      "  0.    0.    1.    0.    1.    0.    0.    0.    0.    0.    0.    0.\n",
      "  0.    0.    0.    0.    0.    0.    0.    0.    0.    4.    0.    0.\n",
      "  0.    0.    2.    9.    9.    9.    9.    2.  ]\n",
      " - Clasificación        : [1.]\n",
      "\n"
     ]
    }
   ],
   "source": [
    "# probamos con aquellos valores que no se habían clasificado\n",
    "prob=df[df.yourself>1]\n",
    "prob=prob.drop(['yourself'], axis=1).values\n",
    "\n",
    "# entrenamos el modelo con mejores resultados\n",
    "new=model4_1.predict(prob)\n",
    "print('==============================')\n",
    "print('| RESULTADO DE LA PREDICCIÓN |')\n",
    "print('==============================')\n",
    "for i in range(prob.shape[0]):\n",
    "    print(' - Datos sin clasificar        : '+str(prob[i,:]))\n",
    "    print(' - Clasificación        : '+str(np.round((new[i]),0)))\n",
    "    print('')"
   ]
  },
  {
   "cell_type": "markdown",
   "metadata": {},
   "source": [
    "### Visita a salud mental"
   ]
  },
  {
   "cell_type": "code",
   "execution_count": 30,
   "metadata": {},
   "outputs": [
    {
     "name": "stdout",
     "output_type": "stream",
     "text": [
      "WARNING:tensorflow:5 out of the last 5 calls to <function Model.make_predict_function.<locals>.predict_function at 0x0000020432F5E4C0> triggered tf.function retracing. Tracing is expensive and the excessive number of tracings could be due to (1) creating @tf.function repeatedly in a loop, (2) passing tensors with different shapes, (3) passing Python objects instead of tensors. For (1), please define your @tf.function outside of the loop. For (2), @tf.function has experimental_relax_shapes=True option that relaxes argument shapes that can avoid unnecessary retracing. For (3), please refer to https://www.tensorflow.org/guide/function#controlling_retracing and https://www.tensorflow.org/api_docs/python/tf/function for  more details.\n",
      "==============================\n",
      "| RESULTADO DE LA PREDICCIÓN |\n",
      "==============================\n",
      " - Datos sin clasificar        : [ 1.   68.    6.    0.    2.    1.    5.    1.    0.    2.    0.86  0.\n",
      "  9.    1.    3.    1.    0.    0.    1.    0.    1.    0.    0.    1.\n",
      "  1.    0.    0.    0.    0.    0.    0.    0.    1.    5.    1.    0.\n",
      "  0.    0.    0.    0.    0.    0.    0.    0.    0.    0.    0.    0.\n",
      "  0.    0.    0.    0.    0.    0.    0.    0.    0.    1.    0.    0.\n",
      "  0.    0.    3.    9.    9.    9.    9.    1.  ]\n",
      " - Clasificación        : [0.]\n",
      "\n",
      " - Datos sin clasificar        : [ 0.   47.    3.    0.    2.    3.    1.    0.    0.    0.    3.26  1.\n",
      "  1.    0.    3.    0.    0.    0.    0.    0.    0.    0.    0.    0.\n",
      "  1.    1.    1.    0.    0.    0.    0.    0.    1.    3.    2.    0.\n",
      "  0.    0.    1.    0.    0.    0.    0.    0.    0.    0.    0.    0.\n",
      "  0.    0.    1.    0.    0.    0.    1.    1.    1.    3.    1.    0.\n",
      "  1.    1.    2.    9.    1.    9.    9.    3.  ]\n",
      " - Clasificación        : [0.]\n",
      "\n",
      " - Datos sin clasificar        : [ 0.   18.    6.    0.    1.    5.    3.    0.    0.    0.    3.03  0.\n",
      "  0.    0.    2.    0.    0.    0.    0.    0.    0.    0.    0.    0.\n",
      "  0.    0.    0.    0.    0.    0.    0.    0.    1.    2.    1.    0.\n",
      "  0.    0.    0.    0.    9.    9.    9.    9.    9.    9.    9.    9.\n",
      "  9.    9.    9.    9.    0.    9.    1.    1.    1.    2.    0.    0.\n",
      "  0.    0.    2.    9.    1.    9.    9.    3.  ]\n",
      " - Clasificación        : [0.]\n",
      "\n"
     ]
    }
   ],
   "source": [
    "# probamos con aquellos valores que no se habían clasificado\n",
    "prob=df[df.profMental>1]\n",
    "prob=prob.drop(['profMental'], axis=1).values\n",
    "\n",
    "# entrenamos el modelo con mejores resultados\n",
    "new=model5_1.predict(prob)\n",
    "print('==============================')\n",
    "print('| RESULTADO DE LA PREDICCIÓN |')\n",
    "print('==============================')\n",
    "for i in range(prob.shape[0]):\n",
    "    print(' - Datos sin clasificar        : '+str(prob[i,:]))\n",
    "    print(' - Clasificación        : '+str(np.round((new[i]),0)))\n",
    "    print('')"
   ]
  }
 ],
 "metadata": {
  "kernelspec": {
   "display_name": "Python 3",
   "language": "python",
   "name": "python3"
  },
  "language_info": {
   "codemirror_mode": {
    "name": "ipython",
    "version": 3
   },
   "file_extension": ".py",
   "mimetype": "text/x-python",
   "name": "python",
   "nbconvert_exporter": "python",
   "pygments_lexer": "ipython3",
   "version": "3.8.5"
  }
 },
 "nbformat": 4,
 "nbformat_minor": 4
}
