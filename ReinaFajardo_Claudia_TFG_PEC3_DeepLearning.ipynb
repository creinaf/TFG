{
 "cells": [
  {
   "cell_type": "markdown",
   "metadata": {},
   "source": [
    "# TRABAJO FINAL DE GRADO - PEC 3\n",
    "###### Autor: Claudia Reina Fajardo\n",
    "###### Noviembre 2021"
   ]
  },
  {
   "cell_type": "markdown",
   "metadata": {},
   "source": [
    "## Modelo de Deep Learning"
   ]
  },
  {
   "cell_type": "code",
   "execution_count": 3,
   "metadata": {},
   "outputs": [],
   "source": [
    "# imports\n",
    "import numpy as np\n",
    "import pandas as pd\n",
    "import matplotlib.pyplot as plt\n",
    "import tensorflow as tf\n",
    "import tensorflow.keras as kr"
   ]
  },
  {
   "cell_type": "code",
   "execution_count": 4,
   "metadata": {},
   "outputs": [],
   "source": [
    "# cargamos el dataset\n",
    "df = pd.read_csv('data.csv')"
   ]
  },
  {
   "cell_type": "code",
   "execution_count": 66,
   "metadata": {},
   "outputs": [],
   "source": [
    "# algoritmo red neuronal\n",
    "def rn (nn, variable, e):\n",
    "    # eliminamos la clase del conjunto de datos y los elementos sin clasificar y la guardamos para comprobar precisión\n",
    "    data=df[df[variable]<2]\n",
    "    Y=data[variable]\n",
    "    X=data.drop([variable], axis=1).values\n",
    "    \n",
    "    # Definimos el ratio de aprendizaje, la distribución de las neuronas y la cantidad de entrenamientos\n",
    "    lr = 0.001\n",
    "    nn = nn\n",
    "    e = e\n",
    "\n",
    "    # Creamos el objeto que contendrá a nuestra red neuronal, como secuencia de capas.\n",
    "    model = kr.Sequential()\n",
    "\n",
    "    # Añadimos la capa 1\n",
    "    l1 = model.add(kr.layers.Dense(nn[1], activation='relu'))\n",
    "\n",
    "    # Añadimos la capa 2\n",
    "    l2 = model.add(kr.layers.Dense(nn[2], activation='relu'))\n",
    "\n",
    "    # Añadimos la capa 3, que corresponde a la salida de la red\n",
    "    l3 = model.add(kr.layers.Dense(nn[3], activation='sigmoid'))\n",
    "\n",
    "    # Compilamos el modelo, definiendo la función de coste y el optimizador.\n",
    "    model.compile(loss='mse', optimizer=tf.keras.optimizers.Adam(0.001), metrics=['acc'])\n",
    "\n",
    "    # Y entrenamos al modelo, añadiendo cortes de entrenamiento y la cantidad de entrenamientos que se hará. \n",
    "    training=model.fit(X, Y, validation_split = 0.33, epochs=e)\n",
    "\n",
    "    # Recogemos accuracy total\n",
    "    results=model.evaluate(X, Y)\n",
    "    \n",
    "    return model, training, results"
   ]
  },
  {
   "cell_type": "markdown",
   "metadata": {},
   "source": [
    "### Red neuronal sobre depresión"
   ]
  },
  {
   "cell_type": "markdown",
   "metadata": {},
   "source": [
    "#### Estructura 16-8-1"
   ]
  },
  {
   "cell_type": "code",
   "execution_count": 67,
   "metadata": {},
   "outputs": [
    {
     "name": "stdout",
     "output_type": "stream",
     "text": [
      "Epoch 1/70\n",
      "105/105 [==============================] - 1s 3ms/step - loss: 0.1764 - acc: 0.7613 - val_loss: 0.1574 - val_acc: 0.7690\n",
      "Epoch 2/70\n",
      "105/105 [==============================] - 0s 3ms/step - loss: 0.1437 - acc: 0.7977 - val_loss: 0.1320 - val_acc: 0.8314\n",
      "Epoch 3/70\n",
      "105/105 [==============================] - 0s 2ms/step - loss: 0.1277 - acc: 0.8282 - val_loss: 0.1191 - val_acc: 0.8478\n",
      "Epoch 4/70\n",
      "105/105 [==============================] - 0s 2ms/step - loss: 0.1193 - acc: 0.8315 - val_loss: 0.1168 - val_acc: 0.8448\n",
      "Epoch 5/70\n",
      "105/105 [==============================] - 0s 2ms/step - loss: 0.1142 - acc: 0.8416 - val_loss: 0.1229 - val_acc: 0.8344\n",
      "Epoch 6/70\n",
      "105/105 [==============================] - 0s 2ms/step - loss: 0.1109 - acc: 0.8452 - val_loss: 0.1162 - val_acc: 0.8496\n",
      "Epoch 7/70\n",
      "105/105 [==============================] - 0s 2ms/step - loss: 0.1130 - acc: 0.8381 - val_loss: 0.1118 - val_acc: 0.8478\n",
      "Epoch 8/70\n",
      "105/105 [==============================] - 0s 2ms/step - loss: 0.1078 - acc: 0.8524 - val_loss: 0.1080 - val_acc: 0.8526\n",
      "Epoch 9/70\n",
      "105/105 [==============================] - 0s 2ms/step - loss: 0.1068 - acc: 0.8551 - val_loss: 0.1121 - val_acc: 0.8539\n",
      "Epoch 10/70\n",
      "105/105 [==============================] - 0s 2ms/step - loss: 0.1074 - acc: 0.8485 - val_loss: 0.1084 - val_acc: 0.8520\n",
      "Epoch 11/70\n",
      "105/105 [==============================] - 0s 2ms/step - loss: 0.1053 - acc: 0.8542 - val_loss: 0.1149 - val_acc: 0.8441\n",
      "Epoch 12/70\n",
      "105/105 [==============================] - 0s 2ms/step - loss: 0.1057 - acc: 0.8536 - val_loss: 0.1138 - val_acc: 0.8448\n",
      "Epoch 13/70\n",
      "105/105 [==============================] - 0s 2ms/step - loss: 0.1052 - acc: 0.8566 - val_loss: 0.1082 - val_acc: 0.8551\n",
      "Epoch 14/70\n",
      "105/105 [==============================] - 0s 2ms/step - loss: 0.1043 - acc: 0.8554 - val_loss: 0.1073 - val_acc: 0.8569\n",
      "Epoch 15/70\n",
      "105/105 [==============================] - 0s 2ms/step - loss: 0.1039 - acc: 0.8602 - val_loss: 0.1086 - val_acc: 0.8581\n",
      "Epoch 16/70\n",
      "105/105 [==============================] - 0s 2ms/step - loss: 0.1058 - acc: 0.8554 - val_loss: 0.1091 - val_acc: 0.8539\n",
      "Epoch 17/70\n",
      "105/105 [==============================] - 0s 2ms/step - loss: 0.1041 - acc: 0.8569 - val_loss: 0.1102 - val_acc: 0.8532\n",
      "Epoch 18/70\n",
      "105/105 [==============================] - 0s 2ms/step - loss: 0.1036 - acc: 0.8563 - val_loss: 0.1087 - val_acc: 0.8520\n",
      "Epoch 19/70\n",
      "105/105 [==============================] - 0s 2ms/step - loss: 0.1033 - acc: 0.8587 - val_loss: 0.1099 - val_acc: 0.8508\n",
      "Epoch 20/70\n",
      "105/105 [==============================] - 0s 2ms/step - loss: 0.1025 - acc: 0.8581 - val_loss: 0.1092 - val_acc: 0.8557\n",
      "Epoch 21/70\n",
      "105/105 [==============================] - 0s 2ms/step - loss: 0.1036 - acc: 0.8590 - val_loss: 0.1126 - val_acc: 0.8539\n",
      "Epoch 22/70\n",
      "105/105 [==============================] - 0s 2ms/step - loss: 0.1019 - acc: 0.8602 - val_loss: 0.1110 - val_acc: 0.8520\n",
      "Epoch 23/70\n",
      "105/105 [==============================] - 0s 2ms/step - loss: 0.1028 - acc: 0.8614 - val_loss: 0.1103 - val_acc: 0.8520\n",
      "Epoch 24/70\n",
      "105/105 [==============================] - 0s 2ms/step - loss: 0.1025 - acc: 0.8578 - val_loss: 0.1091 - val_acc: 0.8557\n",
      "Epoch 25/70\n",
      "105/105 [==============================] - 0s 2ms/step - loss: 0.1022 - acc: 0.8599 - val_loss: 0.1085 - val_acc: 0.8575\n",
      "Epoch 26/70\n",
      "105/105 [==============================] - 0s 2ms/step - loss: 0.1023 - acc: 0.8569 - val_loss: 0.1075 - val_acc: 0.8575\n",
      "Epoch 27/70\n",
      "105/105 [==============================] - 0s 2ms/step - loss: 0.1014 - acc: 0.8629 - val_loss: 0.1185 - val_acc: 0.8405\n",
      "Epoch 28/70\n",
      "105/105 [==============================] - 0s 2ms/step - loss: 0.1017 - acc: 0.8635 - val_loss: 0.1090 - val_acc: 0.8557\n",
      "Epoch 29/70\n",
      "105/105 [==============================] - 0s 2ms/step - loss: 0.1003 - acc: 0.8635 - val_loss: 0.1088 - val_acc: 0.8569\n",
      "Epoch 30/70\n",
      "105/105 [==============================] - 0s 2ms/step - loss: 0.1005 - acc: 0.8638 - val_loss: 0.1086 - val_acc: 0.8569\n",
      "Epoch 31/70\n",
      "105/105 [==============================] - 0s 2ms/step - loss: 0.1004 - acc: 0.8611 - val_loss: 0.1092 - val_acc: 0.8551\n",
      "Epoch 32/70\n",
      "105/105 [==============================] - 0s 2ms/step - loss: 0.1000 - acc: 0.8661 - val_loss: 0.1097 - val_acc: 0.8551\n",
      "Epoch 33/70\n",
      "105/105 [==============================] - 0s 2ms/step - loss: 0.0992 - acc: 0.8676 - val_loss: 0.1127 - val_acc: 0.8526\n",
      "Epoch 34/70\n",
      "105/105 [==============================] - 0s 2ms/step - loss: 0.1000 - acc: 0.8653 - val_loss: 0.1116 - val_acc: 0.8539\n",
      "Epoch 35/70\n",
      "105/105 [==============================] - 0s 2ms/step - loss: 0.0997 - acc: 0.8635 - val_loss: 0.1089 - val_acc: 0.8569\n",
      "Epoch 36/70\n",
      "105/105 [==============================] - 0s 2ms/step - loss: 0.0996 - acc: 0.8670 - val_loss: 0.1101 - val_acc: 0.8539\n",
      "Epoch 37/70\n",
      "105/105 [==============================] - 0s 2ms/step - loss: 0.1005 - acc: 0.8620 - val_loss: 0.1076 - val_acc: 0.8569\n",
      "Epoch 38/70\n",
      "105/105 [==============================] - 0s 2ms/step - loss: 0.1002 - acc: 0.8614 - val_loss: 0.1105 - val_acc: 0.8545\n",
      "Epoch 39/70\n",
      "105/105 [==============================] - 0s 2ms/step - loss: 0.0986 - acc: 0.8664 - val_loss: 0.1106 - val_acc: 0.8551\n",
      "Epoch 40/70\n",
      "105/105 [==============================] - 0s 2ms/step - loss: 0.0983 - acc: 0.8659 - val_loss: 0.1126 - val_acc: 0.8539\n",
      "Epoch 41/70\n",
      "105/105 [==============================] - 0s 2ms/step - loss: 0.0998 - acc: 0.8659 - val_loss: 0.1091 - val_acc: 0.8563\n",
      "Epoch 42/70\n",
      "105/105 [==============================] - 0s 2ms/step - loss: 0.0972 - acc: 0.8709 - val_loss: 0.1081 - val_acc: 0.8581\n",
      "Epoch 43/70\n",
      "105/105 [==============================] - 0s 2ms/step - loss: 0.0992 - acc: 0.8650 - val_loss: 0.1101 - val_acc: 0.8557\n",
      "Epoch 44/70\n",
      "105/105 [==============================] - 0s 2ms/step - loss: 0.0981 - acc: 0.8682 - val_loss: 0.1143 - val_acc: 0.8490\n",
      "Epoch 45/70\n",
      "105/105 [==============================] - 0s 2ms/step - loss: 0.0984 - acc: 0.8659 - val_loss: 0.1114 - val_acc: 0.8557\n",
      "Epoch 46/70\n",
      "105/105 [==============================] - 0s 2ms/step - loss: 0.0973 - acc: 0.8703 - val_loss: 0.1088 - val_acc: 0.8587\n",
      "Epoch 47/70\n",
      "105/105 [==============================] - 0s 2ms/step - loss: 0.0979 - acc: 0.8682 - val_loss: 0.1122 - val_acc: 0.8569\n",
      "Epoch 48/70\n",
      "105/105 [==============================] - 0s 2ms/step - loss: 0.0970 - acc: 0.8694 - val_loss: 0.1104 - val_acc: 0.8581\n",
      "Epoch 49/70\n",
      "105/105 [==============================] - 0s 2ms/step - loss: 0.0964 - acc: 0.8685 - val_loss: 0.1107 - val_acc: 0.8514\n",
      "Epoch 50/70\n",
      "105/105 [==============================] - 0s 2ms/step - loss: 0.0978 - acc: 0.8682 - val_loss: 0.1127 - val_acc: 0.8502\n",
      "Epoch 51/70\n",
      "105/105 [==============================] - 0s 3ms/step - loss: 0.0961 - acc: 0.8721 - val_loss: 0.1091 - val_acc: 0.8569\n",
      "Epoch 52/70\n",
      "105/105 [==============================] - 0s 2ms/step - loss: 0.0969 - acc: 0.8679 - val_loss: 0.1091 - val_acc: 0.8569\n",
      "Epoch 53/70\n",
      "105/105 [==============================] - 0s 2ms/step - loss: 0.0980 - acc: 0.8691 - val_loss: 0.1178 - val_acc: 0.8454\n",
      "Epoch 54/70\n",
      "105/105 [==============================] - 0s 2ms/step - loss: 0.0961 - acc: 0.8688 - val_loss: 0.1109 - val_acc: 0.8551\n",
      "Epoch 55/70\n",
      "105/105 [==============================] - 0s 2ms/step - loss: 0.0951 - acc: 0.8721 - val_loss: 0.1105 - val_acc: 0.8575\n",
      "Epoch 56/70\n",
      "105/105 [==============================] - 0s 2ms/step - loss: 0.0960 - acc: 0.8715 - val_loss: 0.1148 - val_acc: 0.8526\n",
      "Epoch 57/70\n",
      "105/105 [==============================] - 0s 2ms/step - loss: 0.0973 - acc: 0.8676 - val_loss: 0.1171 - val_acc: 0.8532\n",
      "Epoch 58/70\n",
      "105/105 [==============================] - 0s 2ms/step - loss: 0.0955 - acc: 0.8685 - val_loss: 0.1106 - val_acc: 0.8551\n",
      "Epoch 59/70\n",
      "105/105 [==============================] - 0s 2ms/step - loss: 0.0948 - acc: 0.8757 - val_loss: 0.1127 - val_acc: 0.8520\n",
      "Epoch 60/70\n",
      "105/105 [==============================] - 0s 2ms/step - loss: 0.0935 - acc: 0.8739 - val_loss: 0.1131 - val_acc: 0.8502\n",
      "Epoch 61/70\n",
      "105/105 [==============================] - 0s 2ms/step - loss: 0.0945 - acc: 0.8751 - val_loss: 0.1126 - val_acc: 0.8496\n",
      "Epoch 62/70\n"
     ]
    },
    {
     "name": "stdout",
     "output_type": "stream",
     "text": [
      "105/105 [==============================] - 0s 2ms/step - loss: 0.0943 - acc: 0.8718 - val_loss: 0.1112 - val_acc: 0.8623\n",
      "Epoch 63/70\n",
      "105/105 [==============================] - 0s 2ms/step - loss: 0.0951 - acc: 0.8730 - val_loss: 0.1126 - val_acc: 0.8532\n",
      "Epoch 64/70\n",
      "105/105 [==============================] - 0s 2ms/step - loss: 0.0936 - acc: 0.8733 - val_loss: 0.1104 - val_acc: 0.8545\n",
      "Epoch 65/70\n",
      "105/105 [==============================] - 0s 2ms/step - loss: 0.0934 - acc: 0.8763 - val_loss: 0.1116 - val_acc: 0.8563\n",
      "Epoch 66/70\n",
      "105/105 [==============================] - 0s 2ms/step - loss: 0.0943 - acc: 0.8742 - val_loss: 0.1125 - val_acc: 0.8551\n",
      "Epoch 67/70\n",
      "105/105 [==============================] - 0s 2ms/step - loss: 0.0945 - acc: 0.8721 - val_loss: 0.1130 - val_acc: 0.8514\n",
      "Epoch 68/70\n",
      "105/105 [==============================] - 0s 2ms/step - loss: 0.0932 - acc: 0.8745 - val_loss: 0.1151 - val_acc: 0.8526\n",
      "Epoch 69/70\n",
      "105/105 [==============================] - 0s 2ms/step - loss: 0.0939 - acc: 0.8712 - val_loss: 0.1099 - val_acc: 0.8593\n",
      "Epoch 70/70\n",
      "105/105 [==============================] - 0s 2ms/step - loss: 0.0922 - acc: 0.8766 - val_loss: 0.1138 - val_acc: 0.8520\n",
      "157/157 [==============================] - 0s 1ms/step - loss: 0.0982 - acc: 0.8719\n"
     ]
    }
   ],
   "source": [
    "model1, training1, results1 = rn([2, 16, 8, 1], 'depressed', 70)"
   ]
  },
  {
   "cell_type": "code",
   "execution_count": 68,
   "metadata": {},
   "outputs": [
    {
     "name": "stdout",
     "output_type": "stream",
     "text": [
      "======================\n",
      "| CALIDAD DEL MODELO |\n",
      "======================\n",
      " - Precisión               : 87.19%\n",
      " - Pérdida                 : 9.82%\n",
      "\n",
      "===================================\n",
      "| PROCESO DE APRENDIZAJE DEL MODELO |\n",
      "===================================\n"
     ]
    },
    {
     "data": {
      "image/png": "[encoded data removed]",
      "text/plain": [
       "<Figure size 432x288 with 1 Axes>"
      ]
     },
     "metadata": {
      "needs_background": "light"
     },
     "output_type": "display_data"
    },
    {
     "data": {
      "image/png": "[encoded data removed]",
      "text/plain": [
       "<Figure size 432x288 with 1 Axes>"
      ]
     },
     "metadata": {
      "needs_background": "light"
     },
     "output_type": "display_data"
    }
   ],
   "source": [
    "print('======================')\n",
    "print('| CALIDAD DEL MODELO |')\n",
    "print('======================')\n",
    "print(' - Precisión               : '+str(np.round((100*results1[1]),2))+'%')\n",
    "print(' - Pérdida                 : '+str(np.round((100*results1[0]),2))+'%')\n",
    "print('')\n",
    "\n",
    "print('===================================')\n",
    "print('| PROCESO DE APRENDIZAJE DEL MODELO |')\n",
    "print('===================================')\n",
    "plt.ylim([0,0.3])\n",
    "plt.plot(training1.history[\"loss\"])\n",
    "plt.plot(training1.history[\"val_loss\"])\n",
    "plt.title('model loss')\n",
    "plt.ylabel('loss')\n",
    "plt.xlabel('epoch')\n",
    "plt.legend(['train', 'validation'], loc='upper left')\n",
    "plt.show()\n",
    "\n",
    "plt.ylim([0.7,1])\n",
    "plt.plot(training1.history[\"acc\"])\n",
    "plt.plot(training1.history[\"val_acc\"])\n",
    "plt.title('model accuracy')\n",
    "plt.ylabel('accuracy')\n",
    "plt.xlabel('epoch')\n",
    "plt.legend(['train', 'validation'], loc='upper left')\n",
    "plt.show()\n",
    "\n"
   ]
  },
  {
   "cell_type": "markdown",
   "metadata": {},
   "source": [
    "Observamos un poco de overfitting. Haremos el modelo más pequeño."
   ]
  },
  {
   "cell_type": "markdown",
   "metadata": {},
   "source": [
    "#### Estructura 10-2-1"
   ]
  },
  {
   "cell_type": "code",
   "execution_count": 69,
   "metadata": {},
   "outputs": [
    {
     "name": "stdout",
     "output_type": "stream",
     "text": [
      "Epoch 1/70\n",
      "105/105 [==============================] - 1s 3ms/step - loss: 0.2110 - acc: 0.7580 - val_loss: 0.1879 - val_acc: 0.7514\n",
      "Epoch 2/70\n",
      "105/105 [==============================] - 0s 2ms/step - loss: 0.1786 - acc: 0.7574 - val_loss: 0.1721 - val_acc: 0.7520\n",
      "Epoch 3/70\n",
      "105/105 [==============================] - 0s 2ms/step - loss: 0.1642 - acc: 0.7589 - val_loss: 0.1586 - val_acc: 0.7520\n",
      "Epoch 4/70\n",
      "105/105 [==============================] - 0s 2ms/step - loss: 0.1528 - acc: 0.7589 - val_loss: 0.1486 - val_acc: 0.7520\n",
      "Epoch 5/70\n",
      "105/105 [==============================] - 0s 2ms/step - loss: 0.1460 - acc: 0.7927 - val_loss: 0.1430 - val_acc: 0.8211\n",
      "Epoch 6/70\n",
      "105/105 [==============================] - 0s 2ms/step - loss: 0.1402 - acc: 0.8118 - val_loss: 0.1375 - val_acc: 0.8344\n",
      "Epoch 7/70\n",
      "105/105 [==============================] - 0s 2ms/step - loss: 0.1355 - acc: 0.8204 - val_loss: 0.1332 - val_acc: 0.8399\n",
      "Epoch 8/70\n",
      "105/105 [==============================] - 0s 2ms/step - loss: 0.1319 - acc: 0.8267 - val_loss: 0.1310 - val_acc: 0.8448\n",
      "Epoch 9/70\n",
      "105/105 [==============================] - 0s 2ms/step - loss: 0.1286 - acc: 0.8333 - val_loss: 0.1278 - val_acc: 0.8502\n",
      "Epoch 10/70\n",
      "105/105 [==============================] - 0s 2ms/step - loss: 0.1261 - acc: 0.8375 - val_loss: 0.1247 - val_acc: 0.8514\n",
      "Epoch 11/70\n",
      "105/105 [==============================] - 0s 2ms/step - loss: 0.1234 - acc: 0.8381 - val_loss: 0.1227 - val_acc: 0.8520\n",
      "Epoch 12/70\n",
      "105/105 [==============================] - 0s 2ms/step - loss: 0.1212 - acc: 0.8419 - val_loss: 0.1235 - val_acc: 0.8502\n",
      "Epoch 13/70\n",
      "105/105 [==============================] - 0s 2ms/step - loss: 0.1193 - acc: 0.8446 - val_loss: 0.1226 - val_acc: 0.8502\n",
      "Epoch 14/70\n",
      "105/105 [==============================] - 0s 2ms/step - loss: 0.1185 - acc: 0.8446 - val_loss: 0.1192 - val_acc: 0.8557\n",
      "Epoch 15/70\n",
      "105/105 [==============================] - 0s 2ms/step - loss: 0.1168 - acc: 0.8473 - val_loss: 0.1189 - val_acc: 0.8532\n",
      "Epoch 16/70\n",
      "105/105 [==============================] - 0s 2ms/step - loss: 0.1161 - acc: 0.8461 - val_loss: 0.1175 - val_acc: 0.8551\n",
      "Epoch 17/70\n",
      "105/105 [==============================] - 0s 2ms/step - loss: 0.1161 - acc: 0.8482 - val_loss: 0.1177 - val_acc: 0.8502\n",
      "Epoch 18/70\n",
      "105/105 [==============================] - 0s 2ms/step - loss: 0.1140 - acc: 0.8509 - val_loss: 0.1166 - val_acc: 0.8539\n",
      "Epoch 19/70\n",
      "105/105 [==============================] - 0s 2ms/step - loss: 0.1137 - acc: 0.8503 - val_loss: 0.1172 - val_acc: 0.8551\n",
      "Epoch 20/70\n",
      "105/105 [==============================] - 0s 2ms/step - loss: 0.1127 - acc: 0.8491 - val_loss: 0.1156 - val_acc: 0.8557\n",
      "Epoch 21/70\n",
      "105/105 [==============================] - 0s 2ms/step - loss: 0.1117 - acc: 0.8515 - val_loss: 0.1149 - val_acc: 0.8575\n",
      "Epoch 22/70\n",
      "105/105 [==============================] - 0s 2ms/step - loss: 0.1111 - acc: 0.8539 - val_loss: 0.1141 - val_acc: 0.8575\n",
      "Epoch 23/70\n",
      "105/105 [==============================] - 0s 2ms/step - loss: 0.1105 - acc: 0.8518 - val_loss: 0.1151 - val_acc: 0.8532\n",
      "Epoch 24/70\n",
      "105/105 [==============================] - 0s 2ms/step - loss: 0.1093 - acc: 0.8557 - val_loss: 0.1157 - val_acc: 0.8490\n",
      "Epoch 25/70\n",
      "105/105 [==============================] - 0s 2ms/step - loss: 0.1092 - acc: 0.8545 - val_loss: 0.1148 - val_acc: 0.8557\n",
      "Epoch 26/70\n",
      "105/105 [==============================] - 0s 2ms/step - loss: 0.1090 - acc: 0.8536 - val_loss: 0.1147 - val_acc: 0.8551\n",
      "Epoch 27/70\n",
      "105/105 [==============================] - 0s 2ms/step - loss: 0.1074 - acc: 0.8572 - val_loss: 0.1153 - val_acc: 0.8532\n",
      "Epoch 28/70\n",
      "105/105 [==============================] - 0s 2ms/step - loss: 0.1083 - acc: 0.8572 - val_loss: 0.1137 - val_acc: 0.8532\n",
      "Epoch 29/70\n",
      "105/105 [==============================] - 0s 2ms/step - loss: 0.1076 - acc: 0.8545 - val_loss: 0.1170 - val_acc: 0.8478\n",
      "Epoch 30/70\n",
      "105/105 [==============================] - 0s 4ms/step - loss: 0.1075 - acc: 0.8533 - val_loss: 0.1126 - val_acc: 0.8520\n",
      "Epoch 31/70\n",
      "105/105 [==============================] - 0s 4ms/step - loss: 0.1068 - acc: 0.8575 - val_loss: 0.1146 - val_acc: 0.8490\n",
      "Epoch 32/70\n",
      "105/105 [==============================] - 0s 4ms/step - loss: 0.1069 - acc: 0.8530 - val_loss: 0.1129 - val_acc: 0.8551\n",
      "Epoch 33/70\n",
      "105/105 [==============================] - 0s 4ms/step - loss: 0.1068 - acc: 0.8590 - val_loss: 0.1151 - val_acc: 0.8508\n",
      "Epoch 34/70\n",
      "105/105 [==============================] - 0s 4ms/step - loss: 0.1061 - acc: 0.8578 - val_loss: 0.1171 - val_acc: 0.8478\n",
      "Epoch 35/70\n",
      "105/105 [==============================] - 0s 4ms/step - loss: 0.1067 - acc: 0.8563 - val_loss: 0.1138 - val_acc: 0.8502\n",
      "Epoch 36/70\n",
      "105/105 [==============================] - 0s 4ms/step - loss: 0.1061 - acc: 0.8557 - val_loss: 0.1126 - val_acc: 0.8563\n",
      "Epoch 37/70\n",
      "105/105 [==============================] - 0s 3ms/step - loss: 0.1058 - acc: 0.8611 - val_loss: 0.1123 - val_acc: 0.8551\n",
      "Epoch 38/70\n",
      "105/105 [==============================] - 0s 3ms/step - loss: 0.1053 - acc: 0.8596 - val_loss: 0.1150 - val_acc: 0.8532\n",
      "Epoch 39/70\n",
      "105/105 [==============================] - 0s 3ms/step - loss: 0.1063 - acc: 0.8581 - val_loss: 0.1135 - val_acc: 0.8520\n",
      "Epoch 40/70\n",
      "105/105 [==============================] - 0s 3ms/step - loss: 0.1066 - acc: 0.8542 - val_loss: 0.1139 - val_acc: 0.8520\n",
      "Epoch 41/70\n",
      "105/105 [==============================] - 0s 3ms/step - loss: 0.1041 - acc: 0.8578 - val_loss: 0.1121 - val_acc: 0.8551\n",
      "Epoch 42/70\n",
      "105/105 [==============================] - 0s 4ms/step - loss: 0.1047 - acc: 0.8581 - val_loss: 0.1146 - val_acc: 0.8502\n",
      "Epoch 43/70\n",
      "105/105 [==============================] - 0s 3ms/step - loss: 0.1039 - acc: 0.8614 - val_loss: 0.1145 - val_acc: 0.8472\n",
      "Epoch 44/70\n",
      "105/105 [==============================] - 0s 3ms/step - loss: 0.1043 - acc: 0.8608 - val_loss: 0.1154 - val_acc: 0.8472\n",
      "Epoch 45/70\n",
      "105/105 [==============================] - 0s 3ms/step - loss: 0.1026 - acc: 0.8638 - val_loss: 0.1191 - val_acc: 0.8399\n",
      "Epoch 46/70\n",
      "105/105 [==============================] - 0s 3ms/step - loss: 0.1040 - acc: 0.8581 - val_loss: 0.1122 - val_acc: 0.8532\n",
      "Epoch 47/70\n",
      "105/105 [==============================] - 0s 4ms/step - loss: 0.1026 - acc: 0.8617 - val_loss: 0.1152 - val_acc: 0.8472\n",
      "Epoch 48/70\n",
      "105/105 [==============================] - 0s 4ms/step - loss: 0.1029 - acc: 0.8614 - val_loss: 0.1124 - val_acc: 0.8539\n",
      "Epoch 49/70\n",
      "105/105 [==============================] - 0s 4ms/step - loss: 0.1024 - acc: 0.8620 - val_loss: 0.1147 - val_acc: 0.8484\n",
      "Epoch 50/70\n",
      "105/105 [==============================] - 0s 4ms/step - loss: 0.1024 - acc: 0.8608 - val_loss: 0.1114 - val_acc: 0.8557\n",
      "Epoch 51/70\n",
      "105/105 [==============================] - 0s 4ms/step - loss: 0.1034 - acc: 0.8590 - val_loss: 0.1106 - val_acc: 0.8593\n",
      "Epoch 52/70\n",
      "105/105 [==============================] - 0s 4ms/step - loss: 0.1015 - acc: 0.8688 - val_loss: 0.1130 - val_acc: 0.8520\n",
      "Epoch 53/70\n",
      "105/105 [==============================] - 0s 4ms/step - loss: 0.1022 - acc: 0.8647 - val_loss: 0.1124 - val_acc: 0.8551\n",
      "Epoch 54/70\n",
      "105/105 [==============================] - 0s 4ms/step - loss: 0.1019 - acc: 0.8641 - val_loss: 0.1127 - val_acc: 0.8514\n",
      "Epoch 55/70\n",
      "105/105 [==============================] - 0s 3ms/step - loss: 0.1012 - acc: 0.8635 - val_loss: 0.1151 - val_acc: 0.8484\n",
      "Epoch 56/70\n",
      "105/105 [==============================] - 0s 4ms/step - loss: 0.1014 - acc: 0.8626 - val_loss: 0.1137 - val_acc: 0.8532\n",
      "Epoch 57/70\n",
      "105/105 [==============================] - 0s 3ms/step - loss: 0.1014 - acc: 0.8620 - val_loss: 0.1120 - val_acc: 0.8508\n",
      "Epoch 58/70\n",
      "105/105 [==============================] - 0s 3ms/step - loss: 0.1002 - acc: 0.8650 - val_loss: 0.1143 - val_acc: 0.8520\n",
      "Epoch 59/70\n",
      "105/105 [==============================] - 0s 3ms/step - loss: 0.1014 - acc: 0.8661 - val_loss: 0.1117 - val_acc: 0.8532\n",
      "Epoch 60/70\n",
      "105/105 [==============================] - 0s 4ms/step - loss: 0.1022 - acc: 0.8608 - val_loss: 0.1137 - val_acc: 0.8496\n",
      "Epoch 61/70\n",
      "105/105 [==============================] - 0s 4ms/step - loss: 0.1003 - acc: 0.8644 - val_loss: 0.1166 - val_acc: 0.8441\n",
      "Epoch 62/70\n"
     ]
    },
    {
     "name": "stdout",
     "output_type": "stream",
     "text": [
      "105/105 [==============================] - 0s 3ms/step - loss: 0.0999 - acc: 0.8664 - val_loss: 0.1132 - val_acc: 0.8532\n",
      "Epoch 63/70\n",
      "105/105 [==============================] - 0s 3ms/step - loss: 0.1003 - acc: 0.8647 - val_loss: 0.1146 - val_acc: 0.8490\n",
      "Epoch 64/70\n",
      "105/105 [==============================] - 0s 3ms/step - loss: 0.0998 - acc: 0.8667 - val_loss: 0.1141 - val_acc: 0.8496\n",
      "Epoch 65/70\n",
      "105/105 [==============================] - 0s 3ms/step - loss: 0.0999 - acc: 0.8653 - val_loss: 0.1134 - val_acc: 0.8490\n",
      "Epoch 66/70\n",
      "105/105 [==============================] - 0s 3ms/step - loss: 0.0991 - acc: 0.8661 - val_loss: 0.1143 - val_acc: 0.8514\n",
      "Epoch 67/70\n",
      "105/105 [==============================] - 0s 3ms/step - loss: 0.1001 - acc: 0.8650 - val_loss: 0.1126 - val_acc: 0.8526\n",
      "Epoch 68/70\n",
      "105/105 [==============================] - 0s 3ms/step - loss: 0.1012 - acc: 0.8605 - val_loss: 0.1154 - val_acc: 0.8466\n",
      "Epoch 69/70\n",
      "105/105 [==============================] - 0s 3ms/step - loss: 0.0987 - acc: 0.8733 - val_loss: 0.1159 - val_acc: 0.8441\n",
      "Epoch 70/70\n",
      "105/105 [==============================] - 0s 3ms/step - loss: 0.0997 - acc: 0.8673 - val_loss: 0.1154 - val_acc: 0.8496\n",
      "157/157 [==============================] - 0s 2ms/step - loss: 0.1063 - acc: 0.8609\n"
     ]
    }
   ],
   "source": [
    "model1_1, training1_1, results1_1 = rn([2, 10, 2, 1], 'depressed', 70)"
   ]
  },
  {
   "cell_type": "code",
   "execution_count": 70,
   "metadata": {},
   "outputs": [
    {
     "name": "stdout",
     "output_type": "stream",
     "text": [
      "======================\n",
      "| CALIDAD DEL MODELO |\n",
      "======================\n",
      " - Precisión               : 86.09%\n",
      " - Pérdida                 : 10.63%\n",
      "\n",
      "===================================\n",
      "| PROCESO DE APRENDIZAJE DEL MODELO |\n",
      "===================================\n"
     ]
    },
    {
     "data": {
      "image/png": "[encoded data removed]",
      "text/plain": [
       "<Figure size 432x288 with 1 Axes>"
      ]
     },
     "metadata": {
      "needs_background": "light"
     },
     "output_type": "display_data"
    },
    {
     "data": {
      "image/png": "[encoded data removed]",
      "text/plain": [
       "<Figure size 432x288 with 1 Axes>"
      ]
     },
     "metadata": {
      "needs_background": "light"
     },
     "output_type": "display_data"
    }
   ],
   "source": [
    "print('======================')\n",
    "print('| CALIDAD DEL MODELO |')\n",
    "print('======================')\n",
    "print(' - Precisión               : '+str(np.round((100*results1_1[1]),2))+'%')\n",
    "print(' - Pérdida                 : '+str(np.round((100*results1_1[0]),2))+'%')\n",
    "print('')\n",
    "\n",
    "print('===================================')\n",
    "print('| PROCESO DE APRENDIZAJE DEL MODELO |')\n",
    "print('===================================')\n",
    "plt.ylim([0,0.3])\n",
    "plt.plot(training1_1.history[\"loss\"])\n",
    "plt.plot(training1_1.history[\"val_loss\"])\n",
    "plt.title('model loss')\n",
    "plt.ylabel('loss')\n",
    "plt.xlabel('epoch')\n",
    "plt.legend(['train', 'validation'], loc='upper left')\n",
    "plt.show()\n",
    "\n",
    "plt.ylim([0.7,1])\n",
    "plt.plot(training1_1.history[\"acc\"])\n",
    "plt.plot(training1_1.history[\"val_acc\"])\n",
    "plt.title('model accuracy')\n",
    "plt.ylabel('accuracy')\n",
    "plt.xlabel('epoch')\n",
    "plt.legend(['train', 'validation'], loc='upper left')\n",
    "plt.show()\n",
    "\n"
   ]
  },
  {
   "cell_type": "markdown",
   "metadata": {},
   "source": [
    "Como vemos, aunque presenta algún pequeño pico, el modelo es mucho más estable y sin sacrificar demasiada precisión.\n",
    "\n",
    "Podemos probar a reducir la cantidad de entrenamientos:"
   ]
  },
  {
   "cell_type": "code",
   "execution_count": 71,
   "metadata": {},
   "outputs": [
    {
     "name": "stdout",
     "output_type": "stream",
     "text": [
      "Epoch 1/30\n",
      "105/105 [==============================] - 1s 3ms/step - loss: 0.4511 - acc: 0.4993 - val_loss: 0.1912 - val_acc: 0.7520\n",
      "Epoch 2/30\n",
      "105/105 [==============================] - 0s 2ms/step - loss: 0.1832 - acc: 0.7589 - val_loss: 0.1832 - val_acc: 0.7520\n",
      "Epoch 3/30\n",
      "105/105 [==============================] - 0s 2ms/step - loss: 0.1764 - acc: 0.7589 - val_loss: 0.1754 - val_acc: 0.7520\n",
      "Epoch 4/30\n",
      "105/105 [==============================] - 0s 2ms/step - loss: 0.1661 - acc: 0.7589 - val_loss: 0.1617 - val_acc: 0.7526\n",
      "Epoch 5/30\n",
      "105/105 [==============================] - 0s 2ms/step - loss: 0.1541 - acc: 0.7586 - val_loss: 0.1492 - val_acc: 0.7526\n",
      "Epoch 6/30\n",
      "105/105 [==============================] - 0s 2ms/step - loss: 0.1450 - acc: 0.7595 - val_loss: 0.1417 - val_acc: 0.7526\n",
      "Epoch 7/30\n",
      "105/105 [==============================] - 0s 2ms/step - loss: 0.1388 - acc: 0.7625 - val_loss: 0.1345 - val_acc: 0.7641\n",
      "Epoch 8/30\n",
      "105/105 [==============================] - 0s 2ms/step - loss: 0.1297 - acc: 0.7950 - val_loss: 0.1225 - val_acc: 0.8253\n",
      "Epoch 9/30\n",
      "105/105 [==============================] - 0s 2ms/step - loss: 0.1234 - acc: 0.8234 - val_loss: 0.1170 - val_acc: 0.8357\n",
      "Epoch 10/30\n",
      "105/105 [==============================] - 0s 2ms/step - loss: 0.1184 - acc: 0.8363 - val_loss: 0.1180 - val_acc: 0.8429\n",
      "Epoch 11/30\n",
      "105/105 [==============================] - 0s 2ms/step - loss: 0.1148 - acc: 0.8440 - val_loss: 0.1130 - val_acc: 0.8466\n",
      "Epoch 12/30\n",
      "105/105 [==============================] - 0s 2ms/step - loss: 0.1140 - acc: 0.8464 - val_loss: 0.1138 - val_acc: 0.8423\n",
      "Epoch 13/30\n",
      "105/105 [==============================] - 0s 2ms/step - loss: 0.1124 - acc: 0.8461 - val_loss: 0.1099 - val_acc: 0.8490\n",
      "Epoch 14/30\n",
      "105/105 [==============================] - 0s 2ms/step - loss: 0.1108 - acc: 0.8464 - val_loss: 0.1095 - val_acc: 0.8514\n",
      "Epoch 15/30\n",
      "105/105 [==============================] - 0s 2ms/step - loss: 0.1099 - acc: 0.8512 - val_loss: 0.1085 - val_acc: 0.8526\n",
      "Epoch 16/30\n",
      "105/105 [==============================] - 0s 2ms/step - loss: 0.1086 - acc: 0.8521 - val_loss: 0.1075 - val_acc: 0.8545\n",
      "Epoch 17/30\n",
      "105/105 [==============================] - 0s 2ms/step - loss: 0.1076 - acc: 0.8515 - val_loss: 0.1083 - val_acc: 0.8520\n",
      "Epoch 18/30\n",
      "105/105 [==============================] - 0s 2ms/step - loss: 0.1069 - acc: 0.8524 - val_loss: 0.1123 - val_acc: 0.8532\n",
      "Epoch 19/30\n",
      "105/105 [==============================] - 0s 2ms/step - loss: 0.1075 - acc: 0.8524 - val_loss: 0.1082 - val_acc: 0.8563\n",
      "Epoch 20/30\n",
      "105/105 [==============================] - 0s 2ms/step - loss: 0.1077 - acc: 0.8524 - val_loss: 0.1066 - val_acc: 0.8599\n",
      "Epoch 21/30\n",
      "105/105 [==============================] - 0s 2ms/step - loss: 0.1064 - acc: 0.8539 - val_loss: 0.1075 - val_acc: 0.8563\n",
      "Epoch 22/30\n",
      "105/105 [==============================] - 0s 2ms/step - loss: 0.1056 - acc: 0.8581 - val_loss: 0.1061 - val_acc: 0.8593\n",
      "Epoch 23/30\n",
      "105/105 [==============================] - 0s 2ms/step - loss: 0.1062 - acc: 0.8560 - val_loss: 0.1084 - val_acc: 0.8539\n",
      "Epoch 24/30\n",
      "105/105 [==============================] - 0s 2ms/step - loss: 0.1052 - acc: 0.8566 - val_loss: 0.1063 - val_acc: 0.8581\n",
      "Epoch 25/30\n",
      "105/105 [==============================] - 0s 2ms/step - loss: 0.1056 - acc: 0.8545 - val_loss: 0.1059 - val_acc: 0.8605\n",
      "Epoch 26/30\n",
      "105/105 [==============================] - 0s 2ms/step - loss: 0.1069 - acc: 0.8530 - val_loss: 0.1096 - val_acc: 0.8520\n",
      "Epoch 27/30\n",
      "105/105 [==============================] - 0s 2ms/step - loss: 0.1047 - acc: 0.8566 - val_loss: 0.1061 - val_acc: 0.8557\n",
      "Epoch 28/30\n",
      "105/105 [==============================] - 0s 2ms/step - loss: 0.1042 - acc: 0.8596 - val_loss: 0.1067 - val_acc: 0.8587\n",
      "Epoch 29/30\n",
      "105/105 [==============================] - 0s 2ms/step - loss: 0.1053 - acc: 0.8587 - val_loss: 0.1065 - val_acc: 0.8569\n",
      "Epoch 30/30\n",
      "105/105 [==============================] - 0s 2ms/step - loss: 0.1045 - acc: 0.8578 - val_loss: 0.1081 - val_acc: 0.8563\n",
      "157/157 [==============================] - 0s 1ms/step - loss: 0.1052 - acc: 0.8587\n"
     ]
    }
   ],
   "source": [
    "model1_2, training1_2, results1_2 = rn([2, 10, 2, 1], 'depressed', 30)"
   ]
  },
  {
   "cell_type": "code",
   "execution_count": 72,
   "metadata": {},
   "outputs": [
    {
     "name": "stdout",
     "output_type": "stream",
     "text": [
      "======================\n",
      "| CALIDAD DEL MODELO |\n",
      "======================\n",
      " - Precisión               : 85.87%\n",
      " - Pérdida                 : 10.52%\n",
      "\n",
      "===================================\n",
      "| PROCESO DE APRENDIZAJE DEL MODELO |\n",
      "===================================\n"
     ]
    },
    {
     "data": {
      "image/png": "[encoded data removed]",
      "text/plain": [
       "<Figure size 432x288 with 1 Axes>"
      ]
     },
     "metadata": {
      "needs_background": "light"
     },
     "output_type": "display_data"
    },
    {
     "data": {
      "image/png": "[encoded data removed]",
      "text/plain": [
       "<Figure size 432x288 with 1 Axes>"
      ]
     },
     "metadata": {
      "needs_background": "light"
     },
     "output_type": "display_data"
    }
   ],
   "source": [
    "print('======================')\n",
    "print('| CALIDAD DEL MODELO |')\n",
    "print('======================')\n",
    "print(' - Precisión               : '+str(np.round((100*results1_2[1]),2))+'%')\n",
    "print(' - Pérdida                 : '+str(np.round((100*results1_2[0]),2))+'%')\n",
    "print('')\n",
    "\n",
    "print('===================================')\n",
    "print('| PROCESO DE APRENDIZAJE DEL MODELO |')\n",
    "print('===================================')\n",
    "plt.ylim([0,0.3])\n",
    "plt.plot(training1_2.history[\"loss\"])\n",
    "plt.plot(training1_2.history[\"val_loss\"])\n",
    "plt.title('model loss')\n",
    "plt.ylabel('loss')\n",
    "plt.xlabel('epoch')\n",
    "plt.legend(['train', 'validation'], loc='upper left')\n",
    "plt.show()\n",
    "\n",
    "plt.ylim([0.7,1])\n",
    "plt.plot(training1_2.history[\"acc\"])\n",
    "plt.plot(training1_2.history[\"val_acc\"])\n",
    "plt.title('model accuracy')\n",
    "plt.ylabel('accuracy')\n",
    "plt.xlabel('epoch')\n",
    "plt.legend(['train', 'validation'], loc='upper left')\n",
    "plt.show()\n",
    "\n"
   ]
  },
  {
   "cell_type": "markdown",
   "metadata": {},
   "source": [
    "### Red neuronal sobre pensamientos de muerte"
   ]
  },
  {
   "cell_type": "markdown",
   "metadata": {},
   "source": [
    "#### Estructura 16-8-1"
   ]
  },
  {
   "cell_type": "code",
   "execution_count": 73,
   "metadata": {},
   "outputs": [
    {
     "name": "stdout",
     "output_type": "stream",
     "text": [
      "Epoch 1/70\n",
      "105/105 [==============================] - 1s 3ms/step - loss: 0.2032 - acc: 0.7706 - val_loss: 0.0370 - val_acc: 0.9624\n",
      "Epoch 2/70\n",
      "105/105 [==============================] - 0s 2ms/step - loss: 0.0317 - acc: 0.9680 - val_loss: 0.0370 - val_acc: 0.9624\n",
      "Epoch 3/70\n",
      "105/105 [==============================] - 0s 2ms/step - loss: 0.0316 - acc: 0.9680 - val_loss: 0.0370 - val_acc: 0.9624\n",
      "Epoch 4/70\n",
      "105/105 [==============================] - 0s 2ms/step - loss: 0.0315 - acc: 0.9680 - val_loss: 0.0368 - val_acc: 0.9624\n",
      "Epoch 5/70\n",
      "105/105 [==============================] - 0s 2ms/step - loss: 0.0314 - acc: 0.9680 - val_loss: 0.0366 - val_acc: 0.9624\n",
      "Epoch 6/70\n",
      "105/105 [==============================] - 0s 2ms/step - loss: 0.0312 - acc: 0.9680 - val_loss: 0.0363 - val_acc: 0.9624\n",
      "Epoch 7/70\n",
      "105/105 [==============================] - 0s 2ms/step - loss: 0.0309 - acc: 0.9680 - val_loss: 0.0358 - val_acc: 0.9624\n",
      "Epoch 8/70\n",
      "105/105 [==============================] - 0s 2ms/step - loss: 0.0304 - acc: 0.9680 - val_loss: 0.0359 - val_acc: 0.9624\n",
      "Epoch 9/70\n",
      "105/105 [==============================] - 0s 2ms/step - loss: 0.0300 - acc: 0.9680 - val_loss: 0.0348 - val_acc: 0.9624\n",
      "Epoch 10/70\n",
      "105/105 [==============================] - 0s 2ms/step - loss: 0.0286 - acc: 0.9680 - val_loss: 0.0325 - val_acc: 0.9618\n",
      "Epoch 11/70\n",
      "105/105 [==============================] - 0s 2ms/step - loss: 0.0276 - acc: 0.9683 - val_loss: 0.0312 - val_acc: 0.9624\n",
      "Epoch 12/70\n",
      "105/105 [==============================] - 0s 2ms/step - loss: 0.0270 - acc: 0.9677 - val_loss: 0.0313 - val_acc: 0.9618\n",
      "Epoch 13/70\n",
      "105/105 [==============================] - 0s 2ms/step - loss: 0.0260 - acc: 0.9683 - val_loss: 0.0321 - val_acc: 0.9618\n",
      "Epoch 14/70\n",
      "105/105 [==============================] - 0s 2ms/step - loss: 0.0252 - acc: 0.9677 - val_loss: 0.0316 - val_acc: 0.9618\n",
      "Epoch 15/70\n",
      "105/105 [==============================] - 0s 2ms/step - loss: 0.0250 - acc: 0.9683 - val_loss: 0.0302 - val_acc: 0.9630\n",
      "Epoch 16/70\n",
      "105/105 [==============================] - 0s 2ms/step - loss: 0.0242 - acc: 0.9689 - val_loss: 0.0299 - val_acc: 0.9618\n",
      "Epoch 17/70\n",
      "105/105 [==============================] - 0s 2ms/step - loss: 0.0245 - acc: 0.9674 - val_loss: 0.0303 - val_acc: 0.9624\n",
      "Epoch 18/70\n",
      "105/105 [==============================] - 0s 2ms/step - loss: 0.0231 - acc: 0.9704 - val_loss: 0.0317 - val_acc: 0.9624\n",
      "Epoch 19/70\n",
      "105/105 [==============================] - 0s 2ms/step - loss: 0.0241 - acc: 0.9698 - val_loss: 0.0312 - val_acc: 0.9618\n",
      "Epoch 20/70\n",
      "105/105 [==============================] - 0s 2ms/step - loss: 0.0228 - acc: 0.9698 - val_loss: 0.0308 - val_acc: 0.9624\n",
      "Epoch 21/70\n",
      "105/105 [==============================] - 0s 3ms/step - loss: 0.0221 - acc: 0.9719 - val_loss: 0.0308 - val_acc: 0.9606\n",
      "Epoch 22/70\n",
      "105/105 [==============================] - 0s 2ms/step - loss: 0.0222 - acc: 0.9719 - val_loss: 0.0305 - val_acc: 0.9606\n",
      "Epoch 23/70\n",
      "105/105 [==============================] - 0s 2ms/step - loss: 0.0215 - acc: 0.9719 - val_loss: 0.0305 - val_acc: 0.9606\n",
      "Epoch 24/70\n",
      "105/105 [==============================] - 0s 2ms/step - loss: 0.0210 - acc: 0.9749 - val_loss: 0.0313 - val_acc: 0.9612\n",
      "Epoch 25/70\n",
      "105/105 [==============================] - 0s 2ms/step - loss: 0.0213 - acc: 0.9740 - val_loss: 0.0313 - val_acc: 0.9588\n",
      "Epoch 26/70\n",
      "105/105 [==============================] - 0s 2ms/step - loss: 0.0212 - acc: 0.9740 - val_loss: 0.0309 - val_acc: 0.9618\n",
      "Epoch 27/70\n",
      "105/105 [==============================] - 0s 2ms/step - loss: 0.0206 - acc: 0.9746 - val_loss: 0.0316 - val_acc: 0.9588\n",
      "Epoch 28/70\n",
      "105/105 [==============================] - 0s 2ms/step - loss: 0.0212 - acc: 0.9734 - val_loss: 0.0312 - val_acc: 0.9618\n",
      "Epoch 29/70\n",
      "105/105 [==============================] - 0s 2ms/step - loss: 0.0206 - acc: 0.9755 - val_loss: 0.0309 - val_acc: 0.9612\n",
      "Epoch 30/70\n",
      "105/105 [==============================] - 0s 2ms/step - loss: 0.0205 - acc: 0.9740 - val_loss: 0.0309 - val_acc: 0.9636\n",
      "Epoch 31/70\n",
      "105/105 [==============================] - 0s 2ms/step - loss: 0.0200 - acc: 0.9743 - val_loss: 0.0315 - val_acc: 0.9612\n",
      "Epoch 32/70\n",
      "105/105 [==============================] - 0s 2ms/step - loss: 0.0199 - acc: 0.9755 - val_loss: 0.0314 - val_acc: 0.9594\n",
      "Epoch 33/70\n",
      "105/105 [==============================] - 0s 2ms/step - loss: 0.0196 - acc: 0.9767 - val_loss: 0.0316 - val_acc: 0.9600\n",
      "Epoch 34/70\n",
      "105/105 [==============================] - 0s 2ms/step - loss: 0.0195 - acc: 0.9767 - val_loss: 0.0317 - val_acc: 0.9624\n",
      "Epoch 35/70\n",
      "105/105 [==============================] - 0s 2ms/step - loss: 0.0208 - acc: 0.9737 - val_loss: 0.0314 - val_acc: 0.9612\n",
      "Epoch 36/70\n",
      "105/105 [==============================] - 0s 2ms/step - loss: 0.0190 - acc: 0.9755 - val_loss: 0.0329 - val_acc: 0.9545\n",
      "Epoch 37/70\n",
      "105/105 [==============================] - 0s 2ms/step - loss: 0.0204 - acc: 0.9746 - val_loss: 0.0319 - val_acc: 0.9612\n",
      "Epoch 38/70\n",
      "105/105 [==============================] - 0s 2ms/step - loss: 0.0184 - acc: 0.9779 - val_loss: 0.0318 - val_acc: 0.9618\n",
      "Epoch 39/70\n",
      "105/105 [==============================] - 0s 2ms/step - loss: 0.0188 - acc: 0.9770 - val_loss: 0.0322 - val_acc: 0.9606\n",
      "Epoch 40/70\n",
      "105/105 [==============================] - 0s 2ms/step - loss: 0.0177 - acc: 0.9794 - val_loss: 0.0328 - val_acc: 0.9552\n",
      "Epoch 41/70\n",
      "105/105 [==============================] - 0s 2ms/step - loss: 0.0184 - acc: 0.9785 - val_loss: 0.0325 - val_acc: 0.9612\n",
      "Epoch 42/70\n",
      "105/105 [==============================] - 0s 2ms/step - loss: 0.0172 - acc: 0.9800 - val_loss: 0.0338 - val_acc: 0.9527\n",
      "Epoch 43/70\n",
      "105/105 [==============================] - 0s 2ms/step - loss: 0.0181 - acc: 0.9791 - val_loss: 0.0324 - val_acc: 0.9606\n",
      "Epoch 44/70\n",
      "105/105 [==============================] - 0s 2ms/step - loss: 0.0173 - acc: 0.9824 - val_loss: 0.0362 - val_acc: 0.9521\n",
      "Epoch 45/70\n",
      "105/105 [==============================] - 0s 2ms/step - loss: 0.0177 - acc: 0.9785 - val_loss: 0.0335 - val_acc: 0.9582\n",
      "Epoch 46/70\n",
      "105/105 [==============================] - 0s 2ms/step - loss: 0.0173 - acc: 0.9803 - val_loss: 0.0329 - val_acc: 0.9600\n",
      "Epoch 47/70\n",
      "105/105 [==============================] - 0s 2ms/step - loss: 0.0163 - acc: 0.9824 - val_loss: 0.0333 - val_acc: 0.9594\n",
      "Epoch 48/70\n",
      "105/105 [==============================] - 0s 2ms/step - loss: 0.0174 - acc: 0.9779 - val_loss: 0.0331 - val_acc: 0.9588\n",
      "Epoch 49/70\n",
      "105/105 [==============================] - 0s 2ms/step - loss: 0.0168 - acc: 0.9800 - val_loss: 0.0340 - val_acc: 0.9582\n",
      "Epoch 50/70\n",
      "105/105 [==============================] - 0s 2ms/step - loss: 0.0173 - acc: 0.9800 - val_loss: 0.0338 - val_acc: 0.9618\n",
      "Epoch 51/70\n",
      "105/105 [==============================] - 0s 2ms/step - loss: 0.0166 - acc: 0.9815 - val_loss: 0.0334 - val_acc: 0.9624\n",
      "Epoch 52/70\n",
      "105/105 [==============================] - 0s 2ms/step - loss: 0.0159 - acc: 0.9833 - val_loss: 0.0340 - val_acc: 0.9612\n",
      "Epoch 53/70\n",
      "105/105 [==============================] - 0s 2ms/step - loss: 0.0154 - acc: 0.9839 - val_loss: 0.0350 - val_acc: 0.9539\n",
      "Epoch 54/70\n",
      "105/105 [==============================] - 0s 2ms/step - loss: 0.0166 - acc: 0.9806 - val_loss: 0.0343 - val_acc: 0.9564\n",
      "Epoch 55/70\n",
      "105/105 [==============================] - 0s 2ms/step - loss: 0.0153 - acc: 0.9842 - val_loss: 0.0347 - val_acc: 0.9570\n",
      "Epoch 56/70\n",
      "105/105 [==============================] - 0s 2ms/step - loss: 0.0157 - acc: 0.9821 - val_loss: 0.0347 - val_acc: 0.9533\n",
      "Epoch 57/70\n",
      "105/105 [==============================] - 0s 2ms/step - loss: 0.0145 - acc: 0.9851 - val_loss: 0.0339 - val_acc: 0.9576\n",
      "Epoch 58/70\n",
      "105/105 [==============================] - 0s 2ms/step - loss: 0.0147 - acc: 0.9836 - val_loss: 0.0356 - val_acc: 0.9539\n",
      "Epoch 59/70\n",
      "105/105 [==============================] - 0s 2ms/step - loss: 0.0148 - acc: 0.9821 - val_loss: 0.0354 - val_acc: 0.9570\n",
      "Epoch 60/70\n",
      "105/105 [==============================] - 0s 2ms/step - loss: 0.0142 - acc: 0.9836 - val_loss: 0.0358 - val_acc: 0.9552\n",
      "Epoch 61/70\n",
      "105/105 [==============================] - 0s 2ms/step - loss: 0.0141 - acc: 0.9851 - val_loss: 0.0347 - val_acc: 0.9570\n",
      "Epoch 62/70\n"
     ]
    },
    {
     "name": "stdout",
     "output_type": "stream",
     "text": [
      "105/105 [==============================] - 0s 2ms/step - loss: 0.0142 - acc: 0.9851 - val_loss: 0.0349 - val_acc: 0.9588\n",
      "Epoch 63/70\n",
      "105/105 [==============================] - 0s 2ms/step - loss: 0.0134 - acc: 0.9854 - val_loss: 0.0367 - val_acc: 0.9545\n",
      "Epoch 64/70\n",
      "105/105 [==============================] - 0s 2ms/step - loss: 0.0154 - acc: 0.9824 - val_loss: 0.0346 - val_acc: 0.9588\n",
      "Epoch 65/70\n",
      "105/105 [==============================] - 0s 2ms/step - loss: 0.0127 - acc: 0.9866 - val_loss: 0.0357 - val_acc: 0.9570\n",
      "Epoch 66/70\n",
      "105/105 [==============================] - 0s 2ms/step - loss: 0.0136 - acc: 0.9851 - val_loss: 0.0355 - val_acc: 0.9594\n",
      "Epoch 67/70\n",
      "105/105 [==============================] - 0s 2ms/step - loss: 0.0132 - acc: 0.9863 - val_loss: 0.0375 - val_acc: 0.9533\n",
      "Epoch 68/70\n",
      "105/105 [==============================] - 0s 2ms/step - loss: 0.0131 - acc: 0.9866 - val_loss: 0.0383 - val_acc: 0.9521\n",
      "Epoch 69/70\n",
      "105/105 [==============================] - 0s 2ms/step - loss: 0.0126 - acc: 0.9860 - val_loss: 0.0398 - val_acc: 0.9515\n",
      "Epoch 70/70\n",
      "105/105 [==============================] - 0s 2ms/step - loss: 0.0133 - acc: 0.9851 - val_loss: 0.0388 - val_acc: 0.9515\n",
      "157/157 [==============================] - 0s 1ms/step - loss: 0.0219 - acc: 0.9744\n"
     ]
    }
   ],
   "source": [
    "model2, training2, results2 = rn([2, 16, 8, 1], 'dead', 70)"
   ]
  },
  {
   "cell_type": "code",
   "execution_count": 74,
   "metadata": {},
   "outputs": [
    {
     "name": "stdout",
     "output_type": "stream",
     "text": [
      "======================\n",
      "| CALIDAD DEL MODELO |\n",
      "======================\n",
      " - Precisión               : 97.44%\n",
      " - Pérdida                 : 2.19%\n",
      "\n",
      "===================================\n",
      "| PROCESO DE APRENDIZAJE DEL MODELO |\n",
      "===================================\n"
     ]
    },
    {
     "data": {
      "image/png": "[encoded data removed]",
      "text/plain": [
       "<Figure size 432x288 with 1 Axes>"
      ]
     },
     "metadata": {
      "needs_background": "light"
     },
     "output_type": "display_data"
    },
    {
     "data": {
      "image/png": "[encoded data removed]",
      "text/plain": [
       "<Figure size 432x288 with 1 Axes>"
      ]
     },
     "metadata": {
      "needs_background": "light"
     },
     "output_type": "display_data"
    }
   ],
   "source": [
    "print('======================')\n",
    "print('| CALIDAD DEL MODELO |')\n",
    "print('======================')\n",
    "print(' - Precisión               : '+str(np.round((100*results2[1]),2))+'%')\n",
    "print(' - Pérdida                 : '+str(np.round((100*results2[0]),2))+'%')\n",
    "print('')\n",
    "\n",
    "print('===================================')\n",
    "print('| PROCESO DE APRENDIZAJE DEL MODELO |')\n",
    "print('===================================')\n",
    "plt.ylim([0,0.3])\n",
    "plt.plot(training2.history[\"loss\"])\n",
    "plt.plot(training2.history[\"val_loss\"])\n",
    "plt.title('model loss')\n",
    "plt.ylabel('loss')\n",
    "plt.xlabel('epoch')\n",
    "plt.legend(['train', 'validation'], loc='upper left')\n",
    "plt.show()\n",
    "\n",
    "plt.ylim([0.7,1])\n",
    "plt.plot(training2.history[\"acc\"])\n",
    "plt.plot(training2.history[\"val_acc\"])\n",
    "plt.title('model accuracy')\n",
    "plt.ylabel('accuracy')\n",
    "plt.xlabel('epoch')\n",
    "plt.legend(['train', 'validation'], loc='upper left')\n",
    "plt.show()\n"
   ]
  },
  {
   "cell_type": "markdown",
   "metadata": {},
   "source": [
    "Volvemos a observar overfitting. Probaremos con un modelo más pequeño."
   ]
  },
  {
   "cell_type": "markdown",
   "metadata": {},
   "source": [
    "#### Estructura 8-2-1"
   ]
  },
  {
   "cell_type": "code",
   "execution_count": 75,
   "metadata": {},
   "outputs": [
    {
     "name": "stdout",
     "output_type": "stream",
     "text": [
      "Epoch 1/30\n",
      "105/105 [==============================] - 1s 3ms/step - loss: 0.2673 - acc: 0.5768 - val_loss: 0.1604 - val_acc: 0.9618\n",
      "Epoch 2/30\n",
      "105/105 [==============================] - 0s 2ms/step - loss: 0.0738 - acc: 0.9680 - val_loss: 0.0422 - val_acc: 0.9624\n",
      "Epoch 3/30\n",
      "105/105 [==============================] - 0s 2ms/step - loss: 0.0348 - acc: 0.9680 - val_loss: 0.0378 - val_acc: 0.9624\n",
      "Epoch 4/30\n",
      "105/105 [==============================] - 0s 2ms/step - loss: 0.0325 - acc: 0.9680 - val_loss: 0.0371 - val_acc: 0.9624\n",
      "Epoch 5/30\n",
      "105/105 [==============================] - 0s 2ms/step - loss: 0.0319 - acc: 0.9680 - val_loss: 0.0369 - val_acc: 0.9624\n",
      "Epoch 6/30\n",
      "105/105 [==============================] - 0s 2ms/step - loss: 0.0317 - acc: 0.9680 - val_loss: 0.0368 - val_acc: 0.9624\n",
      "Epoch 7/30\n",
      "105/105 [==============================] - 0s 2ms/step - loss: 0.0316 - acc: 0.9680 - val_loss: 0.0368 - val_acc: 0.9624\n",
      "Epoch 8/30\n",
      "105/105 [==============================] - 0s 2ms/step - loss: 0.0315 - acc: 0.9680 - val_loss: 0.0368 - val_acc: 0.9624\n",
      "Epoch 9/30\n",
      "105/105 [==============================] - 0s 2ms/step - loss: 0.0315 - acc: 0.9680 - val_loss: 0.0368 - val_acc: 0.9624\n",
      "Epoch 10/30\n",
      "105/105 [==============================] - 0s 2ms/step - loss: 0.0315 - acc: 0.9680 - val_loss: 0.0368 - val_acc: 0.9624\n",
      "Epoch 11/30\n",
      "105/105 [==============================] - 0s 2ms/step - loss: 0.0315 - acc: 0.9680 - val_loss: 0.0367 - val_acc: 0.9624\n",
      "Epoch 12/30\n",
      "105/105 [==============================] - 0s 2ms/step - loss: 0.0314 - acc: 0.9680 - val_loss: 0.0367 - val_acc: 0.9624\n",
      "Epoch 13/30\n",
      "105/105 [==============================] - 0s 2ms/step - loss: 0.0314 - acc: 0.9680 - val_loss: 0.0367 - val_acc: 0.9624\n",
      "Epoch 14/30\n",
      "105/105 [==============================] - 0s 2ms/step - loss: 0.0314 - acc: 0.9680 - val_loss: 0.0366 - val_acc: 0.9624\n",
      "Epoch 15/30\n",
      "105/105 [==============================] - 0s 2ms/step - loss: 0.0313 - acc: 0.9680 - val_loss: 0.0366 - val_acc: 0.9624\n",
      "Epoch 16/30\n",
      "105/105 [==============================] - 0s 2ms/step - loss: 0.0313 - acc: 0.9680 - val_loss: 0.0366 - val_acc: 0.9624\n",
      "Epoch 17/30\n",
      "105/105 [==============================] - 0s 2ms/step - loss: 0.0313 - acc: 0.9680 - val_loss: 0.0365 - val_acc: 0.9624\n",
      "Epoch 18/30\n",
      "105/105 [==============================] - 0s 2ms/step - loss: 0.0312 - acc: 0.9680 - val_loss: 0.0364 - val_acc: 0.9624\n",
      "Epoch 19/30\n",
      "105/105 [==============================] - 0s 2ms/step - loss: 0.0312 - acc: 0.9680 - val_loss: 0.0364 - val_acc: 0.9624\n",
      "Epoch 20/30\n",
      "105/105 [==============================] - 0s 2ms/step - loss: 0.0311 - acc: 0.9680 - val_loss: 0.0363 - val_acc: 0.9624\n",
      "Epoch 21/30\n",
      "105/105 [==============================] - 0s 2ms/step - loss: 0.0311 - acc: 0.9680 - val_loss: 0.0362 - val_acc: 0.9624\n",
      "Epoch 22/30\n",
      "105/105 [==============================] - 0s 2ms/step - loss: 0.0310 - acc: 0.9680 - val_loss: 0.0361 - val_acc: 0.9624\n",
      "Epoch 23/30\n",
      "105/105 [==============================] - 0s 3ms/step - loss: 0.0309 - acc: 0.9680 - val_loss: 0.0360 - val_acc: 0.9624\n",
      "Epoch 24/30\n",
      "105/105 [==============================] - 0s 3ms/step - loss: 0.0308 - acc: 0.9680 - val_loss: 0.0359 - val_acc: 0.9624\n",
      "Epoch 25/30\n",
      "105/105 [==============================] - 0s 2ms/step - loss: 0.0306 - acc: 0.9680 - val_loss: 0.0356 - val_acc: 0.9624\n",
      "Epoch 26/30\n",
      "105/105 [==============================] - 0s 2ms/step - loss: 0.0303 - acc: 0.9680 - val_loss: 0.0353 - val_acc: 0.9624\n",
      "Epoch 27/30\n",
      "105/105 [==============================] - 0s 2ms/step - loss: 0.0298 - acc: 0.9680 - val_loss: 0.0346 - val_acc: 0.9624\n",
      "Epoch 28/30\n",
      "105/105 [==============================] - 0s 2ms/step - loss: 0.0292 - acc: 0.9680 - val_loss: 0.0339 - val_acc: 0.9624\n",
      "Epoch 29/30\n",
      "105/105 [==============================] - 0s 3ms/step - loss: 0.0287 - acc: 0.9680 - val_loss: 0.0333 - val_acc: 0.9624\n",
      "Epoch 30/30\n",
      "105/105 [==============================] - 0s 2ms/step - loss: 0.0281 - acc: 0.9680 - val_loss: 0.0329 - val_acc: 0.9624\n",
      "157/157 [==============================] - 0s 1ms/step - loss: 0.0294 - acc: 0.9662\n"
     ]
    }
   ],
   "source": [
    "model2_1, training2_1, results2_1 = rn([2, 8, 2, 1], 'dead', 30)"
   ]
  },
  {
   "cell_type": "code",
   "execution_count": 76,
   "metadata": {},
   "outputs": [
    {
     "name": "stdout",
     "output_type": "stream",
     "text": [
      "======================\n",
      "| CALIDAD DEL MODELO |\n",
      "======================\n",
      " - Precisión               : 96.62%\n",
      " - Pérdida                 : 2.94%\n",
      "\n",
      "===================================\n",
      "| PROCESO DE APRENDIZAJE DEL MODELO |\n",
      "===================================\n"
     ]
    },
    {
     "data": {
      "image/png": "[encoded data removed]",
      "text/plain": [
       "<Figure size 432x288 with 1 Axes>"
      ]
     },
     "metadata": {
      "needs_background": "light"
     },
     "output_type": "display_data"
    },
    {
     "data": {
      "image/png": "[encoded data removed]",
      "text/plain": [
       "<Figure size 432x288 with 1 Axes>"
      ]
     },
     "metadata": {
      "needs_background": "light"
     },
     "output_type": "display_data"
    }
   ],
   "source": [
    "print('======================')\n",
    "print('| CALIDAD DEL MODELO |')\n",
    "print('======================')\n",
    "print(' - Precisión               : '+str(np.round((100*results2_1[1]),2))+'%')\n",
    "print(' - Pérdida                 : '+str(np.round((100*results2_1[0]),2))+'%')\n",
    "print('')\n",
    "\n",
    "print('===================================')\n",
    "print('| PROCESO DE APRENDIZAJE DEL MODELO |')\n",
    "print('===================================')\n",
    "plt.ylim([0,0.3])\n",
    "plt.plot(training2_1.history[\"loss\"])\n",
    "plt.plot(training2_1.history[\"val_loss\"])\n",
    "plt.title('model loss')\n",
    "plt.ylabel('loss')\n",
    "plt.xlabel('epoch')\n",
    "plt.legend(['train', 'validation'], loc='upper left')\n",
    "plt.show()\n",
    "\n",
    "plt.ylim([0.7,1])\n",
    "plt.plot(training2_1.history[\"acc\"])\n",
    "plt.plot(training2_1.history[\"val_acc\"])\n",
    "plt.title('model accuracy')\n",
    "plt.ylabel('accuracy')\n",
    "plt.xlabel('epoch')\n",
    "plt.legend(['train', 'validation'], loc='upper left')\n",
    "plt.show()"
   ]
  },
  {
   "cell_type": "markdown",
   "metadata": {},
   "source": [
    "Aunque continúa habiendo una cierta discrepancia entre los resultados de entrenamiento y los da validación, vemos que las curvas son prácticamente paralelas y este modelo nos da menos pérdida que otros modelos que ofrecen mejores resultados."
   ]
  },
  {
   "cell_type": "markdown",
   "metadata": {},
   "source": [
    "### Red neuronal sobre insomnio"
   ]
  },
  {
   "cell_type": "markdown",
   "metadata": {},
   "source": [
    "#### Estructura 16-8-1"
   ]
  },
  {
   "cell_type": "code",
   "execution_count": 77,
   "metadata": {},
   "outputs": [
    {
     "name": "stdout",
     "output_type": "stream",
     "text": [
      "Epoch 1/70\n",
      "105/105 [==============================] - 1s 3ms/step - loss: 0.2657 - acc: 0.6094 - val_loss: 0.2306 - val_acc: 0.6515\n",
      "Epoch 2/70\n",
      "105/105 [==============================] - 0s 2ms/step - loss: 0.2146 - acc: 0.6766 - val_loss: 0.2079 - val_acc: 0.6976\n",
      "Epoch 3/70\n",
      "105/105 [==============================] - 0s 2ms/step - loss: 0.1996 - acc: 0.6972 - val_loss: 0.1938 - val_acc: 0.7248\n",
      "Epoch 4/70\n",
      "105/105 [==============================] - 0s 2ms/step - loss: 0.1909 - acc: 0.7160 - val_loss: 0.1866 - val_acc: 0.7297\n",
      "Epoch 5/70\n",
      "105/105 [==============================] - 0s 2ms/step - loss: 0.1868 - acc: 0.7265 - val_loss: 0.1862 - val_acc: 0.7303\n",
      "Epoch 6/70\n",
      "105/105 [==============================] - 0s 2ms/step - loss: 0.1845 - acc: 0.7342 - val_loss: 0.1846 - val_acc: 0.7309\n",
      "Epoch 7/70\n",
      "105/105 [==============================] - 0s 2ms/step - loss: 0.1820 - acc: 0.7253 - val_loss: 0.1829 - val_acc: 0.7327\n",
      "Epoch 8/70\n",
      "105/105 [==============================] - 0s 2ms/step - loss: 0.1791 - acc: 0.7375 - val_loss: 0.1807 - val_acc: 0.7376\n",
      "Epoch 9/70\n",
      "105/105 [==============================] - 0s 2ms/step - loss: 0.1789 - acc: 0.7313 - val_loss: 0.1840 - val_acc: 0.7364\n",
      "Epoch 10/70\n",
      "105/105 [==============================] - 0s 2ms/step - loss: 0.1782 - acc: 0.7342 - val_loss: 0.1780 - val_acc: 0.7406\n",
      "Epoch 11/70\n",
      "105/105 [==============================] - 0s 2ms/step - loss: 0.1765 - acc: 0.7390 - val_loss: 0.1801 - val_acc: 0.7345\n",
      "Epoch 12/70\n",
      "105/105 [==============================] - 0s 2ms/step - loss: 0.1770 - acc: 0.7390 - val_loss: 0.1785 - val_acc: 0.7436\n",
      "Epoch 13/70\n",
      "105/105 [==============================] - 0s 2ms/step - loss: 0.1762 - acc: 0.7402 - val_loss: 0.1780 - val_acc: 0.7442\n",
      "Epoch 14/70\n",
      "105/105 [==============================] - 0s 2ms/step - loss: 0.1740 - acc: 0.7408 - val_loss: 0.1791 - val_acc: 0.7436\n",
      "Epoch 15/70\n",
      "105/105 [==============================] - 0s 2ms/step - loss: 0.1750 - acc: 0.7405 - val_loss: 0.1783 - val_acc: 0.7448\n",
      "Epoch 16/70\n",
      "105/105 [==============================] - 0s 2ms/step - loss: 0.1727 - acc: 0.7402 - val_loss: 0.1797 - val_acc: 0.7418\n",
      "Epoch 17/70\n",
      "105/105 [==============================] - 0s 2ms/step - loss: 0.1749 - acc: 0.7393 - val_loss: 0.1787 - val_acc: 0.7406\n",
      "Epoch 18/70\n",
      "105/105 [==============================] - 0s 2ms/step - loss: 0.1727 - acc: 0.7423 - val_loss: 0.1784 - val_acc: 0.7424\n",
      "Epoch 19/70\n",
      "105/105 [==============================] - 0s 2ms/step - loss: 0.1731 - acc: 0.7393 - val_loss: 0.1780 - val_acc: 0.7473\n",
      "Epoch 20/70\n",
      "105/105 [==============================] - 0s 2ms/step - loss: 0.1724 - acc: 0.7441 - val_loss: 0.1904 - val_acc: 0.7158\n",
      "Epoch 21/70\n",
      "105/105 [==============================] - 0s 2ms/step - loss: 0.1729 - acc: 0.7471 - val_loss: 0.1783 - val_acc: 0.7424\n",
      "Epoch 22/70\n",
      "105/105 [==============================] - 0s 2ms/step - loss: 0.1729 - acc: 0.7411 - val_loss: 0.1821 - val_acc: 0.7358\n",
      "Epoch 23/70\n",
      "105/105 [==============================] - 0s 2ms/step - loss: 0.1718 - acc: 0.7465 - val_loss: 0.1808 - val_acc: 0.7370\n",
      "Epoch 24/70\n",
      "105/105 [==============================] - 0s 2ms/step - loss: 0.1726 - acc: 0.7444 - val_loss: 0.1811 - val_acc: 0.7364\n",
      "Epoch 25/70\n",
      "105/105 [==============================] - 0s 2ms/step - loss: 0.1702 - acc: 0.7468 - val_loss: 0.1821 - val_acc: 0.7345\n",
      "Epoch 26/70\n",
      "105/105 [==============================] - 0s 2ms/step - loss: 0.1710 - acc: 0.7450 - val_loss: 0.1985 - val_acc: 0.7097\n",
      "Epoch 27/70\n",
      "105/105 [==============================] - 0s 2ms/step - loss: 0.1707 - acc: 0.7465 - val_loss: 0.1799 - val_acc: 0.7376\n",
      "Epoch 28/70\n",
      "105/105 [==============================] - 0s 2ms/step - loss: 0.1724 - acc: 0.7372 - val_loss: 0.1796 - val_acc: 0.7388\n",
      "Epoch 29/70\n",
      "105/105 [==============================] - 0s 2ms/step - loss: 0.1696 - acc: 0.7501 - val_loss: 0.1796 - val_acc: 0.7412\n",
      "Epoch 30/70\n",
      "105/105 [==============================] - 0s 2ms/step - loss: 0.1688 - acc: 0.7501 - val_loss: 0.1807 - val_acc: 0.7376\n",
      "Epoch 31/70\n",
      "105/105 [==============================] - 0s 2ms/step - loss: 0.1708 - acc: 0.7513 - val_loss: 0.1801 - val_acc: 0.7358\n",
      "Epoch 32/70\n",
      "105/105 [==============================] - 0s 2ms/step - loss: 0.1683 - acc: 0.7477 - val_loss: 0.1800 - val_acc: 0.7364\n",
      "Epoch 33/70\n",
      "105/105 [==============================] - 0s 2ms/step - loss: 0.1694 - acc: 0.7522 - val_loss: 0.1805 - val_acc: 0.7321\n",
      "Epoch 34/70\n",
      "105/105 [==============================] - 0s 2ms/step - loss: 0.1714 - acc: 0.7462 - val_loss: 0.1822 - val_acc: 0.7376\n",
      "Epoch 35/70\n",
      "105/105 [==============================] - 0s 2ms/step - loss: 0.1702 - acc: 0.7495 - val_loss: 0.1805 - val_acc: 0.7321\n",
      "Epoch 36/70\n",
      "105/105 [==============================] - 0s 2ms/step - loss: 0.1694 - acc: 0.7495 - val_loss: 0.1824 - val_acc: 0.7333\n",
      "Epoch 37/70\n",
      "105/105 [==============================] - 0s 2ms/step - loss: 0.1686 - acc: 0.7498 - val_loss: 0.1811 - val_acc: 0.7315\n",
      "Epoch 38/70\n",
      "105/105 [==============================] - 0s 3ms/step - loss: 0.1685 - acc: 0.7486 - val_loss: 0.1812 - val_acc: 0.7370\n",
      "Epoch 39/70\n",
      "105/105 [==============================] - 0s 2ms/step - loss: 0.1682 - acc: 0.7495 - val_loss: 0.1912 - val_acc: 0.7248\n",
      "Epoch 40/70\n",
      "105/105 [==============================] - 0s 3ms/step - loss: 0.1674 - acc: 0.7507 - val_loss: 0.1862 - val_acc: 0.7267\n",
      "Epoch 41/70\n",
      "105/105 [==============================] - 0s 2ms/step - loss: 0.1662 - acc: 0.7537 - val_loss: 0.1819 - val_acc: 0.7394\n",
      "Epoch 42/70\n",
      "105/105 [==============================] - 0s 2ms/step - loss: 0.1665 - acc: 0.7516 - val_loss: 0.1828 - val_acc: 0.7285\n",
      "Epoch 43/70\n",
      "105/105 [==============================] - 0s 2ms/step - loss: 0.1667 - acc: 0.7528 - val_loss: 0.1831 - val_acc: 0.7309\n",
      "Epoch 44/70\n",
      "105/105 [==============================] - 0s 2ms/step - loss: 0.1667 - acc: 0.7519 - val_loss: 0.1828 - val_acc: 0.7333\n",
      "Epoch 45/70\n",
      "105/105 [==============================] - 0s 2ms/step - loss: 0.1674 - acc: 0.7492 - val_loss: 0.1817 - val_acc: 0.7309\n",
      "Epoch 46/70\n",
      "105/105 [==============================] - 0s 2ms/step - loss: 0.1662 - acc: 0.7516 - val_loss: 0.1822 - val_acc: 0.7315\n",
      "Epoch 47/70\n",
      "105/105 [==============================] - 0s 2ms/step - loss: 0.1667 - acc: 0.7528 - val_loss: 0.1855 - val_acc: 0.7212\n",
      "Epoch 48/70\n",
      "105/105 [==============================] - 0s 2ms/step - loss: 0.1668 - acc: 0.7546 - val_loss: 0.1860 - val_acc: 0.7255\n",
      "Epoch 49/70\n",
      "105/105 [==============================] - 0s 2ms/step - loss: 0.1656 - acc: 0.7540 - val_loss: 0.1826 - val_acc: 0.7309\n",
      "Epoch 50/70\n",
      "105/105 [==============================] - 0s 2ms/step - loss: 0.1648 - acc: 0.7563 - val_loss: 0.1839 - val_acc: 0.7261\n",
      "Epoch 51/70\n",
      "105/105 [==============================] - 0s 4ms/step - loss: 0.1645 - acc: 0.7572 - val_loss: 0.1853 - val_acc: 0.7285\n",
      "Epoch 52/70\n",
      "105/105 [==============================] - 0s 3ms/step - loss: 0.1642 - acc: 0.7560 - val_loss: 0.1852 - val_acc: 0.7261\n",
      "Epoch 53/70\n",
      "105/105 [==============================] - 0s 2ms/step - loss: 0.1642 - acc: 0.7537 - val_loss: 0.1835 - val_acc: 0.7273\n",
      "Epoch 54/70\n",
      "105/105 [==============================] - 0s 2ms/step - loss: 0.1653 - acc: 0.7566 - val_loss: 0.1847 - val_acc: 0.7255\n",
      "Epoch 55/70\n",
      "105/105 [==============================] - 0s 2ms/step - loss: 0.1664 - acc: 0.7543 - val_loss: 0.1845 - val_acc: 0.7267\n",
      "Epoch 56/70\n",
      "105/105 [==============================] - 0s 2ms/step - loss: 0.1639 - acc: 0.7560 - val_loss: 0.1896 - val_acc: 0.7176\n",
      "Epoch 57/70\n",
      "105/105 [==============================] - 0s 2ms/step - loss: 0.1653 - acc: 0.7528 - val_loss: 0.1849 - val_acc: 0.7267\n",
      "Epoch 58/70\n",
      "105/105 [==============================] - 0s 2ms/step - loss: 0.1623 - acc: 0.7590 - val_loss: 0.1866 - val_acc: 0.7273\n",
      "Epoch 59/70\n",
      "105/105 [==============================] - 0s 2ms/step - loss: 0.1624 - acc: 0.7599 - val_loss: 0.1909 - val_acc: 0.7212\n",
      "Epoch 60/70\n",
      "105/105 [==============================] - 0s 2ms/step - loss: 0.1626 - acc: 0.7572 - val_loss: 0.1845 - val_acc: 0.7285\n",
      "Epoch 61/70\n",
      "105/105 [==============================] - 0s 2ms/step - loss: 0.1622 - acc: 0.7623 - val_loss: 0.1866 - val_acc: 0.7248\n",
      "Epoch 62/70\n"
     ]
    },
    {
     "name": "stdout",
     "output_type": "stream",
     "text": [
      "105/105 [==============================] - 0s 2ms/step - loss: 0.1616 - acc: 0.7635 - val_loss: 0.1937 - val_acc: 0.7188\n",
      "Epoch 63/70\n",
      "105/105 [==============================] - 0s 2ms/step - loss: 0.1632 - acc: 0.7587 - val_loss: 0.1859 - val_acc: 0.7200\n",
      "Epoch 64/70\n",
      "105/105 [==============================] - 0s 2ms/step - loss: 0.1622 - acc: 0.7563 - val_loss: 0.1884 - val_acc: 0.7200\n",
      "Epoch 65/70\n",
      "105/105 [==============================] - 0s 2ms/step - loss: 0.1627 - acc: 0.7560 - val_loss: 0.1877 - val_acc: 0.7176\n",
      "Epoch 66/70\n",
      "105/105 [==============================] - 0s 2ms/step - loss: 0.1627 - acc: 0.7566 - val_loss: 0.1869 - val_acc: 0.7218\n",
      "Epoch 67/70\n",
      "105/105 [==============================] - 0s 3ms/step - loss: 0.1617 - acc: 0.7632 - val_loss: 0.1852 - val_acc: 0.7279\n",
      "Epoch 68/70\n",
      "105/105 [==============================] - 0s 2ms/step - loss: 0.1613 - acc: 0.7620 - val_loss: 0.1867 - val_acc: 0.7242\n",
      "Epoch 69/70\n",
      "105/105 [==============================] - 0s 2ms/step - loss: 0.1620 - acc: 0.7608 - val_loss: 0.1865 - val_acc: 0.7236\n",
      "Epoch 70/70\n",
      "105/105 [==============================] - 0s 2ms/step - loss: 0.1622 - acc: 0.7614 - val_loss: 0.1894 - val_acc: 0.7188\n",
      "157/157 [==============================] - 0s 1ms/step - loss: 0.1714 - acc: 0.7504\n"
     ]
    }
   ],
   "source": [
    "model3, training3, results3 = rn([2, 16, 8, 1], 'sleep', 70)"
   ]
  },
  {
   "cell_type": "code",
   "execution_count": 78,
   "metadata": {},
   "outputs": [
    {
     "name": "stdout",
     "output_type": "stream",
     "text": [
      "======================\n",
      "| CALIDAD DEL MODELO |\n",
      "======================\n",
      " - Precisión               : 75.04%\n",
      " - Pérdida                 : 17.14%\n",
      "\n",
      "===================================\n",
      "| PROCESO DE APRENDIZAJE DEL MODELO |\n",
      "===================================\n"
     ]
    },
    {
     "data": {
      "image/png": "[encoded data removed]",
      "text/plain": [
       "<Figure size 432x288 with 1 Axes>"
      ]
     },
     "metadata": {
      "needs_background": "light"
     },
     "output_type": "display_data"
    },
    {
     "data": {
      "image/png": "[encoded data removed]",
      "text/plain": [
       "<Figure size 432x288 with 1 Axes>"
      ]
     },
     "metadata": {
      "needs_background": "light"
     },
     "output_type": "display_data"
    }
   ],
   "source": [
    "print('======================')\n",
    "print('| CALIDAD DEL MODELO |')\n",
    "print('======================')\n",
    "print(' - Precisión               : '+str(np.round((100*results3[1]),2))+'%')\n",
    "print(' - Pérdida                 : '+str(np.round((100*results3[0]),2))+'%')\n",
    "print('')\n",
    "\n",
    "print('===================================')\n",
    "print('| PROCESO DE APRENDIZAJE DEL MODELO |')\n",
    "print('===================================')\n",
    "plt.ylim([0.0,0.3])\n",
    "plt.plot(training3.history[\"loss\"])\n",
    "plt.plot(training3.history[\"val_loss\"])\n",
    "plt.title('model loss')\n",
    "plt.ylabel('loss')\n",
    "plt.xlabel('epoch')\n",
    "plt.legend(['train', 'validation'], loc='upper left')\n",
    "plt.show()\n",
    "\n",
    "plt.ylim([0.7,1])\n",
    "plt.plot(training3.history[\"acc\"])\n",
    "plt.plot(training3.history[\"val_acc\"])\n",
    "plt.title('model accuracy')\n",
    "plt.ylabel('accuracy')\n",
    "plt.xlabel('epoch')\n",
    "plt.legend(['train', 'validation'], loc='upper left')\n",
    "plt.show()\n"
   ]
  },
  {
   "cell_type": "markdown",
   "metadata": {},
   "source": [
    "De nuevo overfitting. Probemos con un modelo más pequeño."
   ]
  },
  {
   "cell_type": "markdown",
   "metadata": {},
   "source": [
    "#### Estructura 8-4-1"
   ]
  },
  {
   "cell_type": "code",
   "execution_count": 79,
   "metadata": {},
   "outputs": [
    {
     "name": "stdout",
     "output_type": "stream",
     "text": [
      "Epoch 1/30\n",
      "105/105 [==============================] - 1s 5ms/step - loss: 0.3171 - acc: 0.5094 - val_loss: 0.2292 - val_acc: 0.6321\n",
      "Epoch 2/30\n",
      "105/105 [==============================] - 0s 2ms/step - loss: 0.2247 - acc: 0.6345 - val_loss: 0.2238 - val_acc: 0.6448\n",
      "Epoch 3/30\n",
      "105/105 [==============================] - 0s 3ms/step - loss: 0.2154 - acc: 0.6560 - val_loss: 0.2120 - val_acc: 0.6806\n",
      "Epoch 4/30\n",
      "105/105 [==============================] - 0s 3ms/step - loss: 0.2044 - acc: 0.6963 - val_loss: 0.2014 - val_acc: 0.7042\n",
      "Epoch 5/30\n",
      "105/105 [==============================] - 0s 2ms/step - loss: 0.1949 - acc: 0.7065 - val_loss: 0.1957 - val_acc: 0.7127\n",
      "Epoch 6/30\n",
      "105/105 [==============================] - 0s 2ms/step - loss: 0.1898 - acc: 0.7178 - val_loss: 0.1913 - val_acc: 0.7176\n",
      "Epoch 7/30\n",
      "105/105 [==============================] - 0s 2ms/step - loss: 0.1866 - acc: 0.7208 - val_loss: 0.1874 - val_acc: 0.7267\n",
      "Epoch 8/30\n",
      "105/105 [==============================] - 0s 2ms/step - loss: 0.1842 - acc: 0.7223 - val_loss: 0.1862 - val_acc: 0.7267\n",
      "Epoch 9/30\n",
      "105/105 [==============================] - 0s 3ms/step - loss: 0.1821 - acc: 0.7313 - val_loss: 0.1867 - val_acc: 0.7212\n",
      "Epoch 10/30\n",
      "105/105 [==============================] - 0s 4ms/step - loss: 0.1818 - acc: 0.7313 - val_loss: 0.1829 - val_acc: 0.7255\n",
      "Epoch 11/30\n",
      "105/105 [==============================] - 0s 3ms/step - loss: 0.1799 - acc: 0.7310 - val_loss: 0.1852 - val_acc: 0.7285\n",
      "Epoch 12/30\n",
      "105/105 [==============================] - 0s 3ms/step - loss: 0.1793 - acc: 0.7337 - val_loss: 0.1818 - val_acc: 0.7297\n",
      "Epoch 13/30\n",
      "105/105 [==============================] - 0s 2ms/step - loss: 0.1795 - acc: 0.7366 - val_loss: 0.1809 - val_acc: 0.7321\n",
      "Epoch 14/30\n",
      "105/105 [==============================] - 0s 2ms/step - loss: 0.1772 - acc: 0.7372 - val_loss: 0.1805 - val_acc: 0.7376\n",
      "Epoch 15/30\n",
      "105/105 [==============================] - 0s 2ms/step - loss: 0.1763 - acc: 0.7387 - val_loss: 0.1812 - val_acc: 0.7352\n",
      "Epoch 16/30\n",
      "105/105 [==============================] - 0s 3ms/step - loss: 0.1767 - acc: 0.7345 - val_loss: 0.1804 - val_acc: 0.7297\n",
      "Epoch 17/30\n",
      "105/105 [==============================] - 0s 2ms/step - loss: 0.1751 - acc: 0.7384 - val_loss: 0.1845 - val_acc: 0.7285\n",
      "Epoch 18/30\n",
      "105/105 [==============================] - 0s 2ms/step - loss: 0.1758 - acc: 0.7354 - val_loss: 0.1806 - val_acc: 0.7309\n",
      "Epoch 19/30\n",
      "105/105 [==============================] - 0s 2ms/step - loss: 0.1743 - acc: 0.7399 - val_loss: 0.1809 - val_acc: 0.7291\n",
      "Epoch 20/30\n",
      "105/105 [==============================] - 0s 2ms/step - loss: 0.1740 - acc: 0.7390 - val_loss: 0.1796 - val_acc: 0.7345\n",
      "Epoch 21/30\n",
      "105/105 [==============================] - 0s 2ms/step - loss: 0.1731 - acc: 0.7435 - val_loss: 0.1817 - val_acc: 0.7321\n",
      "Epoch 22/30\n",
      "105/105 [==============================] - 0s 2ms/step - loss: 0.1726 - acc: 0.7456 - val_loss: 0.1804 - val_acc: 0.7364\n",
      "Epoch 23/30\n",
      "105/105 [==============================] - 0s 2ms/step - loss: 0.1726 - acc: 0.7438 - val_loss: 0.1810 - val_acc: 0.7394\n",
      "Epoch 24/30\n",
      "105/105 [==============================] - 0s 2ms/step - loss: 0.1725 - acc: 0.7408 - val_loss: 0.1799 - val_acc: 0.7370\n",
      "Epoch 25/30\n",
      "105/105 [==============================] - 0s 2ms/step - loss: 0.1716 - acc: 0.7504 - val_loss: 0.1807 - val_acc: 0.7358\n",
      "Epoch 26/30\n",
      "105/105 [==============================] - 0s 2ms/step - loss: 0.1712 - acc: 0.7423 - val_loss: 0.1798 - val_acc: 0.7333\n",
      "Epoch 27/30\n",
      "105/105 [==============================] - 0s 2ms/step - loss: 0.1712 - acc: 0.7462 - val_loss: 0.1802 - val_acc: 0.7455\n",
      "Epoch 28/30\n",
      "105/105 [==============================] - 0s 2ms/step - loss: 0.1703 - acc: 0.7480 - val_loss: 0.1838 - val_acc: 0.7285\n",
      "Epoch 29/30\n",
      "105/105 [==============================] - 0s 2ms/step - loss: 0.1701 - acc: 0.7417 - val_loss: 0.1794 - val_acc: 0.7376\n",
      "Epoch 30/30\n",
      "105/105 [==============================] - 0s 3ms/step - loss: 0.1699 - acc: 0.7495 - val_loss: 0.1843 - val_acc: 0.7285\n",
      "157/157 [==============================] - 0s 1ms/step - loss: 0.1753 - acc: 0.7417\n"
     ]
    }
   ],
   "source": [
    "model3_1, training3_1, results3_1 = rn([2, 8, 4, 1], 'sleep', 30)"
   ]
  },
  {
   "cell_type": "code",
   "execution_count": 80,
   "metadata": {},
   "outputs": [
    {
     "name": "stdout",
     "output_type": "stream",
     "text": [
      "======================\n",
      "| CALIDAD DEL MODELO |\n",
      "======================\n",
      " - Precisión               : 74.17%\n",
      " - Pérdida                 : 17.53%\n",
      "\n",
      "===================================\n",
      "| PROCESO DE APRENDIZAJE DEL MODELO |\n",
      "===================================\n"
     ]
    },
    {
     "data": {
      "image/png": "[encoded data removed]",
      "text/plain": [
       "<Figure size 432x288 with 1 Axes>"
      ]
     },
     "metadata": {
      "needs_background": "light"
     },
     "output_type": "display_data"
    },
    {
     "data": {
      "image/png": "[encoded data removed]",
      "text/plain": [
       "<Figure size 432x288 with 1 Axes>"
      ]
     },
     "metadata": {
      "needs_background": "light"
     },
     "output_type": "display_data"
    }
   ],
   "source": [
    "print('======================')\n",
    "print('| CALIDAD DEL MODELO |')\n",
    "print('======================')\n",
    "print(' - Precisión               : '+str(np.round((100*results3_1[1]),2))+'%')\n",
    "print(' - Pérdida                 : '+str(np.round((100*results3_1[0]),2))+'%')\n",
    "print('')\n",
    "\n",
    "print('===================================')\n",
    "print('| PROCESO DE APRENDIZAJE DEL MODELO |')\n",
    "print('===================================')\n",
    "plt.ylim([0.0,0.3])\n",
    "plt.plot(training3_1.history[\"loss\"])\n",
    "plt.plot(training3_1.history[\"val_loss\"])\n",
    "plt.title('model loss')\n",
    "plt.ylabel('loss')\n",
    "plt.xlabel('epoch')\n",
    "plt.legend(['train', 'validation'], loc='upper left')\n",
    "plt.show()\n",
    "\n",
    "plt.ylim([0.7,1])\n",
    "plt.plot(training3_1.history[\"acc\"])\n",
    "plt.plot(training3_1.history[\"val_acc\"])\n",
    "plt.title('model accuracy')\n",
    "plt.ylabel('accuracy')\n",
    "plt.xlabel('epoch')\n",
    "plt.legend(['train', 'validation'], loc='upper left')\n",
    "plt.show()"
   ]
  },
  {
   "cell_type": "markdown",
   "metadata": {},
   "source": [
    "Observamos que el modelo presenta más estabilidad."
   ]
  },
  {
   "cell_type": "markdown",
   "metadata": {},
   "source": [
    "### Red neuronal sobre autoestima"
   ]
  },
  {
   "cell_type": "markdown",
   "metadata": {},
   "source": [
    "#### Estructura 16-8-1"
   ]
  },
  {
   "cell_type": "code",
   "execution_count": 81,
   "metadata": {},
   "outputs": [
    {
     "name": "stdout",
     "output_type": "stream",
     "text": [
      "Epoch 1/70\n",
      "105/105 [==============================] - 1s 3ms/step - loss: 0.1453 - acc: 0.8283 - val_loss: 0.1374 - val_acc: 0.8170\n",
      "Epoch 2/70\n",
      "105/105 [==============================] - 0s 2ms/step - loss: 0.1287 - acc: 0.8330 - val_loss: 0.1258 - val_acc: 0.8267\n",
      "Epoch 3/70\n",
      "105/105 [==============================] - 0s 2ms/step - loss: 0.1166 - acc: 0.8471 - val_loss: 0.1180 - val_acc: 0.8358\n",
      "Epoch 4/70\n",
      "105/105 [==============================] - 0s 2ms/step - loss: 0.1119 - acc: 0.8495 - val_loss: 0.1096 - val_acc: 0.8455\n",
      "Epoch 5/70\n",
      "105/105 [==============================] - 0s 2ms/step - loss: 0.1071 - acc: 0.8548 - val_loss: 0.1063 - val_acc: 0.8570\n",
      "Epoch 6/70\n",
      "105/105 [==============================] - 0s 2ms/step - loss: 0.1033 - acc: 0.8587 - val_loss: 0.1062 - val_acc: 0.8533\n",
      "Epoch 7/70\n",
      "105/105 [==============================] - 0s 2ms/step - loss: 0.0999 - acc: 0.8680 - val_loss: 0.1066 - val_acc: 0.8473\n",
      "Epoch 8/70\n",
      "105/105 [==============================] - 0s 2ms/step - loss: 0.0983 - acc: 0.8668 - val_loss: 0.1026 - val_acc: 0.8661\n",
      "Epoch 9/70\n",
      "105/105 [==============================] - 0s 2ms/step - loss: 0.0968 - acc: 0.8713 - val_loss: 0.1039 - val_acc: 0.8558\n",
      "Epoch 10/70\n",
      "105/105 [==============================] - 0s 2ms/step - loss: 0.0963 - acc: 0.8722 - val_loss: 0.1043 - val_acc: 0.8552\n",
      "Epoch 11/70\n",
      "105/105 [==============================] - 0s 2ms/step - loss: 0.0951 - acc: 0.8710 - val_loss: 0.0992 - val_acc: 0.8673\n",
      "Epoch 12/70\n",
      "105/105 [==============================] - 0s 2ms/step - loss: 0.0941 - acc: 0.8749 - val_loss: 0.0990 - val_acc: 0.8691\n",
      "Epoch 13/70\n",
      "105/105 [==============================] - 0s 2ms/step - loss: 0.0931 - acc: 0.8763 - val_loss: 0.1003 - val_acc: 0.8648\n",
      "Epoch 14/70\n",
      "105/105 [==============================] - 0s 2ms/step - loss: 0.0934 - acc: 0.8757 - val_loss: 0.0995 - val_acc: 0.8679\n",
      "Epoch 15/70\n",
      "105/105 [==============================] - 0s 2ms/step - loss: 0.0921 - acc: 0.8737 - val_loss: 0.0978 - val_acc: 0.8715\n",
      "Epoch 16/70\n",
      "105/105 [==============================] - 0s 2ms/step - loss: 0.0915 - acc: 0.8746 - val_loss: 0.0990 - val_acc: 0.8685\n",
      "Epoch 17/70\n",
      "105/105 [==============================] - 0s 2ms/step - loss: 0.0918 - acc: 0.8793 - val_loss: 0.0982 - val_acc: 0.8679\n",
      "Epoch 18/70\n",
      "105/105 [==============================] - 0s 2ms/step - loss: 0.0906 - acc: 0.8737 - val_loss: 0.0977 - val_acc: 0.8679\n",
      "Epoch 19/70\n",
      "105/105 [==============================] - 0s 2ms/step - loss: 0.0904 - acc: 0.8757 - val_loss: 0.0969 - val_acc: 0.8691\n",
      "Epoch 20/70\n",
      "105/105 [==============================] - 0s 2ms/step - loss: 0.0903 - acc: 0.8763 - val_loss: 0.0985 - val_acc: 0.8679\n",
      "Epoch 21/70\n",
      "105/105 [==============================] - 0s 2ms/step - loss: 0.0891 - acc: 0.8805 - val_loss: 0.0967 - val_acc: 0.8679\n",
      "Epoch 22/70\n",
      "105/105 [==============================] - 0s 2ms/step - loss: 0.0884 - acc: 0.8775 - val_loss: 0.0976 - val_acc: 0.8673\n",
      "Epoch 23/70\n",
      "105/105 [==============================] - 0s 2ms/step - loss: 0.0882 - acc: 0.8832 - val_loss: 0.0975 - val_acc: 0.8655\n",
      "Epoch 24/70\n",
      "105/105 [==============================] - 0s 2ms/step - loss: 0.0878 - acc: 0.8808 - val_loss: 0.1010 - val_acc: 0.8691\n",
      "Epoch 25/70\n",
      "105/105 [==============================] - 0s 2ms/step - loss: 0.0878 - acc: 0.8793 - val_loss: 0.0970 - val_acc: 0.8667\n",
      "Epoch 26/70\n",
      "105/105 [==============================] - 0s 2ms/step - loss: 0.0875 - acc: 0.8814 - val_loss: 0.0998 - val_acc: 0.8655\n",
      "Epoch 27/70\n",
      "105/105 [==============================] - 0s 2ms/step - loss: 0.0864 - acc: 0.8808 - val_loss: 0.0992 - val_acc: 0.8618\n",
      "Epoch 28/70\n",
      "105/105 [==============================] - 0s 2ms/step - loss: 0.0857 - acc: 0.8829 - val_loss: 0.1106 - val_acc: 0.8533\n",
      "Epoch 29/70\n",
      "105/105 [==============================] - 0s 2ms/step - loss: 0.0878 - acc: 0.8808 - val_loss: 0.1002 - val_acc: 0.8624\n",
      "Epoch 30/70\n",
      "105/105 [==============================] - 0s 2ms/step - loss: 0.0875 - acc: 0.8790 - val_loss: 0.0989 - val_acc: 0.8679\n",
      "Epoch 31/70\n",
      "105/105 [==============================] - 0s 2ms/step - loss: 0.0857 - acc: 0.8841 - val_loss: 0.0986 - val_acc: 0.8655\n",
      "Epoch 32/70\n",
      "105/105 [==============================] - 0s 2ms/step - loss: 0.0851 - acc: 0.8859 - val_loss: 0.0990 - val_acc: 0.8697\n",
      "Epoch 33/70\n",
      "105/105 [==============================] - 0s 2ms/step - loss: 0.0862 - acc: 0.8796 - val_loss: 0.1031 - val_acc: 0.8594\n",
      "Epoch 34/70\n",
      "105/105 [==============================] - 0s 2ms/step - loss: 0.0857 - acc: 0.8844 - val_loss: 0.1001 - val_acc: 0.8642\n",
      "Epoch 35/70\n",
      "105/105 [==============================] - 0s 2ms/step - loss: 0.0871 - acc: 0.8859 - val_loss: 0.0986 - val_acc: 0.8685\n",
      "Epoch 36/70\n",
      "105/105 [==============================] - 0s 2ms/step - loss: 0.0845 - acc: 0.8898 - val_loss: 0.0989 - val_acc: 0.8648\n",
      "Epoch 37/70\n",
      "105/105 [==============================] - 0s 2ms/step - loss: 0.0836 - acc: 0.8853 - val_loss: 0.0985 - val_acc: 0.8679\n",
      "Epoch 38/70\n",
      "105/105 [==============================] - 0s 2ms/step - loss: 0.0838 - acc: 0.8859 - val_loss: 0.0984 - val_acc: 0.8636\n",
      "Epoch 39/70\n",
      "105/105 [==============================] - 0s 2ms/step - loss: 0.0833 - acc: 0.8844 - val_loss: 0.1086 - val_acc: 0.8558\n",
      "Epoch 40/70\n",
      "105/105 [==============================] - 0s 2ms/step - loss: 0.0863 - acc: 0.8814 - val_loss: 0.0993 - val_acc: 0.8636\n",
      "Epoch 41/70\n",
      "105/105 [==============================] - 0s 2ms/step - loss: 0.0832 - acc: 0.8877 - val_loss: 0.0995 - val_acc: 0.8648\n",
      "Epoch 42/70\n",
      "105/105 [==============================] - 0s 2ms/step - loss: 0.0838 - acc: 0.8874 - val_loss: 0.1011 - val_acc: 0.8600\n",
      "Epoch 43/70\n",
      "105/105 [==============================] - 0s 2ms/step - loss: 0.0838 - acc: 0.8859 - val_loss: 0.1001 - val_acc: 0.8648\n",
      "Epoch 44/70\n",
      "105/105 [==============================] - 0s 2ms/step - loss: 0.0844 - acc: 0.8889 - val_loss: 0.1034 - val_acc: 0.8612\n",
      "Epoch 45/70\n",
      "105/105 [==============================] - 0s 2ms/step - loss: 0.0828 - acc: 0.8874 - val_loss: 0.1009 - val_acc: 0.8594\n",
      "Epoch 46/70\n",
      "105/105 [==============================] - 0s 2ms/step - loss: 0.0843 - acc: 0.8829 - val_loss: 0.1021 - val_acc: 0.8648\n",
      "Epoch 47/70\n",
      "105/105 [==============================] - 0s 2ms/step - loss: 0.0821 - acc: 0.8895 - val_loss: 0.1009 - val_acc: 0.8606\n",
      "Epoch 48/70\n",
      "105/105 [==============================] - 0s 2ms/step - loss: 0.0814 - acc: 0.8913 - val_loss: 0.1006 - val_acc: 0.8636\n",
      "Epoch 49/70\n",
      "105/105 [==============================] - 0s 2ms/step - loss: 0.0820 - acc: 0.8898 - val_loss: 0.1009 - val_acc: 0.8606\n",
      "Epoch 50/70\n",
      "105/105 [==============================] - 0s 2ms/step - loss: 0.0821 - acc: 0.8892 - val_loss: 0.1023 - val_acc: 0.8630\n",
      "Epoch 51/70\n",
      "105/105 [==============================] - 0s 2ms/step - loss: 0.0817 - acc: 0.8928 - val_loss: 0.1010 - val_acc: 0.8588\n",
      "Epoch 52/70\n",
      "105/105 [==============================] - 0s 2ms/step - loss: 0.0811 - acc: 0.8952 - val_loss: 0.1013 - val_acc: 0.8667\n",
      "Epoch 53/70\n",
      "105/105 [==============================] - 0s 2ms/step - loss: 0.0818 - acc: 0.8907 - val_loss: 0.1054 - val_acc: 0.8509\n",
      "Epoch 54/70\n",
      "105/105 [==============================] - 0s 2ms/step - loss: 0.0833 - acc: 0.8880 - val_loss: 0.1066 - val_acc: 0.8564\n",
      "Epoch 55/70\n",
      "105/105 [==============================] - 0s 2ms/step - loss: 0.0814 - acc: 0.8940 - val_loss: 0.1025 - val_acc: 0.8564\n",
      "Epoch 56/70\n",
      "105/105 [==============================] - 0s 2ms/step - loss: 0.0799 - acc: 0.8937 - val_loss: 0.1060 - val_acc: 0.8582\n",
      "Epoch 57/70\n",
      "105/105 [==============================] - 0s 2ms/step - loss: 0.0802 - acc: 0.8922 - val_loss: 0.1023 - val_acc: 0.8564\n",
      "Epoch 58/70\n",
      "105/105 [==============================] - 0s 2ms/step - loss: 0.0797 - acc: 0.8946 - val_loss: 0.1024 - val_acc: 0.8564\n",
      "Epoch 59/70\n",
      "105/105 [==============================] - 0s 2ms/step - loss: 0.0802 - acc: 0.8940 - val_loss: 0.1041 - val_acc: 0.8576\n",
      "Epoch 60/70\n",
      "105/105 [==============================] - 0s 2ms/step - loss: 0.0805 - acc: 0.8937 - val_loss: 0.1046 - val_acc: 0.8576\n",
      "Epoch 61/70\n",
      "105/105 [==============================] - 0s 2ms/step - loss: 0.0791 - acc: 0.8955 - val_loss: 0.1035 - val_acc: 0.8618\n",
      "Epoch 62/70\n"
     ]
    },
    {
     "name": "stdout",
     "output_type": "stream",
     "text": [
      "105/105 [==============================] - 0s 2ms/step - loss: 0.0788 - acc: 0.8978 - val_loss: 0.1020 - val_acc: 0.8576\n",
      "Epoch 63/70\n",
      "105/105 [==============================] - 0s 2ms/step - loss: 0.0789 - acc: 0.8987 - val_loss: 0.1035 - val_acc: 0.8552\n",
      "Epoch 64/70\n",
      "105/105 [==============================] - 0s 2ms/step - loss: 0.0784 - acc: 0.8981 - val_loss: 0.1026 - val_acc: 0.8588\n",
      "Epoch 65/70\n",
      "105/105 [==============================] - 0s 2ms/step - loss: 0.0785 - acc: 0.8961 - val_loss: 0.1030 - val_acc: 0.8539\n",
      "Epoch 66/70\n",
      "105/105 [==============================] - 0s 2ms/step - loss: 0.0772 - acc: 0.8996 - val_loss: 0.1030 - val_acc: 0.8600\n",
      "Epoch 67/70\n",
      "105/105 [==============================] - 0s 2ms/step - loss: 0.0787 - acc: 0.9002 - val_loss: 0.1045 - val_acc: 0.8552\n",
      "Epoch 68/70\n",
      "105/105 [==============================] - 0s 2ms/step - loss: 0.0777 - acc: 0.8993 - val_loss: 0.1042 - val_acc: 0.8521\n",
      "Epoch 69/70\n",
      "105/105 [==============================] - 0s 2ms/step - loss: 0.0777 - acc: 0.9020 - val_loss: 0.1030 - val_acc: 0.8570\n",
      "Epoch 70/70\n",
      "105/105 [==============================] - 0s 2ms/step - loss: 0.0778 - acc: 0.9002 - val_loss: 0.1052 - val_acc: 0.8539\n",
      "157/157 [==============================] - 0s 1ms/step - loss: 0.0864 - acc: 0.8850\n"
     ]
    }
   ],
   "source": [
    "model4, training4, results4 = rn([2, 16, 8, 1], 'yourself', 70)"
   ]
  },
  {
   "cell_type": "code",
   "execution_count": 82,
   "metadata": {},
   "outputs": [
    {
     "name": "stdout",
     "output_type": "stream",
     "text": [
      "======================\n",
      "| CALIDAD DEL MODELO |\n",
      "======================\n",
      " - Precisión               : 88.5%\n",
      " - Pérdida                 : 8.64%\n",
      "\n",
      "===================================\n",
      "| PROCESO DE APRENDIZAJE DEL MODELO |\n",
      "===================================\n"
     ]
    },
    {
     "data": {
      "image/png": "[encoded data removed]",
      "text/plain": [
       "<Figure size 432x288 with 1 Axes>"
      ]
     },
     "metadata": {
      "needs_background": "light"
     },
     "output_type": "display_data"
    },
    {
     "data": {
      "image/png": "[encoded data removed]",
      "text/plain": [
       "<Figure size 432x288 with 1 Axes>"
      ]
     },
     "metadata": {
      "needs_background": "light"
     },
     "output_type": "display_data"
    }
   ],
   "source": [
    "print('======================')\n",
    "print('| CALIDAD DEL MODELO |')\n",
    "print('======================')\n",
    "print(' - Precisión               : '+str(np.round((100*results4[1]),2))+'%')\n",
    "print(' - Pérdida                 : '+str(np.round((100*results4[0]),2))+'%')\n",
    "print('')\n",
    "\n",
    "print('===================================')\n",
    "print('| PROCESO DE APRENDIZAJE DEL MODELO |')\n",
    "print('===================================')\n",
    "plt.ylim([0,0.3])\n",
    "plt.plot(training4.history[\"loss\"])\n",
    "plt.plot(training4.history[\"val_loss\"])\n",
    "plt.title('model loss')\n",
    "plt.ylabel('loss')\n",
    "plt.xlabel('epoch')\n",
    "plt.legend(['train', 'validation'], loc='upper left')\n",
    "plt.show()\n",
    "\n",
    "plt.ylim([0.7,1])\n",
    "plt.plot(training4.history[\"acc\"])\n",
    "plt.plot(training4.history[\"val_acc\"])\n",
    "plt.title('model accuracy')\n",
    "plt.ylabel('accuracy')\n",
    "plt.xlabel('epoch')\n",
    "plt.legend(['train', 'validation'], loc='upper left')\n",
    "plt.show()\n"
   ]
  },
  {
   "cell_type": "markdown",
   "metadata": {},
   "source": [
    "De nuevo vemos el overfitting representado por la linea de validación alejándose de la de entrenamiento.\n",
    "\n",
    "Redimensionamos en modelo."
   ]
  },
  {
   "cell_type": "markdown",
   "metadata": {},
   "source": [
    "#### Estructura 8-4-1"
   ]
  },
  {
   "cell_type": "code",
   "execution_count": 83,
   "metadata": {},
   "outputs": [
    {
     "name": "stdout",
     "output_type": "stream",
     "text": [
      "Epoch 1/30\n",
      "105/105 [==============================] - 1s 3ms/step - loss: 0.2596 - acc: 0.5830 - val_loss: 0.1611 - val_acc: 0.8206\n",
      "Epoch 2/30\n",
      "105/105 [==============================] - 0s 2ms/step - loss: 0.1477 - acc: 0.8289 - val_loss: 0.1514 - val_acc: 0.8206\n",
      "Epoch 3/30\n",
      "105/105 [==============================] - 0s 2ms/step - loss: 0.1405 - acc: 0.8289 - val_loss: 0.1439 - val_acc: 0.8206\n",
      "Epoch 4/30\n",
      "105/105 [==============================] - 0s 2ms/step - loss: 0.1350 - acc: 0.8289 - val_loss: 0.1386 - val_acc: 0.8206\n",
      "Epoch 5/30\n",
      "105/105 [==============================] - 0s 2ms/step - loss: 0.1299 - acc: 0.8289 - val_loss: 0.1323 - val_acc: 0.8200\n",
      "Epoch 6/30\n",
      "105/105 [==============================] - 0s 2ms/step - loss: 0.1233 - acc: 0.8306 - val_loss: 0.1248 - val_acc: 0.8267\n",
      "Epoch 7/30\n",
      "105/105 [==============================] - 0s 3ms/step - loss: 0.1154 - acc: 0.8420 - val_loss: 0.1176 - val_acc: 0.8303\n",
      "Epoch 8/30\n",
      "105/105 [==============================] - 0s 2ms/step - loss: 0.1092 - acc: 0.8524 - val_loss: 0.1101 - val_acc: 0.8436\n",
      "Epoch 9/30\n",
      "105/105 [==============================] - 0s 2ms/step - loss: 0.1042 - acc: 0.8599 - val_loss: 0.1065 - val_acc: 0.8521\n",
      "Epoch 10/30\n",
      "105/105 [==============================] - 0s 2ms/step - loss: 0.1027 - acc: 0.8629 - val_loss: 0.1085 - val_acc: 0.8558\n",
      "Epoch 11/30\n",
      "105/105 [==============================] - 0s 2ms/step - loss: 0.1001 - acc: 0.8644 - val_loss: 0.1034 - val_acc: 0.8552\n",
      "Epoch 12/30\n",
      "105/105 [==============================] - 0s 2ms/step - loss: 0.0982 - acc: 0.8671 - val_loss: 0.1022 - val_acc: 0.8594\n",
      "Epoch 13/30\n",
      "105/105 [==============================] - 0s 2ms/step - loss: 0.0974 - acc: 0.8701 - val_loss: 0.1017 - val_acc: 0.8558\n",
      "Epoch 14/30\n",
      "105/105 [==============================] - 0s 2ms/step - loss: 0.0965 - acc: 0.8686 - val_loss: 0.1006 - val_acc: 0.8594\n",
      "Epoch 15/30\n",
      "105/105 [==============================] - 0s 2ms/step - loss: 0.0964 - acc: 0.8719 - val_loss: 0.1002 - val_acc: 0.8630\n",
      "Epoch 16/30\n",
      "105/105 [==============================] - 0s 2ms/step - loss: 0.0954 - acc: 0.8728 - val_loss: 0.0997 - val_acc: 0.8618\n",
      "Epoch 17/30\n",
      "105/105 [==============================] - 0s 2ms/step - loss: 0.0948 - acc: 0.8713 - val_loss: 0.1000 - val_acc: 0.8594\n",
      "Epoch 18/30\n",
      "105/105 [==============================] - 0s 2ms/step - loss: 0.0938 - acc: 0.8719 - val_loss: 0.1022 - val_acc: 0.8636\n",
      "Epoch 19/30\n",
      "105/105 [==============================] - 0s 2ms/step - loss: 0.0936 - acc: 0.8740 - val_loss: 0.0998 - val_acc: 0.8612\n",
      "Epoch 20/30\n",
      "105/105 [==============================] - 0s 2ms/step - loss: 0.0935 - acc: 0.8704 - val_loss: 0.0986 - val_acc: 0.8624\n",
      "Epoch 21/30\n",
      "105/105 [==============================] - 0s 2ms/step - loss: 0.0928 - acc: 0.8743 - val_loss: 0.0987 - val_acc: 0.8642\n",
      "Epoch 22/30\n",
      "105/105 [==============================] - 0s 2ms/step - loss: 0.0922 - acc: 0.8740 - val_loss: 0.0991 - val_acc: 0.8648\n",
      "Epoch 23/30\n",
      "105/105 [==============================] - 0s 2ms/step - loss: 0.0928 - acc: 0.8772 - val_loss: 0.0979 - val_acc: 0.8642\n",
      "Epoch 24/30\n",
      "105/105 [==============================] - 0s 2ms/step - loss: 0.0916 - acc: 0.8754 - val_loss: 0.0984 - val_acc: 0.8636\n",
      "Epoch 25/30\n",
      "105/105 [==============================] - 0s 2ms/step - loss: 0.0913 - acc: 0.8766 - val_loss: 0.0977 - val_acc: 0.8636\n",
      "Epoch 26/30\n",
      "105/105 [==============================] - 0s 2ms/step - loss: 0.0908 - acc: 0.8746 - val_loss: 0.0995 - val_acc: 0.8636\n",
      "Epoch 27/30\n",
      "105/105 [==============================] - 0s 2ms/step - loss: 0.0909 - acc: 0.8746 - val_loss: 0.0982 - val_acc: 0.8636\n",
      "Epoch 28/30\n",
      "105/105 [==============================] - 0s 2ms/step - loss: 0.0909 - acc: 0.8784 - val_loss: 0.0980 - val_acc: 0.8648\n",
      "Epoch 29/30\n",
      "105/105 [==============================] - 0s 2ms/step - loss: 0.0909 - acc: 0.8772 - val_loss: 0.0981 - val_acc: 0.8636\n",
      "Epoch 30/30\n",
      "105/105 [==============================] - 0s 2ms/step - loss: 0.0900 - acc: 0.8772 - val_loss: 0.0976 - val_acc: 0.8655\n",
      "157/157 [==============================] - 0s 1ms/step - loss: 0.0919 - acc: 0.8752\n"
     ]
    }
   ],
   "source": [
    "model4_1, training4_1, results4_1 = rn([2, 8, 4, 1], 'yourself', 30)"
   ]
  },
  {
   "cell_type": "code",
   "execution_count": 84,
   "metadata": {},
   "outputs": [
    {
     "name": "stdout",
     "output_type": "stream",
     "text": [
      "======================\n",
      "| CALIDAD DEL MODELO |\n",
      "======================\n",
      " - Precisión               : 87.52%\n",
      " - Pérdida                 : 9.19%\n",
      "\n",
      "===================================\n",
      "| PROCESO DE APRENDIZAJE DEL MODELO |\n",
      "===================================\n"
     ]
    },
    {
     "data": {
      "image/png": "[encoded data removed]",
      "text/plain": [
       "<Figure size 432x288 with 1 Axes>"
      ]
     },
     "metadata": {
      "needs_background": "light"
     },
     "output_type": "display_data"
    },
    {
     "data": {
      "image/png": "[encoded data removed]",
      "text/plain": [
       "<Figure size 432x288 with 1 Axes>"
      ]
     },
     "metadata": {
      "needs_background": "light"
     },
     "output_type": "display_data"
    }
   ],
   "source": [
    "print('======================')\n",
    "print('| CALIDAD DEL MODELO |')\n",
    "print('======================')\n",
    "print(' - Precisión               : '+str(np.round((100*results4_1[1]),2))+'%')\n",
    "print(' - Pérdida                 : '+str(np.round((100*results4_1[0]),2))+'%')\n",
    "print('')\n",
    "\n",
    "print('===================================')\n",
    "print('| PROCESO DE APRENDIZAJE DEL MODELO |')\n",
    "print('===================================')\n",
    "plt.ylim([0,0.3])\n",
    "plt.plot(training4_1.history[\"loss\"])\n",
    "plt.plot(training4_1.history[\"val_loss\"])\n",
    "plt.title('model loss')\n",
    "plt.ylabel('loss')\n",
    "plt.xlabel('epoch')\n",
    "plt.legend(['train', 'validation'], loc='upper left')\n",
    "plt.show()\n",
    "\n",
    "plt.ylim([0.7,1])\n",
    "plt.plot(training4_1.history[\"acc\"])\n",
    "plt.plot(training4_1.history[\"val_acc\"])\n",
    "plt.title('model accuracy')\n",
    "plt.ylabel('accuracy')\n",
    "plt.xlabel('epoch')\n",
    "plt.legend(['train', 'validation'], loc='upper left')\n",
    "plt.show()"
   ]
  },
  {
   "cell_type": "markdown",
   "metadata": {},
   "source": [
    "### Red neuronal sobre visita en salud mental"
   ]
  },
  {
   "cell_type": "markdown",
   "metadata": {},
   "source": [
    "#### Estructura 16-8-1"
   ]
  },
  {
   "cell_type": "code",
   "execution_count": 86,
   "metadata": {},
   "outputs": [
    {
     "name": "stdout",
     "output_type": "stream",
     "text": [
      "Epoch 1/70\n",
      "105/105 [==============================] - 1s 3ms/step - loss: 0.0811 - acc: 0.9128 - val_loss: 0.0761 - val_acc: 0.9176\n",
      "Epoch 2/70\n",
      "105/105 [==============================] - 0s 2ms/step - loss: 0.0776 - acc: 0.9151 - val_loss: 0.0741 - val_acc: 0.9170\n",
      "Epoch 3/70\n",
      "105/105 [==============================] - 0s 2ms/step - loss: 0.0748 - acc: 0.9151 - val_loss: 0.0712 - val_acc: 0.9176\n",
      "Epoch 4/70\n",
      "105/105 [==============================] - 0s 2ms/step - loss: 0.0721 - acc: 0.9157 - val_loss: 0.0695 - val_acc: 0.9170\n",
      "Epoch 5/70\n",
      "105/105 [==============================] - 0s 3ms/step - loss: 0.0706 - acc: 0.9172 - val_loss: 0.0700 - val_acc: 0.9170\n",
      "Epoch 6/70\n",
      "105/105 [==============================] - 0s 2ms/step - loss: 0.0695 - acc: 0.9172 - val_loss: 0.0692 - val_acc: 0.9164\n",
      "Epoch 7/70\n",
      "105/105 [==============================] - 0s 2ms/step - loss: 0.0680 - acc: 0.9190 - val_loss: 0.0723 - val_acc: 0.9133\n",
      "Epoch 8/70\n",
      "105/105 [==============================] - 0s 2ms/step - loss: 0.0681 - acc: 0.9184 - val_loss: 0.0685 - val_acc: 0.9182\n",
      "Epoch 9/70\n",
      "105/105 [==============================] - 0s 2ms/step - loss: 0.0673 - acc: 0.9190 - val_loss: 0.0687 - val_acc: 0.9176\n",
      "Epoch 10/70\n",
      "105/105 [==============================] - 0s 2ms/step - loss: 0.0665 - acc: 0.9202 - val_loss: 0.0694 - val_acc: 0.9170\n",
      "Epoch 11/70\n",
      "105/105 [==============================] - 0s 2ms/step - loss: 0.0662 - acc: 0.9214 - val_loss: 0.0684 - val_acc: 0.9164\n",
      "Epoch 12/70\n",
      "105/105 [==============================] - 0s 2ms/step - loss: 0.0656 - acc: 0.9223 - val_loss: 0.0699 - val_acc: 0.9176\n",
      "Epoch 13/70\n",
      "105/105 [==============================] - 0s 2ms/step - loss: 0.0658 - acc: 0.9229 - val_loss: 0.0685 - val_acc: 0.9176\n",
      "Epoch 14/70\n",
      "105/105 [==============================] - 0s 2ms/step - loss: 0.0653 - acc: 0.9217 - val_loss: 0.0701 - val_acc: 0.9133\n",
      "Epoch 15/70\n",
      "105/105 [==============================] - 0s 2ms/step - loss: 0.0669 - acc: 0.9205 - val_loss: 0.0687 - val_acc: 0.9152\n",
      "Epoch 16/70\n",
      "105/105 [==============================] - 0s 2ms/step - loss: 0.0652 - acc: 0.9238 - val_loss: 0.0687 - val_acc: 0.9164\n",
      "Epoch 17/70\n",
      "105/105 [==============================] - 0s 2ms/step - loss: 0.0643 - acc: 0.9241 - val_loss: 0.0689 - val_acc: 0.9164\n",
      "Epoch 18/70\n",
      "105/105 [==============================] - 0s 2ms/step - loss: 0.0636 - acc: 0.9256 - val_loss: 0.0704 - val_acc: 0.9158\n",
      "Epoch 19/70\n",
      "105/105 [==============================] - 0s 2ms/step - loss: 0.0631 - acc: 0.9244 - val_loss: 0.0707 - val_acc: 0.9158\n",
      "Epoch 20/70\n",
      "105/105 [==============================] - 0s 2ms/step - loss: 0.0639 - acc: 0.9238 - val_loss: 0.0688 - val_acc: 0.9188\n",
      "Epoch 21/70\n",
      "105/105 [==============================] - 0s 2ms/step - loss: 0.0630 - acc: 0.9253 - val_loss: 0.0692 - val_acc: 0.9176\n",
      "Epoch 22/70\n",
      "105/105 [==============================] - 0s 2ms/step - loss: 0.0627 - acc: 0.9244 - val_loss: 0.0691 - val_acc: 0.9170\n",
      "Epoch 23/70\n",
      "105/105 [==============================] - 0s 2ms/step - loss: 0.0624 - acc: 0.9268 - val_loss: 0.0691 - val_acc: 0.9182\n",
      "Epoch 24/70\n",
      "105/105 [==============================] - 0s 2ms/step - loss: 0.0630 - acc: 0.9247 - val_loss: 0.0711 - val_acc: 0.9139\n",
      "Epoch 25/70\n",
      "105/105 [==============================] - 0s 2ms/step - loss: 0.0620 - acc: 0.9277 - val_loss: 0.0751 - val_acc: 0.9097\n",
      "Epoch 26/70\n",
      "105/105 [==============================] - 0s 2ms/step - loss: 0.0623 - acc: 0.9283 - val_loss: 0.0692 - val_acc: 0.9206\n",
      "Epoch 27/70\n",
      "105/105 [==============================] - 0s 2ms/step - loss: 0.0616 - acc: 0.9289 - val_loss: 0.0708 - val_acc: 0.9152\n",
      "Epoch 28/70\n",
      "105/105 [==============================] - 0s 2ms/step - loss: 0.0607 - acc: 0.9280 - val_loss: 0.0708 - val_acc: 0.9152\n",
      "Epoch 29/70\n",
      "105/105 [==============================] - 0s 2ms/step - loss: 0.0608 - acc: 0.9289 - val_loss: 0.0713 - val_acc: 0.9152\n",
      "Epoch 30/70\n",
      "105/105 [==============================] - 0s 2ms/step - loss: 0.0603 - acc: 0.9295 - val_loss: 0.0735 - val_acc: 0.9115\n",
      "Epoch 31/70\n",
      "105/105 [==============================] - 0s 2ms/step - loss: 0.0605 - acc: 0.9286 - val_loss: 0.0758 - val_acc: 0.9073\n",
      "Epoch 32/70\n",
      "105/105 [==============================] - 0s 2ms/step - loss: 0.0613 - acc: 0.9283 - val_loss: 0.0744 - val_acc: 0.9109\n",
      "Epoch 33/70\n",
      "105/105 [==============================] - 0s 2ms/step - loss: 0.0600 - acc: 0.9295 - val_loss: 0.0729 - val_acc: 0.9127\n",
      "Epoch 34/70\n",
      "105/105 [==============================] - 0s 2ms/step - loss: 0.0599 - acc: 0.9286 - val_loss: 0.0704 - val_acc: 0.9164\n",
      "Epoch 35/70\n",
      "105/105 [==============================] - 0s 2ms/step - loss: 0.0594 - acc: 0.9307 - val_loss: 0.0699 - val_acc: 0.9200\n",
      "Epoch 36/70\n",
      "105/105 [==============================] - 0s 2ms/step - loss: 0.0592 - acc: 0.9295 - val_loss: 0.0709 - val_acc: 0.9206\n",
      "Epoch 37/70\n",
      "105/105 [==============================] - 0s 2ms/step - loss: 0.0601 - acc: 0.9283 - val_loss: 0.0718 - val_acc: 0.9121\n",
      "Epoch 38/70\n",
      "105/105 [==============================] - 0s 2ms/step - loss: 0.0584 - acc: 0.9304 - val_loss: 0.0714 - val_acc: 0.9139\n",
      "Epoch 39/70\n",
      "105/105 [==============================] - 0s 2ms/step - loss: 0.0579 - acc: 0.9322 - val_loss: 0.0720 - val_acc: 0.9145\n",
      "Epoch 40/70\n",
      "105/105 [==============================] - 0s 2ms/step - loss: 0.0587 - acc: 0.9316 - val_loss: 0.0751 - val_acc: 0.9073\n",
      "Epoch 41/70\n",
      "105/105 [==============================] - 0s 2ms/step - loss: 0.0583 - acc: 0.9331 - val_loss: 0.0718 - val_acc: 0.9152\n",
      "Epoch 42/70\n",
      "105/105 [==============================] - 0s 2ms/step - loss: 0.0574 - acc: 0.9328 - val_loss: 0.0730 - val_acc: 0.9097\n",
      "Epoch 43/70\n",
      "105/105 [==============================] - 0s 2ms/step - loss: 0.0577 - acc: 0.9322 - val_loss: 0.0719 - val_acc: 0.9139\n",
      "Epoch 44/70\n",
      "105/105 [==============================] - 0s 2ms/step - loss: 0.0571 - acc: 0.9346 - val_loss: 0.0717 - val_acc: 0.9212\n",
      "Epoch 45/70\n",
      "105/105 [==============================] - 0s 2ms/step - loss: 0.0567 - acc: 0.9325 - val_loss: 0.0712 - val_acc: 0.9194\n",
      "Epoch 46/70\n",
      "105/105 [==============================] - 0s 2ms/step - loss: 0.0573 - acc: 0.9322 - val_loss: 0.0724 - val_acc: 0.9121\n",
      "Epoch 47/70\n",
      "105/105 [==============================] - 0s 2ms/step - loss: 0.0558 - acc: 0.9343 - val_loss: 0.0752 - val_acc: 0.9085\n",
      "Epoch 48/70\n",
      "105/105 [==============================] - 0s 2ms/step - loss: 0.0563 - acc: 0.9343 - val_loss: 0.0717 - val_acc: 0.9158\n",
      "Epoch 49/70\n",
      "105/105 [==============================] - 0s 2ms/step - loss: 0.0565 - acc: 0.9319 - val_loss: 0.0807 - val_acc: 0.9006\n",
      "Epoch 50/70\n",
      "105/105 [==============================] - 0s 2ms/step - loss: 0.0563 - acc: 0.9337 - val_loss: 0.0812 - val_acc: 0.9012\n",
      "Epoch 51/70\n",
      "105/105 [==============================] - 0s 2ms/step - loss: 0.0559 - acc: 0.9358 - val_loss: 0.0725 - val_acc: 0.9133\n",
      "Epoch 52/70\n",
      "105/105 [==============================] - 0s 2ms/step - loss: 0.0554 - acc: 0.9340 - val_loss: 0.0732 - val_acc: 0.9127\n",
      "Epoch 53/70\n",
      "105/105 [==============================] - 0s 2ms/step - loss: 0.0548 - acc: 0.9361 - val_loss: 0.0793 - val_acc: 0.9030\n",
      "Epoch 54/70\n",
      "105/105 [==============================] - 0s 2ms/step - loss: 0.0554 - acc: 0.9370 - val_loss: 0.0727 - val_acc: 0.9139\n",
      "Epoch 55/70\n",
      "105/105 [==============================] - 0s 2ms/step - loss: 0.0544 - acc: 0.9373 - val_loss: 0.0761 - val_acc: 0.9048\n",
      "Epoch 56/70\n",
      "105/105 [==============================] - 0s 2ms/step - loss: 0.0543 - acc: 0.9370 - val_loss: 0.0729 - val_acc: 0.9158\n",
      "Epoch 57/70\n",
      "105/105 [==============================] - 0s 2ms/step - loss: 0.0539 - acc: 0.9373 - val_loss: 0.0765 - val_acc: 0.9073\n",
      "Epoch 58/70\n",
      "105/105 [==============================] - 0s 2ms/step - loss: 0.0533 - acc: 0.9390 - val_loss: 0.0744 - val_acc: 0.9127\n",
      "Epoch 59/70\n",
      "105/105 [==============================] - 0s 2ms/step - loss: 0.0530 - acc: 0.9376 - val_loss: 0.0769 - val_acc: 0.9067\n",
      "Epoch 60/70\n",
      "105/105 [==============================] - 0s 2ms/step - loss: 0.0530 - acc: 0.9385 - val_loss: 0.0757 - val_acc: 0.9097\n",
      "Epoch 61/70\n",
      "105/105 [==============================] - 0s 2ms/step - loss: 0.0530 - acc: 0.9376 - val_loss: 0.0733 - val_acc: 0.9152\n",
      "Epoch 62/70\n"
     ]
    },
    {
     "name": "stdout",
     "output_type": "stream",
     "text": [
      "105/105 [==============================] - 0s 2ms/step - loss: 0.0531 - acc: 0.9376 - val_loss: 0.0752 - val_acc: 0.9121\n",
      "Epoch 63/70\n",
      "105/105 [==============================] - 0s 2ms/step - loss: 0.0525 - acc: 0.9399 - val_loss: 0.0733 - val_acc: 0.9158\n",
      "Epoch 64/70\n",
      "105/105 [==============================] - 0s 2ms/step - loss: 0.0524 - acc: 0.9399 - val_loss: 0.0756 - val_acc: 0.9115\n",
      "Epoch 65/70\n",
      "105/105 [==============================] - 0s 2ms/step - loss: 0.0528 - acc: 0.9393 - val_loss: 0.0743 - val_acc: 0.9121\n",
      "Epoch 66/70\n",
      "105/105 [==============================] - 0s 2ms/step - loss: 0.0519 - acc: 0.9393 - val_loss: 0.0743 - val_acc: 0.9133\n",
      "Epoch 67/70\n",
      "105/105 [==============================] - 0s 2ms/step - loss: 0.0524 - acc: 0.9385 - val_loss: 0.0736 - val_acc: 0.9139\n",
      "Epoch 68/70\n",
      "105/105 [==============================] - 0s 2ms/step - loss: 0.0510 - acc: 0.9399 - val_loss: 0.0749 - val_acc: 0.9133\n",
      "Epoch 69/70\n",
      "105/105 [==============================] - 0s 2ms/step - loss: 0.0519 - acc: 0.9388 - val_loss: 0.0795 - val_acc: 0.9024\n",
      "Epoch 70/70\n",
      "105/105 [==============================] - 0s 2ms/step - loss: 0.0507 - acc: 0.9423 - val_loss: 0.0806 - val_acc: 0.9018\n",
      "157/157 [==============================] - 0s 942us/step - loss: 0.0601 - acc: 0.9308\n"
     ]
    }
   ],
   "source": [
    "model5, training5, results5 = rn([2, 16, 8, 1], 'profMental', 70)"
   ]
  },
  {
   "cell_type": "code",
   "execution_count": 87,
   "metadata": {},
   "outputs": [
    {
     "name": "stdout",
     "output_type": "stream",
     "text": [
      "======================\n",
      "| CALIDAD DEL MODELO |\n",
      "======================\n",
      " - Precisión               : 93.08%\n",
      " - Pérdida                 : 6.01%\n",
      "\n",
      "===================================\n",
      "| PROCESO DE APRENDIZAJE DEL MODELO |\n",
      "===================================\n"
     ]
    },
    {
     "data": {
      "image/png": "[encoded data removed]",
      "text/plain": [
       "<Figure size 432x288 with 1 Axes>"
      ]
     },
     "metadata": {
      "needs_background": "light"
     },
     "output_type": "display_data"
    },
    {
     "data": {
      "image/png": "[encoded data removed]",
      "text/plain": [
       "<Figure size 432x288 with 1 Axes>"
      ]
     },
     "metadata": {
      "needs_background": "light"
     },
     "output_type": "display_data"
    }
   ],
   "source": [
    "print('======================')\n",
    "print('| CALIDAD DEL MODELO |')\n",
    "print('======================')\n",
    "print(' - Precisión               : '+str(np.round((100*results5[1]),2))+'%')\n",
    "print(' - Pérdida                 : '+str(np.round((100*results5[0]),2))+'%')\n",
    "print('')\n",
    "\n",
    "print('===================================')\n",
    "print('| PROCESO DE APRENDIZAJE DEL MODELO |')\n",
    "print('===================================')\n",
    "plt.ylim([0,0.3])\n",
    "plt.plot(training5.history[\"loss\"])\n",
    "plt.plot(training5.history[\"val_loss\"])\n",
    "plt.title('model loss')\n",
    "plt.ylabel('loss')\n",
    "plt.xlabel('epoch')\n",
    "plt.legend(['train', 'validation'], loc='upper left')\n",
    "plt.show()\n",
    "\n",
    "plt.ylim([0.7,1])\n",
    "plt.plot(training5.history[\"acc\"])\n",
    "plt.plot(training5.history[\"val_acc\"])\n",
    "plt.title('model accuracy')\n",
    "plt.ylabel('accuracy')\n",
    "plt.xlabel('epoch')\n",
    "plt.legend(['train', 'validation'], loc='upper left')\n",
    "plt.show()\n"
   ]
  },
  {
   "cell_type": "markdown",
   "metadata": {},
   "source": [
    "Redimensionamos."
   ]
  },
  {
   "cell_type": "markdown",
   "metadata": {},
   "source": [
    "#### Estructura 8-4-1"
   ]
  },
  {
   "cell_type": "code",
   "execution_count": 88,
   "metadata": {},
   "outputs": [
    {
     "name": "stdout",
     "output_type": "stream",
     "text": [
      "Epoch 1/30\n",
      "105/105 [==============================] - 1s 3ms/step - loss: 0.0813 - acc: 0.9151 - val_loss: 0.0761 - val_acc: 0.9176\n",
      "Epoch 2/30\n",
      "105/105 [==============================] - 0s 2ms/step - loss: 0.0785 - acc: 0.9151 - val_loss: 0.0748 - val_acc: 0.9176\n",
      "Epoch 3/30\n",
      "105/105 [==============================] - 0s 2ms/step - loss: 0.0765 - acc: 0.9151 - val_loss: 0.0739 - val_acc: 0.9176\n",
      "Epoch 4/30\n",
      "105/105 [==============================] - 0s 2ms/step - loss: 0.0749 - acc: 0.9151 - val_loss: 0.0725 - val_acc: 0.9176\n",
      "Epoch 5/30\n",
      "105/105 [==============================] - 0s 2ms/step - loss: 0.0733 - acc: 0.9151 - val_loss: 0.0720 - val_acc: 0.9176\n",
      "Epoch 6/30\n",
      "105/105 [==============================] - 0s 2ms/step - loss: 0.0725 - acc: 0.9154 - val_loss: 0.0705 - val_acc: 0.9176\n",
      "Epoch 7/30\n",
      "105/105 [==============================] - 0s 2ms/step - loss: 0.0710 - acc: 0.9151 - val_loss: 0.0704 - val_acc: 0.9176\n",
      "Epoch 8/30\n",
      "105/105 [==============================] - 0s 2ms/step - loss: 0.0701 - acc: 0.9172 - val_loss: 0.0693 - val_acc: 0.9176\n",
      "Epoch 9/30\n",
      "105/105 [==============================] - 0s 2ms/step - loss: 0.0692 - acc: 0.9175 - val_loss: 0.0707 - val_acc: 0.9158\n",
      "Epoch 10/30\n",
      "105/105 [==============================] - 0s 2ms/step - loss: 0.0688 - acc: 0.9184 - val_loss: 0.0689 - val_acc: 0.9164\n",
      "Epoch 11/30\n",
      "105/105 [==============================] - 0s 2ms/step - loss: 0.0681 - acc: 0.9187 - val_loss: 0.0689 - val_acc: 0.9170\n",
      "Epoch 12/30\n",
      "105/105 [==============================] - 0s 2ms/step - loss: 0.0676 - acc: 0.9217 - val_loss: 0.0690 - val_acc: 0.9158\n",
      "Epoch 13/30\n",
      "105/105 [==============================] - 0s 2ms/step - loss: 0.0670 - acc: 0.9187 - val_loss: 0.0694 - val_acc: 0.9158\n",
      "Epoch 14/30\n",
      "105/105 [==============================] - 0s 2ms/step - loss: 0.0669 - acc: 0.9214 - val_loss: 0.0690 - val_acc: 0.9158\n",
      "Epoch 15/30\n",
      "105/105 [==============================] - 0s 2ms/step - loss: 0.0661 - acc: 0.9220 - val_loss: 0.0694 - val_acc: 0.9164\n",
      "Epoch 16/30\n",
      "105/105 [==============================] - 0s 2ms/step - loss: 0.0659 - acc: 0.9217 - val_loss: 0.0697 - val_acc: 0.9139\n",
      "Epoch 17/30\n",
      "105/105 [==============================] - 0s 2ms/step - loss: 0.0654 - acc: 0.9220 - val_loss: 0.0696 - val_acc: 0.9164\n",
      "Epoch 18/30\n",
      "105/105 [==============================] - 0s 2ms/step - loss: 0.0648 - acc: 0.9250 - val_loss: 0.0692 - val_acc: 0.9170\n",
      "Epoch 19/30\n",
      "105/105 [==============================] - 0s 2ms/step - loss: 0.0644 - acc: 0.9241 - val_loss: 0.0690 - val_acc: 0.9158\n",
      "Epoch 20/30\n",
      "105/105 [==============================] - 0s 2ms/step - loss: 0.0645 - acc: 0.9244 - val_loss: 0.0694 - val_acc: 0.9170\n",
      "Epoch 21/30\n",
      "105/105 [==============================] - 0s 2ms/step - loss: 0.0642 - acc: 0.9241 - val_loss: 0.0697 - val_acc: 0.9164\n",
      "Epoch 22/30\n",
      "105/105 [==============================] - 0s 2ms/step - loss: 0.0637 - acc: 0.9241 - val_loss: 0.0692 - val_acc: 0.9164\n",
      "Epoch 23/30\n",
      "105/105 [==============================] - 0s 2ms/step - loss: 0.0637 - acc: 0.9271 - val_loss: 0.0690 - val_acc: 0.9158\n",
      "Epoch 24/30\n",
      "105/105 [==============================] - 0s 2ms/step - loss: 0.0635 - acc: 0.9241 - val_loss: 0.0690 - val_acc: 0.9145\n",
      "Epoch 25/30\n",
      "105/105 [==============================] - 0s 2ms/step - loss: 0.0628 - acc: 0.9265 - val_loss: 0.0690 - val_acc: 0.9152\n",
      "Epoch 26/30\n",
      "105/105 [==============================] - 0s 2ms/step - loss: 0.0625 - acc: 0.9268 - val_loss: 0.0700 - val_acc: 0.9158\n",
      "Epoch 27/30\n",
      "105/105 [==============================] - 0s 2ms/step - loss: 0.0628 - acc: 0.9265 - val_loss: 0.0691 - val_acc: 0.9139\n",
      "Epoch 28/30\n",
      "105/105 [==============================] - 0s 2ms/step - loss: 0.0622 - acc: 0.9277 - val_loss: 0.0697 - val_acc: 0.9139\n",
      "Epoch 29/30\n",
      "105/105 [==============================] - 0s 2ms/step - loss: 0.0628 - acc: 0.9259 - val_loss: 0.0696 - val_acc: 0.9145\n",
      "Epoch 30/30\n",
      "105/105 [==============================] - 0s 2ms/step - loss: 0.0621 - acc: 0.9268 - val_loss: 0.0700 - val_acc: 0.9164\n",
      "157/157 [==============================] - 0s 1ms/step - loss: 0.0640 - acc: 0.9248\n"
     ]
    }
   ],
   "source": [
    "model5_1, training5_1, results5_1 = rn([2, 8, 4, 1], 'profMental', 30)"
   ]
  },
  {
   "cell_type": "code",
   "execution_count": 89,
   "metadata": {},
   "outputs": [
    {
     "name": "stdout",
     "output_type": "stream",
     "text": [
      "======================\n",
      "| CALIDAD DEL MODELO |\n",
      "======================\n",
      " - Precisión               : 92.48%\n",
      " - Pérdida                 : 6.4%\n",
      "\n",
      "===================================\n",
      "| PROCESO DE APRENDIZAJE DEL MODELO |\n",
      "===================================\n"
     ]
    },
    {
     "data": {
      "image/png": "[encoded data removed]",
      "text/plain": [
       "<Figure size 432x288 with 1 Axes>"
      ]
     },
     "metadata": {
      "needs_background": "light"
     },
     "output_type": "display_data"
    },
    {
     "data": {
      "image/png": "[encoded data removed]",
      "text/plain": [
       "<Figure size 432x288 with 1 Axes>"
      ]
     },
     "metadata": {
      "needs_background": "light"
     },
     "output_type": "display_data"
    }
   ],
   "source": [
    "print('======================')\n",
    "print('| CALIDAD DEL MODELO |')\n",
    "print('======================')\n",
    "print(' - Precisión               : '+str(np.round((100*results5_1[1]),2))+'%')\n",
    "print(' - Pérdida                 : '+str(np.round((100*results5_1[0]),2))+'%')\n",
    "print('')\n",
    "\n",
    "print('===================================')\n",
    "print('| PROCESO DE APRENDIZAJE DEL MODELO |')\n",
    "print('===================================')\n",
    "plt.ylim([0,0.3])\n",
    "plt.plot(training5_1.history[\"loss\"])\n",
    "plt.plot(training5_1.history[\"val_loss\"])\n",
    "plt.title('model loss')\n",
    "plt.ylabel('loss')\n",
    "plt.xlabel('epoch')\n",
    "plt.legend(['train', 'validation'], loc='upper left')\n",
    "plt.show()\n",
    "\n",
    "plt.ylim([0.7,1])\n",
    "plt.plot(training5_1.history[\"acc\"])\n",
    "plt.plot(training5_1.history[\"val_acc\"])\n",
    "plt.title('model accuracy')\n",
    "plt.ylabel('accuracy')\n",
    "plt.xlabel('epoch')\n",
    "plt.legend(['train', 'validation'], loc='upper left')\n",
    "plt.show()"
   ]
  },
  {
   "cell_type": "markdown",
   "metadata": {},
   "source": [
    "## Pruebas de predicción del modelo de Deep Learning"
   ]
  },
  {
   "cell_type": "markdown",
   "metadata": {},
   "source": [
    "### Depresión"
   ]
  },
  {
   "cell_type": "code",
   "execution_count": 26,
   "metadata": {},
   "outputs": [
    {
     "name": "stdout",
     "output_type": "stream",
     "text": [
      "==============================\n",
      "| RESULTADO DE LA PREDICCIÓN |\n",
      "==============================\n",
      " - Datos sin clasificar        : [ 0.  49.   6.   0.   2.   1.   4.   2.   0.   0.   3.4  0.   1.   0.\n",
      "  2.   0.   0.   0.   0.   0.   0.   0.   0.   0.   0.   1.   0.   0.\n",
      "  0.   0.   0.   1.   1.   3.   0.   0.   0.   0.   0.   0.   0.   0.\n",
      "  0.   0.   0.   0.   0.   0.   0.   0.   0.   0.   0.   0.   0.   0.\n",
      "  1.   0.   1.   0.   0.   0.   3.   9.   9.   9.   9.   5. ]\n",
      " - Clasificación        : [0.]\n",
      "\n",
      " - Datos sin clasificar        : [ 1.   63.    6.    0.    2.    1.    4.    1.    0.    2.    2.73  1.\n",
      "  0.    0.    2.    0.    0.    1.    1.    0.    1.    1.    0.    0.\n",
      "  0.    0.    0.    0.    0.    0.    0.    0.    4.    2.    0.    0.\n",
      "  0.    0.    0.    0.    0.    0.    0.    0.    0.    0.    0.    0.\n",
      "  0.    0.    0.    0.    0.    0.    1.    1.    1.    0.    0.    0.\n",
      "  0.    0.    2.    9.    9.    9.    9.    1.  ]\n",
      " - Clasificación        : [0.]\n",
      "\n",
      " - Datos sin clasificar        : [ 1.   80.    1.    0.    2.    2.    4.    0.    1.    1.    2.76  0.\n",
      "  0.    0.    3.    0.    0.    1.    1.    1.    1.    0.    0.    1.\n",
      "  0.    9.    0.    0.    1.    0.    0.    1.    2.    3.    0.    0.\n",
      "  0.    0.    1.    0.    1.    0.    0.    0.    0.    0.    0.    0.\n",
      "  0.    0.    0.    0.    0.    0.    0.    0.    0.    4.    0.    0.\n",
      "  0.    0.    2.    9.    9.    9.    9.    2.  ]\n",
      " - Clasificación        : [1.]\n",
      "\n",
      " - Datos sin clasificar        : [ 0.   80.    2.    0.    2.    1.    3.    0.    1.    2.    1.54  0.\n",
      "  0.    0.    3.    1.    0.    1.    0.    0.    1.    9.    1.    0.\n",
      "  0.    0.    9.    0.    0.    0.    0.    1.    4.    1.    0.    0.\n",
      "  0.    0.    0.    0.    0.    0.    0.    0.    0.    0.    0.    0.\n",
      "  0.    0.    0.    0.    0.    0.    0.    1.    0.    0.    0.    1.\n",
      "  0.    1.    3.    9.    9.    9.    9.    2.  ]\n",
      " - Clasificación        : [1.]\n",
      "\n"
     ]
    }
   ],
   "source": [
    "# probamos con aquellos valores que no se habían clasificado\n",
    "prob=df[df.depressed>1]\n",
    "prob=prob.drop(['depressed'], axis=1).values\n",
    "\n",
    "# entrenamos el modelo con mejores resultados\n",
    "new=model1_2.predict(prob)\n",
    "print('==============================')\n",
    "print('| RESULTADO DE LA PREDICCIÓN |')\n",
    "print('==============================')\n",
    "for i in range(prob.shape[0]):\n",
    "    print(' - Datos sin clasificar        : '+str(prob[i,:]))\n",
    "    print(' - Clasificación        : '+str(np.round((new[i]),0)))\n",
    "    print('')"
   ]
  },
  {
   "cell_type": "markdown",
   "metadata": {},
   "source": [
    "### Pensamientos de muerte"
   ]
  },
  {
   "cell_type": "code",
   "execution_count": 51,
   "metadata": {},
   "outputs": [
    {
     "name": "stdout",
     "output_type": "stream",
     "text": [
      "==============================\n",
      "| RESULTADO DE LA PREDICCIÓN |\n",
      "==============================\n",
      " - Datos sin clasificar        : [ 1.   61.    3.    0.    1.    2.    4.    1.    1.    1.    1.23  1.\n",
      "  1.    1.    3.    1.    0.    1.    1.    1.    1.    1.    1.    1.\n",
      "  1.    1.    0.    0.    0.    0.    0.    1.    5.    2.    0.    0.\n",
      "  0.    0.    0.    0.    0.    0.    1.    0.    1.    0.    0.    1.\n",
      "  1.    0.    0.    1.    0.    1.    0.    0.    0.    5.    5.    0.\n",
      "  0.    1.    3.    9.    9.    9.    9.    2.  ]\n",
      " - Clasificación        : [0.]\n",
      "\n",
      " - Datos sin clasificar        : [ 0.   54.    1.    0.    1.    3.    3.    0.    0.    2.    0.77  1.\n",
      "  0.    0.    3.    0.    0.    0.    0.    0.    0.    1.    1.    1.\n",
      "  1.    0.    1.    0.    1.    0.    0.    0.    4.    3.    0.    0.\n",
      "  0.    0.    1.    0.    0.    0.    0.    0.    0.    0.    0.    0.\n",
      "  0.    0.    0.    0.    0.    0.    1.    1.    0.    3.    1.    0.\n",
      "  0.    1.    2.    1.    1.    9.    9.    3.  ]\n",
      " - Clasificación        : [0.]\n",
      "\n"
     ]
    }
   ],
   "source": [
    "# probamos con aquellos valores que no se habían clasificado\n",
    "prob=df[df.dead>1]\n",
    "prob=prob.drop(['dead'], axis=1).values\n",
    "\n",
    "# entrenamos el modelo con mejores resultados\n",
    "new=model2_1.predict(prob)\n",
    "print('==============================')\n",
    "print('| RESULTADO DE LA PREDICCIÓN |')\n",
    "print('==============================')\n",
    "for i in range(prob.shape[0]):\n",
    "    print(' - Datos sin clasificar        : '+str(prob[i,:]))\n",
    "    print(' - Clasificación        : '+str(np.round((new[i]),0)))\n",
    "    print('')"
   ]
  },
  {
   "cell_type": "markdown",
   "metadata": {},
   "source": [
    "### Insomnio"
   ]
  },
  {
   "cell_type": "code",
   "execution_count": 103,
   "metadata": {},
   "outputs": [
    {
     "name": "stdout",
     "output_type": "stream",
     "text": [
      "==============================\n",
      "| RESULTADO DE LA PREDICCIÓN |\n",
      "==============================\n",
      " - Datos sin clasificar        : [ 2.   74.    2.    2.    1.    1.    3.    0.    0.    2.    0.77  1.\n",
      "  2.    2.    3.    2.    1.    2.    2.    2.    2.    0.    0.    0.\n",
      "  0.    0.    0.    0.    0.    2.    2.    1.    3.    3.    0.    2.\n",
      "  2.    2.    2.    2.    1.    2.    2.    2.    2.    2.    2.    2.\n",
      "  1.    2.    2.    2.    2.    1.    1.    1.    4.    5.    0.    2.\n",
      "  2.    1.    2.    9.    9.    9.    9.    3.  ]\n",
      " - Clasificación        : [0.]\n",
      "\n"
     ]
    }
   ],
   "source": [
    "# probamos con aquellos valores que no se habían clasificado\n",
    "prob=df[df.sleep>1]\n",
    "prob=prob.drop(['sleep'], axis=1).values\n",
    "\n",
    "# entrenamos el modelo con mejores resultados\n",
    "new=model3_1.predict(prob)\n",
    "print('==============================')\n",
    "print('| RESULTADO DE LA PREDICCIÓN |')\n",
    "print('==============================')\n",
    "for i in range(prob.shape[0]):\n",
    "    print(' - Datos sin clasificar        : '+str(prob[i,:]))\n",
    "    print(' - Clasificación        : '+str(np.round((new[i]),0)))\n",
    "    print('')"
   ]
  },
  {
   "cell_type": "markdown",
   "metadata": {},
   "source": [
    "### Autoestima"
   ]
  },
  {
   "cell_type": "code",
   "execution_count": 85,
   "metadata": {},
   "outputs": [
    {
     "name": "stdout",
     "output_type": "stream",
     "text": [
      "==============================\n",
      "| RESULTADO DE LA PREDICCIÓN |\n",
      "==============================\n",
      " - Datos sin clasificar        : [ 1. 80.  3.  0.  1.  1.  2.  0.  0.  2.  5.  1.  1.  0.  3.  0.  0.  0.\n",
      "  1.  1.  0.  0.  0.  0.  0.  0.  0.  0.  0.  0.  0.  1.  4.  3.  0.  0.\n",
      "  0.  0.  0.  0.  0.  0.  0.  0.  0.  0.  0.  0.  0.  0.  0.  0.  0.  0.\n",
      "  0.  0.  0.  2.  1.  0.  0.  0.  3.  1.  9.  9.  9.  4.]\n",
      " - Clasificación        : [0.]\n",
      "\n",
      " - Datos sin clasificar        : [ 1.   80.    1.    0.    2.    2.    4.    0.    1.    1.    2.76  0.\n",
      "  0.    0.    3.    0.    0.    1.    1.    1.    1.    0.    9.    0.\n",
      "  1.    0.    0.    0.    1.    0.    0.    1.    2.    3.    0.    0.\n",
      "  0.    0.    1.    0.    1.    0.    0.    0.    0.    0.    0.    0.\n",
      "  0.    0.    0.    0.    0.    0.    0.    0.    0.    4.    0.    0.\n",
      "  0.    0.    2.    9.    9.    9.    9.    2.  ]\n",
      " - Clasificación        : [1.]\n",
      "\n"
     ]
    }
   ],
   "source": [
    "# probamos con aquellos valores que no se habían clasificado\n",
    "prob=df[df.yourself>1]\n",
    "prob=prob.drop(['yourself'], axis=1).values\n",
    "\n",
    "# entrenamos el modelo con mejores resultados\n",
    "new=model4_1.predict(prob)\n",
    "print('==============================')\n",
    "print('| RESULTADO DE LA PREDICCIÓN |')\n",
    "print('==============================')\n",
    "for i in range(prob.shape[0]):\n",
    "    print(' - Datos sin clasificar        : '+str(prob[i,:]))\n",
    "    print(' - Clasificación        : '+str(np.round((new[i]),0)))\n",
    "    print('')"
   ]
  },
  {
   "cell_type": "markdown",
   "metadata": {},
   "source": [
    "### Visita a salud mental"
   ]
  },
  {
   "cell_type": "code",
   "execution_count": 90,
   "metadata": {},
   "outputs": [
    {
     "name": "stdout",
     "output_type": "stream",
     "text": [
      "==============================\n",
      "| RESULTADO DE LA PREDICCIÓN |\n",
      "==============================\n",
      " - Datos sin clasificar        : [ 1.   68.    6.    0.    2.    1.    5.    1.    0.    2.    0.86  0.\n",
      "  9.    1.    3.    1.    0.    0.    1.    0.    1.    0.    0.    1.\n",
      "  1.    0.    0.    0.    0.    0.    0.    0.    1.    5.    1.    0.\n",
      "  0.    0.    0.    0.    0.    0.    0.    0.    0.    0.    0.    0.\n",
      "  0.    0.    0.    0.    0.    0.    0.    0.    0.    1.    0.    0.\n",
      "  0.    0.    3.    9.    9.    9.    9.    1.  ]\n",
      " - Clasificación        : [0.]\n",
      "\n",
      " - Datos sin clasificar        : [ 0.   47.    3.    0.    2.    3.    1.    0.    0.    0.    3.26  1.\n",
      "  1.    0.    3.    0.    0.    0.    0.    0.    0.    0.    0.    0.\n",
      "  1.    1.    1.    0.    0.    0.    0.    0.    1.    3.    2.    0.\n",
      "  0.    0.    1.    0.    0.    0.    0.    0.    0.    0.    0.    0.\n",
      "  0.    0.    1.    0.    0.    0.    1.    1.    1.    3.    1.    0.\n",
      "  1.    1.    2.    9.    1.    9.    9.    3.  ]\n",
      " - Clasificación        : [0.]\n",
      "\n",
      " - Datos sin clasificar        : [ 0.   18.    6.    0.    1.    5.    3.    0.    0.    0.    3.03  0.\n",
      "  0.    0.    2.    0.    0.    0.    0.    0.    0.    0.    0.    0.\n",
      "  0.    0.    0.    0.    0.    0.    0.    0.    1.    2.    1.    0.\n",
      "  0.    0.    0.    0.    9.    9.    9.    9.    9.    9.    9.    9.\n",
      "  9.    9.    9.    9.    0.    9.    1.    1.    1.    2.    0.    0.\n",
      "  0.    0.    2.    9.    1.    9.    9.    3.  ]\n",
      " - Clasificación        : [0.]\n",
      "\n"
     ]
    }
   ],
   "source": [
    "# probamos con aquellos valores que no se habían clasificado\n",
    "prob=df[df.profMental>1]\n",
    "prob=prob.drop(['profMental'], axis=1).values\n",
    "\n",
    "# entrenamos el modelo con mejores resultados\n",
    "new=model5_1.predict(prob)\n",
    "print('==============================')\n",
    "print('| RESULTADO DE LA PREDICCIÓN |')\n",
    "print('==============================')\n",
    "for i in range(prob.shape[0]):\n",
    "    print(' - Datos sin clasificar        : '+str(prob[i,:]))\n",
    "    print(' - Clasificación        : '+str(np.round((new[i]),0)))\n",
    "    print('')"
   ]
  }
 ],
 "metadata": {
  "kernelspec": {
   "display_name": "Python 3",
   "language": "python",
   "name": "python3"
  },
  "language_info": {
   "codemirror_mode": {
    "name": "ipython",
    "version": 3
   },
   "file_extension": ".py",
   "mimetype": "text/x-python",
   "name": "python",
   "nbconvert_exporter": "python",
   "pygments_lexer": "ipython3",
   "version": "3.8.5"
  }
 },
 "nbformat": 4,
 "nbformat_minor": 4
}
