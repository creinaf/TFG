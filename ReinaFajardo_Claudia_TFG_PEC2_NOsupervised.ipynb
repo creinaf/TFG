{
 "cells": [
  {
   "cell_type": "markdown",
   "metadata": {},
   "source": [
    "# TRABAJO FINAL DE GRADO - PEC 2\n",
    "###### Autor: Claudia Reina Fajardo\n",
    "###### Noviembre 2021"
   ]
  },
  {
   "cell_type": "markdown",
   "metadata": {},
   "source": [
    "## Modelo de aprendizaje no supervisado: K-Means\n"
   ]
  },
  {
   "cell_type": "code",
   "execution_count": 2,
   "metadata": {},
   "outputs": [],
   "source": [
    "# imports\n",
    "import numpy as np\n",
    "import pandas as pd\n",
    "from sklearn.cluster import KMeans"
   ]
  },
  {
   "cell_type": "code",
   "execution_count": 13,
   "metadata": {},
   "outputs": [],
   "source": [
    "# cargamos el dataset\n",
    "df = pd.read_csv('data.csv')"
   ]
  },
  {
   "cell_type": "code",
   "execution_count": 14,
   "metadata": {},
   "outputs": [],
   "source": [
    "# algoritmo para aplicar K-Means:\n",
    "\n",
    "def kmeans (variable):\n",
    "    # plantamos semilla para que nos de el mismo resultado en las diferentes ejecuciones\n",
    "    np.random.seed(0)\n",
    "\n",
    "    # eliminamos la clase del conjunto de datos y los elementos sin clasificar y la guardamos para comprobar precisión\n",
    "    data=df[df[variable]<2]\n",
    "    clase=data[variable]\n",
    "    data=data.drop([variable], axis=1).values\n",
    "\n",
    "    # estandarizamos los datos\n",
    "    media=np.mean(data,0)\n",
    "    desv=np.std(data,0)\n",
    "    data=np.divide((data-media),desv)\n",
    "\n",
    "    # aplicamos K-Means con 2 clústers, ya que queremos clasificar el conjunto de forma binaria\n",
    "    kMeans=KMeans(n_clusters=2,max_iter=25).fit(data)\n",
    "\n",
    "    # calculamos los aciertos comparando las etiquetas con la clase\n",
    "    aciertos=np.count_nonzero((kMeans.labels_-clase)==0)\n",
    "    total=len(kMeans.labels_)\n",
    "\n",
    "    # calculamos precisión dividiendo aciertos entre total de estimaciones\n",
    "    prec=float(aciertos)/float(total)\n",
    "    \n",
    "    return prec, data, kMeans"
   ]
  },
  {
   "cell_type": "markdown",
   "metadata": {},
   "source": [
    "### K-Means sobre depresión"
   ]
  },
  {
   "cell_type": "code",
   "execution_count": 15,
   "metadata": {},
   "outputs": [
    {
     "name": "stdout",
     "output_type": "stream",
     "text": [
      "======================\n",
      "| CALIDAD DEL MODELO |\n",
      "======================\n",
      " - Precisión               : 72.01761409127302%\n",
      "\n"
     ]
    }
   ],
   "source": [
    "# llamamos al algoritmo\n",
    "\n",
    "prec1, data1, kMeans1 = kmeans('depressed')\n",
    "\n",
    "print('======================')\n",
    "print('| CALIDAD DEL MODELO |')\n",
    "print('======================')\n",
    "print(' - Precisión               : '+str(100*prec1)+'%')\n",
    "print('')\n"
   ]
  },
  {
   "cell_type": "markdown",
   "metadata": {},
   "source": [
    "### K-Means sobre pensamientos de muerte"
   ]
  },
  {
   "cell_type": "code",
   "execution_count": 17,
   "metadata": {},
   "outputs": [
    {
     "name": "stdout",
     "output_type": "stream",
     "text": [
      "======================\n",
      "| CALIDAD DEL MODELO |\n",
      "======================\n",
      " - Precisión               : 91.09643857543017%\n",
      "\n"
     ]
    }
   ],
   "source": [
    "# llamamos al algoritmo\n",
    "\n",
    "prec2, data2, kMeans2 = kmeans('dead')\n",
    "\n",
    "print('======================')\n",
    "print('| CALIDAD DEL MODELO |')\n",
    "print('======================')\n",
    "# calculamos el contrario de la precisión, ya que clasifica correctamente pero cambiando clase 1 por 0\n",
    "print(' - Precisión               : '+str(100*(1-prec2))+'%')\n",
    "print('')"
   ]
  },
  {
   "cell_type": "markdown",
   "metadata": {},
   "source": [
    "### K-Means sobre insomnio"
   ]
  },
  {
   "cell_type": "code",
   "execution_count": 18,
   "metadata": {},
   "outputs": [
    {
     "name": "stdout",
     "output_type": "stream",
     "text": [
      "======================\n",
      "| CALIDAD DEL MODELO |\n",
      "======================\n",
      " - Precisión               : 61.97239447889578%\n",
      "\n"
     ]
    }
   ],
   "source": [
    "# llamamos al algoritmo\n",
    "\n",
    "prec3, data3, kMeans3 = kmeans('sleep')\n",
    "\n",
    "print('======================')\n",
    "print('| CALIDAD DEL MODELO |')\n",
    "print('======================')\n",
    "print(' - Precisión               : '+str(100*prec3)+'%')\n",
    "print('')"
   ]
  },
  {
   "cell_type": "markdown",
   "metadata": {},
   "source": [
    "### K-Means sobre autoestima"
   ]
  },
  {
   "cell_type": "code",
   "execution_count": 19,
   "metadata": {},
   "outputs": [
    {
     "name": "stdout",
     "output_type": "stream",
     "text": [
      "======================\n",
      "| CALIDAD DEL MODELO |\n",
      "======================\n",
      " - Precisión               : 78.77150860344138%\n",
      "\n"
     ]
    }
   ],
   "source": [
    "# llamamos al algoritmo\n",
    "\n",
    "prec4, data4, kMeans4 = kmeans('yourself')\n",
    "\n",
    "print('======================')\n",
    "print('| CALIDAD DEL MODELO |')\n",
    "print('======================')\n",
    "print(' - Precisión               : '+str(100*prec4)+'%')\n",
    "print('')"
   ]
  },
  {
   "cell_type": "markdown",
   "metadata": {},
   "source": [
    "### K-Means sobre visita en salud mental"
   ]
  },
  {
   "cell_type": "code",
   "execution_count": 20,
   "metadata": {},
   "outputs": [
    {
     "name": "stdout",
     "output_type": "stream",
     "text": [
      "======================\n",
      "| CALIDAD DEL MODELO |\n",
      "======================\n",
      " - Precisión               : 86.41184710826496%\n",
      "\n"
     ]
    }
   ],
   "source": [
    "# llamamos al algoritmo\n",
    "\n",
    "prec5, data5, kMeans5 = kmeans('profMental')\n",
    "\n",
    "print('======================')\n",
    "print('| CALIDAD DEL MODELO |')\n",
    "print('======================')\n",
    "print(' - Precisión               : '+str(100*prec5)+'%')\n",
    "print('')"
   ]
  },
  {
   "cell_type": "markdown",
   "metadata": {},
   "source": [
    "## Pruebas de predicción con K-Means"
   ]
  },
  {
   "cell_type": "markdown",
   "metadata": {},
   "source": [
    "### Depresión"
   ]
  },
  {
   "cell_type": "code",
   "execution_count": 21,
   "metadata": {},
   "outputs": [
    {
     "name": "stdout",
     "output_type": "stream",
     "text": [
      "==============================\n",
      "| RESULTADO DE LA PREDICCIÓN |\n",
      "==============================\n",
      " - Datos sin clasificar        : [ 0.  49.   6.   0.   2.   1.   4.   2.   0.   0.   3.4  0.   1.   0.\n",
      "  2.   0.   0.   0.   0.   0.   0.   0.   0.   0.   0.   1.   0.   0.\n",
      "  0.   0.   0.   1.   1.   3.   0.   0.   0.   0.   0.   0.   0.   0.\n",
      "  0.   0.   0.   0.   0.   0.   0.   0.   0.   0.   0.   0.   0.   0.\n",
      "  1.   0.   1.   0.   0.   0.   3.   9.   9.   9.   9.   5. ]\n",
      " - Clasificación        : 0\n",
      "\n",
      " - Datos sin clasificar        : [ 1.   63.    6.    0.    2.    1.    4.    1.    0.    2.    2.73  1.\n",
      "  0.    0.    2.    0.    0.    1.    1.    0.    1.    1.    0.    0.\n",
      "  0.    0.    0.    0.    0.    0.    0.    0.    4.    2.    0.    0.\n",
      "  0.    0.    0.    0.    0.    0.    0.    0.    0.    0.    0.    0.\n",
      "  0.    0.    0.    0.    0.    0.    1.    1.    1.    0.    0.    0.\n",
      "  0.    0.    2.    9.    9.    9.    9.    1.  ]\n",
      " - Clasificación        : 0\n",
      "\n",
      " - Datos sin clasificar        : [ 1.   80.    1.    0.    2.    2.    4.    0.    1.    1.    2.76  0.\n",
      "  0.    0.    3.    0.    0.    1.    1.    1.    1.    0.    0.    1.\n",
      "  0.    9.    0.    0.    1.    0.    0.    1.    2.    3.    0.    0.\n",
      "  0.    0.    1.    0.    1.    0.    0.    0.    0.    0.    0.    0.\n",
      "  0.    0.    0.    0.    0.    0.    0.    0.    0.    4.    0.    0.\n",
      "  0.    0.    2.    9.    9.    9.    9.    2.  ]\n",
      " - Clasificación        : 0\n",
      "\n",
      " - Datos sin clasificar        : [ 0.   80.    2.    0.    2.    1.    3.    0.    1.    2.    1.54  0.\n",
      "  0.    0.    3.    1.    0.    1.    0.    0.    1.    9.    1.    0.\n",
      "  0.    0.    9.    0.    0.    0.    0.    1.    4.    1.    0.    0.\n",
      "  0.    0.    0.    0.    0.    0.    0.    0.    0.    0.    0.    0.\n",
      "  0.    0.    0.    0.    0.    0.    0.    1.    0.    0.    0.    1.\n",
      "  0.    1.    3.    9.    9.    9.    9.    2.  ]\n",
      " - Clasificación        : 0\n",
      "\n"
     ]
    }
   ],
   "source": [
    "# probamos con aquellos valores que no se habían clasificado\n",
    "prob=df[df.depressed>1]\n",
    "prob=prob.drop(['depressed'], axis=1).values\n",
    "\n",
    "# predicción\n",
    "new = kMeans1.predict(prob)\n",
    "print('==============================')\n",
    "print('| RESULTADO DE LA PREDICCIÓN |')\n",
    "print('==============================')\n",
    "# resultados\n",
    "for i in range(prob.shape[0]):\n",
    "    print(' - Datos sin clasificar        : '+str(prob[i,:]))\n",
    "    print(' - Clasificación        : '+str(new[i]))\n",
    "    print('')\n"
   ]
  },
  {
   "cell_type": "markdown",
   "metadata": {},
   "source": [
    "### Pensamientos de muerte"
   ]
  },
  {
   "cell_type": "markdown",
   "metadata": {},
   "source": [
    "Recordemos que K-Means ha clasificado como 1 la clase 0 y como 0 la clase 1... Por lo que el resultado de la predicción significará:\n",
    "\n",
    "* 0: Sí\n",
    "* 1: No"
   ]
  },
  {
   "cell_type": "code",
   "execution_count": 22,
   "metadata": {},
   "outputs": [
    {
     "name": "stdout",
     "output_type": "stream",
     "text": [
      "==============================\n",
      "| RESULTADO DE LA PREDICCIÓN |\n",
      "==============================\n",
      " - Datos sin clasificar        : [ 1.   61.    3.    0.    1.    2.    4.    1.    1.    1.    1.23  1.\n",
      "  1.    1.    3.    1.    0.    1.    1.    1.    1.    1.    1.    1.\n",
      "  1.    1.    0.    0.    0.    0.    0.    1.    5.    2.    0.    0.\n",
      "  0.    0.    0.    0.    0.    0.    1.    0.    1.    0.    0.    1.\n",
      "  1.    0.    0.    1.    0.    1.    0.    0.    0.    5.    5.    0.\n",
      "  0.    1.    3.    9.    9.    9.    9.    2.  ]\n",
      " - Clasificación        : 1\n",
      "\n",
      " - Datos sin clasificar        : [ 0.   54.    1.    0.    1.    3.    3.    0.    0.    2.    0.77  1.\n",
      "  0.    0.    3.    0.    0.    0.    0.    0.    0.    1.    1.    1.\n",
      "  1.    0.    1.    0.    1.    0.    0.    0.    4.    3.    0.    0.\n",
      "  0.    0.    1.    0.    0.    0.    0.    0.    0.    0.    0.    0.\n",
      "  0.    0.    0.    0.    0.    0.    1.    1.    0.    3.    1.    0.\n",
      "  0.    1.    2.    1.    1.    9.    9.    3.  ]\n",
      " - Clasificación        : 1\n",
      "\n"
     ]
    }
   ],
   "source": [
    "# probamos con aquellos valores que no se habían clasificado\n",
    "prob=df[df.dead>1]\n",
    "prob=prob.drop(['dead'], axis=1).values\n",
    "\n",
    "# predicción\n",
    "new = kMeans2.predict(prob)\n",
    "print('==============================')\n",
    "print('| RESULTADO DE LA PREDICCIÓN |')\n",
    "print('==============================')\n",
    "# resultados\n",
    "for i in range(prob.shape[0]):\n",
    "    print(' - Datos sin clasificar        : '+str(prob[i,:]))\n",
    "    print(' - Clasificación        : '+str(new[i]))\n",
    "    print('')\n"
   ]
  },
  {
   "cell_type": "markdown",
   "metadata": {},
   "source": [
    "### Insomnio"
   ]
  },
  {
   "cell_type": "code",
   "execution_count": 23,
   "metadata": {},
   "outputs": [
    {
     "name": "stdout",
     "output_type": "stream",
     "text": [
      "==============================\n",
      "| RESULTADO DE LA PREDICCIÓN |\n",
      "==============================\n",
      " - Datos sin clasificar        : [ 1.   74.    2.    0.    1.    1.    3.    0.    0.    2.    0.77  1.\n",
      "  0.    0.    3.    0.    1.    0.    0.    0.    0.    0.    0.    0.\n",
      "  0.    0.    0.    0.    0.    0.    0.    1.    3.    3.    0.    0.\n",
      "  0.    0.    0.    0.    1.    0.    0.    0.    0.    0.    0.    0.\n",
      "  1.    0.    0.    0.    0.    1.    1.    1.    0.    5.    0.    0.\n",
      "  0.    1.    2.    9.    9.    9.    9.    3.  ]\n",
      " - Clasificación        : 0\n",
      "\n"
     ]
    }
   ],
   "source": [
    "# probamos con aquellos valores que no se habían clasificado\n",
    "prob=df[df.sleep>1]\n",
    "prob=prob.drop(['sleep'], axis=1).values\n",
    "\n",
    "# predicción\n",
    "new = kMeans3.predict(prob)\n",
    "print('==============================')\n",
    "print('| RESULTADO DE LA PREDICCIÓN |')\n",
    "print('==============================')\n",
    "# resultados\n",
    "for i in range(prob.shape[0]):\n",
    "    print(' - Datos sin clasificar        : '+str(prob[i,:]))\n",
    "    print(' - Clasificación        : '+str(new[i]))\n",
    "    print('')\n"
   ]
  },
  {
   "cell_type": "markdown",
   "metadata": {},
   "source": [
    "### Autoestima"
   ]
  },
  {
   "cell_type": "code",
   "execution_count": 24,
   "metadata": {},
   "outputs": [
    {
     "name": "stdout",
     "output_type": "stream",
     "text": [
      "==============================\n",
      "| RESULTADO DE LA PREDICCIÓN |\n",
      "==============================\n",
      " - Datos sin clasificar        : [ 1. 80.  3.  0.  1.  1.  2.  0.  0.  2.  5.  1.  1.  0.  3.  0.  0.  0.\n",
      "  1.  1.  0.  0.  0.  0.  0.  0.  0.  0.  0.  0.  0.  1.  4.  3.  0.  0.\n",
      "  0.  0.  0.  0.  0.  0.  0.  0.  0.  0.  0.  0.  0.  0.  0.  0.  0.  0.\n",
      "  0.  0.  0.  2.  1.  0.  0.  0.  3.  1.  9.  9.  9.  4.]\n",
      " - Clasificación        : 0\n",
      "\n",
      " - Datos sin clasificar        : [ 1.   80.    1.    0.    2.    2.    4.    0.    1.    1.    2.76  0.\n",
      "  0.    0.    3.    0.    0.    1.    1.    1.    1.    0.    9.    0.\n",
      "  1.    0.    0.    0.    1.    0.    0.    1.    2.    3.    0.    0.\n",
      "  0.    0.    1.    0.    1.    0.    0.    0.    0.    0.    0.    0.\n",
      "  0.    0.    0.    0.    0.    0.    0.    0.    0.    4.    0.    0.\n",
      "  0.    0.    2.    9.    9.    9.    9.    2.  ]\n",
      " - Clasificación        : 0\n",
      "\n"
     ]
    }
   ],
   "source": [
    "# probamos con aquellos valores que no se habían clasificado\n",
    "prob=df[df.yourself>1]\n",
    "prob=prob.drop(['yourself'], axis=1).values\n",
    "\n",
    "# predicción\n",
    "new = kMeans4.predict(prob)\n",
    "print('==============================')\n",
    "print('| RESULTADO DE LA PREDICCIÓN |')\n",
    "print('==============================')\n",
    "# resultados\n",
    "for i in range(prob.shape[0]):\n",
    "    print(' - Datos sin clasificar        : '+str(prob[i,:]))\n",
    "    print(' - Clasificación        : '+str(new[i]))\n",
    "    print('')"
   ]
  },
  {
   "cell_type": "markdown",
   "metadata": {},
   "source": [
    "### Visita en salud mental"
   ]
  },
  {
   "cell_type": "code",
   "execution_count": 25,
   "metadata": {},
   "outputs": [
    {
     "name": "stdout",
     "output_type": "stream",
     "text": [
      "==============================\n",
      "| RESULTADO DE LA PREDICCIÓN |\n",
      "==============================\n",
      " - Datos sin clasificar        : [ 1.   68.    6.    0.    2.    1.    5.    1.    0.    2.    0.86  0.\n",
      "  9.    1.    3.    1.    0.    0.    1.    0.    1.    0.    0.    1.\n",
      "  1.    0.    0.    0.    0.    0.    0.    0.    1.    5.    1.    0.\n",
      "  0.    0.    0.    0.    0.    0.    0.    0.    0.    0.    0.    0.\n",
      "  0.    0.    0.    0.    0.    0.    0.    0.    0.    1.    0.    0.\n",
      "  0.    0.    3.    9.    9.    9.    9.    1.  ]\n",
      " - Clasificación        : 0\n",
      "\n",
      " - Datos sin clasificar        : [ 0.   47.    3.    0.    2.    3.    1.    0.    0.    0.    3.26  1.\n",
      "  1.    0.    3.    0.    0.    0.    0.    0.    0.    0.    0.    0.\n",
      "  1.    1.    1.    0.    0.    0.    0.    0.    1.    3.    2.    0.\n",
      "  0.    0.    1.    0.    0.    0.    0.    0.    0.    0.    0.    0.\n",
      "  0.    0.    1.    0.    0.    0.    1.    1.    1.    3.    1.    0.\n",
      "  1.    1.    2.    9.    1.    9.    9.    3.  ]\n",
      " - Clasificación        : 0\n",
      "\n",
      " - Datos sin clasificar        : [ 0.   18.    6.    0.    1.    5.    3.    0.    0.    0.    3.03  0.\n",
      "  0.    0.    2.    0.    0.    0.    0.    0.    0.    0.    0.    0.\n",
      "  0.    0.    0.    0.    0.    0.    0.    0.    1.    2.    1.    0.\n",
      "  0.    0.    0.    0.    9.    9.    9.    9.    9.    9.    9.    9.\n",
      "  9.    9.    9.    9.    0.    9.    1.    1.    1.    2.    0.    0.\n",
      "  0.    0.    2.    9.    1.    9.    9.    3.  ]\n",
      " - Clasificación        : 1\n",
      "\n"
     ]
    }
   ],
   "source": [
    "# probamos con aquellos valores que no se habían clasificado\n",
    "prob=df[df.profMental>1]\n",
    "prob=prob.drop(['profMental'], axis=1).values\n",
    "\n",
    "# predicción\n",
    "new = kMeans5.predict(prob)\n",
    "print('==============================')\n",
    "print('| RESULTADO DE LA PREDICCIÓN |')\n",
    "print('==============================')\n",
    "# resultados\n",
    "for i in range(prob.shape[0]):\n",
    "    print(' - Datos sin clasificar        : '+str(prob[i,:]))\n",
    "    print(' - Clasificación        : '+str(new[i]))\n",
    "    print('')\n"
   ]
  }
 ],
 "metadata": {
  "kernelspec": {
   "display_name": "Python 3",
   "language": "python",
   "name": "python3"
  },
  "language_info": {
   "codemirror_mode": {
    "name": "ipython",
    "version": 3
   },
   "file_extension": ".py",
   "mimetype": "text/x-python",
   "name": "python",
   "nbconvert_exporter": "python",
   "pygments_lexer": "ipython3",
   "version": "3.8.5"
  }
 },
 "nbformat": 4,
 "nbformat_minor": 4
}
